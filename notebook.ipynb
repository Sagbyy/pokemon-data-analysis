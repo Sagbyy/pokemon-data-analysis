{
 "cells": [
  {
   "cell_type": "markdown",
   "id": "e171cd40",
   "metadata": {},
   "source": [
    "# TP – Installation environnement et Analyse de la donnée"
   ]
  },
  {
   "cell_type": "code",
   "execution_count": 6,
   "id": "ac21bedf-cda4-467a-b59b-5d5547c5f229",
   "metadata": {},
   "outputs": [],
   "source": [
    "import pandas as pd"
   ]
  },
  {
   "cell_type": "code",
   "execution_count": 7,
   "id": "2a49cac1-a370-4924-8e2d-65bb1423ab82",
   "metadata": {},
   "outputs": [],
   "source": [
    "import numpy as np\n",
    "import scipy\n",
    "import seaborn as sns\n",
    "import plotly.express as px\n",
    "import matplotlib.pyplot as plt"
   ]
  },
  {
   "cell_type": "code",
   "execution_count": 8,
   "id": "4192d6bf",
   "metadata": {},
   "outputs": [],
   "source": [
    "df = pd.read_csv(\"data/pokemon-data.csv\")"
   ]
  },
  {
   "cell_type": "markdown",
   "id": "ce873db7",
   "metadata": {},
   "source": [
    "### **Analyse de fond**\n",
    "<hr>"
   ]
  },
  {
   "cell_type": "markdown",
   "id": "4a561040",
   "metadata": {},
   "source": [
    "*Afficher les premières lignes de votre Dataframe pour avoir une première idée de\n",
    "votre data*"
   ]
  },
  {
   "cell_type": "code",
   "execution_count": 9,
   "id": "0c5c3412",
   "metadata": {},
   "outputs": [
    {
     "data": {
      "text/html": [
       "<div>\n",
       "<style scoped>\n",
       "    .dataframe tbody tr th:only-of-type {\n",
       "        vertical-align: middle;\n",
       "    }\n",
       "\n",
       "    .dataframe tbody tr th {\n",
       "        vertical-align: top;\n",
       "    }\n",
       "\n",
       "    .dataframe thead th {\n",
       "        text-align: right;\n",
       "    }\n",
       "</style>\n",
       "<table border=\"1\" class=\"dataframe\">\n",
       "  <thead>\n",
       "    <tr style=\"text-align: right;\">\n",
       "      <th></th>\n",
       "      <th>abilities</th>\n",
       "      <th>against_bug</th>\n",
       "      <th>against_dark</th>\n",
       "      <th>against_dragon</th>\n",
       "      <th>against_electric</th>\n",
       "      <th>against_fairy</th>\n",
       "      <th>against_fight</th>\n",
       "      <th>against_fire</th>\n",
       "      <th>against_flying</th>\n",
       "      <th>against_ghost</th>\n",
       "      <th>...</th>\n",
       "      <th>percentage_male</th>\n",
       "      <th>pokedex_number</th>\n",
       "      <th>sp_attack</th>\n",
       "      <th>sp_defense</th>\n",
       "      <th>speed</th>\n",
       "      <th>type1</th>\n",
       "      <th>type2</th>\n",
       "      <th>weight_kg</th>\n",
       "      <th>generation</th>\n",
       "      <th>is_legendary</th>\n",
       "    </tr>\n",
       "  </thead>\n",
       "  <tbody>\n",
       "    <tr>\n",
       "      <th>0</th>\n",
       "      <td>['Overgrow', 'Chlorophyll']</td>\n",
       "      <td>1.0</td>\n",
       "      <td>1.0</td>\n",
       "      <td>1.0</td>\n",
       "      <td>0.5</td>\n",
       "      <td>0.5</td>\n",
       "      <td>0.5</td>\n",
       "      <td>2.0</td>\n",
       "      <td>2.0</td>\n",
       "      <td>1.0</td>\n",
       "      <td>...</td>\n",
       "      <td>88.1</td>\n",
       "      <td>1</td>\n",
       "      <td>65</td>\n",
       "      <td>65</td>\n",
       "      <td>45</td>\n",
       "      <td>grass</td>\n",
       "      <td>poison</td>\n",
       "      <td>6.9</td>\n",
       "      <td>1</td>\n",
       "      <td>0</td>\n",
       "    </tr>\n",
       "    <tr>\n",
       "      <th>1</th>\n",
       "      <td>['Overgrow', 'Chlorophyll']</td>\n",
       "      <td>1.0</td>\n",
       "      <td>1.0</td>\n",
       "      <td>1.0</td>\n",
       "      <td>0.5</td>\n",
       "      <td>0.5</td>\n",
       "      <td>0.5</td>\n",
       "      <td>2.0</td>\n",
       "      <td>2.0</td>\n",
       "      <td>1.0</td>\n",
       "      <td>...</td>\n",
       "      <td>88.1</td>\n",
       "      <td>2</td>\n",
       "      <td>80</td>\n",
       "      <td>80</td>\n",
       "      <td>60</td>\n",
       "      <td>grass</td>\n",
       "      <td>poison</td>\n",
       "      <td>13.0</td>\n",
       "      <td>1</td>\n",
       "      <td>0</td>\n",
       "    </tr>\n",
       "    <tr>\n",
       "      <th>2</th>\n",
       "      <td>['Overgrow', 'Chlorophyll']</td>\n",
       "      <td>1.0</td>\n",
       "      <td>1.0</td>\n",
       "      <td>1.0</td>\n",
       "      <td>0.5</td>\n",
       "      <td>0.5</td>\n",
       "      <td>0.5</td>\n",
       "      <td>2.0</td>\n",
       "      <td>2.0</td>\n",
       "      <td>1.0</td>\n",
       "      <td>...</td>\n",
       "      <td>88.1</td>\n",
       "      <td>3</td>\n",
       "      <td>122</td>\n",
       "      <td>120</td>\n",
       "      <td>80</td>\n",
       "      <td>grass</td>\n",
       "      <td>poison</td>\n",
       "      <td>100.0</td>\n",
       "      <td>1</td>\n",
       "      <td>0</td>\n",
       "    </tr>\n",
       "    <tr>\n",
       "      <th>3</th>\n",
       "      <td>['Blaze', 'Solar Power']</td>\n",
       "      <td>0.5</td>\n",
       "      <td>1.0</td>\n",
       "      <td>1.0</td>\n",
       "      <td>1.0</td>\n",
       "      <td>0.5</td>\n",
       "      <td>1.0</td>\n",
       "      <td>0.5</td>\n",
       "      <td>1.0</td>\n",
       "      <td>1.0</td>\n",
       "      <td>...</td>\n",
       "      <td>88.1</td>\n",
       "      <td>4</td>\n",
       "      <td>60</td>\n",
       "      <td>50</td>\n",
       "      <td>65</td>\n",
       "      <td>fire</td>\n",
       "      <td>NaN</td>\n",
       "      <td>8.5</td>\n",
       "      <td>1</td>\n",
       "      <td>0</td>\n",
       "    </tr>\n",
       "    <tr>\n",
       "      <th>4</th>\n",
       "      <td>['Blaze', 'Solar Power']</td>\n",
       "      <td>0.5</td>\n",
       "      <td>1.0</td>\n",
       "      <td>1.0</td>\n",
       "      <td>1.0</td>\n",
       "      <td>0.5</td>\n",
       "      <td>1.0</td>\n",
       "      <td>0.5</td>\n",
       "      <td>1.0</td>\n",
       "      <td>1.0</td>\n",
       "      <td>...</td>\n",
       "      <td>88.1</td>\n",
       "      <td>5</td>\n",
       "      <td>80</td>\n",
       "      <td>65</td>\n",
       "      <td>80</td>\n",
       "      <td>fire</td>\n",
       "      <td>NaN</td>\n",
       "      <td>19.0</td>\n",
       "      <td>1</td>\n",
       "      <td>0</td>\n",
       "    </tr>\n",
       "  </tbody>\n",
       "</table>\n",
       "<p>5 rows × 41 columns</p>\n",
       "</div>"
      ],
      "text/plain": [
       "                     abilities  against_bug  against_dark  against_dragon  \\\n",
       "0  ['Overgrow', 'Chlorophyll']          1.0           1.0             1.0   \n",
       "1  ['Overgrow', 'Chlorophyll']          1.0           1.0             1.0   \n",
       "2  ['Overgrow', 'Chlorophyll']          1.0           1.0             1.0   \n",
       "3     ['Blaze', 'Solar Power']          0.5           1.0             1.0   \n",
       "4     ['Blaze', 'Solar Power']          0.5           1.0             1.0   \n",
       "\n",
       "   against_electric  against_fairy  against_fight  against_fire  \\\n",
       "0               0.5            0.5            0.5           2.0   \n",
       "1               0.5            0.5            0.5           2.0   \n",
       "2               0.5            0.5            0.5           2.0   \n",
       "3               1.0            0.5            1.0           0.5   \n",
       "4               1.0            0.5            1.0           0.5   \n",
       "\n",
       "   against_flying  against_ghost  ...  percentage_male  pokedex_number  \\\n",
       "0             2.0            1.0  ...             88.1               1   \n",
       "1             2.0            1.0  ...             88.1               2   \n",
       "2             2.0            1.0  ...             88.1               3   \n",
       "3             1.0            1.0  ...             88.1               4   \n",
       "4             1.0            1.0  ...             88.1               5   \n",
       "\n",
       "   sp_attack  sp_defense  speed  type1   type2  weight_kg  generation  \\\n",
       "0         65          65     45  grass  poison        6.9           1   \n",
       "1         80          80     60  grass  poison       13.0           1   \n",
       "2        122         120     80  grass  poison      100.0           1   \n",
       "3         60          50     65   fire     NaN        8.5           1   \n",
       "4         80          65     80   fire     NaN       19.0           1   \n",
       "\n",
       "   is_legendary  \n",
       "0             0  \n",
       "1             0  \n",
       "2             0  \n",
       "3             0  \n",
       "4             0  \n",
       "\n",
       "[5 rows x 41 columns]"
      ]
     },
     "execution_count": 9,
     "metadata": {},
     "output_type": "execute_result"
    }
   ],
   "source": [
    "df.head()"
   ]
  },
  {
   "cell_type": "markdown",
   "id": "73f9d0cd",
   "metadata": {},
   "source": [
    "*De combien de lignes se compose le dataframe ?*"
   ]
  },
  {
   "cell_type": "code",
   "execution_count": 10,
   "id": "ae0cc1ac",
   "metadata": {},
   "outputs": [
    {
     "data": {
      "text/plain": [
       "(801, 41)"
      ]
     },
     "execution_count": 10,
     "metadata": {},
     "output_type": "execute_result"
    }
   ],
   "source": [
    "df.shape"
   ]
  },
  {
   "cell_type": "code",
   "execution_count": 11,
   "id": "58738a33",
   "metadata": {},
   "outputs": [
    {
     "name": "stdout",
     "output_type": "stream",
     "text": [
      "The dataframe lines number\n"
     ]
    },
    {
     "data": {
      "text/plain": [
       "801"
      ]
     },
     "execution_count": 11,
     "metadata": {},
     "output_type": "execute_result"
    }
   ],
   "source": [
    "print(\"The dataframe lines number\")\n",
    "df.shape[0]"
   ]
  },
  {
   "cell_type": "code",
   "execution_count": 12,
   "id": "29ca07ff",
   "metadata": {},
   "outputs": [
    {
     "data": {
      "text/plain": [
       "41"
      ]
     },
     "execution_count": 12,
     "metadata": {},
     "output_type": "execute_result"
    }
   ],
   "source": [
    "df.shape[1]"
   ]
  },
  {
   "cell_type": "code",
   "execution_count": 13,
   "id": "e8e60aa6",
   "metadata": {},
   "outputs": [
    {
     "name": "stdout",
     "output_type": "stream",
     "text": [
      "<class 'pandas.core.frame.DataFrame'>\n",
      "RangeIndex: 801 entries, 0 to 800\n",
      "Data columns (total 41 columns):\n",
      " #   Column             Non-Null Count  Dtype  \n",
      "---  ------             --------------  -----  \n",
      " 0   abilities          801 non-null    object \n",
      " 1   against_bug        801 non-null    float64\n",
      " 2   against_dark       801 non-null    float64\n",
      " 3   against_dragon     801 non-null    float64\n",
      " 4   against_electric   801 non-null    float64\n",
      " 5   against_fairy      801 non-null    float64\n",
      " 6   against_fight      801 non-null    float64\n",
      " 7   against_fire       801 non-null    float64\n",
      " 8   against_flying     801 non-null    float64\n",
      " 9   against_ghost      801 non-null    float64\n",
      " 10  against_grass      801 non-null    float64\n",
      " 11  against_ground     801 non-null    float64\n",
      " 12  against_ice        801 non-null    float64\n",
      " 13  against_normal     801 non-null    float64\n",
      " 14  against_poison     801 non-null    float64\n",
      " 15  against_psychic    801 non-null    float64\n",
      " 16  against_rock       801 non-null    float64\n",
      " 17  against_steel      801 non-null    float64\n",
      " 18  against_water      801 non-null    float64\n",
      " 19  attack             801 non-null    int64  \n",
      " 20  base_egg_steps     801 non-null    int64  \n",
      " 21  base_happiness     801 non-null    int64  \n",
      " 22  base_total         801 non-null    int64  \n",
      " 23  capture_rate       801 non-null    object \n",
      " 24  classfication      801 non-null    object \n",
      " 25  defense            801 non-null    int64  \n",
      " 26  experience_growth  801 non-null    int64  \n",
      " 27  height_m           781 non-null    float64\n",
      " 28  hp                 801 non-null    int64  \n",
      " 29  japanese_name      801 non-null    object \n",
      " 30  name               801 non-null    object \n",
      " 31  percentage_male    703 non-null    float64\n",
      " 32  pokedex_number     801 non-null    int64  \n",
      " 33  sp_attack          801 non-null    int64  \n",
      " 34  sp_defense         801 non-null    int64  \n",
      " 35  speed              801 non-null    int64  \n",
      " 36  type1              801 non-null    object \n",
      " 37  type2              417 non-null    object \n",
      " 38  weight_kg          781 non-null    float64\n",
      " 39  generation         801 non-null    int64  \n",
      " 40  is_legendary       801 non-null    int64  \n",
      "dtypes: float64(21), int64(13), object(7)\n",
      "memory usage: 256.7+ KB\n"
     ]
    }
   ],
   "source": [
    "df.info()"
   ]
  },
  {
   "cell_type": "markdown",
   "id": "7b3c9772",
   "metadata": {},
   "source": [
    "*Quel est la répartition des variables par type ?*"
   ]
  },
  {
   "cell_type": "code",
   "execution_count": 14,
   "id": "17077d3d",
   "metadata": {},
   "outputs": [
    {
     "name": "stdout",
     "output_type": "stream",
     "text": [
      "Number of variables (columns)\n"
     ]
    },
    {
     "data": {
      "text/plain": [
       "float64    21\n",
       "int64      13\n",
       "object      7\n",
       "Name: count, dtype: int64"
      ]
     },
     "execution_count": 14,
     "metadata": {},
     "output_type": "execute_result"
    }
   ],
   "source": [
    "print(\"Number of variables (columns)\")\n",
    "df.dtypes.value_counts()"
   ]
  },
  {
   "cell_type": "code",
   "execution_count": 15,
   "id": "e505673b",
   "metadata": {},
   "outputs": [
    {
     "data": {
      "text/html": [
       "<div>\n",
       "<style scoped>\n",
       "    .dataframe tbody tr th:only-of-type {\n",
       "        vertical-align: middle;\n",
       "    }\n",
       "\n",
       "    .dataframe tbody tr th {\n",
       "        vertical-align: top;\n",
       "    }\n",
       "\n",
       "    .dataframe thead th {\n",
       "        text-align: right;\n",
       "    }\n",
       "</style>\n",
       "<table border=\"1\" class=\"dataframe\">\n",
       "  <thead>\n",
       "    <tr style=\"text-align: right;\">\n",
       "      <th></th>\n",
       "      <th>abilities</th>\n",
       "      <th>against_bug</th>\n",
       "      <th>against_dark</th>\n",
       "      <th>against_dragon</th>\n",
       "      <th>against_electric</th>\n",
       "      <th>against_fairy</th>\n",
       "      <th>against_fight</th>\n",
       "      <th>against_fire</th>\n",
       "      <th>against_flying</th>\n",
       "      <th>against_ghost</th>\n",
       "      <th>...</th>\n",
       "      <th>percentage_male</th>\n",
       "      <th>pokedex_number</th>\n",
       "      <th>sp_attack</th>\n",
       "      <th>sp_defense</th>\n",
       "      <th>speed</th>\n",
       "      <th>type1</th>\n",
       "      <th>type2</th>\n",
       "      <th>weight_kg</th>\n",
       "      <th>generation</th>\n",
       "      <th>is_legendary</th>\n",
       "    </tr>\n",
       "  </thead>\n",
       "  <tbody>\n",
       "    <tr>\n",
       "      <th>0</th>\n",
       "      <td>False</td>\n",
       "      <td>False</td>\n",
       "      <td>False</td>\n",
       "      <td>False</td>\n",
       "      <td>False</td>\n",
       "      <td>False</td>\n",
       "      <td>False</td>\n",
       "      <td>False</td>\n",
       "      <td>False</td>\n",
       "      <td>False</td>\n",
       "      <td>...</td>\n",
       "      <td>False</td>\n",
       "      <td>False</td>\n",
       "      <td>False</td>\n",
       "      <td>False</td>\n",
       "      <td>False</td>\n",
       "      <td>False</td>\n",
       "      <td>False</td>\n",
       "      <td>False</td>\n",
       "      <td>False</td>\n",
       "      <td>False</td>\n",
       "    </tr>\n",
       "    <tr>\n",
       "      <th>1</th>\n",
       "      <td>False</td>\n",
       "      <td>False</td>\n",
       "      <td>False</td>\n",
       "      <td>False</td>\n",
       "      <td>False</td>\n",
       "      <td>False</td>\n",
       "      <td>False</td>\n",
       "      <td>False</td>\n",
       "      <td>False</td>\n",
       "      <td>False</td>\n",
       "      <td>...</td>\n",
       "      <td>False</td>\n",
       "      <td>False</td>\n",
       "      <td>False</td>\n",
       "      <td>False</td>\n",
       "      <td>False</td>\n",
       "      <td>False</td>\n",
       "      <td>False</td>\n",
       "      <td>False</td>\n",
       "      <td>False</td>\n",
       "      <td>False</td>\n",
       "    </tr>\n",
       "    <tr>\n",
       "      <th>2</th>\n",
       "      <td>False</td>\n",
       "      <td>False</td>\n",
       "      <td>False</td>\n",
       "      <td>False</td>\n",
       "      <td>False</td>\n",
       "      <td>False</td>\n",
       "      <td>False</td>\n",
       "      <td>False</td>\n",
       "      <td>False</td>\n",
       "      <td>False</td>\n",
       "      <td>...</td>\n",
       "      <td>False</td>\n",
       "      <td>False</td>\n",
       "      <td>False</td>\n",
       "      <td>False</td>\n",
       "      <td>False</td>\n",
       "      <td>False</td>\n",
       "      <td>False</td>\n",
       "      <td>False</td>\n",
       "      <td>False</td>\n",
       "      <td>False</td>\n",
       "    </tr>\n",
       "    <tr>\n",
       "      <th>3</th>\n",
       "      <td>False</td>\n",
       "      <td>False</td>\n",
       "      <td>False</td>\n",
       "      <td>False</td>\n",
       "      <td>False</td>\n",
       "      <td>False</td>\n",
       "      <td>False</td>\n",
       "      <td>False</td>\n",
       "      <td>False</td>\n",
       "      <td>False</td>\n",
       "      <td>...</td>\n",
       "      <td>False</td>\n",
       "      <td>False</td>\n",
       "      <td>False</td>\n",
       "      <td>False</td>\n",
       "      <td>False</td>\n",
       "      <td>False</td>\n",
       "      <td>True</td>\n",
       "      <td>False</td>\n",
       "      <td>False</td>\n",
       "      <td>False</td>\n",
       "    </tr>\n",
       "    <tr>\n",
       "      <th>4</th>\n",
       "      <td>False</td>\n",
       "      <td>False</td>\n",
       "      <td>False</td>\n",
       "      <td>False</td>\n",
       "      <td>False</td>\n",
       "      <td>False</td>\n",
       "      <td>False</td>\n",
       "      <td>False</td>\n",
       "      <td>False</td>\n",
       "      <td>False</td>\n",
       "      <td>...</td>\n",
       "      <td>False</td>\n",
       "      <td>False</td>\n",
       "      <td>False</td>\n",
       "      <td>False</td>\n",
       "      <td>False</td>\n",
       "      <td>False</td>\n",
       "      <td>True</td>\n",
       "      <td>False</td>\n",
       "      <td>False</td>\n",
       "      <td>False</td>\n",
       "    </tr>\n",
       "    <tr>\n",
       "      <th>...</th>\n",
       "      <td>...</td>\n",
       "      <td>...</td>\n",
       "      <td>...</td>\n",
       "      <td>...</td>\n",
       "      <td>...</td>\n",
       "      <td>...</td>\n",
       "      <td>...</td>\n",
       "      <td>...</td>\n",
       "      <td>...</td>\n",
       "      <td>...</td>\n",
       "      <td>...</td>\n",
       "      <td>...</td>\n",
       "      <td>...</td>\n",
       "      <td>...</td>\n",
       "      <td>...</td>\n",
       "      <td>...</td>\n",
       "      <td>...</td>\n",
       "      <td>...</td>\n",
       "      <td>...</td>\n",
       "      <td>...</td>\n",
       "      <td>...</td>\n",
       "    </tr>\n",
       "    <tr>\n",
       "      <th>796</th>\n",
       "      <td>False</td>\n",
       "      <td>False</td>\n",
       "      <td>False</td>\n",
       "      <td>False</td>\n",
       "      <td>False</td>\n",
       "      <td>False</td>\n",
       "      <td>False</td>\n",
       "      <td>False</td>\n",
       "      <td>False</td>\n",
       "      <td>False</td>\n",
       "      <td>...</td>\n",
       "      <td>True</td>\n",
       "      <td>False</td>\n",
       "      <td>False</td>\n",
       "      <td>False</td>\n",
       "      <td>False</td>\n",
       "      <td>False</td>\n",
       "      <td>False</td>\n",
       "      <td>False</td>\n",
       "      <td>False</td>\n",
       "      <td>False</td>\n",
       "    </tr>\n",
       "    <tr>\n",
       "      <th>797</th>\n",
       "      <td>False</td>\n",
       "      <td>False</td>\n",
       "      <td>False</td>\n",
       "      <td>False</td>\n",
       "      <td>False</td>\n",
       "      <td>False</td>\n",
       "      <td>False</td>\n",
       "      <td>False</td>\n",
       "      <td>False</td>\n",
       "      <td>False</td>\n",
       "      <td>...</td>\n",
       "      <td>True</td>\n",
       "      <td>False</td>\n",
       "      <td>False</td>\n",
       "      <td>False</td>\n",
       "      <td>False</td>\n",
       "      <td>False</td>\n",
       "      <td>False</td>\n",
       "      <td>False</td>\n",
       "      <td>False</td>\n",
       "      <td>False</td>\n",
       "    </tr>\n",
       "    <tr>\n",
       "      <th>798</th>\n",
       "      <td>False</td>\n",
       "      <td>False</td>\n",
       "      <td>False</td>\n",
       "      <td>False</td>\n",
       "      <td>False</td>\n",
       "      <td>False</td>\n",
       "      <td>False</td>\n",
       "      <td>False</td>\n",
       "      <td>False</td>\n",
       "      <td>False</td>\n",
       "      <td>...</td>\n",
       "      <td>True</td>\n",
       "      <td>False</td>\n",
       "      <td>False</td>\n",
       "      <td>False</td>\n",
       "      <td>False</td>\n",
       "      <td>False</td>\n",
       "      <td>False</td>\n",
       "      <td>False</td>\n",
       "      <td>False</td>\n",
       "      <td>False</td>\n",
       "    </tr>\n",
       "    <tr>\n",
       "      <th>799</th>\n",
       "      <td>False</td>\n",
       "      <td>False</td>\n",
       "      <td>False</td>\n",
       "      <td>False</td>\n",
       "      <td>False</td>\n",
       "      <td>False</td>\n",
       "      <td>False</td>\n",
       "      <td>False</td>\n",
       "      <td>False</td>\n",
       "      <td>False</td>\n",
       "      <td>...</td>\n",
       "      <td>True</td>\n",
       "      <td>False</td>\n",
       "      <td>False</td>\n",
       "      <td>False</td>\n",
       "      <td>False</td>\n",
       "      <td>False</td>\n",
       "      <td>True</td>\n",
       "      <td>False</td>\n",
       "      <td>False</td>\n",
       "      <td>False</td>\n",
       "    </tr>\n",
       "    <tr>\n",
       "      <th>800</th>\n",
       "      <td>False</td>\n",
       "      <td>False</td>\n",
       "      <td>False</td>\n",
       "      <td>False</td>\n",
       "      <td>False</td>\n",
       "      <td>False</td>\n",
       "      <td>False</td>\n",
       "      <td>False</td>\n",
       "      <td>False</td>\n",
       "      <td>False</td>\n",
       "      <td>...</td>\n",
       "      <td>True</td>\n",
       "      <td>False</td>\n",
       "      <td>False</td>\n",
       "      <td>False</td>\n",
       "      <td>False</td>\n",
       "      <td>False</td>\n",
       "      <td>False</td>\n",
       "      <td>False</td>\n",
       "      <td>False</td>\n",
       "      <td>False</td>\n",
       "    </tr>\n",
       "  </tbody>\n",
       "</table>\n",
       "<p>801 rows × 41 columns</p>\n",
       "</div>"
      ],
      "text/plain": [
       "     abilities  against_bug  against_dark  against_dragon  against_electric  \\\n",
       "0        False        False         False           False             False   \n",
       "1        False        False         False           False             False   \n",
       "2        False        False         False           False             False   \n",
       "3        False        False         False           False             False   \n",
       "4        False        False         False           False             False   \n",
       "..         ...          ...           ...             ...               ...   \n",
       "796      False        False         False           False             False   \n",
       "797      False        False         False           False             False   \n",
       "798      False        False         False           False             False   \n",
       "799      False        False         False           False             False   \n",
       "800      False        False         False           False             False   \n",
       "\n",
       "     against_fairy  against_fight  against_fire  against_flying  \\\n",
       "0            False          False         False           False   \n",
       "1            False          False         False           False   \n",
       "2            False          False         False           False   \n",
       "3            False          False         False           False   \n",
       "4            False          False         False           False   \n",
       "..             ...            ...           ...             ...   \n",
       "796          False          False         False           False   \n",
       "797          False          False         False           False   \n",
       "798          False          False         False           False   \n",
       "799          False          False         False           False   \n",
       "800          False          False         False           False   \n",
       "\n",
       "     against_ghost  ...  percentage_male  pokedex_number  sp_attack  \\\n",
       "0            False  ...            False           False      False   \n",
       "1            False  ...            False           False      False   \n",
       "2            False  ...            False           False      False   \n",
       "3            False  ...            False           False      False   \n",
       "4            False  ...            False           False      False   \n",
       "..             ...  ...              ...             ...        ...   \n",
       "796          False  ...             True           False      False   \n",
       "797          False  ...             True           False      False   \n",
       "798          False  ...             True           False      False   \n",
       "799          False  ...             True           False      False   \n",
       "800          False  ...             True           False      False   \n",
       "\n",
       "     sp_defense  speed  type1  type2  weight_kg  generation  is_legendary  \n",
       "0         False  False  False  False      False       False         False  \n",
       "1         False  False  False  False      False       False         False  \n",
       "2         False  False  False  False      False       False         False  \n",
       "3         False  False  False   True      False       False         False  \n",
       "4         False  False  False   True      False       False         False  \n",
       "..          ...    ...    ...    ...        ...         ...           ...  \n",
       "796       False  False  False  False      False       False         False  \n",
       "797       False  False  False  False      False       False         False  \n",
       "798       False  False  False  False      False       False         False  \n",
       "799       False  False  False   True      False       False         False  \n",
       "800       False  False  False  False      False       False         False  \n",
       "\n",
       "[801 rows x 41 columns]"
      ]
     },
     "execution_count": 15,
     "metadata": {},
     "output_type": "execute_result"
    }
   ],
   "source": [
    "df.isnull()"
   ]
  },
  {
   "cell_type": "markdown",
   "id": "5e5a4354",
   "metadata": {},
   "source": [
    "*Peut-on noter la présence de valeurs null (Vide) ?*"
   ]
  },
  {
   "cell_type": "code",
   "execution_count": 16,
   "id": "404642d8",
   "metadata": {},
   "outputs": [
    {
     "data": {
      "text/plain": [
       "abilities              0\n",
       "against_bug            0\n",
       "against_dark           0\n",
       "against_dragon         0\n",
       "against_electric       0\n",
       "against_fairy          0\n",
       "against_fight          0\n",
       "against_fire           0\n",
       "against_flying         0\n",
       "against_ghost          0\n",
       "against_grass          0\n",
       "against_ground         0\n",
       "against_ice            0\n",
       "against_normal         0\n",
       "against_poison         0\n",
       "against_psychic        0\n",
       "against_rock           0\n",
       "against_steel          0\n",
       "against_water          0\n",
       "attack                 0\n",
       "base_egg_steps         0\n",
       "base_happiness         0\n",
       "base_total             0\n",
       "capture_rate           0\n",
       "classfication          0\n",
       "defense                0\n",
       "experience_growth      0\n",
       "height_m              20\n",
       "hp                     0\n",
       "japanese_name          0\n",
       "name                   0\n",
       "percentage_male       98\n",
       "pokedex_number         0\n",
       "sp_attack              0\n",
       "sp_defense             0\n",
       "speed                  0\n",
       "type1                  0\n",
       "type2                384\n",
       "weight_kg             20\n",
       "generation             0\n",
       "is_legendary           0\n",
       "dtype: int64"
      ]
     },
     "execution_count": 16,
     "metadata": {},
     "output_type": "execute_result"
    }
   ],
   "source": [
    "df.isnull().sum()"
   ]
  },
  {
   "cell_type": "code",
   "execution_count": 17,
   "id": "5d3e039d",
   "metadata": {},
   "outputs": [
    {
     "name": "stdout",
     "output_type": "stream",
     "text": [
      "Number of lines contains null\n"
     ]
    },
    {
     "data": {
      "text/plain": [
       "np.int64(462)"
      ]
     },
     "execution_count": 17,
     "metadata": {},
     "output_type": "execute_result"
    }
   ],
   "source": [
    "print(\"Number of lines contains null\")\n",
    "df.isnull().any(axis=1).sum()"
   ]
  },
  {
   "cell_type": "code",
   "execution_count": 18,
   "id": "7bbc88a1",
   "metadata": {},
   "outputs": [
    {
     "name": "stdout",
     "output_type": "stream",
     "text": [
      "Number of columns contains null\n"
     ]
    },
    {
     "data": {
      "text/plain": [
       "np.int64(4)"
      ]
     },
     "execution_count": 18,
     "metadata": {},
     "output_type": "execute_result"
    }
   ],
   "source": [
    "print(\"Number of columns contains null\")\n",
    "df.isnull().any(axis=0).sum()"
   ]
  },
  {
   "cell_type": "markdown",
   "id": "4b25228d",
   "metadata": {},
   "source": [
    "***Ces valeurs null sont-elles problématiques ?***\n",
    "\n",
    "Non, les valeurs null ne sont pas forcément dérangeant mais elles peuvent être un problème si une colonne contient trop de valeurs null car elle sera inutile pour l'analyse."
   ]
  },
  {
   "cell_type": "markdown",
   "id": "eb173c93",
   "metadata": {},
   "source": [
    "### **Analyse univariée**\n",
    "<hr>"
   ]
  },
  {
   "cell_type": "code",
   "execution_count": 19,
   "id": "4c57b672",
   "metadata": {},
   "outputs": [
    {
     "data": {
      "text/html": [
       "<div>\n",
       "<style scoped>\n",
       "    .dataframe tbody tr th:only-of-type {\n",
       "        vertical-align: middle;\n",
       "    }\n",
       "\n",
       "    .dataframe tbody tr th {\n",
       "        vertical-align: top;\n",
       "    }\n",
       "\n",
       "    .dataframe thead th {\n",
       "        text-align: right;\n",
       "    }\n",
       "</style>\n",
       "<table border=\"1\" class=\"dataframe\">\n",
       "  <thead>\n",
       "    <tr style=\"text-align: right;\">\n",
       "      <th></th>\n",
       "      <th>percentage_male</th>\n",
       "      <th>pokedex_number</th>\n",
       "    </tr>\n",
       "  </thead>\n",
       "  <tbody>\n",
       "    <tr>\n",
       "      <th>count</th>\n",
       "      <td>703.000000</td>\n",
       "      <td>801.000000</td>\n",
       "    </tr>\n",
       "    <tr>\n",
       "      <th>mean</th>\n",
       "      <td>55.155761</td>\n",
       "      <td>401.000000</td>\n",
       "    </tr>\n",
       "    <tr>\n",
       "      <th>std</th>\n",
       "      <td>20.261623</td>\n",
       "      <td>231.373075</td>\n",
       "    </tr>\n",
       "    <tr>\n",
       "      <th>min</th>\n",
       "      <td>0.000000</td>\n",
       "      <td>1.000000</td>\n",
       "    </tr>\n",
       "    <tr>\n",
       "      <th>25%</th>\n",
       "      <td>50.000000</td>\n",
       "      <td>201.000000</td>\n",
       "    </tr>\n",
       "    <tr>\n",
       "      <th>50%</th>\n",
       "      <td>50.000000</td>\n",
       "      <td>401.000000</td>\n",
       "    </tr>\n",
       "    <tr>\n",
       "      <th>75%</th>\n",
       "      <td>50.000000</td>\n",
       "      <td>601.000000</td>\n",
       "    </tr>\n",
       "    <tr>\n",
       "      <th>max</th>\n",
       "      <td>100.000000</td>\n",
       "      <td>801.000000</td>\n",
       "    </tr>\n",
       "  </tbody>\n",
       "</table>\n",
       "</div>"
      ],
      "text/plain": [
       "       percentage_male  pokedex_number\n",
       "count       703.000000      801.000000\n",
       "mean         55.155761      401.000000\n",
       "std          20.261623      231.373075\n",
       "min           0.000000        1.000000\n",
       "25%          50.000000      201.000000\n",
       "50%          50.000000      401.000000\n",
       "75%          50.000000      601.000000\n",
       "max         100.000000      801.000000"
      ]
     },
     "execution_count": 19,
     "metadata": {},
     "output_type": "execute_result"
    }
   ],
   "source": [
    "df[[\"percentage_male\", \"pokedex_number\"]].describe()"
   ]
  },
  {
   "cell_type": "markdown",
   "id": "3e10ceac",
   "metadata": {},
   "source": [
    "#### Visualisation représentant variable numériques (speed)"
   ]
  },
  {
   "cell_type": "code",
   "execution_count": 144,
   "id": "1afe7ebf",
   "metadata": {},
   "outputs": [
    {
     "data": {
      "image/png": "[encoded data removed]",
      "text/plain": [
       "<Figure size 800x500 with 1 Axes>"
      ]
     },
     "metadata": {},
     "output_type": "display_data"
    }
   ],
   "source": [
    "plt.figure(figsize=(8, 5))\n",
    "sns.histplot(df[\"speed\"], kde=True, color=\"red\")\n",
    "plt.title(\"Histogramme\")\n",
    "plt.xlabel(\"Speed\")\n",
    "plt.ylabel(\"Nombre d’individus\")\n",
    "plt.grid(True)\n",
    "plt.show()"
   ]
  },
  {
   "cell_type": "markdown",
   "id": "7f0449ed",
   "metadata": {},
   "source": [
    "#### Visualisation représentant variable numériques (speed vs weight)"
   ]
  },
  {
   "cell_type": "code",
   "execution_count": 176,
   "id": "e07fb167",
   "metadata": {},
   "outputs": [
    {
     "data": {
      "image/png": "[encoded data removed]",
      "text/plain": [
       "<Figure size 800x500 with 1 Axes>"
      ]
     },
     "metadata": {},
     "output_type": "display_data"
    }
   ],
   "source": [
    "plt.figure(figsize=(8, 5))\n",
    "sns.scatterplot(df[\"weight_kg\"], color=\"red\")\n",
    "plt.title(\"Nuage de points\")\n",
    "plt.xlabel(\"Poids (weight_kg)\")\n",
    "plt.ylabel(\"Nombre d’individus\")\n",
    "plt.grid(True)\n",
    "plt.show()"
   ]
  },
  {
   "cell_type": "markdown",
   "id": "7490f2f9",
   "metadata": {},
   "source": [
    "#### Visualisation représentant variable catégorique (type1)"
   ]
  },
  {
   "cell_type": "code",
   "execution_count": 175,
   "id": "3acee1b0",
   "metadata": {},
   "outputs": [
    {
     "name": "stderr",
     "output_type": "stream",
     "text": [
      "/var/folders/2p/6lgdtw2j5m71bbczwv95n3540000gn/T/ipykernel_19980/1437804306.py:2: FutureWarning:\n",
      "\n",
      "\n",
      "\n",
      "Setting a gradient palette using color= is deprecated and will be removed in v0.14.0. Set `palette='dark:red'` for the same effect.\n",
      "\n",
      "\n"
     ]
    },
    {
     "data": {
      "image/png": "[encoded data removed]",
      "text/plain": [
       "<Figure size 600x400 with 1 Axes>"
      ]
     },
     "metadata": {},
     "output_type": "display_data"
    }
   ],
   "source": [
    "plt.figure(figsize=(6, 4))\n",
    "sns.countplot(x=\"type1\", hue=\"type1\", legend=False, data=df, color=\"red\")\n",
    "plt.title(\"Barplot\")\n",
    "plt.xlabel(\"Type\")\n",
    "plt.ylabel(\"Nombre d’individus\")\n",
    "plt.grid(axis='y')\n",
    "plt.xticks(rotation=45, ha='right')\n",
    "plt.tight_layout()\n",
    "plt.show()"
   ]
  },
  {
   "cell_type": "markdown",
   "id": "dec29b7f",
   "metadata": {},
   "source": [
    "#### Visualisation représentant variable catégorique (type2)"
   ]
  },
  {
   "cell_type": "code",
   "execution_count": 174,
   "id": "e3c7b38d",
   "metadata": {},
   "outputs": [
    {
     "data": {
      "application/vnd.plotly.v1+json": {
       "config": {
        "plotlyServerURL": "https://plot.ly"
       },
       "data": [
        {
         "domain": {
          "x": [
           0,
           1
          ],
          "y": [
           0,
           1
          ]
         },
         "hovertemplate": "type2=%{label}<extra></extra>",
         "labels": [
          "poison",
          "poison",
          "poison",
          null,
          null,
          "flying",
          null,
          null,
          null,
          null,
          null,
          "flying",
          "poison",
          "poison",
          "poison",
          "flying",
          "flying",
          "flying",
          "dark",
          "dark",
          "flying",
          "flying",
          null,
          null,
          null,
          "electric",
          "ice",
          "ice",
          null,
          null,
          "ground",
          null,
          null,
          "ground",
          null,
          null,
          "ice",
          "ice",
          "fairy",
          "fairy",
          "flying",
          "flying",
          "poison",
          "poison",
          "poison",
          "grass",
          "grass",
          "poison",
          "poison",
          "ground",
          "ground",
          "dark",
          "dark",
          null,
          null,
          null,
          null,
          null,
          null,
          null,
          null,
          "fighting",
          null,
          null,
          null,
          null,
          null,
          null,
          "poison",
          "poison",
          "poison",
          "poison",
          "poison",
          "ground",
          "ground",
          "ground",
          null,
          null,
          "psychic",
          "psychic",
          "steel",
          "steel",
          "flying",
          "flying",
          "flying",
          null,
          "ice",
          "poison",
          "poison",
          null,
          "ice",
          "poison",
          "poison",
          "poison",
          "ground",
          null,
          null,
          null,
          null,
          null,
          null,
          "psychic",
          "psychic",
          null,
          "fire",
          null,
          null,
          null,
          null,
          null,
          "rock",
          "rock",
          null,
          null,
          null,
          null,
          null,
          null,
          null,
          null,
          "psychic",
          "fairy",
          "flying",
          "psychic",
          null,
          null,
          null,
          null,
          null,
          "flying",
          "ice",
          null,
          null,
          null,
          null,
          null,
          null,
          "water",
          "water",
          "water",
          "water",
          "flying",
          null,
          "flying",
          "flying",
          "flying",
          null,
          null,
          "flying",
          null,
          null,
          null,
          null,
          null,
          null,
          null,
          null,
          null,
          null,
          null,
          null,
          null,
          "flying",
          "flying",
          "flying",
          "flying",
          "poison",
          "poison",
          "flying",
          "electric",
          "electric",
          null,
          null,
          "fairy",
          null,
          "flying",
          "flying",
          "flying",
          null,
          null,
          null,
          null,
          "fairy",
          "fairy",
          null,
          null,
          "flying",
          "flying",
          "flying",
          null,
          null,
          null,
          "flying",
          "ground",
          "ground",
          null,
          null,
          "flying",
          "psychic",
          null,
          null,
          null,
          "psychic",
          null,
          "steel",
          null,
          "flying",
          "ground",
          null,
          null,
          "poison",
          "steel",
          "rock",
          "fighting",
          "ice",
          null,
          null,
          null,
          "rock",
          "ground",
          "ground",
          "rock",
          null,
          null,
          "flying",
          "flying",
          "flying",
          "fire",
          "fire",
          "dragon",
          null,
          null,
          null,
          null,
          null,
          null,
          null,
          "psychic",
          null,
          null,
          null,
          null,
          null,
          null,
          null,
          "ground",
          "ground",
          "dark",
          "flying",
          "flying",
          "grass",
          null,
          null,
          null,
          null,
          "fighting",
          "fighting",
          null,
          "ground",
          "ground",
          null,
          null,
          null,
          null,
          null,
          null,
          "flying",
          null,
          "poison",
          "grass",
          "grass",
          "grass",
          null,
          "dark",
          "dark",
          "flying",
          "flying",
          "flying",
          "flying",
          "fairy",
          "fairy",
          "fairy",
          "water",
          "flying",
          null,
          "fighting",
          null,
          null,
          null,
          "ground",
          "flying",
          "ghost",
          null,
          null,
          null,
          null,
          null,
          "fairy",
          null,
          null,
          null,
          "ghost",
          "fairy",
          "rock",
          "rock",
          "rock",
          "psychic",
          "psychic",
          null,
          null,
          null,
          null,
          null,
          null,
          "poison",
          null,
          null,
          "dark",
          "dark",
          null,
          null,
          "ground",
          "ground",
          null,
          null,
          null,
          null,
          null,
          "dragon",
          "dragon",
          null,
          "dark",
          "flying",
          "flying",
          null,
          null,
          "psychic",
          "psychic",
          "ground",
          "ground",
          null,
          "dark",
          "psychic",
          "psychic",
          "grass",
          "grass",
          "bug",
          "bug",
          null,
          null,
          null,
          null,
          null,
          null,
          null,
          null,
          "flying",
          null,
          null,
          null,
          null,
          null,
          "water",
          "water",
          "water",
          null,
          null,
          null,
          "rock",
          null,
          null,
          null,
          "flying",
          "psychic",
          "psychic",
          "psychic",
          null,
          null,
          null,
          "psychic",
          "psychic",
          null,
          null,
          "flying",
          "psychic",
          null,
          null,
          null,
          "ground",
          null,
          "fighting",
          "fighting",
          null,
          null,
          "steel",
          "flying",
          "flying",
          "flying",
          null,
          "water",
          null,
          null,
          null,
          null,
          null,
          "poison",
          "poison",
          null,
          null,
          "steel",
          "steel",
          null,
          "grass",
          "flying",
          "flying",
          "flying",
          null,
          null,
          null,
          null,
          null,
          null,
          "ground",
          null,
          "flying",
          "flying",
          null,
          null,
          null,
          "flying",
          null,
          null,
          null,
          "dark",
          "dark",
          "psychic",
          "psychic",
          null,
          "fairy",
          null,
          "flying",
          "dark",
          "ground",
          "ground",
          "ground",
          null,
          null,
          "steel",
          null,
          null,
          "bug",
          "dark",
          "fighting",
          "fighting",
          null,
          null,
          null,
          "flying",
          "ice",
          "ice",
          "ice",
          "steel",
          null,
          "rock",
          null,
          null,
          null,
          "flying",
          "flying",
          null,
          null,
          "flying",
          "ground",
          null,
          "fighting",
          "steel",
          null,
          "ghost",
          "ghost",
          null,
          null,
          null,
          "dragon",
          "dragon",
          "steel",
          null,
          "dragon",
          null,
          null,
          null,
          null,
          "grass",
          null,
          "fire",
          null,
          null,
          null,
          null,
          "fighting",
          "fighting",
          null,
          null,
          null,
          null,
          null,
          null,
          null,
          null,
          null,
          null,
          null,
          null,
          null,
          null,
          null,
          null,
          null,
          null,
          "flying",
          "flying",
          "flying",
          null,
          null,
          null,
          null,
          null,
          "flying",
          "flying",
          null,
          "steel",
          null,
          null,
          null,
          null,
          null,
          "ground",
          "ground",
          null,
          null,
          "grass",
          "grass",
          "grass",
          "poison",
          "poison",
          "poison",
          "fairy",
          "fairy",
          null,
          null,
          null,
          "dark",
          "dark",
          "dark",
          null,
          "fire",
          null,
          "rock",
          "rock",
          "fighting",
          "fighting",
          "flying",
          null,
          null,
          "rock",
          "rock",
          "flying",
          "flying",
          null,
          null,
          null,
          null,
          null,
          null,
          null,
          null,
          null,
          null,
          null,
          null,
          "flying",
          "flying",
          null,
          null,
          null,
          "grass",
          "grass",
          "flying",
          null,
          "steel",
          "poison",
          "poison",
          "ghost",
          "ghost",
          null,
          "electric",
          "electric",
          "steel",
          "steel",
          null,
          null,
          null,
          null,
          null,
          null,
          null,
          null,
          "fire",
          "fire",
          "fire",
          null,
          null,
          null,
          null,
          null,
          null,
          null,
          null,
          "electric",
          null,
          null,
          null,
          "ghost",
          "ghost",
          "steel",
          "steel",
          null,
          "flying",
          "flying",
          "flying",
          "flying",
          null,
          "steel",
          "dragon",
          "dragon",
          "dragon",
          "fire",
          "fire",
          "fighting",
          "fighting",
          "fighting",
          null,
          "flying",
          "fire",
          "electric",
          "flying",
          "ice",
          "fighting",
          "psychic",
          "steel",
          null,
          null,
          "fighting",
          null,
          null,
          "psychic",
          null,
          null,
          "dark",
          null,
          "ground",
          "flying",
          "flying",
          "flying",
          null,
          null,
          "flying",
          "normal",
          "normal",
          null,
          null,
          null,
          null,
          null,
          null,
          "dark",
          null,
          null,
          null,
          "ghost",
          "ghost",
          "ghost",
          null,
          null,
          null,
          null,
          "psychic",
          "psychic",
          "water",
          "water",
          "water",
          "dragon",
          null,
          null,
          "normal",
          "normal",
          "dragon",
          "dragon",
          "ice",
          "ice",
          null,
          "flying",
          "fairy",
          "fairy",
          null,
          null,
          null,
          "fairy",
          "grass",
          "grass",
          "grass",
          "grass",
          null,
          null,
          "dragon",
          "dragon",
          null,
          "flying",
          "ground",
          "fairy",
          "ghost",
          "water",
          "flying",
          "flying",
          "ghost",
          null,
          null,
          "dark",
          null,
          null,
          "fairy",
          "flying",
          "flying",
          "flying",
          null,
          null,
          null,
          "electric",
          "electric",
          null,
          "ice",
          "flying",
          "fairy",
          "fairy",
          null,
          null,
          null,
          "water",
          "water",
          null,
          null,
          "bug",
          "bug",
          null,
          null,
          "fairy",
          "fairy",
          "fire",
          "fire",
          "fighting",
          "fighting",
          null,
          null,
          null,
          null,
          "psychic",
          null,
          "water",
          "water",
          "ground",
          "ground",
          null,
          null,
          null,
          "flying",
          null,
          "dragon",
          "steel",
          "fairy",
          "psychic",
          "dragon",
          "grass",
          null,
          "fighting",
          "fighting",
          "fairy",
          "fairy",
          "fairy",
          "fairy",
          null,
          null,
          "steel",
          "ghost",
          "poison",
          "fighting",
          "fighting",
          null,
          "flying",
          "steel",
          "dragon",
          null,
          "fairy"
         ],
         "legendgroup": "",
         "name": "",
         "showlegend": true,
         "type": "pie"
        }
       ],
       "layout": {
        "legend": {
         "title": {
          "text": "Type secondaire"
         },
         "tracegroupgap": 0
        },
        "template": {
         "data": {
          "bar": [
           {
            "error_x": {
             "color": "#2a3f5f"
            },
            "error_y": {
             "color": "#2a3f5f"
            },
            "marker": {
             "line": {
              "color": "#E5ECF6",
              "width": 0.5
             },
             "pattern": {
              "fillmode": "overlay",
              "size": 10,
              "solidity": 0.2
             }
            },
            "type": "bar"
           }
          ],
          "barpolar": [
           {
            "marker": {
             "line": {
              "color": "#E5ECF6",
              "width": 0.5
             },
             "pattern": {
              "fillmode": "overlay",
              "size": 10,
              "solidity": 0.2
             }
            },
            "type": "barpolar"
           }
          ],
          "carpet": [
           {
            "aaxis": {
             "endlinecolor": "#2a3f5f",
             "gridcolor": "white",
             "linecolor": "white",
             "minorgridcolor": "white",
             "startlinecolor": "#2a3f5f"
            },
            "baxis": {
             "endlinecolor": "#2a3f5f",
             "gridcolor": "white",
             "linecolor": "white",
             "minorgridcolor": "white",
             "startlinecolor": "#2a3f5f"
            },
            "type": "carpet"
           }
          ],
          "choropleth": [
           {
            "colorbar": {
             "outlinewidth": 0,
             "ticks": ""
            },
            "type": "choropleth"
           }
          ],
          "contour": [
           {
            "colorbar": {
             "outlinewidth": 0,
             "ticks": ""
            },
            "colorscale": [
             [
              0,
              "#0d0887"
             ],
             [
              0.1111111111111111,
              "#46039f"
             ],
             [
              0.2222222222222222,
              "#7201a8"
             ],
             [
              0.3333333333333333,
              "#9c179e"
             ],
             [
              0.4444444444444444,
              "#bd3786"
             ],
             [
              0.5555555555555556,
              "#d8576b"
             ],
             [
              0.6666666666666666,
              "#ed7953"
             ],
             [
              0.7777777777777778,
              "#fb9f3a"
             ],
             [
              0.8888888888888888,
              "#fdca26"
             ],
             [
              1,
              "#f0f921"
             ]
            ],
            "type": "contour"
           }
          ],
          "contourcarpet": [
           {
            "colorbar": {
             "outlinewidth": 0,
             "ticks": ""
            },
            "type": "contourcarpet"
           }
          ],
          "heatmap": [
           {
            "colorbar": {
             "outlinewidth": 0,
             "ticks": ""
            },
            "colorscale": [
             [
              0,
              "#0d0887"
             ],
             [
              0.1111111111111111,
              "#46039f"
             ],
             [
              0.2222222222222222,
              "#7201a8"
             ],
             [
              0.3333333333333333,
              "#9c179e"
             ],
             [
              0.4444444444444444,
              "#bd3786"
             ],
             [
              0.5555555555555556,
              "#d8576b"
             ],
             [
              0.6666666666666666,
              "#ed7953"
             ],
             [
              0.7777777777777778,
              "#fb9f3a"
             ],
             [
              0.8888888888888888,
              "#fdca26"
             ],
             [
              1,
              "#f0f921"
             ]
            ],
            "type": "heatmap"
           }
          ],
          "heatmapgl": [
           {
            "colorbar": {
             "outlinewidth": 0,
             "ticks": ""
            },
            "colorscale": [
             [
              0,
              "#0d0887"
             ],
             [
              0.1111111111111111,
              "#46039f"
             ],
             [
              0.2222222222222222,
              "#7201a8"
             ],
             [
              0.3333333333333333,
              "#9c179e"
             ],
             [
              0.4444444444444444,
              "#bd3786"
             ],
             [
              0.5555555555555556,
              "#d8576b"
             ],
             [
              0.6666666666666666,
              "#ed7953"
             ],
             [
              0.7777777777777778,
              "#fb9f3a"
             ],
             [
              0.8888888888888888,
              "#fdca26"
             ],
             [
              1,
              "#f0f921"
             ]
            ],
            "type": "heatmapgl"
           }
          ],
          "histogram": [
           {
            "marker": {
             "pattern": {
              "fillmode": "overlay",
              "size": 10,
              "solidity": 0.2
             }
            },
            "type": "histogram"
           }
          ],
          "histogram2d": [
           {
            "colorbar": {
             "outlinewidth": 0,
             "ticks": ""
            },
            "colorscale": [
             [
              0,
              "#0d0887"
             ],
             [
              0.1111111111111111,
              "#46039f"
             ],
             [
              0.2222222222222222,
              "#7201a8"
             ],
             [
              0.3333333333333333,
              "#9c179e"
             ],
             [
              0.4444444444444444,
              "#bd3786"
             ],
             [
              0.5555555555555556,
              "#d8576b"
             ],
             [
              0.6666666666666666,
              "#ed7953"
             ],
             [
              0.7777777777777778,
              "#fb9f3a"
             ],
             [
              0.8888888888888888,
              "#fdca26"
             ],
             [
              1,
              "#f0f921"
             ]
            ],
            "type": "histogram2d"
           }
          ],
          "histogram2dcontour": [
           {
            "colorbar": {
             "outlinewidth": 0,
             "ticks": ""
            },
            "colorscale": [
             [
              0,
              "#0d0887"
             ],
             [
              0.1111111111111111,
              "#46039f"
             ],
             [
              0.2222222222222222,
              "#7201a8"
             ],
             [
              0.3333333333333333,
              "#9c179e"
             ],
             [
              0.4444444444444444,
              "#bd3786"
             ],
             [
              0.5555555555555556,
              "#d8576b"
             ],
             [
              0.6666666666666666,
              "#ed7953"
             ],
             [
              0.7777777777777778,
              "#fb9f3a"
             ],
             [
              0.8888888888888888,
              "#fdca26"
             ],
             [
              1,
              "#f0f921"
             ]
            ],
            "type": "histogram2dcontour"
           }
          ],
          "mesh3d": [
           {
            "colorbar": {
             "outlinewidth": 0,
             "ticks": ""
            },
            "type": "mesh3d"
           }
          ],
          "parcoords": [
           {
            "line": {
             "colorbar": {
              "outlinewidth": 0,
              "ticks": ""
             }
            },
            "type": "parcoords"
           }
          ],
          "pie": [
           {
            "automargin": true,
            "type": "pie"
           }
          ],
          "scatter": [
           {
            "fillpattern": {
             "fillmode": "overlay",
             "size": 10,
             "solidity": 0.2
            },
            "type": "scatter"
           }
          ],
          "scatter3d": [
           {
            "line": {
             "colorbar": {
              "outlinewidth": 0,
              "ticks": ""
             }
            },
            "marker": {
             "colorbar": {
              "outlinewidth": 0,
              "ticks": ""
             }
            },
            "type": "scatter3d"
           }
          ],
          "scattercarpet": [
           {
            "marker": {
             "colorbar": {
              "outlinewidth": 0,
              "ticks": ""
             }
            },
            "type": "scattercarpet"
           }
          ],
          "scattergeo": [
           {
            "marker": {
             "colorbar": {
              "outlinewidth": 0,
              "ticks": ""
             }
            },
            "type": "scattergeo"
           }
          ],
          "scattergl": [
           {
            "marker": {
             "colorbar": {
              "outlinewidth": 0,
              "ticks": ""
             }
            },
            "type": "scattergl"
           }
          ],
          "scattermapbox": [
           {
            "marker": {
             "colorbar": {
              "outlinewidth": 0,
              "ticks": ""
             }
            },
            "type": "scattermapbox"
           }
          ],
          "scatterpolar": [
           {
            "marker": {
             "colorbar": {
              "outlinewidth": 0,
              "ticks": ""
             }
            },
            "type": "scatterpolar"
           }
          ],
          "scatterpolargl": [
           {
            "marker": {
             "colorbar": {
              "outlinewidth": 0,
              "ticks": ""
             }
            },
            "type": "scatterpolargl"
           }
          ],
          "scatterternary": [
           {
            "marker": {
             "colorbar": {
              "outlinewidth": 0,
              "ticks": ""
             }
            },
            "type": "scatterternary"
           }
          ],
          "surface": [
           {
            "colorbar": {
             "outlinewidth": 0,
             "ticks": ""
            },
            "colorscale": [
             [
              0,
              "#0d0887"
             ],
             [
              0.1111111111111111,
              "#46039f"
             ],
             [
              0.2222222222222222,
              "#7201a8"
             ],
             [
              0.3333333333333333,
              "#9c179e"
             ],
             [
              0.4444444444444444,
              "#bd3786"
             ],
             [
              0.5555555555555556,
              "#d8576b"
             ],
             [
              0.6666666666666666,
              "#ed7953"
             ],
             [
              0.7777777777777778,
              "#fb9f3a"
             ],
             [
              0.8888888888888888,
              "#fdca26"
             ],
             [
              1,
              "#f0f921"
             ]
            ],
            "type": "surface"
           }
          ],
          "table": [
           {
            "cells": {
             "fill": {
              "color": "#EBF0F8"
             },
             "line": {
              "color": "white"
             }
            },
            "header": {
             "fill": {
              "color": "#C8D4E3"
             },
             "line": {
              "color": "white"
             }
            },
            "type": "table"
           }
          ]
         },
         "layout": {
          "annotationdefaults": {
           "arrowcolor": "#2a3f5f",
           "arrowhead": 0,
           "arrowwidth": 1
          },
          "autotypenumbers": "strict",
          "coloraxis": {
           "colorbar": {
            "outlinewidth": 0,
            "ticks": ""
           }
          },
          "colorscale": {
           "diverging": [
            [
             0,
             "#8e0152"
            ],
            [
             0.1,
             "#c51b7d"
            ],
            [
             0.2,
             "#de77ae"
            ],
            [
             0.3,
             "#f1b6da"
            ],
            [
             0.4,
             "#fde0ef"
            ],
            [
             0.5,
             "#f7f7f7"
            ],
            [
             0.6,
             "#e6f5d0"
            ],
            [
             0.7,
             "#b8e186"
            ],
            [
             0.8,
             "#7fbc41"
            ],
            [
             0.9,
             "#4d9221"
            ],
            [
             1,
             "#276419"
            ]
           ],
           "sequential": [
            [
             0,
             "#0d0887"
            ],
            [
             0.1111111111111111,
             "#46039f"
            ],
            [
             0.2222222222222222,
             "#7201a8"
            ],
            [
             0.3333333333333333,
             "#9c179e"
            ],
            [
             0.4444444444444444,
             "#bd3786"
            ],
            [
             0.5555555555555556,
             "#d8576b"
            ],
            [
             0.6666666666666666,
             "#ed7953"
            ],
            [
             0.7777777777777778,
             "#fb9f3a"
            ],
            [
             0.8888888888888888,
             "#fdca26"
            ],
            [
             1,
             "#f0f921"
            ]
           ],
           "sequentialminus": [
            [
             0,
             "#0d0887"
            ],
            [
             0.1111111111111111,
             "#46039f"
            ],
            [
             0.2222222222222222,
             "#7201a8"
            ],
            [
             0.3333333333333333,
             "#9c179e"
            ],
            [
             0.4444444444444444,
             "#bd3786"
            ],
            [
             0.5555555555555556,
             "#d8576b"
            ],
            [
             0.6666666666666666,
             "#ed7953"
            ],
            [
             0.7777777777777778,
             "#fb9f3a"
            ],
            [
             0.8888888888888888,
             "#fdca26"
            ],
            [
             1,
             "#f0f921"
            ]
           ]
          },
          "colorway": [
           "#636efa",
           "#EF553B",
           "#00cc96",
           "#ab63fa",
           "#FFA15A",
           "#19d3f3",
           "#FF6692",
           "#B6E880",
           "#FF97FF",
           "#FECB52"
          ],
          "font": {
           "color": "#2a3f5f"
          },
          "geo": {
           "bgcolor": "white",
           "lakecolor": "white",
           "landcolor": "#E5ECF6",
           "showlakes": true,
           "showland": true,
           "subunitcolor": "white"
          },
          "hoverlabel": {
           "align": "left"
          },
          "hovermode": "closest",
          "mapbox": {
           "style": "light"
          },
          "paper_bgcolor": "white",
          "plot_bgcolor": "#E5ECF6",
          "polar": {
           "angularaxis": {
            "gridcolor": "white",
            "linecolor": "white",
            "ticks": ""
           },
           "bgcolor": "#E5ECF6",
           "radialaxis": {
            "gridcolor": "white",
            "linecolor": "white",
            "ticks": ""
           }
          },
          "scene": {
           "xaxis": {
            "backgroundcolor": "#E5ECF6",
            "gridcolor": "white",
            "gridwidth": 2,
            "linecolor": "white",
            "showbackground": true,
            "ticks": "",
            "zerolinecolor": "white"
           },
           "yaxis": {
            "backgroundcolor": "#E5ECF6",
            "gridcolor": "white",
            "gridwidth": 2,
            "linecolor": "white",
            "showbackground": true,
            "ticks": "",
            "zerolinecolor": "white"
           },
           "zaxis": {
            "backgroundcolor": "#E5ECF6",
            "gridcolor": "white",
            "gridwidth": 2,
            "linecolor": "white",
            "showbackground": true,
            "ticks": "",
            "zerolinecolor": "white"
           }
          },
          "shapedefaults": {
           "line": {
            "color": "#2a3f5f"
           }
          },
          "ternary": {
           "aaxis": {
            "gridcolor": "white",
            "linecolor": "white",
            "ticks": ""
           },
           "baxis": {
            "gridcolor": "white",
            "linecolor": "white",
            "ticks": ""
           },
           "bgcolor": "#E5ECF6",
           "caxis": {
            "gridcolor": "white",
            "linecolor": "white",
            "ticks": ""
           }
          },
          "title": {
           "x": 0.05
          },
          "xaxis": {
           "automargin": true,
           "gridcolor": "white",
           "linecolor": "white",
           "ticks": "",
           "title": {
            "standoff": 15
           },
           "zerolinecolor": "white",
           "zerolinewidth": 2
          },
          "yaxis": {
           "automargin": true,
           "gridcolor": "white",
           "linecolor": "white",
           "ticks": "",
           "title": {
            "standoff": 15
           },
           "zerolinecolor": "white",
           "zerolinewidth": 2
          }
         }
        },
        "title": {
         "text": "Répartition des types secondaires"
        }
       }
      }
     },
     "metadata": {},
     "output_type": "display_data"
    }
   ],
   "source": [
    "fig = px.pie(df, names=\"type2\", title=\"Répartition des types secondaires\")\n",
    "fig.update_layout(\n",
    "    legend_title_text=\"Type secondaire\",\n",
    ")\n",
    "fig.show()"
   ]
  },
  {
   "cell_type": "code",
   "execution_count": 172,
   "id": "65bb5362",
   "metadata": {},
   "outputs": [
    {
     "data": {
      "application/vnd.plotly.v1+json": {
       "config": {
        "plotlyServerURL": "https://plot.ly"
       },
       "data": [
        {
         "alignmentgroup": "True",
         "hovertemplate": "classfication=%{x}<br>count=%{y}<extra></extra>",
         "legendgroup": "",
         "marker": {
          "color": "#636efa",
          "pattern": {
           "shape": ""
          }
         },
         "name": "",
         "offsetgroup": "",
         "orientation": "v",
         "showlegend": false,
         "textposition": "auto",
         "type": "bar",
         "x": [
          "Seed Pokémon",
          "Seed Pokémon",
          "Seed Pokémon",
          "Lizard Pokémon",
          "Flame Pokémon",
          "Flame Pokémon",
          "Tiny Turtle Pokémon",
          "Turtle Pokémon",
          "Shellfish Pokémon",
          "Worm Pokémon",
          "Cocoon Pokémon",
          "Butterfly Pokémon",
          "Hairy Pokémon",
          "Cocoon Pokémon",
          "Poison Bee Pokémon",
          "Tiny Bird Pokémon",
          "Bird Pokémon",
          "Bird Pokémon",
          "Mouse Pokémon",
          "Mouse Pokémon",
          "Tiny Bird Pokémon",
          "Beak Pokémon",
          "Snake Pokémon",
          "Cobra Pokémon",
          "Mouse Pokémon",
          "Mouse Pokémon",
          "Mouse Pokémon",
          "Mouse Pokémon",
          "Poison Pin Pokémon",
          "Poison Pin Pokémon",
          "Drill Pokémon",
          "Poison Pin Pokémon",
          "Poison Pin Pokémon",
          "Drill Pokémon",
          "Fairy Pokémon",
          "Fairy Pokémon",
          "Fox Pokémon",
          "Fox Pokémon",
          "Balloon Pokémon",
          "Balloon Pokémon",
          "Bat Pokémon",
          "Bat Pokémon",
          "Weed Pokémon",
          "Weed Pokémon",
          "Flower Pokémon",
          "Mushroom Pokémon",
          "Mushroom Pokémon",
          "Insect Pokémon",
          "Poison Moth Pokémon",
          "Mole Pokémon",
          "Mole Pokémon",
          "Scratch Cat Pokémon",
          "Classy Cat Pokémon",
          "Duck Pokémon",
          "Duck Pokémon",
          "Pig Monkey Pokémon",
          "Pig Monkey Pokémon",
          "Puppy Pokémon",
          "Legendary Pokémon",
          "Tadpole Pokémon",
          "Tadpole Pokémon",
          "Tadpole Pokémon",
          "Psi Pokémon",
          "Psi Pokémon",
          "Psi Pokémon",
          "Superpower Pokémon",
          "Superpower Pokémon",
          "Superpower Pokémon",
          "Flower Pokémon",
          "Flycatcher Pokémon",
          "Flycatcher Pokémon",
          "Jellyfish Pokémon",
          "Jellyfish Pokémon",
          "Rock Pokémon",
          "Rock Pokémon",
          "Megaton Pokémon",
          "Fire Horse Pokémon",
          "Fire Horse Pokémon",
          "Dopey Pokémon",
          "Hermit Crab Pokémon",
          "Magnet Pokémon",
          "Magnet Pokémon",
          "Wild Duck Pokémon",
          "Twin Bird Pokémon",
          "Triple Bird Pokémon",
          "Sea Lion Pokémon",
          "Sea Lion Pokémon",
          "Sludge Pokémon",
          "Sludge Pokémon",
          "Bivalve Pokémon",
          "Bivalve Pokémon",
          "Gas Pokémon",
          "Gas Pokémon",
          "Shadow Pokémon",
          "Rock Snake Pokémon",
          "Hypnosis Pokémon",
          "Hypnosis Pokémon",
          "River Crab Pokémon",
          "Pincer Pokémon",
          "Ball Pokémon",
          "Ball Pokémon",
          "Egg Pokémon",
          "Coconut Pokémon",
          "Lonely Pokémon",
          "Bone Keeper Pokémon",
          "Kicking Pokémon",
          "Punching Pokémon",
          "Licking Pokémon",
          "Poison Gas Pokémon",
          "Poison Gas Pokémon",
          "Spikes Pokémon",
          "Drill Pokémon",
          "Egg Pokémon",
          "Vine Pokémon",
          "Parent Pokémon",
          "Dragon Pokémon",
          "Dragon Pokémon",
          "Goldfish Pokémon",
          "Goldfish Pokémon",
          "Starshape Pokémon",
          "Mysterious Pokémon",
          "Barrier Pokémon",
          "Mantis Pokémon",
          "Humanshape Pokémon",
          "Electric Pokémon",
          "Spitfire Pokémon",
          "Stagbeetle Pokémon",
          "Wild Bull Pokémon",
          "Fish Pokémon",
          "Atrocious Pokémon",
          "Transport Pokémon",
          "Transform Pokémon",
          "Evolution Pokémon",
          "Bubble Jet Pokémon",
          "Lightning Pokémon",
          "Flame Pokémon",
          "Virtual Pokémon",
          "Spiral Pokémon",
          "Spiral Pokémon",
          "Shellfish Pokémon",
          "Shellfish Pokémon",
          "Fossil Pokémon",
          "Sleeping Pokémon",
          "Freeze Pokémon",
          "Electric Pokémon",
          "Flame Pokémon",
          "Dragon Pokémon",
          "Dragon Pokémon",
          "Dragon Pokémon",
          "Genetic Pokémon",
          "New Species Pokémon",
          "Leaf Pokémon",
          "Leaf Pokémon",
          "Herb Pokémon",
          "Fire Mouse Pokémon",
          "Volcano Pokémon",
          "Volcano Pokémon",
          "Big Jaw Pokémon",
          "Big Jaw Pokémon",
          "Big Jaw Pokémon",
          "Scout Pokémon",
          "Long Body Pokémon",
          "Owl Pokémon",
          "Owl Pokémon",
          "Five Star Pokémon",
          "Five Star Pokémon",
          "String Spit Pokémon",
          "Long Leg Pokémon",
          "Bat Pokémon",
          "Angler Pokémon",
          "Light Pokémon",
          "Tiny Mouse Pokémon",
          "Star Shape Pokémon",
          "Balloon Pokémon",
          "Spike Ball Pokémon",
          "Happiness Pokémon",
          "Little Bird Pokémon",
          "Mystic Pokémon",
          "Wool Pokémon",
          "Wool Pokémon",
          "Light Pokémon",
          "Flower Pokémon",
          "Aquamouse Pokémon",
          "Aquarabbit Pokémon",
          "Imitation Pokémon",
          "Frog Pokémon",
          "Cottonweed Pokémon",
          "Cottonweed Pokémon",
          "Cottonweed Pokémon",
          "Long Tail Pokémon",
          "Seed Pokémon",
          "Sun Pokémon",
          "Clear Wing Pokémon",
          "Water Fish Pokémon",
          "Water Fish Pokémon",
          "Sun Pokémon",
          "Moonlight Pokémon",
          "Darkness Pokémon",
          "Royal Pokémon",
          "Screech Pokémon",
          "Symbol Pokémon",
          "Patient Pokémon",
          "Long Neck Pokémon",
          "Bagworm Pokémon",
          "Bagworm Pokémon",
          "Land Snake Pokémon",
          "Flyscorpion Pokémon",
          "Iron Snake Pokémon",
          "Fairy Pokémon",
          "Fairy Pokémon",
          "Balloon Pokémon",
          "Pincer Pokémon",
          "Mold Pokémon",
          "Singlehorn Pokémon",
          "Sharp Claw Pokémon",
          "Little Bear Pokémon",
          "Hibernator Pokémon",
          "Lava Pokémon",
          "Lava Pokémon",
          "Pig Pokémon",
          "Swine Pokémon",
          "Coral Pokémon",
          "Jet Pokémon",
          "Jet Pokémon",
          "Delivery Pokémon",
          "Kite Pokémon",
          "Armor Bird Pokémon",
          "Dark Pokémon",
          "Dark Pokémon",
          "Dragon Pokémon",
          "Long Nose Pokémon",
          "Armor Pokémon",
          "Virtual Pokémon",
          "Big Horn Pokémon",
          "Painter Pokémon",
          "Scuffle Pokémon",
          "Handstand Pokémon",
          "Kiss Pokémon",
          "Electric Pokémon",
          "Live Coal Pokémon",
          "Milk Cow Pokémon",
          "Happiness Pokémon",
          "Thunder Pokémon",
          "Volcano Pokémon",
          "Aurora Pokémon",
          "Rock Skin Pokémon",
          "Hard Shell Pokémon",
          "Armor Pokémon",
          "Diving Pokémon",
          "Rainbow Pokémon",
          "Time Travel Pokémon",
          "Wood Gecko Pokémon",
          "Wood Gecko Pokémon",
          "Forest Pokémon",
          "Chick Pokémon",
          "Young Fowl Pokémon",
          "Blaze Pokémon",
          "Mud Fish Pokémon",
          "Mud Fish Pokémon",
          "Mud Fish Pokémon",
          "Bite Pokémon",
          "Bite Pokémon",
          "Tiny Racoon Pokémon",
          "Rush Pokémon",
          "Worm Pokémon",
          "Cocoon Pokémon",
          "Butterfly Pokémon",
          "Cocoon Pokémon",
          "Poison Moth Pokémon",
          "Water Weed Pokémon",
          "Jolly Pokémon",
          "Carefree Pokémon",
          "Acorn Pokémon",
          "Wily Pokémon",
          "Wickid Pokémon",
          "TinySwallow Pokémon",
          "Swallow Pokémon",
          "Seagull Pokémon",
          "Water Bird Pokémon",
          "Feeling Pokémon",
          "Emotion Pokémon",
          "Embrace Pokémon",
          "Pond Skater Pokémon",
          "Eyeball Pokémon",
          "Mushroom Pokémon",
          "Mushroom Pokémon",
          "Slacker Pokémon",
          "Wild Monkey Pokémon",
          "Lazy Pokémon",
          "Trainee Pokémon",
          "Ninja Pokémon",
          "Shed Pokémon",
          "Whisper Pokémon",
          "Big Voice Pokémon",
          "Loud Noise Pokémon",
          "Guts Pokémon",
          "Arm Thrust Pokémon",
          "Polka Dot Pokémon",
          "Compass Pokémon",
          "Kitten Pokémon",
          "Prim Pokémon",
          "Darkness Pokémon",
          "Deceiver Pokémon",
          "Iron Armor Pokémon",
          "Iron Armor Pokémon",
          "Iron Armor Pokémon",
          "Meditate Pokémon",
          "Meditate Pokémon",
          "Lightning Pokémon",
          "Discharge Pokémon",
          "Cheering Pokémon",
          "Cheering Pokémon",
          "Firefly Pokémon",
          "Firefly Pokémon",
          "Thorn Pokémon",
          "Stomach Pokémon",
          "Poison Bag Pokémon",
          "Savage Pokémon",
          "Brutal Pokémon",
          "Ball Whale Pokémon",
          "Float Whale Pokémon",
          "Numb Pokémon",
          "Eruption Pokémon",
          "Coal Pokémon",
          "Bounce Pokémon",
          "Manipulate Pokémon",
          "Spot Panda Pokémon",
          "Ant Pit Pokémon",
          "Vibration Pokémon",
          "Mystic Pokémon",
          "Cactus Pokémon",
          "Scarecrow Pokémon",
          "Cotton Bird Pokémon",
          "Humming Pokémon",
          "Cat Ferret Pokémon",
          "Fang Snake Pokémon",
          "Meteorite Pokémon",
          "Meteorite Pokémon",
          "Whiskers Pokémon",
          "Whiskers Pokémon",
          "Ruffian Pokémon",
          "Rogue Pokémon",
          "Clay Doll Pokémon",
          "Clay Doll Pokémon",
          "Sea Lily Pokémon",
          "Barnacle Pokémon",
          "Old Shrimp Pokémon",
          "Plate Pokémon",
          "Fish Pokémon",
          "Tender Pokémon",
          "Weather Pokémon",
          "Color Swap Pokémon",
          "Puppet Pokémon",
          "Marionette Pokémon",
          "Requiem Pokémon",
          "Beckon Pokémon",
          "Fruit Pokémon",
          "Wind Chime Pokémon",
          "Disaster Pokémon",
          "Bright Pokémon",
          "Snow Hat Pokémon",
          "Face Pokémon",
          "Clap Pokémon",
          "Ball Roll Pokémon",
          "Ice Break Pokémon",
          "Bivalve Pokémon",
          "Deep Sea Pokémon",
          "South Sea Pokémon",
          "Longevity Pokémon",
          "Rendezvous Pokémon",
          "Rock Head Pokémon",
          "Endurance Pokémon",
          "Dragon Pokémon",
          "Iron Ball Pokémon",
          "Iron Claw Pokémon",
          "Iron Leg Pokémon",
          "Rock Peak Pokémon",
          "Iceberg Pokémon",
          "Iron Pokémon",
          "Eon Pokémon",
          "Eon Pokémon",
          "Sea Basin Pokémon",
          "Continent Pokémon",
          "Sky High Pokémon",
          "Wish Pokémon",
          "DNA Pokémon",
          "Tiny Leaf Pokémon",
          "Grove Pokémon",
          "Continent Pokémon",
          "Chimp Pokémon",
          "Playful Pokémon",
          "Flame Pokémon",
          "Penguin Pokémon",
          "Penguin Pokémon",
          "Emperor Pokémon",
          "Starling Pokémon",
          "Starling Pokémon",
          "Predator Pokémon",
          "Plump Mouse Pokémon",
          "Beaver Pokémon",
          "Cricket Pokémon",
          "Cricket Pokémon",
          "Flash Pokémon",
          "Spark Pokémon",
          "Gleam Eyes Pokémon",
          "Bud Pokémon",
          "Bouquet Pokémon",
          "Head Butt Pokémon",
          "Head Butt Pokémon",
          "Shield Pokémon",
          "Shield Pokémon",
          "Bagworm Pokémon",
          "Bagworm Pokémon",
          "Moth Pokémon",
          "Tiny Bee Pokémon",
          "Beehive Pokémon",
          "EleSquirrel Pokémon",
          "Sea Weasel Pokémon",
          "Sea Weasel Pokémon",
          "Cherry Pokémon",
          "Blossom Pokémon",
          "Sea Slug Pokémon",
          "Sea Slug Pokémon",
          "Long Tail Pokémon",
          "Balloon Pokémon",
          "Blimp Pokémon",
          "Rabbit Pokémon",
          "Rabbit Pokémon",
          "Magical Pokémon",
          "Big Boss Pokémon",
          "Catty Pokémon",
          "Tiger Cat Pokémon",
          "Bell Pokémon",
          "Skunk Pokémon",
          "Skunk Pokémon",
          "Bronze Pokémon",
          "Bronze Bell Pokémon",
          "Bonsai Pokémon",
          "Mime Pokémon",
          "Playhouse Pokémon",
          "Music Note Pokémon",
          "Forbidden Pokémon",
          "Land Shark Pokémon",
          "Cave Pokémon",
          "Mach Pokémon",
          "Big Eater Pokémon",
          "Emanation Pokémon",
          "Aura Pokémon",
          "Hippo Pokémon",
          "Heavyweight Pokémon",
          "Scorpion Pokémon",
          "Ogre Scorp Pokémon",
          "Toxic Mouth Pokémon",
          "Toxic Mouth Pokémon",
          "Bug Catcher Pokémon",
          "Wing Fish Pokémon",
          "Neon Pokémon",
          "Kite Pokémon",
          "Frosted Tree Pokémon",
          "Frosted Tree Pokémon",
          "Sharp Claw Pokémon",
          "Magnet Area Pokémon",
          "Licking Pokémon",
          "Drill Pokémon",
          "Vine Pokémon",
          "Thunderbolt Pokémon",
          "Blast Pokémon",
          "Jubilee Pokémon",
          "Ogre Darner Pokémon",
          "Verdant Pokémon",
          "Fresh Snow Pokémon",
          "Fang Scorp Pokémon",
          "Twin Tusk Pokémon",
          "Virtual Pokémon",
          "Blade Pokémon",
          "Compass Pokémon",
          "Gripper Pokémon",
          "Snow Land Pokémon",
          "Plasma Pokémon",
          "Knowledge Pokémon",
          "Emotion Pokémon",
          "Willpower Pokémon",
          "Temporal Pokémon",
          "Spatial Pokémon",
          "Lava Dome Pokémon",
          "Colossal Pokémon",
          "Renegade Pokémon",
          "Lunar Pokémon",
          "Sea Drifter Pokémon",
          "Seafaring Pokémon",
          "Pitch-Black Pokémon",
          "Gratitude Pokémon",
          "Alpha Pokémon",
          "Victory Pokémon",
          "Grass Snake Pokémon",
          "Grass Snake Pokémon",
          "Regal Pokémon",
          "Fire Pig Pokémon",
          "Fire Pig Pokémon",
          "Mega Fire Pig Pokémon",
          "Sea Otter Pokémon",
          "Discipline Pokémon",
          "Formidable Pokémon",
          "Scout Pokémon",
          "Lookout Pokémon",
          "Puppy Pokémon",
          "Loyal Dog Pokémon",
          "Big-Hearted Pokémon",
          "Devious Pokémon",
          "Cruel Pokémon",
          "Grass Monkey Pokémon",
          "Thorn Monkey Pokémon",
          "High Temp Pokémon",
          "Ember Pokémon",
          "Spray Pokémon",
          "Geyser Pokémon",
          "Dream Eater Pokémon",
          "Drowsing Pokémon",
          "Tiny Pigeon Pokémon",
          "Wild Pigeon Pokémon",
          "Proud Pokémon",
          "Electrified Pokémon",
          "Thunderbolt Pokémon",
          "Mantle Pokémon",
          "Ore Pokémon",
          "Compressed Pokémon",
          "Bat Pokémon",
          "Courting Pokémon",
          "Mole Pokémon",
          "Subterrene Pokémon",
          "Hearing Pokémon",
          "Muscular Pokémon",
          "Muscular Pokémon",
          "Muscular Pokémon",
          "Tadpole Pokémon",
          "Vibration Pokémon",
          "Vibration Pokémon",
          "Judo Pokémon",
          "Karate Pokémon",
          "Sewing Pokémon",
          "Leaf-Wrapped Pokémon",
          "Nurturing Pokémon",
          "Centipede Pokémon",
          "Curlipede Pokémon",
          "Megapede Pokémon",
          "Cotton Puff Pokémon",
          "Windveiled Pokémon",
          "Bulb Pokémon",
          "Flowering Pokémon",
          "Hostile Pokémon",
          "Desert Croc Pokémon",
          "Desert Croc Pokémon",
          "Intimidation Pokémon",
          "Zen Charm Pokémon",
          "Blazing Pokémon",
          "Cactus Pokémon",
          "Rock Inn Pokémon",
          "Stone Home Pokémon",
          "Shedding Pokémon",
          "Hoodlum Pokémon",
          "Avianoid Pokémon",
          "Spirit Pokémon",
          "Coffin Pokémon",
          "Prototurtle Pokémon",
          "Prototurtle Pokémon",
          "First Bird Pokémon",
          "First Bird Pokémon",
          "Trash Bag Pokémon",
          "Trash Heap Pokémon",
          "Tricky Fox Pokémon",
          "Illusion Fox Pokémon",
          "Chinchilla Pokémon",
          "Scarf Pokémon",
          "Fixation Pokémon",
          "Manipulate Pokémon",
          "Astral Body Pokémon",
          "Cell Pokémon",
          "Mitosis Pokémon",
          "Multiplying Pokémon",
          "Water Bird Pokémon",
          "White Bird Pokémon",
          "Fresh Snow Pokémon",
          "Icy Snow Pokémon",
          "Snowstorm Pokémon",
          "Season Pokémon",
          "Season Pokémon",
          "Sky Squirrel Pokémon",
          "Clamping Pokémon",
          "Cavalry Pokémon",
          "Mushroom Pokémon",
          "Mushroom Pokémon",
          "Floating Pokémon",
          "Floating Pokémon",
          "Caring Pokémon",
          "Attaching Pokémon",
          "EleSpider Pokémon",
          "Thorn Seed Pokémon",
          "Thorn Pod Pokémon",
          "Gear Pokémon",
          "Gear Pokémon",
          "Gear Pokémon",
          "EleFish Pokémon",
          "EleFish Pokémon",
          "EleFish Pokémon",
          "Cerebral Pokémon",
          "Cerebral Pokémon",
          "Candle Pokémon",
          "Lamp Pokémon",
          "Luring Pokémon",
          "Tusk Pokémon",
          "Axe Jaw Pokémon",
          "Axe Jaw Pokémon",
          "Chill Pokémon",
          "Freezing Pokémon",
          "Crystallizing Pokémon",
          "Snail Pokémon",
          "Shell Out Pokémon",
          "Trap Pokémon",
          "Martial Arts Pokémon",
          "Martial Arts Pokémon",
          "Cave Pokémon",
          "Automaton Pokémon",
          "Automaton Pokémon",
          "Sharp Blade Pokémon",
          "Sword Blade Pokémon",
          "Bash Buffalo Pokémon",
          "Eaglet Pokémon",
          "Valiant Pokémon",
          "Diapered Pokémon",
          "Bone Vulture Pokémon",
          "Anteater Pokémon",
          "Iron Ant Pokémon",
          "Irate Pokémon",
          "Hostile Pokémon",
          "Brutal Pokémon",
          "Torch Pokémon",
          "Sun Pokémon",
          "Iron Will Pokémon",
          "Cavern Pokémon",
          "Grassland Pokémon",
          "Cyclone Pokémon",
          "Bolt Strike Pokémon",
          "Vast White Pokémon",
          "Deep Black Pokémon",
          "Abundance Pokémon",
          "Boundary Pokémon",
          "Colt Pokémon",
          "Melody Pokémon",
          "Paleozoic Pokémon",
          "Spiky Nut Pokémon",
          "Spiny Armor Pokémon",
          "Spiny Armor Pokémon",
          "Fox Pokémon",
          "Fox Pokémon",
          "Fox Pokémon",
          "Bubble Frog Pokémon",
          "Bubble Frog Pokémon",
          "Ninja Pokémon",
          "Digging Pokémon",
          "Digging Pokémon",
          "Tiny Robin Pokémon",
          "Ember Pokémon",
          "Scorching Pokémon",
          "Scatterdust Pokémon",
          "Scatterdust Pokémon",
          "Scale Pokémon",
          "Lion Cub Pokémon",
          "Royal Pokémon",
          "Single Bloom Pokémon",
          "Fairy Pokémon",
          "Garden Pokémon",
          "Mount Pokémon",
          "Mount Pokémon",
          "Playful Pokémon",
          "Daunting Pokémon",
          "Poodle Pokémon",
          "Restraint Pokémon",
          "Constraint Pokémon",
          "Sword Pokémon",
          "Sword Pokémon",
          "Royal Sword Pokémon",
          "Perfume Pokémon",
          "Fragrance Pokémon",
          "Cotton Candy Pokémon",
          "Meringue Pokémon",
          "Revolving Pokémon",
          "Overturning Pokémon",
          "Two-Handed Pokémon",
          "Collective Pokémon",
          "Mock Kelp Pokémon",
          "Mock Kelp Pokémon",
          "Water Gun Pokémon",
          "Howitzer Pokémon",
          "Generator Pokémon",
          "Generator Pokémon",
          "Royal Heir Pokémon",
          "Despot Pokémon",
          "Tundra Pokémon",
          "Tundra Pokémon",
          "Intertwining Pokémon",
          "Wrestling Pokémon",
          "Antenna Pokémon",
          "Jewel Pokémon",
          "Soft Tissue Pokémon",
          "Soft Tissue Pokémon",
          "Dragon Pokémon",
          "Key Ring Pokémon",
          "Stump Pokémon",
          "Elder Tree Pokémon",
          "Pumpkin Pokémon",
          "Pumpkin Pokémon",
          "Ice Chunk Pokémon",
          "Iceberg Pokémon",
          "Sound Wave Pokémon",
          "Sound Wave Pokémon",
          "Life Pokémon",
          "Destruction Pokémon",
          "Order Pokémon",
          "Jewel Pokémon",
          "Mischief Pokémon (Confined)Djinn Pokémonn (Unbound)",
          "Steam Pokémon",
          "Grass Quill Pokémon",
          "Blade Quill Pokémon",
          "Arrow Quill Pokémon",
          "Fire Cat Pokémon",
          "Fire Cat Pokémon",
          "Heel Pokémon",
          "Sea Lion Pokémon",
          "Pop Star Pokémon",
          "Soloist Pokémon",
          "Woodpecker Pokémon",
          "Bugle Beak Pokémon",
          "Cannon Pokémon",
          "Loitering Pokémon",
          "Stakeout Pokémon",
          "Larva Pokémon",
          "Battery Pokémon",
          "Stag Beetle Pokémon",
          "Boxing Pokémon",
          "Woolly Crab Pokémon",
          "Dancing Pokémon",
          "Bee Fly Pokémon",
          "Bee Fly Pokémon",
          "Puppy Pokémon",
          "Wolf Pokémon",
          "Small Fry Pokémon",
          "Brutal Star Pokémon",
          "Brutal Star Pokémon",
          "Donkey Pokémon",
          "Draft Horse Pokémon",
          "Water Bubble Pokémon",
          "Water Bubble Pokémon",
          "Sickle Grass Pokémon",
          "Bloom Sickle Pokémon",
          "Illuminating Pokémon",
          "Illuminating Pokémon",
          "Toxic Lizard Pokémon",
          "Toxic Lizard Pokémon",
          "Flailing Pokémon",
          "Strong Arm Pokémon",
          "Fruit Pokémon",
          "Fruit Pokémon",
          "Fruit Pokémon",
          "Posy Picker Pokémon",
          "Sage Pokémon",
          "Teamwork Pokémon",
          "Turn Tail Pokémon",
          "Hard Scale Pokémon",
          "Sand Heap Pokémon",
          "Sand Castle Pokémon",
          "Sea Cucumber Pokémon",
          "Synthetic Pokémon",
          "Synthetic Pokémon",
          "Meteor Pokémon",
          "Drowsing Pokémon",
          "Blast Turtle Pokémon",
          "Roly-Poly Pokémon",
          "Disguise Pokémon",
          "Gnash Teeth Pokémon",
          "Placid Pokémon",
          "Sea Creeper Pokémon",
          "Scaly Pokémon",
          "Scaly Pokémon",
          "Scaly Pokémon",
          "Land Spirit Pokémon",
          "Land Spirit Pokémon",
          "Land Spirit Pokémon",
          "Land Spirit Pokémon",
          "Nebula Pokémon",
          "Protostar Pokémon",
          "Sunne Pokémon",
          "Moone Pokémon",
          "Parasite Pokémon",
          "Swollen Pokémon",
          "Lissome Pokémon",
          "Glowing Pokémon",
          "Launch Pokémon",
          "Drawn Sword Pokémon",
          "Junkivore Pokémon",
          "Prism Pokémon",
          "Artificial Pokémon"
         ],
         "xaxis": "x",
         "y": [
          1,
          1,
          1,
          1,
          1,
          1,
          1,
          1,
          1,
          1,
          1,
          1,
          1,
          1,
          1,
          1,
          1,
          1,
          1,
          1,
          1,
          1,
          1,
          1,
          1,
          1,
          1,
          1,
          1,
          1,
          1,
          1,
          1,
          1,
          1,
          1,
          1,
          1,
          1,
          1,
          1,
          1,
          1,
          1,
          1,
          1,
          1,
          1,
          1,
          1,
          1,
          1,
          1,
          1,
          1,
          1,
          1,
          1,
          1,
          1,
          1,
          1,
          1,
          1,
          1,
          1,
          1,
          1,
          1,
          1,
          1,
          1,
          1,
          1,
          1,
          1,
          1,
          1,
          1,
          1,
          1,
          1,
          1,
          1,
          1,
          1,
          1,
          1,
          1,
          1,
          1,
          1,
          1,
          1,
          1,
          1,
          1,
          1,
          1,
          1,
          1,
          1,
          1,
          1,
          1,
          1,
          1,
          1,
          1,
          1,
          1,
          1,
          1,
          1,
          1,
          1,
          1,
          1,
          1,
          1,
          1,
          1,
          1,
          1,
          1,
          1,
          1,
          1,
          1,
          1,
          1,
          1,
          1,
          1,
          1,
          1,
          1,
          1,
          1,
          1,
          1,
          1,
          1,
          1,
          1,
          1,
          1,
          1,
          1,
          1,
          1,
          1,
          1,
          1,
          1,
          1,
          1,
          1,
          1,
          1,
          1,
          1,
          1,
          1,
          1,
          1,
          1,
          1,
          1,
          1,
          1,
          1,
          1,
          1,
          1,
          1,
          1,
          1,
          1,
          1,
          1,
          1,
          1,
          1,
          1,
          1,
          1,
          1,
          1,
          1,
          1,
          1,
          1,
          1,
          1,
          1,
          1,
          1,
          1,
          1,
          1,
          1,
          1,
          1,
          1,
          1,
          1,
          1,
          1,
          1,
          1,
          1,
          1,
          1,
          1,
          1,
          1,
          1,
          1,
          1,
          1,
          1,
          1,
          1,
          1,
          1,
          1,
          1,
          1,
          1,
          1,
          1,
          1,
          1,
          1,
          1,
          1,
          1,
          1,
          1,
          1,
          1,
          1,
          1,
          1,
          1,
          1,
          1,
          1,
          1,
          1,
          1,
          1,
          1,
          1,
          1,
          1,
          1,
          1,
          1,
          1,
          1,
          1,
          1,
          1,
          1,
          1,
          1,
          1,
          1,
          1,
          1,
          1,
          1,
          1,
          1,
          1,
          1,
          1,
          1,
          1,
          1,
          1,
          1,
          1,
          1,
          1,
          1,
          1,
          1,
          1,
          1,
          1,
          1,
          1,
          1,
          1,
          1,
          1,
          1,
          1,
          1,
          1,
          1,
          1,
          1,
          1,
          1,
          1,
          1,
          1,
          1,
          1,
          1,
          1,
          1,
          1,
          1,
          1,
          1,
          1,
          1,
          1,
          1,
          1,
          1,
          1,
          1,
          1,
          1,
          1,
          1,
          1,
          1,
          1,
          1,
          1,
          1,
          1,
          1,
          1,
          1,
          1,
          1,
          1,
          1,
          1,
          1,
          1,
          1,
          1,
          1,
          1,
          1,
          1,
          1,
          1,
          1,
          1,
          1,
          1,
          1,
          1,
          1,
          1,
          1,
          1,
          1,
          1,
          1,
          1,
          1,
          1,
          1,
          1,
          1,
          1,
          1,
          1,
          1,
          1,
          1,
          1,
          1,
          1,
          1,
          1,
          1,
          1,
          1,
          1,
          1,
          1,
          1,
          1,
          1,
          1,
          1,
          1,
          1,
          1,
          1,
          1,
          1,
          1,
          1,
          1,
          1,
          1,
          1,
          1,
          1,
          1,
          1,
          1,
          1,
          1,
          1,
          1,
          1,
          1,
          1,
          1,
          1,
          1,
          1,
          1,
          1,
          1,
          1,
          1,
          1,
          1,
          1,
          1,
          1,
          1,
          1,
          1,
          1,
          1,
          1,
          1,
          1,
          1,
          1,
          1,
          1,
          1,
          1,
          1,
          1,
          1,
          1,
          1,
          1,
          1,
          1,
          1,
          1,
          1,
          1,
          1,
          1,
          1,
          1,
          1,
          1,
          1,
          1,
          1,
          1,
          1,
          1,
          1,
          1,
          1,
          1,
          1,
          1,
          1,
          1,
          1,
          1,
          1,
          1,
          1,
          1,
          1,
          1,
          1,
          1,
          1,
          1,
          1,
          1,
          1,
          1,
          1,
          1,
          1,
          1,
          1,
          1,
          1,
          1,
          1,
          1,
          1,
          1,
          1,
          1,
          1,
          1,
          1,
          1,
          1,
          1,
          1,
          1,
          1,
          1,
          1,
          1,
          1,
          1,
          1,
          1,
          1,
          1,
          1,
          1,
          1,
          1,
          1,
          1,
          1,
          1,
          1,
          1,
          1,
          1,
          1,
          1,
          1,
          1,
          1,
          1,
          1,
          1,
          1,
          1,
          1,
          1,
          1,
          1,
          1,
          1,
          1,
          1,
          1,
          1,
          1,
          1,
          1,
          1,
          1,
          1,
          1,
          1,
          1,
          1,
          1,
          1,
          1,
          1,
          1,
          1,
          1,
          1,
          1,
          1,
          1,
          1,
          1,
          1,
          1,
          1,
          1,
          1,
          1,
          1,
          1,
          1,
          1,
          1,
          1,
          1,
          1,
          1,
          1,
          1,
          1,
          1,
          1,
          1,
          1,
          1,
          1,
          1,
          1,
          1,
          1,
          1,
          1,
          1,
          1,
          1,
          1,
          1,
          1,
          1,
          1,
          1,
          1,
          1,
          1,
          1,
          1,
          1,
          1,
          1,
          1,
          1,
          1,
          1,
          1,
          1,
          1,
          1,
          1,
          1,
          1,
          1,
          1,
          1,
          1,
          1,
          1,
          1,
          1,
          1,
          1,
          1,
          1,
          1,
          1,
          1,
          1,
          1,
          1,
          1,
          1,
          1,
          1,
          1,
          1,
          1,
          1,
          1,
          1,
          1,
          1,
          1,
          1,
          1,
          1,
          1,
          1,
          1,
          1,
          1,
          1,
          1,
          1,
          1,
          1,
          1,
          1,
          1,
          1,
          1,
          1,
          1,
          1,
          1,
          1,
          1,
          1,
          1,
          1,
          1,
          1,
          1,
          1,
          1,
          1,
          1,
          1,
          1,
          1,
          1,
          1,
          1,
          1,
          1,
          1,
          1,
          1,
          1,
          1,
          1,
          1,
          1,
          1,
          1,
          1,
          1,
          1,
          1,
          1,
          1,
          1,
          1,
          1,
          1,
          1,
          1,
          1,
          1,
          1,
          1,
          1,
          1,
          1,
          1,
          1,
          1,
          1,
          1,
          1,
          1,
          1,
          1,
          1,
          1,
          1,
          1,
          1,
          1,
          1,
          1,
          1,
          1,
          1,
          1,
          1,
          1,
          1,
          1,
          1,
          1,
          1,
          1,
          1,
          1,
          1,
          1,
          1,
          1,
          1,
          1,
          1,
          1,
          1,
          1,
          1,
          1,
          1,
          1,
          1,
          1,
          1,
          1,
          1,
          1,
          1,
          1,
          1,
          1,
          1
         ],
         "yaxis": "y"
        }
       ],
       "layout": {
        "barmode": "relative",
        "legend": {
         "tracegroupgap": 0
        },
        "template": {
         "data": {
          "bar": [
           {
            "error_x": {
             "color": "#2a3f5f"
            },
            "error_y": {
             "color": "#2a3f5f"
            },
            "marker": {
             "line": {
              "color": "#E5ECF6",
              "width": 0.5
             },
             "pattern": {
              "fillmode": "overlay",
              "size": 10,
              "solidity": 0.2
             }
            },
            "type": "bar"
           }
          ],
          "barpolar": [
           {
            "marker": {
             "line": {
              "color": "#E5ECF6",
              "width": 0.5
             },
             "pattern": {
              "fillmode": "overlay",
              "size": 10,
              "solidity": 0.2
             }
            },
            "type": "barpolar"
           }
          ],
          "carpet": [
           {
            "aaxis": {
             "endlinecolor": "#2a3f5f",
             "gridcolor": "white",
             "linecolor": "white",
             "minorgridcolor": "white",
             "startlinecolor": "#2a3f5f"
            },
            "baxis": {
             "endlinecolor": "#2a3f5f",
             "gridcolor": "white",
             "linecolor": "white",
             "minorgridcolor": "white",
             "startlinecolor": "#2a3f5f"
            },
            "type": "carpet"
           }
          ],
          "choropleth": [
           {
            "colorbar": {
             "outlinewidth": 0,
             "ticks": ""
            },
            "type": "choropleth"
           }
          ],
          "contour": [
           {
            "colorbar": {
             "outlinewidth": 0,
             "ticks": ""
            },
            "colorscale": [
             [
              0,
              "#0d0887"
             ],
             [
              0.1111111111111111,
              "#46039f"
             ],
             [
              0.2222222222222222,
              "#7201a8"
             ],
             [
              0.3333333333333333,
              "#9c179e"
             ],
             [
              0.4444444444444444,
              "#bd3786"
             ],
             [
              0.5555555555555556,
              "#d8576b"
             ],
             [
              0.6666666666666666,
              "#ed7953"
             ],
             [
              0.7777777777777778,
              "#fb9f3a"
             ],
             [
              0.8888888888888888,
              "#fdca26"
             ],
             [
              1,
              "#f0f921"
             ]
            ],
            "type": "contour"
           }
          ],
          "contourcarpet": [
           {
            "colorbar": {
             "outlinewidth": 0,
             "ticks": ""
            },
            "type": "contourcarpet"
           }
          ],
          "heatmap": [
           {
            "colorbar": {
             "outlinewidth": 0,
             "ticks": ""
            },
            "colorscale": [
             [
              0,
              "#0d0887"
             ],
             [
              0.1111111111111111,
              "#46039f"
             ],
             [
              0.2222222222222222,
              "#7201a8"
             ],
             [
              0.3333333333333333,
              "#9c179e"
             ],
             [
              0.4444444444444444,
              "#bd3786"
             ],
             [
              0.5555555555555556,
              "#d8576b"
             ],
             [
              0.6666666666666666,
              "#ed7953"
             ],
             [
              0.7777777777777778,
              "#fb9f3a"
             ],
             [
              0.8888888888888888,
              "#fdca26"
             ],
             [
              1,
              "#f0f921"
             ]
            ],
            "type": "heatmap"
           }
          ],
          "heatmapgl": [
           {
            "colorbar": {
             "outlinewidth": 0,
             "ticks": ""
            },
            "colorscale": [
             [
              0,
              "#0d0887"
             ],
             [
              0.1111111111111111,
              "#46039f"
             ],
             [
              0.2222222222222222,
              "#7201a8"
             ],
             [
              0.3333333333333333,
              "#9c179e"
             ],
             [
              0.4444444444444444,
              "#bd3786"
             ],
             [
              0.5555555555555556,
              "#d8576b"
             ],
             [
              0.6666666666666666,
              "#ed7953"
             ],
             [
              0.7777777777777778,
              "#fb9f3a"
             ],
             [
              0.8888888888888888,
              "#fdca26"
             ],
             [
              1,
              "#f0f921"
             ]
            ],
            "type": "heatmapgl"
           }
          ],
          "histogram": [
           {
            "marker": {
             "pattern": {
              "fillmode": "overlay",
              "size": 10,
              "solidity": 0.2
             }
            },
            "type": "histogram"
           }
          ],
          "histogram2d": [
           {
            "colorbar": {
             "outlinewidth": 0,
             "ticks": ""
            },
            "colorscale": [
             [
              0,
              "#0d0887"
             ],
             [
              0.1111111111111111,
              "#46039f"
             ],
             [
              0.2222222222222222,
              "#7201a8"
             ],
             [
              0.3333333333333333,
              "#9c179e"
             ],
             [
              0.4444444444444444,
              "#bd3786"
             ],
             [
              0.5555555555555556,
              "#d8576b"
             ],
             [
              0.6666666666666666,
              "#ed7953"
             ],
             [
              0.7777777777777778,
              "#fb9f3a"
             ],
             [
              0.8888888888888888,
              "#fdca26"
             ],
             [
              1,
              "#f0f921"
             ]
            ],
            "type": "histogram2d"
           }
          ],
          "histogram2dcontour": [
           {
            "colorbar": {
             "outlinewidth": 0,
             "ticks": ""
            },
            "colorscale": [
             [
              0,
              "#0d0887"
             ],
             [
              0.1111111111111111,
              "#46039f"
             ],
             [
              0.2222222222222222,
              "#7201a8"
             ],
             [
              0.3333333333333333,
              "#9c179e"
             ],
             [
              0.4444444444444444,
              "#bd3786"
             ],
             [
              0.5555555555555556,
              "#d8576b"
             ],
             [
              0.6666666666666666,
              "#ed7953"
             ],
             [
              0.7777777777777778,
              "#fb9f3a"
             ],
             [
              0.8888888888888888,
              "#fdca26"
             ],
             [
              1,
              "#f0f921"
             ]
            ],
            "type": "histogram2dcontour"
           }
          ],
          "mesh3d": [
           {
            "colorbar": {
             "outlinewidth": 0,
             "ticks": ""
            },
            "type": "mesh3d"
           }
          ],
          "parcoords": [
           {
            "line": {
             "colorbar": {
              "outlinewidth": 0,
              "ticks": ""
             }
            },
            "type": "parcoords"
           }
          ],
          "pie": [
           {
            "automargin": true,
            "type": "pie"
           }
          ],
          "scatter": [
           {
            "fillpattern": {
             "fillmode": "overlay",
             "size": 10,
             "solidity": 0.2
            },
            "type": "scatter"
           }
          ],
          "scatter3d": [
           {
            "line": {
             "colorbar": {
              "outlinewidth": 0,
              "ticks": ""
             }
            },
            "marker": {
             "colorbar": {
              "outlinewidth": 0,
              "ticks": ""
             }
            },
            "type": "scatter3d"
           }
          ],
          "scattercarpet": [
           {
            "marker": {
             "colorbar": {
              "outlinewidth": 0,
              "ticks": ""
             }
            },
            "type": "scattercarpet"
           }
          ],
          "scattergeo": [
           {
            "marker": {
             "colorbar": {
              "outlinewidth": 0,
              "ticks": ""
             }
            },
            "type": "scattergeo"
           }
          ],
          "scattergl": [
           {
            "marker": {
             "colorbar": {
              "outlinewidth": 0,
              "ticks": ""
             }
            },
            "type": "scattergl"
           }
          ],
          "scattermapbox": [
           {
            "marker": {
             "colorbar": {
              "outlinewidth": 0,
              "ticks": ""
             }
            },
            "type": "scattermapbox"
           }
          ],
          "scatterpolar": [
           {
            "marker": {
             "colorbar": {
              "outlinewidth": 0,
              "ticks": ""
             }
            },
            "type": "scatterpolar"
           }
          ],
          "scatterpolargl": [
           {
            "marker": {
             "colorbar": {
              "outlinewidth": 0,
              "ticks": ""
             }
            },
            "type": "scatterpolargl"
           }
          ],
          "scatterternary": [
           {
            "marker": {
             "colorbar": {
              "outlinewidth": 0,
              "ticks": ""
             }
            },
            "type": "scatterternary"
           }
          ],
          "surface": [
           {
            "colorbar": {
             "outlinewidth": 0,
             "ticks": ""
            },
            "colorscale": [
             [
              0,
              "#0d0887"
             ],
             [
              0.1111111111111111,
              "#46039f"
             ],
             [
              0.2222222222222222,
              "#7201a8"
             ],
             [
              0.3333333333333333,
              "#9c179e"
             ],
             [
              0.4444444444444444,
              "#bd3786"
             ],
             [
              0.5555555555555556,
              "#d8576b"
             ],
             [
              0.6666666666666666,
              "#ed7953"
             ],
             [
              0.7777777777777778,
              "#fb9f3a"
             ],
             [
              0.8888888888888888,
              "#fdca26"
             ],
             [
              1,
              "#f0f921"
             ]
            ],
            "type": "surface"
           }
          ],
          "table": [
           {
            "cells": {
             "fill": {
              "color": "#EBF0F8"
             },
             "line": {
              "color": "white"
             }
            },
            "header": {
             "fill": {
              "color": "#C8D4E3"
             },
             "line": {
              "color": "white"
             }
            },
            "type": "table"
           }
          ]
         },
         "layout": {
          "annotationdefaults": {
           "arrowcolor": "#2a3f5f",
           "arrowhead": 0,
           "arrowwidth": 1
          },
          "autotypenumbers": "strict",
          "coloraxis": {
           "colorbar": {
            "outlinewidth": 0,
            "ticks": ""
           }
          },
          "colorscale": {
           "diverging": [
            [
             0,
             "#8e0152"
            ],
            [
             0.1,
             "#c51b7d"
            ],
            [
             0.2,
             "#de77ae"
            ],
            [
             0.3,
             "#f1b6da"
            ],
            [
             0.4,
             "#fde0ef"
            ],
            [
             0.5,
             "#f7f7f7"
            ],
            [
             0.6,
             "#e6f5d0"
            ],
            [
             0.7,
             "#b8e186"
            ],
            [
             0.8,
             "#7fbc41"
            ],
            [
             0.9,
             "#4d9221"
            ],
            [
             1,
             "#276419"
            ]
           ],
           "sequential": [
            [
             0,
             "#0d0887"
            ],
            [
             0.1111111111111111,
             "#46039f"
            ],
            [
             0.2222222222222222,
             "#7201a8"
            ],
            [
             0.3333333333333333,
             "#9c179e"
            ],
            [
             0.4444444444444444,
             "#bd3786"
            ],
            [
             0.5555555555555556,
             "#d8576b"
            ],
            [
             0.6666666666666666,
             "#ed7953"
            ],
            [
             0.7777777777777778,
             "#fb9f3a"
            ],
            [
             0.8888888888888888,
             "#fdca26"
            ],
            [
             1,
             "#f0f921"
            ]
           ],
           "sequentialminus": [
            [
             0,
             "#0d0887"
            ],
            [
             0.1111111111111111,
             "#46039f"
            ],
            [
             0.2222222222222222,
             "#7201a8"
            ],
            [
             0.3333333333333333,
             "#9c179e"
            ],
            [
             0.4444444444444444,
             "#bd3786"
            ],
            [
             0.5555555555555556,
             "#d8576b"
            ],
            [
             0.6666666666666666,
             "#ed7953"
            ],
            [
             0.7777777777777778,
             "#fb9f3a"
            ],
            [
             0.8888888888888888,
             "#fdca26"
            ],
            [
             1,
             "#f0f921"
            ]
           ]
          },
          "colorway": [
           "#636efa",
           "#EF553B",
           "#00cc96",
           "#ab63fa",
           "#FFA15A",
           "#19d3f3",
           "#FF6692",
           "#B6E880",
           "#FF97FF",
           "#FECB52"
          ],
          "font": {
           "color": "#2a3f5f"
          },
          "geo": {
           "bgcolor": "white",
           "lakecolor": "white",
           "landcolor": "#E5ECF6",
           "showlakes": true,
           "showland": true,
           "subunitcolor": "white"
          },
          "hoverlabel": {
           "align": "left"
          },
          "hovermode": "closest",
          "mapbox": {
           "style": "light"
          },
          "paper_bgcolor": "white",
          "plot_bgcolor": "#E5ECF6",
          "polar": {
           "angularaxis": {
            "gridcolor": "white",
            "linecolor": "white",
            "ticks": ""
           },
           "bgcolor": "#E5ECF6",
           "radialaxis": {
            "gridcolor": "white",
            "linecolor": "white",
            "ticks": ""
           }
          },
          "scene": {
           "xaxis": {
            "backgroundcolor": "#E5ECF6",
            "gridcolor": "white",
            "gridwidth": 2,
            "linecolor": "white",
            "showbackground": true,
            "ticks": "",
            "zerolinecolor": "white"
           },
           "yaxis": {
            "backgroundcolor": "#E5ECF6",
            "gridcolor": "white",
            "gridwidth": 2,
            "linecolor": "white",
            "showbackground": true,
            "ticks": "",
            "zerolinecolor": "white"
           },
           "zaxis": {
            "backgroundcolor": "#E5ECF6",
            "gridcolor": "white",
            "gridwidth": 2,
            "linecolor": "white",
            "showbackground": true,
            "ticks": "",
            "zerolinecolor": "white"
           }
          },
          "shapedefaults": {
           "line": {
            "color": "#2a3f5f"
           }
          },
          "ternary": {
           "aaxis": {
            "gridcolor": "white",
            "linecolor": "white",
            "ticks": ""
           },
           "baxis": {
            "gridcolor": "white",
            "linecolor": "white",
            "ticks": ""
           },
           "bgcolor": "#E5ECF6",
           "caxis": {
            "gridcolor": "white",
            "linecolor": "white",
            "ticks": ""
           }
          },
          "title": {
           "x": 0.05
          },
          "xaxis": {
           "automargin": true,
           "gridcolor": "white",
           "linecolor": "white",
           "ticks": "",
           "title": {
            "standoff": 15
           },
           "zerolinecolor": "white",
           "zerolinewidth": 2
          },
          "yaxis": {
           "automargin": true,
           "gridcolor": "white",
           "linecolor": "white",
           "ticks": "",
           "title": {
            "standoff": 15
           },
           "zerolinecolor": "white",
           "zerolinewidth": 2
          }
         }
        },
        "title": {
         "text": "Count of Classfication"
        },
        "xaxis": {
         "anchor": "y",
         "domain": [
          0,
          1
         ],
         "title": {
          "text": "classfication"
         }
        },
        "yaxis": {
         "anchor": "x",
         "domain": [
          0,
          1
         ],
         "title": {
          "text": "count"
         }
        }
       }
      }
     },
     "metadata": {},
     "output_type": "display_data"
    }
   ],
   "source": [
    "fig = px.bar(\n",
    "    df,\n",
    "    x=\"classfication\",\n",
    "    title=\"Count of Classfication\",\n",
    ")\n",
    "fig.show()\n"
   ]
  },
  {
   "cell_type": "markdown",
   "id": "028f860a",
   "metadata": {},
   "source": [
    "#### Des statistiques descriptives d’au moins 4 variables numériques"
   ]
  },
  {
   "cell_type": "code",
   "execution_count": 75,
   "id": "b35e5dfc",
   "metadata": {},
   "outputs": [
    {
     "name": "stdout",
     "output_type": "stream",
     "text": [
      "Number of unique values in attack variable\n"
     ]
    },
    {
     "data": {
      "text/plain": [
       "114"
      ]
     },
     "execution_count": 75,
     "metadata": {},
     "output_type": "execute_result"
    }
   ],
   "source": [
    "print(\"Number of unique values in attack variable\")\n",
    "df[\"attack\"].nunique()\n"
   ]
  },
  {
   "cell_type": "code",
   "execution_count": 79,
   "id": "1e6218ac",
   "metadata": {},
   "outputs": [
    {
     "name": "stdout",
     "output_type": "stream",
     "text": [
      "Average speed\n",
      "66.33\n"
     ]
    }
   ],
   "source": [
    "print(\"Average speed\")\n",
    "print(df[\"speed\"].mean().round(2))\n"
   ]
  },
  {
   "cell_type": "code",
   "execution_count": 84,
   "id": "7391c853",
   "metadata": {},
   "outputs": [
    {
     "name": "stdout",
     "output_type": "stream",
     "text": [
      "Mediane defense\n",
      "70.0\n",
      "\n",
      "Min defense\n",
      "5\n",
      "\n",
      "Max defense\n",
      "230\n"
     ]
    }
   ],
   "source": [
    "print(\"Mediane defense\")\n",
    "print(df[\"defense\"].median())\n",
    "\n",
    "print(\"\\nMin defense\")\n",
    "print(df[\"defense\"].min())\n",
    "print(\"\\nMax defense\")\n",
    "print(df[\"defense\"].max())"
   ]
  },
  {
   "cell_type": "code",
   "execution_count": null,
   "id": "06f67ec9",
   "metadata": {},
   "outputs": [
    {
     "name": "stdout",
     "output_type": "stream",
     "text": [
      "\n",
      "Standard deviation of experience growth\n",
      "19.59894787489236\n"
     ]
    }
   ],
   "source": [
    "print(\"\\nStandard deviation of base happiness\")\n",
    "print(df[\"base_happiness\"].std())"
   ]
  },
  {
   "cell_type": "code",
   "execution_count": 170,
   "id": "c592e2df",
   "metadata": {},
   "outputs": [
    {
     "name": "stderr",
     "output_type": "stream",
     "text": [
      "/var/folders/2p/6lgdtw2j5m71bbczwv95n3540000gn/T/ipykernel_19980/3719498882.py:2: FutureWarning:\n",
      "\n",
      "\n",
      "\n",
      "Setting a gradient palette using color= is deprecated and will be removed in v0.14.0. Set `palette='dark:red'` for the same effect.\n",
      "\n",
      "\n"
     ]
    },
    {
     "data": {
      "image/png": "[encoded data removed]",
      "text/plain": [
       "<Figure size 1200x500 with 1 Axes>"
      ]
     },
     "metadata": {},
     "output_type": "display_data"
    }
   ],
   "source": [
    "plt.figure(figsize=(12, 5))\n",
    "sns.countplot(x=\"type2\", data=df, color=\"red\", hue=\"type2\", legend=False)\n",
    "plt.title(\"Barplot\")\n",
    "plt.xlabel(\"Type secondaire\")\n",
    "plt.ylabel(\"Nombre d’individus\")\n",
    "plt.grid(axis='y')\n",
    "plt.xticks(rotation=45, ha='right')\n",
    "plt.tight_layout()\n",
    "plt.show()"
   ]
  },
  {
   "cell_type": "code",
   "execution_count": 169,
   "id": "87e0e3a8",
   "metadata": {},
   "outputs": [
    {
     "name": "stderr",
     "output_type": "stream",
     "text": [
      "/var/folders/2p/6lgdtw2j5m71bbczwv95n3540000gn/T/ipykernel_19980/3299084173.py:13: FutureWarning:\n",
      "\n",
      "\n",
      "\n",
      "Setting a gradient palette using color= is deprecated and will be removed in v0.14.0. Set `palette='dark:red'` for the same effect.\n",
      "\n",
      "\n"
     ]
    },
    {
     "data": {
      "image/png": "[encoded data removed]",
      "text/plain": [
       "<Figure size 1200x500 with 1 Axes>"
      ]
     },
     "metadata": {},
     "output_type": "display_data"
    }
   ],
   "source": [
    "import ast\n",
    "\n",
    "abilities = df[\"abilities\"].tolist()\n",
    "list_of_abilities = []\n",
    "\n",
    "for set_of_abilities in abilities:\n",
    "  for ability in ast.literal_eval(set_of_abilities):\n",
    "    list_of_abilities.append(ability)\n",
    "\n",
    "df_abilities = pd.DataFrame(list_of_abilities, columns=[\"ability\"])\n",
    "\n",
    "plt.figure(figsize=(12, 5))\n",
    "sns.countplot(x=\"ability\", data=df_abilities, color=\"red\", hue=\"ability\", legend=False)\n",
    "plt.title(\"Barplot\")\n",
    "plt.xlabel(\"Ability\")\n",
    "plt.ylabel(\"Nombre d’individus\")\n",
    "plt.xticks(fontsize=3)\n",
    "plt.grid(axis='y')\n",
    "plt.xticks(rotation=45, ha='right')\n",
    "plt.tight_layout()\n",
    "plt.show()"
   ]
  },
  {
   "cell_type": "markdown",
   "id": "92fbf3b3",
   "metadata": {},
   "source": [
    "### **Analyse multivariée**\n",
    "<hr>"
   ]
  },
  {
   "cell_type": "markdown",
   "id": "d078a308",
   "metadata": {},
   "source": [
    "#### Deux visualisations présentant deux variables numériques"
   ]
  },
  {
   "cell_type": "code",
   "execution_count": 168,
   "id": "91a5de16",
   "metadata": {},
   "outputs": [
    {
     "data": {
      "image/png": "[encoded data removed]",
      "text/plain": [
       "<Figure size 800x500 with 1 Axes>"
      ]
     },
     "metadata": {},
     "output_type": "display_data"
    }
   ],
   "source": [
    "plt.figure(figsize=(8, 5))\n",
    "sns.regplot(data=df, x=\"speed\", y=\"weight_kg\", color=\"red\")\n",
    "plt.title(\"Histogramme\")\n",
    "plt.xlabel(\"Speed\")\n",
    "plt.ylabel(\"Weight\")\n",
    "plt.grid(True)\n",
    "plt.show()"
   ]
  },
  {
   "cell_type": "markdown",
   "id": "10a1834a",
   "metadata": {},
   "source": [
    "Comme on peux voir ci-dessus, les plus rapides sont léger mais les plus lent ne sont pas forcément les plus lourd. La majorité des individus sont assez légers."
   ]
  },
  {
   "cell_type": "code",
   "execution_count": 166,
   "id": "053fe1e1",
   "metadata": {},
   "outputs": [
    {
     "data": {
      "image/png": "[encoded data removed]",
      "text/plain": [
       "<Figure size 800x500 with 1 Axes>"
      ]
     },
     "metadata": {},
     "output_type": "display_data"
    }
   ],
   "source": [
    "plt.figure(figsize=(8, 5))\n",
    "sns.lineplot(data=df, x=\"against_fire\", y=\"against_ice\", color=\"red\")\n",
    "plt.title(\"Histogramme\")\n",
    "plt.xlabel(\"Against fire\")\n",
    "plt.ylabel(\"Against ice\")\n",
    "plt.grid(True)\n",
    "plt.show()"
   ]
  },
  {
   "cell_type": "markdown",
   "id": "7e0bdd7a",
   "metadata": {},
   "source": [
    "Les individus qui ne contre pas beaucoups le feu ou la glace sont assez faible générable dans les autres domaines"
   ]
  },
  {
   "cell_type": "markdown",
   "id": "fd3f4f42",
   "metadata": {},
   "source": [
    "### Deux visualisations présentant deux variables catégorielles"
   ]
  },
  {
   "cell_type": "code",
   "execution_count": 185,
   "id": "199e0973",
   "metadata": {},
   "outputs": [
    {
     "data": {
      "image/png": "[encoded data removed]",
      "text/plain": [
       "<Figure size 1000x600 with 1 Axes>"
      ]
     },
     "metadata": {},
     "output_type": "display_data"
    }
   ],
   "source": [
    "plt.figure(figsize=(10, 6))\n",
    "sns.histplot(x='type1', y=\"type2\", data=df, color=\"red\")\n",
    "plt.title(\"Répartition des Abilities par Catégorie\")\n",
    "plt.xlabel(\"Ability\")\n",
    "plt.ylabel(\"Nombre d'Individus\")\n",
    "plt.xticks(rotation=45, ha='right')\n",
    "plt.tight_layout()\n",
    "plt.show()"
   ]
  },
  {
   "cell_type": "code",
   "execution_count": 191,
   "id": "16edbf24",
   "metadata": {},
   "outputs": [
    {
     "data": {
      "application/vnd.plotly.v1+json": {
       "config": {
        "plotlyServerURL": "https://plot.ly"
       },
       "data": [
        {
         "alignmentgroup": "True",
         "hovertemplate": "classfication=Seed Pokémon<br>type1=%{x}<br>count=%{y}<extra></extra>",
         "legendgroup": "Seed Pokémon",
         "marker": {
          "color": "#636efa",
          "pattern": {
           "shape": ""
          }
         },
         "name": "Seed Pokémon",
         "offsetgroup": "Seed Pokémon",
         "orientation": "v",
         "showlegend": true,
         "textposition": "auto",
         "type": "bar",
         "x": [
          "grass",
          "grass",
          "grass",
          "grass"
         ],
         "xaxis": "x",
         "y": [
          1,
          1,
          1,
          1
         ],
         "yaxis": "y"
        },
        {
         "alignmentgroup": "True",
         "hovertemplate": "classfication=Lizard Pokémon<br>type1=%{x}<br>count=%{y}<extra></extra>",
         "legendgroup": "Lizard Pokémon",
         "marker": {
          "color": "#EF553B",
          "pattern": {
           "shape": ""
          }
         },
         "name": "Lizard Pokémon",
         "offsetgroup": "Lizard Pokémon",
         "orientation": "v",
         "showlegend": true,
         "textposition": "auto",
         "type": "bar",
         "x": [
          "fire"
         ],
         "xaxis": "x",
         "y": [
          1
         ],
         "yaxis": "y"
        },
        {
         "alignmentgroup": "True",
         "hovertemplate": "classfication=Flame Pokémon<br>type1=%{x}<br>count=%{y}<extra></extra>",
         "legendgroup": "Flame Pokémon",
         "marker": {
          "color": "#00cc96",
          "pattern": {
           "shape": ""
          }
         },
         "name": "Flame Pokémon",
         "offsetgroup": "Flame Pokémon",
         "orientation": "v",
         "showlegend": true,
         "textposition": "auto",
         "type": "bar",
         "x": [
          "fire",
          "fire",
          "fire",
          "fire",
          "fire"
         ],
         "xaxis": "x",
         "y": [
          1,
          1,
          1,
          1,
          1
         ],
         "yaxis": "y"
        },
        {
         "alignmentgroup": "True",
         "hovertemplate": "classfication=Tiny Turtle Pokémon<br>type1=%{x}<br>count=%{y}<extra></extra>",
         "legendgroup": "Tiny Turtle Pokémon",
         "marker": {
          "color": "#ab63fa",
          "pattern": {
           "shape": ""
          }
         },
         "name": "Tiny Turtle Pokémon",
         "offsetgroup": "Tiny Turtle Pokémon",
         "orientation": "v",
         "showlegend": true,
         "textposition": "auto",
         "type": "bar",
         "x": [
          "water"
         ],
         "xaxis": "x",
         "y": [
          1
         ],
         "yaxis": "y"
        },
        {
         "alignmentgroup": "True",
         "hovertemplate": "classfication=Turtle Pokémon<br>type1=%{x}<br>count=%{y}<extra></extra>",
         "legendgroup": "Turtle Pokémon",
         "marker": {
          "color": "#FFA15A",
          "pattern": {
           "shape": ""
          }
         },
         "name": "Turtle Pokémon",
         "offsetgroup": "Turtle Pokémon",
         "orientation": "v",
         "showlegend": true,
         "textposition": "auto",
         "type": "bar",
         "x": [
          "water"
         ],
         "xaxis": "x",
         "y": [
          1
         ],
         "yaxis": "y"
        },
        {
         "alignmentgroup": "True",
         "hovertemplate": "classfication=Shellfish Pokémon<br>type1=%{x}<br>count=%{y}<extra></extra>",
         "legendgroup": "Shellfish Pokémon",
         "marker": {
          "color": "#19d3f3",
          "pattern": {
           "shape": ""
          }
         },
         "name": "Shellfish Pokémon",
         "offsetgroup": "Shellfish Pokémon",
         "orientation": "v",
         "showlegend": true,
         "textposition": "auto",
         "type": "bar",
         "x": [
          "water",
          "rock",
          "rock"
         ],
         "xaxis": "x",
         "y": [
          1,
          1,
          1
         ],
         "yaxis": "y"
        },
        {
         "alignmentgroup": "True",
         "hovertemplate": "classfication=Worm Pokémon<br>type1=%{x}<br>count=%{y}<extra></extra>",
         "legendgroup": "Worm Pokémon",
         "marker": {
          "color": "#FF6692",
          "pattern": {
           "shape": ""
          }
         },
         "name": "Worm Pokémon",
         "offsetgroup": "Worm Pokémon",
         "orientation": "v",
         "showlegend": true,
         "textposition": "auto",
         "type": "bar",
         "x": [
          "bug",
          "bug"
         ],
         "xaxis": "x",
         "y": [
          1,
          1
         ],
         "yaxis": "y"
        },
        {
         "alignmentgroup": "True",
         "hovertemplate": "classfication=Cocoon Pokémon<br>type1=%{x}<br>count=%{y}<extra></extra>",
         "legendgroup": "Cocoon Pokémon",
         "marker": {
          "color": "#B6E880",
          "pattern": {
           "shape": ""
          }
         },
         "name": "Cocoon Pokémon",
         "offsetgroup": "Cocoon Pokémon",
         "orientation": "v",
         "showlegend": true,
         "textposition": "auto",
         "type": "bar",
         "x": [
          "bug",
          "bug",
          "bug",
          "bug"
         ],
         "xaxis": "x",
         "y": [
          1,
          1,
          1,
          1
         ],
         "yaxis": "y"
        },
        {
         "alignmentgroup": "True",
         "hovertemplate": "classfication=Butterfly Pokémon<br>type1=%{x}<br>count=%{y}<extra></extra>",
         "legendgroup": "Butterfly Pokémon",
         "marker": {
          "color": "#FF97FF",
          "pattern": {
           "shape": ""
          }
         },
         "name": "Butterfly Pokémon",
         "offsetgroup": "Butterfly Pokémon",
         "orientation": "v",
         "showlegend": true,
         "textposition": "auto",
         "type": "bar",
         "x": [
          "bug",
          "bug"
         ],
         "xaxis": "x",
         "y": [
          1,
          1
         ],
         "yaxis": "y"
        },
        {
         "alignmentgroup": "True",
         "hovertemplate": "classfication=Hairy Pokémon<br>type1=%{x}<br>count=%{y}<extra></extra>",
         "legendgroup": "Hairy Pokémon",
         "marker": {
          "color": "#FECB52",
          "pattern": {
           "shape": ""
          }
         },
         "name": "Hairy Pokémon",
         "offsetgroup": "Hairy Pokémon",
         "orientation": "v",
         "showlegend": true,
         "textposition": "auto",
         "type": "bar",
         "x": [
          "bug"
         ],
         "xaxis": "x",
         "y": [
          1
         ],
         "yaxis": "y"
        },
        {
         "alignmentgroup": "True",
         "hovertemplate": "classfication=Poison Bee Pokémon<br>type1=%{x}<br>count=%{y}<extra></extra>",
         "legendgroup": "Poison Bee Pokémon",
         "marker": {
          "color": "#636efa",
          "pattern": {
           "shape": ""
          }
         },
         "name": "Poison Bee Pokémon",
         "offsetgroup": "Poison Bee Pokémon",
         "orientation": "v",
         "showlegend": true,
         "textposition": "auto",
         "type": "bar",
         "x": [
          "bug"
         ],
         "xaxis": "x",
         "y": [
          1
         ],
         "yaxis": "y"
        },
        {
         "alignmentgroup": "True",
         "hovertemplate": "classfication=Tiny Bird Pokémon<br>type1=%{x}<br>count=%{y}<extra></extra>",
         "legendgroup": "Tiny Bird Pokémon",
         "marker": {
          "color": "#EF553B",
          "pattern": {
           "shape": ""
          }
         },
         "name": "Tiny Bird Pokémon",
         "offsetgroup": "Tiny Bird Pokémon",
         "orientation": "v",
         "showlegend": true,
         "textposition": "auto",
         "type": "bar",
         "x": [
          "normal",
          "normal"
         ],
         "xaxis": "x",
         "y": [
          1,
          1
         ],
         "yaxis": "y"
        },
        {
         "alignmentgroup": "True",
         "hovertemplate": "classfication=Bird Pokémon<br>type1=%{x}<br>count=%{y}<extra></extra>",
         "legendgroup": "Bird Pokémon",
         "marker": {
          "color": "#00cc96",
          "pattern": {
           "shape": ""
          }
         },
         "name": "Bird Pokémon",
         "offsetgroup": "Bird Pokémon",
         "orientation": "v",
         "showlegend": true,
         "textposition": "auto",
         "type": "bar",
         "x": [
          "normal",
          "normal"
         ],
         "xaxis": "x",
         "y": [
          1,
          1
         ],
         "yaxis": "y"
        },
        {
         "alignmentgroup": "True",
         "hovertemplate": "classfication=Mouse Pokémon<br>type1=%{x}<br>count=%{y}<extra></extra>",
         "legendgroup": "Mouse Pokémon",
         "marker": {
          "color": "#ab63fa",
          "pattern": {
           "shape": ""
          }
         },
         "name": "Mouse Pokémon",
         "offsetgroup": "Mouse Pokémon",
         "orientation": "v",
         "showlegend": true,
         "textposition": "auto",
         "type": "bar",
         "x": [
          "normal",
          "normal",
          "electric",
          "electric",
          "ground",
          "ground"
         ],
         "xaxis": "x",
         "y": [
          1,
          1,
          1,
          1,
          1,
          1
         ],
         "yaxis": "y"
        },
        {
         "alignmentgroup": "True",
         "hovertemplate": "classfication=Beak Pokémon<br>type1=%{x}<br>count=%{y}<extra></extra>",
         "legendgroup": "Beak Pokémon",
         "marker": {
          "color": "#FFA15A",
          "pattern": {
           "shape": ""
          }
         },
         "name": "Beak Pokémon",
         "offsetgroup": "Beak Pokémon",
         "orientation": "v",
         "showlegend": true,
         "textposition": "auto",
         "type": "bar",
         "x": [
          "normal"
         ],
         "xaxis": "x",
         "y": [
          1
         ],
         "yaxis": "y"
        },
        {
         "alignmentgroup": "True",
         "hovertemplate": "classfication=Snake Pokémon<br>type1=%{x}<br>count=%{y}<extra></extra>",
         "legendgroup": "Snake Pokémon",
         "marker": {
          "color": "#19d3f3",
          "pattern": {
           "shape": ""
          }
         },
         "name": "Snake Pokémon",
         "offsetgroup": "Snake Pokémon",
         "orientation": "v",
         "showlegend": true,
         "textposition": "auto",
         "type": "bar",
         "x": [
          "poison"
         ],
         "xaxis": "x",
         "y": [
          1
         ],
         "yaxis": "y"
        },
        {
         "alignmentgroup": "True",
         "hovertemplate": "classfication=Cobra Pokémon<br>type1=%{x}<br>count=%{y}<extra></extra>",
         "legendgroup": "Cobra Pokémon",
         "marker": {
          "color": "#FF6692",
          "pattern": {
           "shape": ""
          }
         },
         "name": "Cobra Pokémon",
         "offsetgroup": "Cobra Pokémon",
         "orientation": "v",
         "showlegend": true,
         "textposition": "auto",
         "type": "bar",
         "x": [
          "poison"
         ],
         "xaxis": "x",
         "y": [
          1
         ],
         "yaxis": "y"
        },
        {
         "alignmentgroup": "True",
         "hovertemplate": "classfication=Poison Pin Pokémon<br>type1=%{x}<br>count=%{y}<extra></extra>",
         "legendgroup": "Poison Pin Pokémon",
         "marker": {
          "color": "#B6E880",
          "pattern": {
           "shape": ""
          }
         },
         "name": "Poison Pin Pokémon",
         "offsetgroup": "Poison Pin Pokémon",
         "orientation": "v",
         "showlegend": true,
         "textposition": "auto",
         "type": "bar",
         "x": [
          "poison",
          "poison",
          "poison",
          "poison"
         ],
         "xaxis": "x",
         "y": [
          1,
          1,
          1,
          1
         ],
         "yaxis": "y"
        },
        {
         "alignmentgroup": "True",
         "hovertemplate": "classfication=Drill Pokémon<br>type1=%{x}<br>count=%{y}<extra></extra>",
         "legendgroup": "Drill Pokémon",
         "marker": {
          "color": "#FF97FF",
          "pattern": {
           "shape": ""
          }
         },
         "name": "Drill Pokémon",
         "offsetgroup": "Drill Pokémon",
         "orientation": "v",
         "showlegend": true,
         "textposition": "auto",
         "type": "bar",
         "x": [
          "poison",
          "poison",
          "ground",
          "ground"
         ],
         "xaxis": "x",
         "y": [
          1,
          1,
          1,
          1
         ],
         "yaxis": "y"
        },
        {
         "alignmentgroup": "True",
         "hovertemplate": "classfication=Fairy Pokémon<br>type1=%{x}<br>count=%{y}<extra></extra>",
         "legendgroup": "Fairy Pokémon",
         "marker": {
          "color": "#FECB52",
          "pattern": {
           "shape": ""
          }
         },
         "name": "Fairy Pokémon",
         "offsetgroup": "Fairy Pokémon",
         "orientation": "v",
         "showlegend": true,
         "textposition": "auto",
         "type": "bar",
         "x": [
          "fairy",
          "fairy",
          "fairy",
          "fairy",
          "fairy"
         ],
         "xaxis": "x",
         "y": [
          1,
          1,
          1,
          1,
          1
         ],
         "yaxis": "y"
        },
        {
         "alignmentgroup": "True",
         "hovertemplate": "classfication=Fox Pokémon<br>type1=%{x}<br>count=%{y}<extra></extra>",
         "legendgroup": "Fox Pokémon",
         "marker": {
          "color": "#636efa",
          "pattern": {
           "shape": ""
          }
         },
         "name": "Fox Pokémon",
         "offsetgroup": "Fox Pokémon",
         "orientation": "v",
         "showlegend": true,
         "textposition": "auto",
         "type": "bar",
         "x": [
          "fire",
          "fire",
          "fire",
          "fire",
          "fire"
         ],
         "xaxis": "x",
         "y": [
          1,
          1,
          1,
          1,
          1
         ],
         "yaxis": "y"
        },
        {
         "alignmentgroup": "True",
         "hovertemplate": "classfication=Balloon Pokémon<br>type1=%{x}<br>count=%{y}<extra></extra>",
         "legendgroup": "Balloon Pokémon",
         "marker": {
          "color": "#EF553B",
          "pattern": {
           "shape": ""
          }
         },
         "name": "Balloon Pokémon",
         "offsetgroup": "Balloon Pokémon",
         "orientation": "v",
         "showlegend": true,
         "textposition": "auto",
         "type": "bar",
         "x": [
          "normal",
          "normal",
          "normal",
          "water",
          "ghost"
         ],
         "xaxis": "x",
         "y": [
          1,
          1,
          1,
          1,
          1
         ],
         "yaxis": "y"
        },
        {
         "alignmentgroup": "True",
         "hovertemplate": "classfication=Bat Pokémon<br>type1=%{x}<br>count=%{y}<extra></extra>",
         "legendgroup": "Bat Pokémon",
         "marker": {
          "color": "#00cc96",
          "pattern": {
           "shape": ""
          }
         },
         "name": "Bat Pokémon",
         "offsetgroup": "Bat Pokémon",
         "orientation": "v",
         "showlegend": true,
         "textposition": "auto",
         "type": "bar",
         "x": [
          "poison",
          "poison",
          "poison",
          "psychic"
         ],
         "xaxis": "x",
         "y": [
          1,
          1,
          1,
          1
         ],
         "yaxis": "y"
        },
        {
         "alignmentgroup": "True",
         "hovertemplate": "classfication=Weed Pokémon<br>type1=%{x}<br>count=%{y}<extra></extra>",
         "legendgroup": "Weed Pokémon",
         "marker": {
          "color": "#ab63fa",
          "pattern": {
           "shape": ""
          }
         },
         "name": "Weed Pokémon",
         "offsetgroup": "Weed Pokémon",
         "orientation": "v",
         "showlegend": true,
         "textposition": "auto",
         "type": "bar",
         "x": [
          "grass",
          "grass"
         ],
         "xaxis": "x",
         "y": [
          1,
          1
         ],
         "yaxis": "y"
        },
        {
         "alignmentgroup": "True",
         "hovertemplate": "classfication=Flower Pokémon<br>type1=%{x}<br>count=%{y}<extra></extra>",
         "legendgroup": "Flower Pokémon",
         "marker": {
          "color": "#FFA15A",
          "pattern": {
           "shape": ""
          }
         },
         "name": "Flower Pokémon",
         "offsetgroup": "Flower Pokémon",
         "orientation": "v",
         "showlegend": true,
         "textposition": "auto",
         "type": "bar",
         "x": [
          "grass",
          "grass",
          "grass"
         ],
         "xaxis": "x",
         "y": [
          1,
          1,
          1
         ],
         "yaxis": "y"
        },
        {
         "alignmentgroup": "True",
         "hovertemplate": "classfication=Mushroom Pokémon<br>type1=%{x}<br>count=%{y}<extra></extra>",
         "legendgroup": "Mushroom Pokémon",
         "marker": {
          "color": "#19d3f3",
          "pattern": {
           "shape": ""
          }
         },
         "name": "Mushroom Pokémon",
         "offsetgroup": "Mushroom Pokémon",
         "orientation": "v",
         "showlegend": true,
         "textposition": "auto",
         "type": "bar",
         "x": [
          "bug",
          "bug",
          "grass",
          "grass",
          "grass",
          "grass"
         ],
         "xaxis": "x",
         "y": [
          1,
          1,
          1,
          1,
          1,
          1
         ],
         "yaxis": "y"
        },
        {
         "alignmentgroup": "True",
         "hovertemplate": "classfication=Insect Pokémon<br>type1=%{x}<br>count=%{y}<extra></extra>",
         "legendgroup": "Insect Pokémon",
         "marker": {
          "color": "#FF6692",
          "pattern": {
           "shape": ""
          }
         },
         "name": "Insect Pokémon",
         "offsetgroup": "Insect Pokémon",
         "orientation": "v",
         "showlegend": true,
         "textposition": "auto",
         "type": "bar",
         "x": [
          "bug"
         ],
         "xaxis": "x",
         "y": [
          1
         ],
         "yaxis": "y"
        },
        {
         "alignmentgroup": "True",
         "hovertemplate": "classfication=Poison Moth Pokémon<br>type1=%{x}<br>count=%{y}<extra></extra>",
         "legendgroup": "Poison Moth Pokémon",
         "marker": {
          "color": "#B6E880",
          "pattern": {
           "shape": ""
          }
         },
         "name": "Poison Moth Pokémon",
         "offsetgroup": "Poison Moth Pokémon",
         "orientation": "v",
         "showlegend": true,
         "textposition": "auto",
         "type": "bar",
         "x": [
          "bug",
          "bug"
         ],
         "xaxis": "x",
         "y": [
          1,
          1
         ],
         "yaxis": "y"
        },
        {
         "alignmentgroup": "True",
         "hovertemplate": "classfication=Mole Pokémon<br>type1=%{x}<br>count=%{y}<extra></extra>",
         "legendgroup": "Mole Pokémon",
         "marker": {
          "color": "#FF97FF",
          "pattern": {
           "shape": ""
          }
         },
         "name": "Mole Pokémon",
         "offsetgroup": "Mole Pokémon",
         "orientation": "v",
         "showlegend": true,
         "textposition": "auto",
         "type": "bar",
         "x": [
          "ground",
          "ground",
          "ground"
         ],
         "xaxis": "x",
         "y": [
          1,
          1,
          1
         ],
         "yaxis": "y"
        },
        {
         "alignmentgroup": "True",
         "hovertemplate": "classfication=Scratch Cat Pokémon<br>type1=%{x}<br>count=%{y}<extra></extra>",
         "legendgroup": "Scratch Cat Pokémon",
         "marker": {
          "color": "#FECB52",
          "pattern": {
           "shape": ""
          }
         },
         "name": "Scratch Cat Pokémon",
         "offsetgroup": "Scratch Cat Pokémon",
         "orientation": "v",
         "showlegend": true,
         "textposition": "auto",
         "type": "bar",
         "x": [
          "normal"
         ],
         "xaxis": "x",
         "y": [
          1
         ],
         "yaxis": "y"
        },
        {
         "alignmentgroup": "True",
         "hovertemplate": "classfication=Classy Cat Pokémon<br>type1=%{x}<br>count=%{y}<extra></extra>",
         "legendgroup": "Classy Cat Pokémon",
         "marker": {
          "color": "#636efa",
          "pattern": {
           "shape": ""
          }
         },
         "name": "Classy Cat Pokémon",
         "offsetgroup": "Classy Cat Pokémon",
         "orientation": "v",
         "showlegend": true,
         "textposition": "auto",
         "type": "bar",
         "x": [
          "normal"
         ],
         "xaxis": "x",
         "y": [
          1
         ],
         "yaxis": "y"
        },
        {
         "alignmentgroup": "True",
         "hovertemplate": "classfication=Duck Pokémon<br>type1=%{x}<br>count=%{y}<extra></extra>",
         "legendgroup": "Duck Pokémon",
         "marker": {
          "color": "#EF553B",
          "pattern": {
           "shape": ""
          }
         },
         "name": "Duck Pokémon",
         "offsetgroup": "Duck Pokémon",
         "orientation": "v",
         "showlegend": true,
         "textposition": "auto",
         "type": "bar",
         "x": [
          "water",
          "water"
         ],
         "xaxis": "x",
         "y": [
          1,
          1
         ],
         "yaxis": "y"
        },
        {
         "alignmentgroup": "True",
         "hovertemplate": "classfication=Pig Monkey Pokémon<br>type1=%{x}<br>count=%{y}<extra></extra>",
         "legendgroup": "Pig Monkey Pokémon",
         "marker": {
          "color": "#00cc96",
          "pattern": {
           "shape": ""
          }
         },
         "name": "Pig Monkey Pokémon",
         "offsetgroup": "Pig Monkey Pokémon",
         "orientation": "v",
         "showlegend": true,
         "textposition": "auto",
         "type": "bar",
         "x": [
          "fighting",
          "fighting"
         ],
         "xaxis": "x",
         "y": [
          1,
          1
         ],
         "yaxis": "y"
        },
        {
         "alignmentgroup": "True",
         "hovertemplate": "classfication=Puppy Pokémon<br>type1=%{x}<br>count=%{y}<extra></extra>",
         "legendgroup": "Puppy Pokémon",
         "marker": {
          "color": "#ab63fa",
          "pattern": {
           "shape": ""
          }
         },
         "name": "Puppy Pokémon",
         "offsetgroup": "Puppy Pokémon",
         "orientation": "v",
         "showlegend": true,
         "textposition": "auto",
         "type": "bar",
         "x": [
          "fire",
          "normal",
          "rock"
         ],
         "xaxis": "x",
         "y": [
          1,
          1,
          1
         ],
         "yaxis": "y"
        },
        {
         "alignmentgroup": "True",
         "hovertemplate": "classfication=Legendary Pokémon<br>type1=%{x}<br>count=%{y}<extra></extra>",
         "legendgroup": "Legendary Pokémon",
         "marker": {
          "color": "#FFA15A",
          "pattern": {
           "shape": ""
          }
         },
         "name": "Legendary Pokémon",
         "offsetgroup": "Legendary Pokémon",
         "orientation": "v",
         "showlegend": true,
         "textposition": "auto",
         "type": "bar",
         "x": [
          "fire"
         ],
         "xaxis": "x",
         "y": [
          1
         ],
         "yaxis": "y"
        },
        {
         "alignmentgroup": "True",
         "hovertemplate": "classfication=Tadpole Pokémon<br>type1=%{x}<br>count=%{y}<extra></extra>",
         "legendgroup": "Tadpole Pokémon",
         "marker": {
          "color": "#19d3f3",
          "pattern": {
           "shape": ""
          }
         },
         "name": "Tadpole Pokémon",
         "offsetgroup": "Tadpole Pokémon",
         "orientation": "v",
         "showlegend": true,
         "textposition": "auto",
         "type": "bar",
         "x": [
          "water",
          "water",
          "water",
          "water"
         ],
         "xaxis": "x",
         "y": [
          1,
          1,
          1,
          1
         ],
         "yaxis": "y"
        },
        {
         "alignmentgroup": "True",
         "hovertemplate": "classfication=Psi Pokémon<br>type1=%{x}<br>count=%{y}<extra></extra>",
         "legendgroup": "Psi Pokémon",
         "marker": {
          "color": "#FF6692",
          "pattern": {
           "shape": ""
          }
         },
         "name": "Psi Pokémon",
         "offsetgroup": "Psi Pokémon",
         "orientation": "v",
         "showlegend": true,
         "textposition": "auto",
         "type": "bar",
         "x": [
          "psychic",
          "psychic",
          "psychic"
         ],
         "xaxis": "x",
         "y": [
          1,
          1,
          1
         ],
         "yaxis": "y"
        },
        {
         "alignmentgroup": "True",
         "hovertemplate": "classfication=Superpower Pokémon<br>type1=%{x}<br>count=%{y}<extra></extra>",
         "legendgroup": "Superpower Pokémon",
         "marker": {
          "color": "#B6E880",
          "pattern": {
           "shape": ""
          }
         },
         "name": "Superpower Pokémon",
         "offsetgroup": "Superpower Pokémon",
         "orientation": "v",
         "showlegend": true,
         "textposition": "auto",
         "type": "bar",
         "x": [
          "fighting",
          "fighting",
          "fighting"
         ],
         "xaxis": "x",
         "y": [
          1,
          1,
          1
         ],
         "yaxis": "y"
        },
        {
         "alignmentgroup": "True",
         "hovertemplate": "classfication=Flycatcher Pokémon<br>type1=%{x}<br>count=%{y}<extra></extra>",
         "legendgroup": "Flycatcher Pokémon",
         "marker": {
          "color": "#FF97FF",
          "pattern": {
           "shape": ""
          }
         },
         "name": "Flycatcher Pokémon",
         "offsetgroup": "Flycatcher Pokémon",
         "orientation": "v",
         "showlegend": true,
         "textposition": "auto",
         "type": "bar",
         "x": [
          "grass",
          "grass"
         ],
         "xaxis": "x",
         "y": [
          1,
          1
         ],
         "yaxis": "y"
        },
        {
         "alignmentgroup": "True",
         "hovertemplate": "classfication=Jellyfish Pokémon<br>type1=%{x}<br>count=%{y}<extra></extra>",
         "legendgroup": "Jellyfish Pokémon",
         "marker": {
          "color": "#FECB52",
          "pattern": {
           "shape": ""
          }
         },
         "name": "Jellyfish Pokémon",
         "offsetgroup": "Jellyfish Pokémon",
         "orientation": "v",
         "showlegend": true,
         "textposition": "auto",
         "type": "bar",
         "x": [
          "water",
          "water"
         ],
         "xaxis": "x",
         "y": [
          1,
          1
         ],
         "yaxis": "y"
        },
        {
         "alignmentgroup": "True",
         "hovertemplate": "classfication=Rock Pokémon<br>type1=%{x}<br>count=%{y}<extra></extra>",
         "legendgroup": "Rock Pokémon",
         "marker": {
          "color": "#636efa",
          "pattern": {
           "shape": ""
          }
         },
         "name": "Rock Pokémon",
         "offsetgroup": "Rock Pokémon",
         "orientation": "v",
         "showlegend": true,
         "textposition": "auto",
         "type": "bar",
         "x": [
          "rock",
          "rock"
         ],
         "xaxis": "x",
         "y": [
          1,
          1
         ],
         "yaxis": "y"
        },
        {
         "alignmentgroup": "True",
         "hovertemplate": "classfication=Megaton Pokémon<br>type1=%{x}<br>count=%{y}<extra></extra>",
         "legendgroup": "Megaton Pokémon",
         "marker": {
          "color": "#EF553B",
          "pattern": {
           "shape": ""
          }
         },
         "name": "Megaton Pokémon",
         "offsetgroup": "Megaton Pokémon",
         "orientation": "v",
         "showlegend": true,
         "textposition": "auto",
         "type": "bar",
         "x": [
          "rock"
         ],
         "xaxis": "x",
         "y": [
          1
         ],
         "yaxis": "y"
        },
        {
         "alignmentgroup": "True",
         "hovertemplate": "classfication=Fire Horse Pokémon<br>type1=%{x}<br>count=%{y}<extra></extra>",
         "legendgroup": "Fire Horse Pokémon",
         "marker": {
          "color": "#00cc96",
          "pattern": {
           "shape": ""
          }
         },
         "name": "Fire Horse Pokémon",
         "offsetgroup": "Fire Horse Pokémon",
         "orientation": "v",
         "showlegend": true,
         "textposition": "auto",
         "type": "bar",
         "x": [
          "fire",
          "fire"
         ],
         "xaxis": "x",
         "y": [
          1,
          1
         ],
         "yaxis": "y"
        },
        {
         "alignmentgroup": "True",
         "hovertemplate": "classfication=Dopey Pokémon<br>type1=%{x}<br>count=%{y}<extra></extra>",
         "legendgroup": "Dopey Pokémon",
         "marker": {
          "color": "#ab63fa",
          "pattern": {
           "shape": ""
          }
         },
         "name": "Dopey Pokémon",
         "offsetgroup": "Dopey Pokémon",
         "orientation": "v",
         "showlegend": true,
         "textposition": "auto",
         "type": "bar",
         "x": [
          "water"
         ],
         "xaxis": "x",
         "y": [
          1
         ],
         "yaxis": "y"
        },
        {
         "alignmentgroup": "True",
         "hovertemplate": "classfication=Hermit Crab Pokémon<br>type1=%{x}<br>count=%{y}<extra></extra>",
         "legendgroup": "Hermit Crab Pokémon",
         "marker": {
          "color": "#FFA15A",
          "pattern": {
           "shape": ""
          }
         },
         "name": "Hermit Crab Pokémon",
         "offsetgroup": "Hermit Crab Pokémon",
         "orientation": "v",
         "showlegend": true,
         "textposition": "auto",
         "type": "bar",
         "x": [
          "water"
         ],
         "xaxis": "x",
         "y": [
          1
         ],
         "yaxis": "y"
        },
        {
         "alignmentgroup": "True",
         "hovertemplate": "classfication=Magnet Pokémon<br>type1=%{x}<br>count=%{y}<extra></extra>",
         "legendgroup": "Magnet Pokémon",
         "marker": {
          "color": "#19d3f3",
          "pattern": {
           "shape": ""
          }
         },
         "name": "Magnet Pokémon",
         "offsetgroup": "Magnet Pokémon",
         "orientation": "v",
         "showlegend": true,
         "textposition": "auto",
         "type": "bar",
         "x": [
          "electric",
          "electric"
         ],
         "xaxis": "x",
         "y": [
          1,
          1
         ],
         "yaxis": "y"
        },
        {
         "alignmentgroup": "True",
         "hovertemplate": "classfication=Wild Duck Pokémon<br>type1=%{x}<br>count=%{y}<extra></extra>",
         "legendgroup": "Wild Duck Pokémon",
         "marker": {
          "color": "#FF6692",
          "pattern": {
           "shape": ""
          }
         },
         "name": "Wild Duck Pokémon",
         "offsetgroup": "Wild Duck Pokémon",
         "orientation": "v",
         "showlegend": true,
         "textposition": "auto",
         "type": "bar",
         "x": [
          "normal"
         ],
         "xaxis": "x",
         "y": [
          1
         ],
         "yaxis": "y"
        },
        {
         "alignmentgroup": "True",
         "hovertemplate": "classfication=Twin Bird Pokémon<br>type1=%{x}<br>count=%{y}<extra></extra>",
         "legendgroup": "Twin Bird Pokémon",
         "marker": {
          "color": "#B6E880",
          "pattern": {
           "shape": ""
          }
         },
         "name": "Twin Bird Pokémon",
         "offsetgroup": "Twin Bird Pokémon",
         "orientation": "v",
         "showlegend": true,
         "textposition": "auto",
         "type": "bar",
         "x": [
          "normal"
         ],
         "xaxis": "x",
         "y": [
          1
         ],
         "yaxis": "y"
        },
        {
         "alignmentgroup": "True",
         "hovertemplate": "classfication=Triple Bird Pokémon<br>type1=%{x}<br>count=%{y}<extra></extra>",
         "legendgroup": "Triple Bird Pokémon",
         "marker": {
          "color": "#FF97FF",
          "pattern": {
           "shape": ""
          }
         },
         "name": "Triple Bird Pokémon",
         "offsetgroup": "Triple Bird Pokémon",
         "orientation": "v",
         "showlegend": true,
         "textposition": "auto",
         "type": "bar",
         "x": [
          "normal"
         ],
         "xaxis": "x",
         "y": [
          1
         ],
         "yaxis": "y"
        },
        {
         "alignmentgroup": "True",
         "hovertemplate": "classfication=Sea Lion Pokémon<br>type1=%{x}<br>count=%{y}<extra></extra>",
         "legendgroup": "Sea Lion Pokémon",
         "marker": {
          "color": "#FECB52",
          "pattern": {
           "shape": ""
          }
         },
         "name": "Sea Lion Pokémon",
         "offsetgroup": "Sea Lion Pokémon",
         "orientation": "v",
         "showlegend": true,
         "textposition": "auto",
         "type": "bar",
         "x": [
          "water",
          "water",
          "water"
         ],
         "xaxis": "x",
         "y": [
          1,
          1,
          1
         ],
         "yaxis": "y"
        },
        {
         "alignmentgroup": "True",
         "hovertemplate": "classfication=Sludge Pokémon<br>type1=%{x}<br>count=%{y}<extra></extra>",
         "legendgroup": "Sludge Pokémon",
         "marker": {
          "color": "#636efa",
          "pattern": {
           "shape": ""
          }
         },
         "name": "Sludge Pokémon",
         "offsetgroup": "Sludge Pokémon",
         "orientation": "v",
         "showlegend": true,
         "textposition": "auto",
         "type": "bar",
         "x": [
          "poison",
          "poison"
         ],
         "xaxis": "x",
         "y": [
          1,
          1
         ],
         "yaxis": "y"
        },
        {
         "alignmentgroup": "True",
         "hovertemplate": "classfication=Bivalve Pokémon<br>type1=%{x}<br>count=%{y}<extra></extra>",
         "legendgroup": "Bivalve Pokémon",
         "marker": {
          "color": "#EF553B",
          "pattern": {
           "shape": ""
          }
         },
         "name": "Bivalve Pokémon",
         "offsetgroup": "Bivalve Pokémon",
         "orientation": "v",
         "showlegend": true,
         "textposition": "auto",
         "type": "bar",
         "x": [
          "water",
          "water",
          "water"
         ],
         "xaxis": "x",
         "y": [
          1,
          1,
          1
         ],
         "yaxis": "y"
        },
        {
         "alignmentgroup": "True",
         "hovertemplate": "classfication=Gas Pokémon<br>type1=%{x}<br>count=%{y}<extra></extra>",
         "legendgroup": "Gas Pokémon",
         "marker": {
          "color": "#00cc96",
          "pattern": {
           "shape": ""
          }
         },
         "name": "Gas Pokémon",
         "offsetgroup": "Gas Pokémon",
         "orientation": "v",
         "showlegend": true,
         "textposition": "auto",
         "type": "bar",
         "x": [
          "ghost",
          "ghost"
         ],
         "xaxis": "x",
         "y": [
          1,
          1
         ],
         "yaxis": "y"
        },
        {
         "alignmentgroup": "True",
         "hovertemplate": "classfication=Shadow Pokémon<br>type1=%{x}<br>count=%{y}<extra></extra>",
         "legendgroup": "Shadow Pokémon",
         "marker": {
          "color": "#ab63fa",
          "pattern": {
           "shape": ""
          }
         },
         "name": "Shadow Pokémon",
         "offsetgroup": "Shadow Pokémon",
         "orientation": "v",
         "showlegend": true,
         "textposition": "auto",
         "type": "bar",
         "x": [
          "ghost"
         ],
         "xaxis": "x",
         "y": [
          1
         ],
         "yaxis": "y"
        },
        {
         "alignmentgroup": "True",
         "hovertemplate": "classfication=Rock Snake Pokémon<br>type1=%{x}<br>count=%{y}<extra></extra>",
         "legendgroup": "Rock Snake Pokémon",
         "marker": {
          "color": "#FFA15A",
          "pattern": {
           "shape": ""
          }
         },
         "name": "Rock Snake Pokémon",
         "offsetgroup": "Rock Snake Pokémon",
         "orientation": "v",
         "showlegend": true,
         "textposition": "auto",
         "type": "bar",
         "x": [
          "rock"
         ],
         "xaxis": "x",
         "y": [
          1
         ],
         "yaxis": "y"
        },
        {
         "alignmentgroup": "True",
         "hovertemplate": "classfication=Hypnosis Pokémon<br>type1=%{x}<br>count=%{y}<extra></extra>",
         "legendgroup": "Hypnosis Pokémon",
         "marker": {
          "color": "#19d3f3",
          "pattern": {
           "shape": ""
          }
         },
         "name": "Hypnosis Pokémon",
         "offsetgroup": "Hypnosis Pokémon",
         "orientation": "v",
         "showlegend": true,
         "textposition": "auto",
         "type": "bar",
         "x": [
          "psychic",
          "psychic"
         ],
         "xaxis": "x",
         "y": [
          1,
          1
         ],
         "yaxis": "y"
        },
        {
         "alignmentgroup": "True",
         "hovertemplate": "classfication=River Crab Pokémon<br>type1=%{x}<br>count=%{y}<extra></extra>",
         "legendgroup": "River Crab Pokémon",
         "marker": {
          "color": "#FF6692",
          "pattern": {
           "shape": ""
          }
         },
         "name": "River Crab Pokémon",
         "offsetgroup": "River Crab Pokémon",
         "orientation": "v",
         "showlegend": true,
         "textposition": "auto",
         "type": "bar",
         "x": [
          "water"
         ],
         "xaxis": "x",
         "y": [
          1
         ],
         "yaxis": "y"
        },
        {
         "alignmentgroup": "True",
         "hovertemplate": "classfication=Pincer Pokémon<br>type1=%{x}<br>count=%{y}<extra></extra>",
         "legendgroup": "Pincer Pokémon",
         "marker": {
          "color": "#B6E880",
          "pattern": {
           "shape": ""
          }
         },
         "name": "Pincer Pokémon",
         "offsetgroup": "Pincer Pokémon",
         "orientation": "v",
         "showlegend": true,
         "textposition": "auto",
         "type": "bar",
         "x": [
          "water",
          "bug"
         ],
         "xaxis": "x",
         "y": [
          1,
          1
         ],
         "yaxis": "y"
        },
        {
         "alignmentgroup": "True",
         "hovertemplate": "classfication=Ball Pokémon<br>type1=%{x}<br>count=%{y}<extra></extra>",
         "legendgroup": "Ball Pokémon",
         "marker": {
          "color": "#FF97FF",
          "pattern": {
           "shape": ""
          }
         },
         "name": "Ball Pokémon",
         "offsetgroup": "Ball Pokémon",
         "orientation": "v",
         "showlegend": true,
         "textposition": "auto",
         "type": "bar",
         "x": [
          "electric",
          "electric"
         ],
         "xaxis": "x",
         "y": [
          1,
          1
         ],
         "yaxis": "y"
        },
        {
         "alignmentgroup": "True",
         "hovertemplate": "classfication=Egg Pokémon<br>type1=%{x}<br>count=%{y}<extra></extra>",
         "legendgroup": "Egg Pokémon",
         "marker": {
          "color": "#FECB52",
          "pattern": {
           "shape": ""
          }
         },
         "name": "Egg Pokémon",
         "offsetgroup": "Egg Pokémon",
         "orientation": "v",
         "showlegend": true,
         "textposition": "auto",
         "type": "bar",
         "x": [
          "grass",
          "normal"
         ],
         "xaxis": "x",
         "y": [
          1,
          1
         ],
         "yaxis": "y"
        },
        {
         "alignmentgroup": "True",
         "hovertemplate": "classfication=Coconut Pokémon<br>type1=%{x}<br>count=%{y}<extra></extra>",
         "legendgroup": "Coconut Pokémon",
         "marker": {
          "color": "#636efa",
          "pattern": {
           "shape": ""
          }
         },
         "name": "Coconut Pokémon",
         "offsetgroup": "Coconut Pokémon",
         "orientation": "v",
         "showlegend": true,
         "textposition": "auto",
         "type": "bar",
         "x": [
          "grass"
         ],
         "xaxis": "x",
         "y": [
          1
         ],
         "yaxis": "y"
        },
        {
         "alignmentgroup": "True",
         "hovertemplate": "classfication=Lonely Pokémon<br>type1=%{x}<br>count=%{y}<extra></extra>",
         "legendgroup": "Lonely Pokémon",
         "marker": {
          "color": "#EF553B",
          "pattern": {
           "shape": ""
          }
         },
         "name": "Lonely Pokémon",
         "offsetgroup": "Lonely Pokémon",
         "orientation": "v",
         "showlegend": true,
         "textposition": "auto",
         "type": "bar",
         "x": [
          "ground"
         ],
         "xaxis": "x",
         "y": [
          1
         ],
         "yaxis": "y"
        },
        {
         "alignmentgroup": "True",
         "hovertemplate": "classfication=Bone Keeper Pokémon<br>type1=%{x}<br>count=%{y}<extra></extra>",
         "legendgroup": "Bone Keeper Pokémon",
         "marker": {
          "color": "#00cc96",
          "pattern": {
           "shape": ""
          }
         },
         "name": "Bone Keeper Pokémon",
         "offsetgroup": "Bone Keeper Pokémon",
         "orientation": "v",
         "showlegend": true,
         "textposition": "auto",
         "type": "bar",
         "x": [
          "ground"
         ],
         "xaxis": "x",
         "y": [
          1
         ],
         "yaxis": "y"
        },
        {
         "alignmentgroup": "True",
         "hovertemplate": "classfication=Kicking Pokémon<br>type1=%{x}<br>count=%{y}<extra></extra>",
         "legendgroup": "Kicking Pokémon",
         "marker": {
          "color": "#ab63fa",
          "pattern": {
           "shape": ""
          }
         },
         "name": "Kicking Pokémon",
         "offsetgroup": "Kicking Pokémon",
         "orientation": "v",
         "showlegend": true,
         "textposition": "auto",
         "type": "bar",
         "x": [
          "fighting"
         ],
         "xaxis": "x",
         "y": [
          1
         ],
         "yaxis": "y"
        },
        {
         "alignmentgroup": "True",
         "hovertemplate": "classfication=Punching Pokémon<br>type1=%{x}<br>count=%{y}<extra></extra>",
         "legendgroup": "Punching Pokémon",
         "marker": {
          "color": "#FFA15A",
          "pattern": {
           "shape": ""
          }
         },
         "name": "Punching Pokémon",
         "offsetgroup": "Punching Pokémon",
         "orientation": "v",
         "showlegend": true,
         "textposition": "auto",
         "type": "bar",
         "x": [
          "fighting"
         ],
         "xaxis": "x",
         "y": [
          1
         ],
         "yaxis": "y"
        },
        {
         "alignmentgroup": "True",
         "hovertemplate": "classfication=Licking Pokémon<br>type1=%{x}<br>count=%{y}<extra></extra>",
         "legendgroup": "Licking Pokémon",
         "marker": {
          "color": "#19d3f3",
          "pattern": {
           "shape": ""
          }
         },
         "name": "Licking Pokémon",
         "offsetgroup": "Licking Pokémon",
         "orientation": "v",
         "showlegend": true,
         "textposition": "auto",
         "type": "bar",
         "x": [
          "normal",
          "normal"
         ],
         "xaxis": "x",
         "y": [
          1,
          1
         ],
         "yaxis": "y"
        },
        {
         "alignmentgroup": "True",
         "hovertemplate": "classfication=Poison Gas Pokémon<br>type1=%{x}<br>count=%{y}<extra></extra>",
         "legendgroup": "Poison Gas Pokémon",
         "marker": {
          "color": "#FF6692",
          "pattern": {
           "shape": ""
          }
         },
         "name": "Poison Gas Pokémon",
         "offsetgroup": "Poison Gas Pokémon",
         "orientation": "v",
         "showlegend": true,
         "textposition": "auto",
         "type": "bar",
         "x": [
          "poison",
          "poison"
         ],
         "xaxis": "x",
         "y": [
          1,
          1
         ],
         "yaxis": "y"
        },
        {
         "alignmentgroup": "True",
         "hovertemplate": "classfication=Spikes Pokémon<br>type1=%{x}<br>count=%{y}<extra></extra>",
         "legendgroup": "Spikes Pokémon",
         "marker": {
          "color": "#B6E880",
          "pattern": {
           "shape": ""
          }
         },
         "name": "Spikes Pokémon",
         "offsetgroup": "Spikes Pokémon",
         "orientation": "v",
         "showlegend": true,
         "textposition": "auto",
         "type": "bar",
         "x": [
          "ground"
         ],
         "xaxis": "x",
         "y": [
          1
         ],
         "yaxis": "y"
        },
        {
         "alignmentgroup": "True",
         "hovertemplate": "classfication=Vine Pokémon<br>type1=%{x}<br>count=%{y}<extra></extra>",
         "legendgroup": "Vine Pokémon",
         "marker": {
          "color": "#FF97FF",
          "pattern": {
           "shape": ""
          }
         },
         "name": "Vine Pokémon",
         "offsetgroup": "Vine Pokémon",
         "orientation": "v",
         "showlegend": true,
         "textposition": "auto",
         "type": "bar",
         "x": [
          "grass",
          "grass"
         ],
         "xaxis": "x",
         "y": [
          1,
          1
         ],
         "yaxis": "y"
        },
        {
         "alignmentgroup": "True",
         "hovertemplate": "classfication=Parent Pokémon<br>type1=%{x}<br>count=%{y}<extra></extra>",
         "legendgroup": "Parent Pokémon",
         "marker": {
          "color": "#FECB52",
          "pattern": {
           "shape": ""
          }
         },
         "name": "Parent Pokémon",
         "offsetgroup": "Parent Pokémon",
         "orientation": "v",
         "showlegend": true,
         "textposition": "auto",
         "type": "bar",
         "x": [
          "normal"
         ],
         "xaxis": "x",
         "y": [
          1
         ],
         "yaxis": "y"
        },
        {
         "alignmentgroup": "True",
         "hovertemplate": "classfication=Dragon Pokémon<br>type1=%{x}<br>count=%{y}<extra></extra>",
         "legendgroup": "Dragon Pokémon",
         "marker": {
          "color": "#636efa",
          "pattern": {
           "shape": ""
          }
         },
         "name": "Dragon Pokémon",
         "offsetgroup": "Dragon Pokémon",
         "orientation": "v",
         "showlegend": true,
         "textposition": "auto",
         "type": "bar",
         "x": [
          "water",
          "water",
          "dragon",
          "dragon",
          "dragon",
          "water",
          "dragon",
          "dragon"
         ],
         "xaxis": "x",
         "y": [
          1,
          1,
          1,
          1,
          1,
          1,
          1,
          1
         ],
         "yaxis": "y"
        },
        {
         "alignmentgroup": "True",
         "hovertemplate": "classfication=Goldfish Pokémon<br>type1=%{x}<br>count=%{y}<extra></extra>",
         "legendgroup": "Goldfish Pokémon",
         "marker": {
          "color": "#EF553B",
          "pattern": {
           "shape": ""
          }
         },
         "name": "Goldfish Pokémon",
         "offsetgroup": "Goldfish Pokémon",
         "orientation": "v",
         "showlegend": true,
         "textposition": "auto",
         "type": "bar",
         "x": [
          "water",
          "water"
         ],
         "xaxis": "x",
         "y": [
          1,
          1
         ],
         "yaxis": "y"
        },
        {
         "alignmentgroup": "True",
         "hovertemplate": "classfication=Starshape Pokémon<br>type1=%{x}<br>count=%{y}<extra></extra>",
         "legendgroup": "Starshape Pokémon",
         "marker": {
          "color": "#00cc96",
          "pattern": {
           "shape": ""
          }
         },
         "name": "Starshape Pokémon",
         "offsetgroup": "Starshape Pokémon",
         "orientation": "v",
         "showlegend": true,
         "textposition": "auto",
         "type": "bar",
         "x": [
          "water"
         ],
         "xaxis": "x",
         "y": [
          1
         ],
         "yaxis": "y"
        },
        {
         "alignmentgroup": "True",
         "hovertemplate": "classfication=Mysterious Pokémon<br>type1=%{x}<br>count=%{y}<extra></extra>",
         "legendgroup": "Mysterious Pokémon",
         "marker": {
          "color": "#ab63fa",
          "pattern": {
           "shape": ""
          }
         },
         "name": "Mysterious Pokémon",
         "offsetgroup": "Mysterious Pokémon",
         "orientation": "v",
         "showlegend": true,
         "textposition": "auto",
         "type": "bar",
         "x": [
          "water"
         ],
         "xaxis": "x",
         "y": [
          1
         ],
         "yaxis": "y"
        },
        {
         "alignmentgroup": "True",
         "hovertemplate": "classfication=Barrier Pokémon<br>type1=%{x}<br>count=%{y}<extra></extra>",
         "legendgroup": "Barrier Pokémon",
         "marker": {
          "color": "#FFA15A",
          "pattern": {
           "shape": ""
          }
         },
         "name": "Barrier Pokémon",
         "offsetgroup": "Barrier Pokémon",
         "orientation": "v",
         "showlegend": true,
         "textposition": "auto",
         "type": "bar",
         "x": [
          "psychic"
         ],
         "xaxis": "x",
         "y": [
          1
         ],
         "yaxis": "y"
        },
        {
         "alignmentgroup": "True",
         "hovertemplate": "classfication=Mantis Pokémon<br>type1=%{x}<br>count=%{y}<extra></extra>",
         "legendgroup": "Mantis Pokémon",
         "marker": {
          "color": "#19d3f3",
          "pattern": {
           "shape": ""
          }
         },
         "name": "Mantis Pokémon",
         "offsetgroup": "Mantis Pokémon",
         "orientation": "v",
         "showlegend": true,
         "textposition": "auto",
         "type": "bar",
         "x": [
          "bug"
         ],
         "xaxis": "x",
         "y": [
          1
         ],
         "yaxis": "y"
        },
        {
         "alignmentgroup": "True",
         "hovertemplate": "classfication=Humanshape Pokémon<br>type1=%{x}<br>count=%{y}<extra></extra>",
         "legendgroup": "Humanshape Pokémon",
         "marker": {
          "color": "#FF6692",
          "pattern": {
           "shape": ""
          }
         },
         "name": "Humanshape Pokémon",
         "offsetgroup": "Humanshape Pokémon",
         "orientation": "v",
         "showlegend": true,
         "textposition": "auto",
         "type": "bar",
         "x": [
          "ice"
         ],
         "xaxis": "x",
         "y": [
          1
         ],
         "yaxis": "y"
        },
        {
         "alignmentgroup": "True",
         "hovertemplate": "classfication=Electric Pokémon<br>type1=%{x}<br>count=%{y}<extra></extra>",
         "legendgroup": "Electric Pokémon",
         "marker": {
          "color": "#B6E880",
          "pattern": {
           "shape": ""
          }
         },
         "name": "Electric Pokémon",
         "offsetgroup": "Electric Pokémon",
         "orientation": "v",
         "showlegend": true,
         "textposition": "auto",
         "type": "bar",
         "x": [
          "electric",
          "electric",
          "electric"
         ],
         "xaxis": "x",
         "y": [
          1,
          1,
          1
         ],
         "yaxis": "y"
        },
        {
         "alignmentgroup": "True",
         "hovertemplate": "classfication=Spitfire Pokémon<br>type1=%{x}<br>count=%{y}<extra></extra>",
         "legendgroup": "Spitfire Pokémon",
         "marker": {
          "color": "#FF97FF",
          "pattern": {
           "shape": ""
          }
         },
         "name": "Spitfire Pokémon",
         "offsetgroup": "Spitfire Pokémon",
         "orientation": "v",
         "showlegend": true,
         "textposition": "auto",
         "type": "bar",
         "x": [
          "fire"
         ],
         "xaxis": "x",
         "y": [
          1
         ],
         "yaxis": "y"
        },
        {
         "alignmentgroup": "True",
         "hovertemplate": "classfication=Stagbeetle Pokémon<br>type1=%{x}<br>count=%{y}<extra></extra>",
         "legendgroup": "Stagbeetle Pokémon",
         "marker": {
          "color": "#FECB52",
          "pattern": {
           "shape": ""
          }
         },
         "name": "Stagbeetle Pokémon",
         "offsetgroup": "Stagbeetle Pokémon",
         "orientation": "v",
         "showlegend": true,
         "textposition": "auto",
         "type": "bar",
         "x": [
          "bug"
         ],
         "xaxis": "x",
         "y": [
          1
         ],
         "yaxis": "y"
        },
        {
         "alignmentgroup": "True",
         "hovertemplate": "classfication=Wild Bull Pokémon<br>type1=%{x}<br>count=%{y}<extra></extra>",
         "legendgroup": "Wild Bull Pokémon",
         "marker": {
          "color": "#636efa",
          "pattern": {
           "shape": ""
          }
         },
         "name": "Wild Bull Pokémon",
         "offsetgroup": "Wild Bull Pokémon",
         "orientation": "v",
         "showlegend": true,
         "textposition": "auto",
         "type": "bar",
         "x": [
          "normal"
         ],
         "xaxis": "x",
         "y": [
          1
         ],
         "yaxis": "y"
        },
        {
         "alignmentgroup": "True",
         "hovertemplate": "classfication=Fish Pokémon<br>type1=%{x}<br>count=%{y}<extra></extra>",
         "legendgroup": "Fish Pokémon",
         "marker": {
          "color": "#EF553B",
          "pattern": {
           "shape": ""
          }
         },
         "name": "Fish Pokémon",
         "offsetgroup": "Fish Pokémon",
         "orientation": "v",
         "showlegend": true,
         "textposition": "auto",
         "type": "bar",
         "x": [
          "water",
          "water"
         ],
         "xaxis": "x",
         "y": [
          1,
          1
         ],
         "yaxis": "y"
        },
        {
         "alignmentgroup": "True",
         "hovertemplate": "classfication=Atrocious Pokémon<br>type1=%{x}<br>count=%{y}<extra></extra>",
         "legendgroup": "Atrocious Pokémon",
         "marker": {
          "color": "#00cc96",
          "pattern": {
           "shape": ""
          }
         },
         "name": "Atrocious Pokémon",
         "offsetgroup": "Atrocious Pokémon",
         "orientation": "v",
         "showlegend": true,
         "textposition": "auto",
         "type": "bar",
         "x": [
          "water"
         ],
         "xaxis": "x",
         "y": [
          1
         ],
         "yaxis": "y"
        },
        {
         "alignmentgroup": "True",
         "hovertemplate": "classfication=Transport Pokémon<br>type1=%{x}<br>count=%{y}<extra></extra>",
         "legendgroup": "Transport Pokémon",
         "marker": {
          "color": "#ab63fa",
          "pattern": {
           "shape": ""
          }
         },
         "name": "Transport Pokémon",
         "offsetgroup": "Transport Pokémon",
         "orientation": "v",
         "showlegend": true,
         "textposition": "auto",
         "type": "bar",
         "x": [
          "water"
         ],
         "xaxis": "x",
         "y": [
          1
         ],
         "yaxis": "y"
        },
        {
         "alignmentgroup": "True",
         "hovertemplate": "classfication=Transform Pokémon<br>type1=%{x}<br>count=%{y}<extra></extra>",
         "legendgroup": "Transform Pokémon",
         "marker": {
          "color": "#FFA15A",
          "pattern": {
           "shape": ""
          }
         },
         "name": "Transform Pokémon",
         "offsetgroup": "Transform Pokémon",
         "orientation": "v",
         "showlegend": true,
         "textposition": "auto",
         "type": "bar",
         "x": [
          "normal"
         ],
         "xaxis": "x",
         "y": [
          1
         ],
         "yaxis": "y"
        },
        {
         "alignmentgroup": "True",
         "hovertemplate": "classfication=Evolution Pokémon<br>type1=%{x}<br>count=%{y}<extra></extra>",
         "legendgroup": "Evolution Pokémon",
         "marker": {
          "color": "#19d3f3",
          "pattern": {
           "shape": ""
          }
         },
         "name": "Evolution Pokémon",
         "offsetgroup": "Evolution Pokémon",
         "orientation": "v",
         "showlegend": true,
         "textposition": "auto",
         "type": "bar",
         "x": [
          "normal"
         ],
         "xaxis": "x",
         "y": [
          1
         ],
         "yaxis": "y"
        },
        {
         "alignmentgroup": "True",
         "hovertemplate": "classfication=Bubble Jet Pokémon<br>type1=%{x}<br>count=%{y}<extra></extra>",
         "legendgroup": "Bubble Jet Pokémon",
         "marker": {
          "color": "#FF6692",
          "pattern": {
           "shape": ""
          }
         },
         "name": "Bubble Jet Pokémon",
         "offsetgroup": "Bubble Jet Pokémon",
         "orientation": "v",
         "showlegend": true,
         "textposition": "auto",
         "type": "bar",
         "x": [
          "water"
         ],
         "xaxis": "x",
         "y": [
          1
         ],
         "yaxis": "y"
        },
        {
         "alignmentgroup": "True",
         "hovertemplate": "classfication=Lightning Pokémon<br>type1=%{x}<br>count=%{y}<extra></extra>",
         "legendgroup": "Lightning Pokémon",
         "marker": {
          "color": "#B6E880",
          "pattern": {
           "shape": ""
          }
         },
         "name": "Lightning Pokémon",
         "offsetgroup": "Lightning Pokémon",
         "orientation": "v",
         "showlegend": true,
         "textposition": "auto",
         "type": "bar",
         "x": [
          "electric",
          "electric"
         ],
         "xaxis": "x",
         "y": [
          1,
          1
         ],
         "yaxis": "y"
        },
        {
         "alignmentgroup": "True",
         "hovertemplate": "classfication=Virtual Pokémon<br>type1=%{x}<br>count=%{y}<extra></extra>",
         "legendgroup": "Virtual Pokémon",
         "marker": {
          "color": "#FF97FF",
          "pattern": {
           "shape": ""
          }
         },
         "name": "Virtual Pokémon",
         "offsetgroup": "Virtual Pokémon",
         "orientation": "v",
         "showlegend": true,
         "textposition": "auto",
         "type": "bar",
         "x": [
          "normal",
          "normal",
          "normal"
         ],
         "xaxis": "x",
         "y": [
          1,
          1,
          1
         ],
         "yaxis": "y"
        },
        {
         "alignmentgroup": "True",
         "hovertemplate": "classfication=Spiral Pokémon<br>type1=%{x}<br>count=%{y}<extra></extra>",
         "legendgroup": "Spiral Pokémon",
         "marker": {
          "color": "#FECB52",
          "pattern": {
           "shape": ""
          }
         },
         "name": "Spiral Pokémon",
         "offsetgroup": "Spiral Pokémon",
         "orientation": "v",
         "showlegend": true,
         "textposition": "auto",
         "type": "bar",
         "x": [
          "rock",
          "rock"
         ],
         "xaxis": "x",
         "y": [
          1,
          1
         ],
         "yaxis": "y"
        },
        {
         "alignmentgroup": "True",
         "hovertemplate": "classfication=Fossil Pokémon<br>type1=%{x}<br>count=%{y}<extra></extra>",
         "legendgroup": "Fossil Pokémon",
         "marker": {
          "color": "#636efa",
          "pattern": {
           "shape": ""
          }
         },
         "name": "Fossil Pokémon",
         "offsetgroup": "Fossil Pokémon",
         "orientation": "v",
         "showlegend": true,
         "textposition": "auto",
         "type": "bar",
         "x": [
          "rock"
         ],
         "xaxis": "x",
         "y": [
          1
         ],
         "yaxis": "y"
        },
        {
         "alignmentgroup": "True",
         "hovertemplate": "classfication=Sleeping Pokémon<br>type1=%{x}<br>count=%{y}<extra></extra>",
         "legendgroup": "Sleeping Pokémon",
         "marker": {
          "color": "#EF553B",
          "pattern": {
           "shape": ""
          }
         },
         "name": "Sleeping Pokémon",
         "offsetgroup": "Sleeping Pokémon",
         "orientation": "v",
         "showlegend": true,
         "textposition": "auto",
         "type": "bar",
         "x": [
          "normal"
         ],
         "xaxis": "x",
         "y": [
          1
         ],
         "yaxis": "y"
        },
        {
         "alignmentgroup": "True",
         "hovertemplate": "classfication=Freeze Pokémon<br>type1=%{x}<br>count=%{y}<extra></extra>",
         "legendgroup": "Freeze Pokémon",
         "marker": {
          "color": "#00cc96",
          "pattern": {
           "shape": ""
          }
         },
         "name": "Freeze Pokémon",
         "offsetgroup": "Freeze Pokémon",
         "orientation": "v",
         "showlegend": true,
         "textposition": "auto",
         "type": "bar",
         "x": [
          "ice"
         ],
         "xaxis": "x",
         "y": [
          1
         ],
         "yaxis": "y"
        },
        {
         "alignmentgroup": "True",
         "hovertemplate": "classfication=Genetic Pokémon<br>type1=%{x}<br>count=%{y}<extra></extra>",
         "legendgroup": "Genetic Pokémon",
         "marker": {
          "color": "#ab63fa",
          "pattern": {
           "shape": ""
          }
         },
         "name": "Genetic Pokémon",
         "offsetgroup": "Genetic Pokémon",
         "orientation": "v",
         "showlegend": true,
         "textposition": "auto",
         "type": "bar",
         "x": [
          "psychic"
         ],
         "xaxis": "x",
         "y": [
          1
         ],
         "yaxis": "y"
        },
        {
         "alignmentgroup": "True",
         "hovertemplate": "classfication=New Species Pokémon<br>type1=%{x}<br>count=%{y}<extra></extra>",
         "legendgroup": "New Species Pokémon",
         "marker": {
          "color": "#FFA15A",
          "pattern": {
           "shape": ""
          }
         },
         "name": "New Species Pokémon",
         "offsetgroup": "New Species Pokémon",
         "orientation": "v",
         "showlegend": true,
         "textposition": "auto",
         "type": "bar",
         "x": [
          "psychic"
         ],
         "xaxis": "x",
         "y": [
          1
         ],
         "yaxis": "y"
        },
        {
         "alignmentgroup": "True",
         "hovertemplate": "classfication=Leaf Pokémon<br>type1=%{x}<br>count=%{y}<extra></extra>",
         "legendgroup": "Leaf Pokémon",
         "marker": {
          "color": "#19d3f3",
          "pattern": {
           "shape": ""
          }
         },
         "name": "Leaf Pokémon",
         "offsetgroup": "Leaf Pokémon",
         "orientation": "v",
         "showlegend": true,
         "textposition": "auto",
         "type": "bar",
         "x": [
          "grass",
          "grass"
         ],
         "xaxis": "x",
         "y": [
          1,
          1
         ],
         "yaxis": "y"
        },
        {
         "alignmentgroup": "True",
         "hovertemplate": "classfication=Herb Pokémon<br>type1=%{x}<br>count=%{y}<extra></extra>",
         "legendgroup": "Herb Pokémon",
         "marker": {
          "color": "#FF6692",
          "pattern": {
           "shape": ""
          }
         },
         "name": "Herb Pokémon",
         "offsetgroup": "Herb Pokémon",
         "orientation": "v",
         "showlegend": true,
         "textposition": "auto",
         "type": "bar",
         "x": [
          "grass"
         ],
         "xaxis": "x",
         "y": [
          1
         ],
         "yaxis": "y"
        },
        {
         "alignmentgroup": "True",
         "hovertemplate": "classfication=Fire Mouse Pokémon<br>type1=%{x}<br>count=%{y}<extra></extra>",
         "legendgroup": "Fire Mouse Pokémon",
         "marker": {
          "color": "#B6E880",
          "pattern": {
           "shape": ""
          }
         },
         "name": "Fire Mouse Pokémon",
         "offsetgroup": "Fire Mouse Pokémon",
         "orientation": "v",
         "showlegend": true,
         "textposition": "auto",
         "type": "bar",
         "x": [
          "fire"
         ],
         "xaxis": "x",
         "y": [
          1
         ],
         "yaxis": "y"
        },
        {
         "alignmentgroup": "True",
         "hovertemplate": "classfication=Volcano Pokémon<br>type1=%{x}<br>count=%{y}<extra></extra>",
         "legendgroup": "Volcano Pokémon",
         "marker": {
          "color": "#FF97FF",
          "pattern": {
           "shape": ""
          }
         },
         "name": "Volcano Pokémon",
         "offsetgroup": "Volcano Pokémon",
         "orientation": "v",
         "showlegend": true,
         "textposition": "auto",
         "type": "bar",
         "x": [
          "fire",
          "fire",
          "fire"
         ],
         "xaxis": "x",
         "y": [
          1,
          1,
          1
         ],
         "yaxis": "y"
        },
        {
         "alignmentgroup": "True",
         "hovertemplate": "classfication=Big Jaw Pokémon<br>type1=%{x}<br>count=%{y}<extra></extra>",
         "legendgroup": "Big Jaw Pokémon",
         "marker": {
          "color": "#FECB52",
          "pattern": {
           "shape": ""
          }
         },
         "name": "Big Jaw Pokémon",
         "offsetgroup": "Big Jaw Pokémon",
         "orientation": "v",
         "showlegend": true,
         "textposition": "auto",
         "type": "bar",
         "x": [
          "water",
          "water",
          "water"
         ],
         "xaxis": "x",
         "y": [
          1,
          1,
          1
         ],
         "yaxis": "y"
        },
        {
         "alignmentgroup": "True",
         "hovertemplate": "classfication=Scout Pokémon<br>type1=%{x}<br>count=%{y}<extra></extra>",
         "legendgroup": "Scout Pokémon",
         "marker": {
          "color": "#636efa",
          "pattern": {
           "shape": ""
          }
         },
         "name": "Scout Pokémon",
         "offsetgroup": "Scout Pokémon",
         "orientation": "v",
         "showlegend": true,
         "textposition": "auto",
         "type": "bar",
         "x": [
          "normal",
          "normal"
         ],
         "xaxis": "x",
         "y": [
          1,
          1
         ],
         "yaxis": "y"
        },
        {
         "alignmentgroup": "True",
         "hovertemplate": "classfication=Long Body Pokémon<br>type1=%{x}<br>count=%{y}<extra></extra>",
         "legendgroup": "Long Body Pokémon",
         "marker": {
          "color": "#EF553B",
          "pattern": {
           "shape": ""
          }
         },
         "name": "Long Body Pokémon",
         "offsetgroup": "Long Body Pokémon",
         "orientation": "v",
         "showlegend": true,
         "textposition": "auto",
         "type": "bar",
         "x": [
          "normal"
         ],
         "xaxis": "x",
         "y": [
          1
         ],
         "yaxis": "y"
        },
        {
         "alignmentgroup": "True",
         "hovertemplate": "classfication=Owl Pokémon<br>type1=%{x}<br>count=%{y}<extra></extra>",
         "legendgroup": "Owl Pokémon",
         "marker": {
          "color": "#00cc96",
          "pattern": {
           "shape": ""
          }
         },
         "name": "Owl Pokémon",
         "offsetgroup": "Owl Pokémon",
         "orientation": "v",
         "showlegend": true,
         "textposition": "auto",
         "type": "bar",
         "x": [
          "normal",
          "normal"
         ],
         "xaxis": "x",
         "y": [
          1,
          1
         ],
         "yaxis": "y"
        },
        {
         "alignmentgroup": "True",
         "hovertemplate": "classfication=Five Star Pokémon<br>type1=%{x}<br>count=%{y}<extra></extra>",
         "legendgroup": "Five Star Pokémon",
         "marker": {
          "color": "#ab63fa",
          "pattern": {
           "shape": ""
          }
         },
         "name": "Five Star Pokémon",
         "offsetgroup": "Five Star Pokémon",
         "orientation": "v",
         "showlegend": true,
         "textposition": "auto",
         "type": "bar",
         "x": [
          "bug",
          "bug"
         ],
         "xaxis": "x",
         "y": [
          1,
          1
         ],
         "yaxis": "y"
        },
        {
         "alignmentgroup": "True",
         "hovertemplate": "classfication=String Spit Pokémon<br>type1=%{x}<br>count=%{y}<extra></extra>",
         "legendgroup": "String Spit Pokémon",
         "marker": {
          "color": "#FFA15A",
          "pattern": {
           "shape": ""
          }
         },
         "name": "String Spit Pokémon",
         "offsetgroup": "String Spit Pokémon",
         "orientation": "v",
         "showlegend": true,
         "textposition": "auto",
         "type": "bar",
         "x": [
          "bug"
         ],
         "xaxis": "x",
         "y": [
          1
         ],
         "yaxis": "y"
        },
        {
         "alignmentgroup": "True",
         "hovertemplate": "classfication=Long Leg Pokémon<br>type1=%{x}<br>count=%{y}<extra></extra>",
         "legendgroup": "Long Leg Pokémon",
         "marker": {
          "color": "#19d3f3",
          "pattern": {
           "shape": ""
          }
         },
         "name": "Long Leg Pokémon",
         "offsetgroup": "Long Leg Pokémon",
         "orientation": "v",
         "showlegend": true,
         "textposition": "auto",
         "type": "bar",
         "x": [
          "bug"
         ],
         "xaxis": "x",
         "y": [
          1
         ],
         "yaxis": "y"
        },
        {
         "alignmentgroup": "True",
         "hovertemplate": "classfication=Angler Pokémon<br>type1=%{x}<br>count=%{y}<extra></extra>",
         "legendgroup": "Angler Pokémon",
         "marker": {
          "color": "#FF6692",
          "pattern": {
           "shape": ""
          }
         },
         "name": "Angler Pokémon",
         "offsetgroup": "Angler Pokémon",
         "orientation": "v",
         "showlegend": true,
         "textposition": "auto",
         "type": "bar",
         "x": [
          "water"
         ],
         "xaxis": "x",
         "y": [
          1
         ],
         "yaxis": "y"
        },
        {
         "alignmentgroup": "True",
         "hovertemplate": "classfication=Light Pokémon<br>type1=%{x}<br>count=%{y}<extra></extra>",
         "legendgroup": "Light Pokémon",
         "marker": {
          "color": "#B6E880",
          "pattern": {
           "shape": ""
          }
         },
         "name": "Light Pokémon",
         "offsetgroup": "Light Pokémon",
         "orientation": "v",
         "showlegend": true,
         "textposition": "auto",
         "type": "bar",
         "x": [
          "water",
          "electric"
         ],
         "xaxis": "x",
         "y": [
          1,
          1
         ],
         "yaxis": "y"
        },
        {
         "alignmentgroup": "True",
         "hovertemplate": "classfication=Tiny Mouse Pokémon<br>type1=%{x}<br>count=%{y}<extra></extra>",
         "legendgroup": "Tiny Mouse Pokémon",
         "marker": {
          "color": "#FF97FF",
          "pattern": {
           "shape": ""
          }
         },
         "name": "Tiny Mouse Pokémon",
         "offsetgroup": "Tiny Mouse Pokémon",
         "orientation": "v",
         "showlegend": true,
         "textposition": "auto",
         "type": "bar",
         "x": [
          "electric"
         ],
         "xaxis": "x",
         "y": [
          1
         ],
         "yaxis": "y"
        },
        {
         "alignmentgroup": "True",
         "hovertemplate": "classfication=Star Shape Pokémon<br>type1=%{x}<br>count=%{y}<extra></extra>",
         "legendgroup": "Star Shape Pokémon",
         "marker": {
          "color": "#FECB52",
          "pattern": {
           "shape": ""
          }
         },
         "name": "Star Shape Pokémon",
         "offsetgroup": "Star Shape Pokémon",
         "orientation": "v",
         "showlegend": true,
         "textposition": "auto",
         "type": "bar",
         "x": [
          "fairy"
         ],
         "xaxis": "x",
         "y": [
          1
         ],
         "yaxis": "y"
        },
        {
         "alignmentgroup": "True",
         "hovertemplate": "classfication=Spike Ball Pokémon<br>type1=%{x}<br>count=%{y}<extra></extra>",
         "legendgroup": "Spike Ball Pokémon",
         "marker": {
          "color": "#636efa",
          "pattern": {
           "shape": ""
          }
         },
         "name": "Spike Ball Pokémon",
         "offsetgroup": "Spike Ball Pokémon",
         "orientation": "v",
         "showlegend": true,
         "textposition": "auto",
         "type": "bar",
         "x": [
          "fairy"
         ],
         "xaxis": "x",
         "y": [
          1
         ],
         "yaxis": "y"
        },
        {
         "alignmentgroup": "True",
         "hovertemplate": "classfication=Happiness Pokémon<br>type1=%{x}<br>count=%{y}<extra></extra>",
         "legendgroup": "Happiness Pokémon",
         "marker": {
          "color": "#EF553B",
          "pattern": {
           "shape": ""
          }
         },
         "name": "Happiness Pokémon",
         "offsetgroup": "Happiness Pokémon",
         "orientation": "v",
         "showlegend": true,
         "textposition": "auto",
         "type": "bar",
         "x": [
          "fairy",
          "normal"
         ],
         "xaxis": "x",
         "y": [
          1,
          1
         ],
         "yaxis": "y"
        },
        {
         "alignmentgroup": "True",
         "hovertemplate": "classfication=Little Bird Pokémon<br>type1=%{x}<br>count=%{y}<extra></extra>",
         "legendgroup": "Little Bird Pokémon",
         "marker": {
          "color": "#00cc96",
          "pattern": {
           "shape": ""
          }
         },
         "name": "Little Bird Pokémon",
         "offsetgroup": "Little Bird Pokémon",
         "orientation": "v",
         "showlegend": true,
         "textposition": "auto",
         "type": "bar",
         "x": [
          "psychic"
         ],
         "xaxis": "x",
         "y": [
          1
         ],
         "yaxis": "y"
        },
        {
         "alignmentgroup": "True",
         "hovertemplate": "classfication=Mystic Pokémon<br>type1=%{x}<br>count=%{y}<extra></extra>",
         "legendgroup": "Mystic Pokémon",
         "marker": {
          "color": "#ab63fa",
          "pattern": {
           "shape": ""
          }
         },
         "name": "Mystic Pokémon",
         "offsetgroup": "Mystic Pokémon",
         "orientation": "v",
         "showlegend": true,
         "textposition": "auto",
         "type": "bar",
         "x": [
          "psychic",
          "ground"
         ],
         "xaxis": "x",
         "y": [
          1,
          1
         ],
         "yaxis": "y"
        },
        {
         "alignmentgroup": "True",
         "hovertemplate": "classfication=Wool Pokémon<br>type1=%{x}<br>count=%{y}<extra></extra>",
         "legendgroup": "Wool Pokémon",
         "marker": {
          "color": "#FFA15A",
          "pattern": {
           "shape": ""
          }
         },
         "name": "Wool Pokémon",
         "offsetgroup": "Wool Pokémon",
         "orientation": "v",
         "showlegend": true,
         "textposition": "auto",
         "type": "bar",
         "x": [
          "electric",
          "electric"
         ],
         "xaxis": "x",
         "y": [
          1,
          1
         ],
         "yaxis": "y"
        },
        {
         "alignmentgroup": "True",
         "hovertemplate": "classfication=Aquamouse Pokémon<br>type1=%{x}<br>count=%{y}<extra></extra>",
         "legendgroup": "Aquamouse Pokémon",
         "marker": {
          "color": "#19d3f3",
          "pattern": {
           "shape": ""
          }
         },
         "name": "Aquamouse Pokémon",
         "offsetgroup": "Aquamouse Pokémon",
         "orientation": "v",
         "showlegend": true,
         "textposition": "auto",
         "type": "bar",
         "x": [
          "water"
         ],
         "xaxis": "x",
         "y": [
          1
         ],
         "yaxis": "y"
        },
        {
         "alignmentgroup": "True",
         "hovertemplate": "classfication=Aquarabbit Pokémon<br>type1=%{x}<br>count=%{y}<extra></extra>",
         "legendgroup": "Aquarabbit Pokémon",
         "marker": {
          "color": "#FF6692",
          "pattern": {
           "shape": ""
          }
         },
         "name": "Aquarabbit Pokémon",
         "offsetgroup": "Aquarabbit Pokémon",
         "orientation": "v",
         "showlegend": true,
         "textposition": "auto",
         "type": "bar",
         "x": [
          "water"
         ],
         "xaxis": "x",
         "y": [
          1
         ],
         "yaxis": "y"
        },
        {
         "alignmentgroup": "True",
         "hovertemplate": "classfication=Imitation Pokémon<br>type1=%{x}<br>count=%{y}<extra></extra>",
         "legendgroup": "Imitation Pokémon",
         "marker": {
          "color": "#B6E880",
          "pattern": {
           "shape": ""
          }
         },
         "name": "Imitation Pokémon",
         "offsetgroup": "Imitation Pokémon",
         "orientation": "v",
         "showlegend": true,
         "textposition": "auto",
         "type": "bar",
         "x": [
          "rock"
         ],
         "xaxis": "x",
         "y": [
          1
         ],
         "yaxis": "y"
        },
        {
         "alignmentgroup": "True",
         "hovertemplate": "classfication=Frog Pokémon<br>type1=%{x}<br>count=%{y}<extra></extra>",
         "legendgroup": "Frog Pokémon",
         "marker": {
          "color": "#FF97FF",
          "pattern": {
           "shape": ""
          }
         },
         "name": "Frog Pokémon",
         "offsetgroup": "Frog Pokémon",
         "orientation": "v",
         "showlegend": true,
         "textposition": "auto",
         "type": "bar",
         "x": [
          "water"
         ],
         "xaxis": "x",
         "y": [
          1
         ],
         "yaxis": "y"
        },
        {
         "alignmentgroup": "True",
         "hovertemplate": "classfication=Cottonweed Pokémon<br>type1=%{x}<br>count=%{y}<extra></extra>",
         "legendgroup": "Cottonweed Pokémon",
         "marker": {
          "color": "#FECB52",
          "pattern": {
           "shape": ""
          }
         },
         "name": "Cottonweed Pokémon",
         "offsetgroup": "Cottonweed Pokémon",
         "orientation": "v",
         "showlegend": true,
         "textposition": "auto",
         "type": "bar",
         "x": [
          "grass",
          "grass",
          "grass"
         ],
         "xaxis": "x",
         "y": [
          1,
          1,
          1
         ],
         "yaxis": "y"
        },
        {
         "alignmentgroup": "True",
         "hovertemplate": "classfication=Long Tail Pokémon<br>type1=%{x}<br>count=%{y}<extra></extra>",
         "legendgroup": "Long Tail Pokémon",
         "marker": {
          "color": "#636efa",
          "pattern": {
           "shape": ""
          }
         },
         "name": "Long Tail Pokémon",
         "offsetgroup": "Long Tail Pokémon",
         "orientation": "v",
         "showlegend": true,
         "textposition": "auto",
         "type": "bar",
         "x": [
          "normal",
          "normal"
         ],
         "xaxis": "x",
         "y": [
          1,
          1
         ],
         "yaxis": "y"
        },
        {
         "alignmentgroup": "True",
         "hovertemplate": "classfication=Sun Pokémon<br>type1=%{x}<br>count=%{y}<extra></extra>",
         "legendgroup": "Sun Pokémon",
         "marker": {
          "color": "#EF553B",
          "pattern": {
           "shape": ""
          }
         },
         "name": "Sun Pokémon",
         "offsetgroup": "Sun Pokémon",
         "orientation": "v",
         "showlegend": true,
         "textposition": "auto",
         "type": "bar",
         "x": [
          "grass",
          "psychic",
          "bug"
         ],
         "xaxis": "x",
         "y": [
          1,
          1,
          1
         ],
         "yaxis": "y"
        },
        {
         "alignmentgroup": "True",
         "hovertemplate": "classfication=Clear Wing Pokémon<br>type1=%{x}<br>count=%{y}<extra></extra>",
         "legendgroup": "Clear Wing Pokémon",
         "marker": {
          "color": "#00cc96",
          "pattern": {
           "shape": ""
          }
         },
         "name": "Clear Wing Pokémon",
         "offsetgroup": "Clear Wing Pokémon",
         "orientation": "v",
         "showlegend": true,
         "textposition": "auto",
         "type": "bar",
         "x": [
          "bug"
         ],
         "xaxis": "x",
         "y": [
          1
         ],
         "yaxis": "y"
        },
        {
         "alignmentgroup": "True",
         "hovertemplate": "classfication=Water Fish Pokémon<br>type1=%{x}<br>count=%{y}<extra></extra>",
         "legendgroup": "Water Fish Pokémon",
         "marker": {
          "color": "#ab63fa",
          "pattern": {
           "shape": ""
          }
         },
         "name": "Water Fish Pokémon",
         "offsetgroup": "Water Fish Pokémon",
         "orientation": "v",
         "showlegend": true,
         "textposition": "auto",
         "type": "bar",
         "x": [
          "water",
          "water"
         ],
         "xaxis": "x",
         "y": [
          1,
          1
         ],
         "yaxis": "y"
        },
        {
         "alignmentgroup": "True",
         "hovertemplate": "classfication=Moonlight Pokémon<br>type1=%{x}<br>count=%{y}<extra></extra>",
         "legendgroup": "Moonlight Pokémon",
         "marker": {
          "color": "#FFA15A",
          "pattern": {
           "shape": ""
          }
         },
         "name": "Moonlight Pokémon",
         "offsetgroup": "Moonlight Pokémon",
         "orientation": "v",
         "showlegend": true,
         "textposition": "auto",
         "type": "bar",
         "x": [
          "dark"
         ],
         "xaxis": "x",
         "y": [
          1
         ],
         "yaxis": "y"
        },
        {
         "alignmentgroup": "True",
         "hovertemplate": "classfication=Darkness Pokémon<br>type1=%{x}<br>count=%{y}<extra></extra>",
         "legendgroup": "Darkness Pokémon",
         "marker": {
          "color": "#19d3f3",
          "pattern": {
           "shape": ""
          }
         },
         "name": "Darkness Pokémon",
         "offsetgroup": "Darkness Pokémon",
         "orientation": "v",
         "showlegend": true,
         "textposition": "auto",
         "type": "bar",
         "x": [
          "dark",
          "dark"
         ],
         "xaxis": "x",
         "y": [
          1,
          1
         ],
         "yaxis": "y"
        },
        {
         "alignmentgroup": "True",
         "hovertemplate": "classfication=Royal Pokémon<br>type1=%{x}<br>count=%{y}<extra></extra>",
         "legendgroup": "Royal Pokémon",
         "marker": {
          "color": "#FF6692",
          "pattern": {
           "shape": ""
          }
         },
         "name": "Royal Pokémon",
         "offsetgroup": "Royal Pokémon",
         "orientation": "v",
         "showlegend": true,
         "textposition": "auto",
         "type": "bar",
         "x": [
          "water",
          "fire"
         ],
         "xaxis": "x",
         "y": [
          1,
          1
         ],
         "yaxis": "y"
        },
        {
         "alignmentgroup": "True",
         "hovertemplate": "classfication=Screech Pokémon<br>type1=%{x}<br>count=%{y}<extra></extra>",
         "legendgroup": "Screech Pokémon",
         "marker": {
          "color": "#B6E880",
          "pattern": {
           "shape": ""
          }
         },
         "name": "Screech Pokémon",
         "offsetgroup": "Screech Pokémon",
         "orientation": "v",
         "showlegend": true,
         "textposition": "auto",
         "type": "bar",
         "x": [
          "ghost"
         ],
         "xaxis": "x",
         "y": [
          1
         ],
         "yaxis": "y"
        },
        {
         "alignmentgroup": "True",
         "hovertemplate": "classfication=Symbol Pokémon<br>type1=%{x}<br>count=%{y}<extra></extra>",
         "legendgroup": "Symbol Pokémon",
         "marker": {
          "color": "#FF97FF",
          "pattern": {
           "shape": ""
          }
         },
         "name": "Symbol Pokémon",
         "offsetgroup": "Symbol Pokémon",
         "orientation": "v",
         "showlegend": true,
         "textposition": "auto",
         "type": "bar",
         "x": [
          "psychic"
         ],
         "xaxis": "x",
         "y": [
          1
         ],
         "yaxis": "y"
        },
        {
         "alignmentgroup": "True",
         "hovertemplate": "classfication=Patient Pokémon<br>type1=%{x}<br>count=%{y}<extra></extra>",
         "legendgroup": "Patient Pokémon",
         "marker": {
          "color": "#FECB52",
          "pattern": {
           "shape": ""
          }
         },
         "name": "Patient Pokémon",
         "offsetgroup": "Patient Pokémon",
         "orientation": "v",
         "showlegend": true,
         "textposition": "auto",
         "type": "bar",
         "x": [
          "psychic"
         ],
         "xaxis": "x",
         "y": [
          1
         ],
         "yaxis": "y"
        },
        {
         "alignmentgroup": "True",
         "hovertemplate": "classfication=Long Neck Pokémon<br>type1=%{x}<br>count=%{y}<extra></extra>",
         "legendgroup": "Long Neck Pokémon",
         "marker": {
          "color": "#636efa",
          "pattern": {
           "shape": ""
          }
         },
         "name": "Long Neck Pokémon",
         "offsetgroup": "Long Neck Pokémon",
         "orientation": "v",
         "showlegend": true,
         "textposition": "auto",
         "type": "bar",
         "x": [
          "normal"
         ],
         "xaxis": "x",
         "y": [
          1
         ],
         "yaxis": "y"
        },
        {
         "alignmentgroup": "True",
         "hovertemplate": "classfication=Bagworm Pokémon<br>type1=%{x}<br>count=%{y}<extra></extra>",
         "legendgroup": "Bagworm Pokémon",
         "marker": {
          "color": "#EF553B",
          "pattern": {
           "shape": ""
          }
         },
         "name": "Bagworm Pokémon",
         "offsetgroup": "Bagworm Pokémon",
         "orientation": "v",
         "showlegend": true,
         "textposition": "auto",
         "type": "bar",
         "x": [
          "bug",
          "bug",
          "bug",
          "bug"
         ],
         "xaxis": "x",
         "y": [
          1,
          1,
          1,
          1
         ],
         "yaxis": "y"
        },
        {
         "alignmentgroup": "True",
         "hovertemplate": "classfication=Land Snake Pokémon<br>type1=%{x}<br>count=%{y}<extra></extra>",
         "legendgroup": "Land Snake Pokémon",
         "marker": {
          "color": "#00cc96",
          "pattern": {
           "shape": ""
          }
         },
         "name": "Land Snake Pokémon",
         "offsetgroup": "Land Snake Pokémon",
         "orientation": "v",
         "showlegend": true,
         "textposition": "auto",
         "type": "bar",
         "x": [
          "normal"
         ],
         "xaxis": "x",
         "y": [
          1
         ],
         "yaxis": "y"
        },
        {
         "alignmentgroup": "True",
         "hovertemplate": "classfication=Flyscorpion Pokémon<br>type1=%{x}<br>count=%{y}<extra></extra>",
         "legendgroup": "Flyscorpion Pokémon",
         "marker": {
          "color": "#ab63fa",
          "pattern": {
           "shape": ""
          }
         },
         "name": "Flyscorpion Pokémon",
         "offsetgroup": "Flyscorpion Pokémon",
         "orientation": "v",
         "showlegend": true,
         "textposition": "auto",
         "type": "bar",
         "x": [
          "ground"
         ],
         "xaxis": "x",
         "y": [
          1
         ],
         "yaxis": "y"
        },
        {
         "alignmentgroup": "True",
         "hovertemplate": "classfication=Iron Snake Pokémon<br>type1=%{x}<br>count=%{y}<extra></extra>",
         "legendgroup": "Iron Snake Pokémon",
         "marker": {
          "color": "#FFA15A",
          "pattern": {
           "shape": ""
          }
         },
         "name": "Iron Snake Pokémon",
         "offsetgroup": "Iron Snake Pokémon",
         "orientation": "v",
         "showlegend": true,
         "textposition": "auto",
         "type": "bar",
         "x": [
          "steel"
         ],
         "xaxis": "x",
         "y": [
          1
         ],
         "yaxis": "y"
        },
        {
         "alignmentgroup": "True",
         "hovertemplate": "classfication=Mold Pokémon<br>type1=%{x}<br>count=%{y}<extra></extra>",
         "legendgroup": "Mold Pokémon",
         "marker": {
          "color": "#19d3f3",
          "pattern": {
           "shape": ""
          }
         },
         "name": "Mold Pokémon",
         "offsetgroup": "Mold Pokémon",
         "orientation": "v",
         "showlegend": true,
         "textposition": "auto",
         "type": "bar",
         "x": [
          "bug"
         ],
         "xaxis": "x",
         "y": [
          1
         ],
         "yaxis": "y"
        },
        {
         "alignmentgroup": "True",
         "hovertemplate": "classfication=Singlehorn Pokémon<br>type1=%{x}<br>count=%{y}<extra></extra>",
         "legendgroup": "Singlehorn Pokémon",
         "marker": {
          "color": "#FF6692",
          "pattern": {
           "shape": ""
          }
         },
         "name": "Singlehorn Pokémon",
         "offsetgroup": "Singlehorn Pokémon",
         "orientation": "v",
         "showlegend": true,
         "textposition": "auto",
         "type": "bar",
         "x": [
          "bug"
         ],
         "xaxis": "x",
         "y": [
          1
         ],
         "yaxis": "y"
        },
        {
         "alignmentgroup": "True",
         "hovertemplate": "classfication=Sharp Claw Pokémon<br>type1=%{x}<br>count=%{y}<extra></extra>",
         "legendgroup": "Sharp Claw Pokémon",
         "marker": {
          "color": "#B6E880",
          "pattern": {
           "shape": ""
          }
         },
         "name": "Sharp Claw Pokémon",
         "offsetgroup": "Sharp Claw Pokémon",
         "orientation": "v",
         "showlegend": true,
         "textposition": "auto",
         "type": "bar",
         "x": [
          "dark",
          "dark"
         ],
         "xaxis": "x",
         "y": [
          1,
          1
         ],
         "yaxis": "y"
        },
        {
         "alignmentgroup": "True",
         "hovertemplate": "classfication=Little Bear Pokémon<br>type1=%{x}<br>count=%{y}<extra></extra>",
         "legendgroup": "Little Bear Pokémon",
         "marker": {
          "color": "#FF97FF",
          "pattern": {
           "shape": ""
          }
         },
         "name": "Little Bear Pokémon",
         "offsetgroup": "Little Bear Pokémon",
         "orientation": "v",
         "showlegend": true,
         "textposition": "auto",
         "type": "bar",
         "x": [
          "normal"
         ],
         "xaxis": "x",
         "y": [
          1
         ],
         "yaxis": "y"
        },
        {
         "alignmentgroup": "True",
         "hovertemplate": "classfication=Hibernator Pokémon<br>type1=%{x}<br>count=%{y}<extra></extra>",
         "legendgroup": "Hibernator Pokémon",
         "marker": {
          "color": "#FECB52",
          "pattern": {
           "shape": ""
          }
         },
         "name": "Hibernator Pokémon",
         "offsetgroup": "Hibernator Pokémon",
         "orientation": "v",
         "showlegend": true,
         "textposition": "auto",
         "type": "bar",
         "x": [
          "normal"
         ],
         "xaxis": "x",
         "y": [
          1
         ],
         "yaxis": "y"
        },
        {
         "alignmentgroup": "True",
         "hovertemplate": "classfication=Lava Pokémon<br>type1=%{x}<br>count=%{y}<extra></extra>",
         "legendgroup": "Lava Pokémon",
         "marker": {
          "color": "#636efa",
          "pattern": {
           "shape": ""
          }
         },
         "name": "Lava Pokémon",
         "offsetgroup": "Lava Pokémon",
         "orientation": "v",
         "showlegend": true,
         "textposition": "auto",
         "type": "bar",
         "x": [
          "fire",
          "fire"
         ],
         "xaxis": "x",
         "y": [
          1,
          1
         ],
         "yaxis": "y"
        },
        {
         "alignmentgroup": "True",
         "hovertemplate": "classfication=Pig Pokémon<br>type1=%{x}<br>count=%{y}<extra></extra>",
         "legendgroup": "Pig Pokémon",
         "marker": {
          "color": "#EF553B",
          "pattern": {
           "shape": ""
          }
         },
         "name": "Pig Pokémon",
         "offsetgroup": "Pig Pokémon",
         "orientation": "v",
         "showlegend": true,
         "textposition": "auto",
         "type": "bar",
         "x": [
          "ice"
         ],
         "xaxis": "x",
         "y": [
          1
         ],
         "yaxis": "y"
        },
        {
         "alignmentgroup": "True",
         "hovertemplate": "classfication=Swine Pokémon<br>type1=%{x}<br>count=%{y}<extra></extra>",
         "legendgroup": "Swine Pokémon",
         "marker": {
          "color": "#00cc96",
          "pattern": {
           "shape": ""
          }
         },
         "name": "Swine Pokémon",
         "offsetgroup": "Swine Pokémon",
         "orientation": "v",
         "showlegend": true,
         "textposition": "auto",
         "type": "bar",
         "x": [
          "ice"
         ],
         "xaxis": "x",
         "y": [
          1
         ],
         "yaxis": "y"
        },
        {
         "alignmentgroup": "True",
         "hovertemplate": "classfication=Coral Pokémon<br>type1=%{x}<br>count=%{y}<extra></extra>",
         "legendgroup": "Coral Pokémon",
         "marker": {
          "color": "#ab63fa",
          "pattern": {
           "shape": ""
          }
         },
         "name": "Coral Pokémon",
         "offsetgroup": "Coral Pokémon",
         "orientation": "v",
         "showlegend": true,
         "textposition": "auto",
         "type": "bar",
         "x": [
          "water"
         ],
         "xaxis": "x",
         "y": [
          1
         ],
         "yaxis": "y"
        },
        {
         "alignmentgroup": "True",
         "hovertemplate": "classfication=Jet Pokémon<br>type1=%{x}<br>count=%{y}<extra></extra>",
         "legendgroup": "Jet Pokémon",
         "marker": {
          "color": "#FFA15A",
          "pattern": {
           "shape": ""
          }
         },
         "name": "Jet Pokémon",
         "offsetgroup": "Jet Pokémon",
         "orientation": "v",
         "showlegend": true,
         "textposition": "auto",
         "type": "bar",
         "x": [
          "water",
          "water"
         ],
         "xaxis": "x",
         "y": [
          1,
          1
         ],
         "yaxis": "y"
        },
        {
         "alignmentgroup": "True",
         "hovertemplate": "classfication=Delivery Pokémon<br>type1=%{x}<br>count=%{y}<extra></extra>",
         "legendgroup": "Delivery Pokémon",
         "marker": {
          "color": "#19d3f3",
          "pattern": {
           "shape": ""
          }
         },
         "name": "Delivery Pokémon",
         "offsetgroup": "Delivery Pokémon",
         "orientation": "v",
         "showlegend": true,
         "textposition": "auto",
         "type": "bar",
         "x": [
          "ice"
         ],
         "xaxis": "x",
         "y": [
          1
         ],
         "yaxis": "y"
        },
        {
         "alignmentgroup": "True",
         "hovertemplate": "classfication=Kite Pokémon<br>type1=%{x}<br>count=%{y}<extra></extra>",
         "legendgroup": "Kite Pokémon",
         "marker": {
          "color": "#FF6692",
          "pattern": {
           "shape": ""
          }
         },
         "name": "Kite Pokémon",
         "offsetgroup": "Kite Pokémon",
         "orientation": "v",
         "showlegend": true,
         "textposition": "auto",
         "type": "bar",
         "x": [
          "water",
          "water"
         ],
         "xaxis": "x",
         "y": [
          1,
          1
         ],
         "yaxis": "y"
        },
        {
         "alignmentgroup": "True",
         "hovertemplate": "classfication=Armor Bird Pokémon<br>type1=%{x}<br>count=%{y}<extra></extra>",
         "legendgroup": "Armor Bird Pokémon",
         "marker": {
          "color": "#B6E880",
          "pattern": {
           "shape": ""
          }
         },
         "name": "Armor Bird Pokémon",
         "offsetgroup": "Armor Bird Pokémon",
         "orientation": "v",
         "showlegend": true,
         "textposition": "auto",
         "type": "bar",
         "x": [
          "steel"
         ],
         "xaxis": "x",
         "y": [
          1
         ],
         "yaxis": "y"
        },
        {
         "alignmentgroup": "True",
         "hovertemplate": "classfication=Dark Pokémon<br>type1=%{x}<br>count=%{y}<extra></extra>",
         "legendgroup": "Dark Pokémon",
         "marker": {
          "color": "#FF97FF",
          "pattern": {
           "shape": ""
          }
         },
         "name": "Dark Pokémon",
         "offsetgroup": "Dark Pokémon",
         "orientation": "v",
         "showlegend": true,
         "textposition": "auto",
         "type": "bar",
         "x": [
          "dark",
          "dark"
         ],
         "xaxis": "x",
         "y": [
          1,
          1
         ],
         "yaxis": "y"
        },
        {
         "alignmentgroup": "True",
         "hovertemplate": "classfication=Long Nose Pokémon<br>type1=%{x}<br>count=%{y}<extra></extra>",
         "legendgroup": "Long Nose Pokémon",
         "marker": {
          "color": "#FECB52",
          "pattern": {
           "shape": ""
          }
         },
         "name": "Long Nose Pokémon",
         "offsetgroup": "Long Nose Pokémon",
         "orientation": "v",
         "showlegend": true,
         "textposition": "auto",
         "type": "bar",
         "x": [
          "ground"
         ],
         "xaxis": "x",
         "y": [
          1
         ],
         "yaxis": "y"
        },
        {
         "alignmentgroup": "True",
         "hovertemplate": "classfication=Armor Pokémon<br>type1=%{x}<br>count=%{y}<extra></extra>",
         "legendgroup": "Armor Pokémon",
         "marker": {
          "color": "#636efa",
          "pattern": {
           "shape": ""
          }
         },
         "name": "Armor Pokémon",
         "offsetgroup": "Armor Pokémon",
         "orientation": "v",
         "showlegend": true,
         "textposition": "auto",
         "type": "bar",
         "x": [
          "ground",
          "rock"
         ],
         "xaxis": "x",
         "y": [
          1,
          1
         ],
         "yaxis": "y"
        },
        {
         "alignmentgroup": "True",
         "hovertemplate": "classfication=Big Horn Pokémon<br>type1=%{x}<br>count=%{y}<extra></extra>",
         "legendgroup": "Big Horn Pokémon",
         "marker": {
          "color": "#EF553B",
          "pattern": {
           "shape": ""
          }
         },
         "name": "Big Horn Pokémon",
         "offsetgroup": "Big Horn Pokémon",
         "orientation": "v",
         "showlegend": true,
         "textposition": "auto",
         "type": "bar",
         "x": [
          "normal"
         ],
         "xaxis": "x",
         "y": [
          1
         ],
         "yaxis": "y"
        },
        {
         "alignmentgroup": "True",
         "hovertemplate": "classfication=Painter Pokémon<br>type1=%{x}<br>count=%{y}<extra></extra>",
         "legendgroup": "Painter Pokémon",
         "marker": {
          "color": "#00cc96",
          "pattern": {
           "shape": ""
          }
         },
         "name": "Painter Pokémon",
         "offsetgroup": "Painter Pokémon",
         "orientation": "v",
         "showlegend": true,
         "textposition": "auto",
         "type": "bar",
         "x": [
          "normal"
         ],
         "xaxis": "x",
         "y": [
          1
         ],
         "yaxis": "y"
        },
        {
         "alignmentgroup": "True",
         "hovertemplate": "classfication=Scuffle Pokémon<br>type1=%{x}<br>count=%{y}<extra></extra>",
         "legendgroup": "Scuffle Pokémon",
         "marker": {
          "color": "#ab63fa",
          "pattern": {
           "shape": ""
          }
         },
         "name": "Scuffle Pokémon",
         "offsetgroup": "Scuffle Pokémon",
         "orientation": "v",
         "showlegend": true,
         "textposition": "auto",
         "type": "bar",
         "x": [
          "fighting"
         ],
         "xaxis": "x",
         "y": [
          1
         ],
         "yaxis": "y"
        },
        {
         "alignmentgroup": "True",
         "hovertemplate": "classfication=Handstand Pokémon<br>type1=%{x}<br>count=%{y}<extra></extra>",
         "legendgroup": "Handstand Pokémon",
         "marker": {
          "color": "#FFA15A",
          "pattern": {
           "shape": ""
          }
         },
         "name": "Handstand Pokémon",
         "offsetgroup": "Handstand Pokémon",
         "orientation": "v",
         "showlegend": true,
         "textposition": "auto",
         "type": "bar",
         "x": [
          "fighting"
         ],
         "xaxis": "x",
         "y": [
          1
         ],
         "yaxis": "y"
        },
        {
         "alignmentgroup": "True",
         "hovertemplate": "classfication=Kiss Pokémon<br>type1=%{x}<br>count=%{y}<extra></extra>",
         "legendgroup": "Kiss Pokémon",
         "marker": {
          "color": "#19d3f3",
          "pattern": {
           "shape": ""
          }
         },
         "name": "Kiss Pokémon",
         "offsetgroup": "Kiss Pokémon",
         "orientation": "v",
         "showlegend": true,
         "textposition": "auto",
         "type": "bar",
         "x": [
          "ice"
         ],
         "xaxis": "x",
         "y": [
          1
         ],
         "yaxis": "y"
        },
        {
         "alignmentgroup": "True",
         "hovertemplate": "classfication=Live Coal Pokémon<br>type1=%{x}<br>count=%{y}<extra></extra>",
         "legendgroup": "Live Coal Pokémon",
         "marker": {
          "color": "#FF6692",
          "pattern": {
           "shape": ""
          }
         },
         "name": "Live Coal Pokémon",
         "offsetgroup": "Live Coal Pokémon",
         "orientation": "v",
         "showlegend": true,
         "textposition": "auto",
         "type": "bar",
         "x": [
          "fire"
         ],
         "xaxis": "x",
         "y": [
          1
         ],
         "yaxis": "y"
        },
        {
         "alignmentgroup": "True",
         "hovertemplate": "classfication=Milk Cow Pokémon<br>type1=%{x}<br>count=%{y}<extra></extra>",
         "legendgroup": "Milk Cow Pokémon",
         "marker": {
          "color": "#B6E880",
          "pattern": {
           "shape": ""
          }
         },
         "name": "Milk Cow Pokémon",
         "offsetgroup": "Milk Cow Pokémon",
         "orientation": "v",
         "showlegend": true,
         "textposition": "auto",
         "type": "bar",
         "x": [
          "normal"
         ],
         "xaxis": "x",
         "y": [
          1
         ],
         "yaxis": "y"
        },
        {
         "alignmentgroup": "True",
         "hovertemplate": "classfication=Thunder Pokémon<br>type1=%{x}<br>count=%{y}<extra></extra>",
         "legendgroup": "Thunder Pokémon",
         "marker": {
          "color": "#FF97FF",
          "pattern": {
           "shape": ""
          }
         },
         "name": "Thunder Pokémon",
         "offsetgroup": "Thunder Pokémon",
         "orientation": "v",
         "showlegend": true,
         "textposition": "auto",
         "type": "bar",
         "x": [
          "electric"
         ],
         "xaxis": "x",
         "y": [
          1
         ],
         "yaxis": "y"
        },
        {
         "alignmentgroup": "True",
         "hovertemplate": "classfication=Aurora Pokémon<br>type1=%{x}<br>count=%{y}<extra></extra>",
         "legendgroup": "Aurora Pokémon",
         "marker": {
          "color": "#FECB52",
          "pattern": {
           "shape": ""
          }
         },
         "name": "Aurora Pokémon",
         "offsetgroup": "Aurora Pokémon",
         "orientation": "v",
         "showlegend": true,
         "textposition": "auto",
         "type": "bar",
         "x": [
          "water"
         ],
         "xaxis": "x",
         "y": [
          1
         ],
         "yaxis": "y"
        },
        {
         "alignmentgroup": "True",
         "hovertemplate": "classfication=Rock Skin Pokémon<br>type1=%{x}<br>count=%{y}<extra></extra>",
         "legendgroup": "Rock Skin Pokémon",
         "marker": {
          "color": "#636efa",
          "pattern": {
           "shape": ""
          }
         },
         "name": "Rock Skin Pokémon",
         "offsetgroup": "Rock Skin Pokémon",
         "orientation": "v",
         "showlegend": true,
         "textposition": "auto",
         "type": "bar",
         "x": [
          "rock"
         ],
         "xaxis": "x",
         "y": [
          1
         ],
         "yaxis": "y"
        },
        {
         "alignmentgroup": "True",
         "hovertemplate": "classfication=Hard Shell Pokémon<br>type1=%{x}<br>count=%{y}<extra></extra>",
         "legendgroup": "Hard Shell Pokémon",
         "marker": {
          "color": "#EF553B",
          "pattern": {
           "shape": ""
          }
         },
         "name": "Hard Shell Pokémon",
         "offsetgroup": "Hard Shell Pokémon",
         "orientation": "v",
         "showlegend": true,
         "textposition": "auto",
         "type": "bar",
         "x": [
          "rock"
         ],
         "xaxis": "x",
         "y": [
          1
         ],
         "yaxis": "y"
        },
        {
         "alignmentgroup": "True",
         "hovertemplate": "classfication=Diving Pokémon<br>type1=%{x}<br>count=%{y}<extra></extra>",
         "legendgroup": "Diving Pokémon",
         "marker": {
          "color": "#00cc96",
          "pattern": {
           "shape": ""
          }
         },
         "name": "Diving Pokémon",
         "offsetgroup": "Diving Pokémon",
         "orientation": "v",
         "showlegend": true,
         "textposition": "auto",
         "type": "bar",
         "x": [
          "psychic"
         ],
         "xaxis": "x",
         "y": [
          1
         ],
         "yaxis": "y"
        },
        {
         "alignmentgroup": "True",
         "hovertemplate": "classfication=Rainbow Pokémon<br>type1=%{x}<br>count=%{y}<extra></extra>",
         "legendgroup": "Rainbow Pokémon",
         "marker": {
          "color": "#ab63fa",
          "pattern": {
           "shape": ""
          }
         },
         "name": "Rainbow Pokémon",
         "offsetgroup": "Rainbow Pokémon",
         "orientation": "v",
         "showlegend": true,
         "textposition": "auto",
         "type": "bar",
         "x": [
          "fire"
         ],
         "xaxis": "x",
         "y": [
          1
         ],
         "yaxis": "y"
        },
        {
         "alignmentgroup": "True",
         "hovertemplate": "classfication=Time Travel Pokémon<br>type1=%{x}<br>count=%{y}<extra></extra>",
         "legendgroup": "Time Travel Pokémon",
         "marker": {
          "color": "#FFA15A",
          "pattern": {
           "shape": ""
          }
         },
         "name": "Time Travel Pokémon",
         "offsetgroup": "Time Travel Pokémon",
         "orientation": "v",
         "showlegend": true,
         "textposition": "auto",
         "type": "bar",
         "x": [
          "psychic"
         ],
         "xaxis": "x",
         "y": [
          1
         ],
         "yaxis": "y"
        },
        {
         "alignmentgroup": "True",
         "hovertemplate": "classfication=Wood Gecko Pokémon<br>type1=%{x}<br>count=%{y}<extra></extra>",
         "legendgroup": "Wood Gecko Pokémon",
         "marker": {
          "color": "#19d3f3",
          "pattern": {
           "shape": ""
          }
         },
         "name": "Wood Gecko Pokémon",
         "offsetgroup": "Wood Gecko Pokémon",
         "orientation": "v",
         "showlegend": true,
         "textposition": "auto",
         "type": "bar",
         "x": [
          "grass",
          "grass"
         ],
         "xaxis": "x",
         "y": [
          1,
          1
         ],
         "yaxis": "y"
        },
        {
         "alignmentgroup": "True",
         "hovertemplate": "classfication=Forest Pokémon<br>type1=%{x}<br>count=%{y}<extra></extra>",
         "legendgroup": "Forest Pokémon",
         "marker": {
          "color": "#FF6692",
          "pattern": {
           "shape": ""
          }
         },
         "name": "Forest Pokémon",
         "offsetgroup": "Forest Pokémon",
         "orientation": "v",
         "showlegend": true,
         "textposition": "auto",
         "type": "bar",
         "x": [
          "grass"
         ],
         "xaxis": "x",
         "y": [
          1
         ],
         "yaxis": "y"
        },
        {
         "alignmentgroup": "True",
         "hovertemplate": "classfication=Chick Pokémon<br>type1=%{x}<br>count=%{y}<extra></extra>",
         "legendgroup": "Chick Pokémon",
         "marker": {
          "color": "#B6E880",
          "pattern": {
           "shape": ""
          }
         },
         "name": "Chick Pokémon",
         "offsetgroup": "Chick Pokémon",
         "orientation": "v",
         "showlegend": true,
         "textposition": "auto",
         "type": "bar",
         "x": [
          "fire"
         ],
         "xaxis": "x",
         "y": [
          1
         ],
         "yaxis": "y"
        },
        {
         "alignmentgroup": "True",
         "hovertemplate": "classfication=Young Fowl Pokémon<br>type1=%{x}<br>count=%{y}<extra></extra>",
         "legendgroup": "Young Fowl Pokémon",
         "marker": {
          "color": "#FF97FF",
          "pattern": {
           "shape": ""
          }
         },
         "name": "Young Fowl Pokémon",
         "offsetgroup": "Young Fowl Pokémon",
         "orientation": "v",
         "showlegend": true,
         "textposition": "auto",
         "type": "bar",
         "x": [
          "fire"
         ],
         "xaxis": "x",
         "y": [
          1
         ],
         "yaxis": "y"
        },
        {
         "alignmentgroup": "True",
         "hovertemplate": "classfication=Blaze Pokémon<br>type1=%{x}<br>count=%{y}<extra></extra>",
         "legendgroup": "Blaze Pokémon",
         "marker": {
          "color": "#FECB52",
          "pattern": {
           "shape": ""
          }
         },
         "name": "Blaze Pokémon",
         "offsetgroup": "Blaze Pokémon",
         "orientation": "v",
         "showlegend": true,
         "textposition": "auto",
         "type": "bar",
         "x": [
          "fire"
         ],
         "xaxis": "x",
         "y": [
          1
         ],
         "yaxis": "y"
        },
        {
         "alignmentgroup": "True",
         "hovertemplate": "classfication=Mud Fish Pokémon<br>type1=%{x}<br>count=%{y}<extra></extra>",
         "legendgroup": "Mud Fish Pokémon",
         "marker": {
          "color": "#636efa",
          "pattern": {
           "shape": ""
          }
         },
         "name": "Mud Fish Pokémon",
         "offsetgroup": "Mud Fish Pokémon",
         "orientation": "v",
         "showlegend": true,
         "textposition": "auto",
         "type": "bar",
         "x": [
          "water",
          "water",
          "water"
         ],
         "xaxis": "x",
         "y": [
          1,
          1,
          1
         ],
         "yaxis": "y"
        },
        {
         "alignmentgroup": "True",
         "hovertemplate": "classfication=Bite Pokémon<br>type1=%{x}<br>count=%{y}<extra></extra>",
         "legendgroup": "Bite Pokémon",
         "marker": {
          "color": "#EF553B",
          "pattern": {
           "shape": ""
          }
         },
         "name": "Bite Pokémon",
         "offsetgroup": "Bite Pokémon",
         "orientation": "v",
         "showlegend": true,
         "textposition": "auto",
         "type": "bar",
         "x": [
          "dark",
          "dark"
         ],
         "xaxis": "x",
         "y": [
          1,
          1
         ],
         "yaxis": "y"
        },
        {
         "alignmentgroup": "True",
         "hovertemplate": "classfication=Tiny Racoon Pokémon<br>type1=%{x}<br>count=%{y}<extra></extra>",
         "legendgroup": "Tiny Racoon Pokémon",
         "marker": {
          "color": "#00cc96",
          "pattern": {
           "shape": ""
          }
         },
         "name": "Tiny Racoon Pokémon",
         "offsetgroup": "Tiny Racoon Pokémon",
         "orientation": "v",
         "showlegend": true,
         "textposition": "auto",
         "type": "bar",
         "x": [
          "normal"
         ],
         "xaxis": "x",
         "y": [
          1
         ],
         "yaxis": "y"
        },
        {
         "alignmentgroup": "True",
         "hovertemplate": "classfication=Rush Pokémon<br>type1=%{x}<br>count=%{y}<extra></extra>",
         "legendgroup": "Rush Pokémon",
         "marker": {
          "color": "#ab63fa",
          "pattern": {
           "shape": ""
          }
         },
         "name": "Rush Pokémon",
         "offsetgroup": "Rush Pokémon",
         "orientation": "v",
         "showlegend": true,
         "textposition": "auto",
         "type": "bar",
         "x": [
          "normal"
         ],
         "xaxis": "x",
         "y": [
          1
         ],
         "yaxis": "y"
        },
        {
         "alignmentgroup": "True",
         "hovertemplate": "classfication=Water Weed Pokémon<br>type1=%{x}<br>count=%{y}<extra></extra>",
         "legendgroup": "Water Weed Pokémon",
         "marker": {
          "color": "#FFA15A",
          "pattern": {
           "shape": ""
          }
         },
         "name": "Water Weed Pokémon",
         "offsetgroup": "Water Weed Pokémon",
         "orientation": "v",
         "showlegend": true,
         "textposition": "auto",
         "type": "bar",
         "x": [
          "water"
         ],
         "xaxis": "x",
         "y": [
          1
         ],
         "yaxis": "y"
        },
        {
         "alignmentgroup": "True",
         "hovertemplate": "classfication=Jolly Pokémon<br>type1=%{x}<br>count=%{y}<extra></extra>",
         "legendgroup": "Jolly Pokémon",
         "marker": {
          "color": "#19d3f3",
          "pattern": {
           "shape": ""
          }
         },
         "name": "Jolly Pokémon",
         "offsetgroup": "Jolly Pokémon",
         "orientation": "v",
         "showlegend": true,
         "textposition": "auto",
         "type": "bar",
         "x": [
          "water"
         ],
         "xaxis": "x",
         "y": [
          1
         ],
         "yaxis": "y"
        },
        {
         "alignmentgroup": "True",
         "hovertemplate": "classfication=Carefree Pokémon<br>type1=%{x}<br>count=%{y}<extra></extra>",
         "legendgroup": "Carefree Pokémon",
         "marker": {
          "color": "#FF6692",
          "pattern": {
           "shape": ""
          }
         },
         "name": "Carefree Pokémon",
         "offsetgroup": "Carefree Pokémon",
         "orientation": "v",
         "showlegend": true,
         "textposition": "auto",
         "type": "bar",
         "x": [
          "water"
         ],
         "xaxis": "x",
         "y": [
          1
         ],
         "yaxis": "y"
        },
        {
         "alignmentgroup": "True",
         "hovertemplate": "classfication=Acorn Pokémon<br>type1=%{x}<br>count=%{y}<extra></extra>",
         "legendgroup": "Acorn Pokémon",
         "marker": {
          "color": "#B6E880",
          "pattern": {
           "shape": ""
          }
         },
         "name": "Acorn Pokémon",
         "offsetgroup": "Acorn Pokémon",
         "orientation": "v",
         "showlegend": true,
         "textposition": "auto",
         "type": "bar",
         "x": [
          "grass"
         ],
         "xaxis": "x",
         "y": [
          1
         ],
         "yaxis": "y"
        },
        {
         "alignmentgroup": "True",
         "hovertemplate": "classfication=Wily Pokémon<br>type1=%{x}<br>count=%{y}<extra></extra>",
         "legendgroup": "Wily Pokémon",
         "marker": {
          "color": "#FF97FF",
          "pattern": {
           "shape": ""
          }
         },
         "name": "Wily Pokémon",
         "offsetgroup": "Wily Pokémon",
         "orientation": "v",
         "showlegend": true,
         "textposition": "auto",
         "type": "bar",
         "x": [
          "grass"
         ],
         "xaxis": "x",
         "y": [
          1
         ],
         "yaxis": "y"
        },
        {
         "alignmentgroup": "True",
         "hovertemplate": "classfication=Wickid Pokémon<br>type1=%{x}<br>count=%{y}<extra></extra>",
         "legendgroup": "Wickid Pokémon",
         "marker": {
          "color": "#FECB52",
          "pattern": {
           "shape": ""
          }
         },
         "name": "Wickid Pokémon",
         "offsetgroup": "Wickid Pokémon",
         "orientation": "v",
         "showlegend": true,
         "textposition": "auto",
         "type": "bar",
         "x": [
          "grass"
         ],
         "xaxis": "x",
         "y": [
          1
         ],
         "yaxis": "y"
        },
        {
         "alignmentgroup": "True",
         "hovertemplate": "classfication=TinySwallow Pokémon<br>type1=%{x}<br>count=%{y}<extra></extra>",
         "legendgroup": "TinySwallow Pokémon",
         "marker": {
          "color": "#636efa",
          "pattern": {
           "shape": ""
          }
         },
         "name": "TinySwallow Pokémon",
         "offsetgroup": "TinySwallow Pokémon",
         "orientation": "v",
         "showlegend": true,
         "textposition": "auto",
         "type": "bar",
         "x": [
          "normal"
         ],
         "xaxis": "x",
         "y": [
          1
         ],
         "yaxis": "y"
        },
        {
         "alignmentgroup": "True",
         "hovertemplate": "classfication=Swallow Pokémon<br>type1=%{x}<br>count=%{y}<extra></extra>",
         "legendgroup": "Swallow Pokémon",
         "marker": {
          "color": "#EF553B",
          "pattern": {
           "shape": ""
          }
         },
         "name": "Swallow Pokémon",
         "offsetgroup": "Swallow Pokémon",
         "orientation": "v",
         "showlegend": true,
         "textposition": "auto",
         "type": "bar",
         "x": [
          "normal"
         ],
         "xaxis": "x",
         "y": [
          1
         ],
         "yaxis": "y"
        },
        {
         "alignmentgroup": "True",
         "hovertemplate": "classfication=Seagull Pokémon<br>type1=%{x}<br>count=%{y}<extra></extra>",
         "legendgroup": "Seagull Pokémon",
         "marker": {
          "color": "#00cc96",
          "pattern": {
           "shape": ""
          }
         },
         "name": "Seagull Pokémon",
         "offsetgroup": "Seagull Pokémon",
         "orientation": "v",
         "showlegend": true,
         "textposition": "auto",
         "type": "bar",
         "x": [
          "water"
         ],
         "xaxis": "x",
         "y": [
          1
         ],
         "yaxis": "y"
        },
        {
         "alignmentgroup": "True",
         "hovertemplate": "classfication=Water Bird Pokémon<br>type1=%{x}<br>count=%{y}<extra></extra>",
         "legendgroup": "Water Bird Pokémon",
         "marker": {
          "color": "#ab63fa",
          "pattern": {
           "shape": ""
          }
         },
         "name": "Water Bird Pokémon",
         "offsetgroup": "Water Bird Pokémon",
         "orientation": "v",
         "showlegend": true,
         "textposition": "auto",
         "type": "bar",
         "x": [
          "water",
          "water"
         ],
         "xaxis": "x",
         "y": [
          1,
          1
         ],
         "yaxis": "y"
        },
        {
         "alignmentgroup": "True",
         "hovertemplate": "classfication=Feeling Pokémon<br>type1=%{x}<br>count=%{y}<extra></extra>",
         "legendgroup": "Feeling Pokémon",
         "marker": {
          "color": "#FFA15A",
          "pattern": {
           "shape": ""
          }
         },
         "name": "Feeling Pokémon",
         "offsetgroup": "Feeling Pokémon",
         "orientation": "v",
         "showlegend": true,
         "textposition": "auto",
         "type": "bar",
         "x": [
          "psychic"
         ],
         "xaxis": "x",
         "y": [
          1
         ],
         "yaxis": "y"
        },
        {
         "alignmentgroup": "True",
         "hovertemplate": "classfication=Emotion Pokémon<br>type1=%{x}<br>count=%{y}<extra></extra>",
         "legendgroup": "Emotion Pokémon",
         "marker": {
          "color": "#19d3f3",
          "pattern": {
           "shape": ""
          }
         },
         "name": "Emotion Pokémon",
         "offsetgroup": "Emotion Pokémon",
         "orientation": "v",
         "showlegend": true,
         "textposition": "auto",
         "type": "bar",
         "x": [
          "psychic",
          "psychic"
         ],
         "xaxis": "x",
         "y": [
          1,
          1
         ],
         "yaxis": "y"
        },
        {
         "alignmentgroup": "True",
         "hovertemplate": "classfication=Embrace Pokémon<br>type1=%{x}<br>count=%{y}<extra></extra>",
         "legendgroup": "Embrace Pokémon",
         "marker": {
          "color": "#FF6692",
          "pattern": {
           "shape": ""
          }
         },
         "name": "Embrace Pokémon",
         "offsetgroup": "Embrace Pokémon",
         "orientation": "v",
         "showlegend": true,
         "textposition": "auto",
         "type": "bar",
         "x": [
          "psychic"
         ],
         "xaxis": "x",
         "y": [
          1
         ],
         "yaxis": "y"
        },
        {
         "alignmentgroup": "True",
         "hovertemplate": "classfication=Pond Skater Pokémon<br>type1=%{x}<br>count=%{y}<extra></extra>",
         "legendgroup": "Pond Skater Pokémon",
         "marker": {
          "color": "#B6E880",
          "pattern": {
           "shape": ""
          }
         },
         "name": "Pond Skater Pokémon",
         "offsetgroup": "Pond Skater Pokémon",
         "orientation": "v",
         "showlegend": true,
         "textposition": "auto",
         "type": "bar",
         "x": [
          "bug"
         ],
         "xaxis": "x",
         "y": [
          1
         ],
         "yaxis": "y"
        },
        {
         "alignmentgroup": "True",
         "hovertemplate": "classfication=Eyeball Pokémon<br>type1=%{x}<br>count=%{y}<extra></extra>",
         "legendgroup": "Eyeball Pokémon",
         "marker": {
          "color": "#FF97FF",
          "pattern": {
           "shape": ""
          }
         },
         "name": "Eyeball Pokémon",
         "offsetgroup": "Eyeball Pokémon",
         "orientation": "v",
         "showlegend": true,
         "textposition": "auto",
         "type": "bar",
         "x": [
          "bug"
         ],
         "xaxis": "x",
         "y": [
          1
         ],
         "yaxis": "y"
        },
        {
         "alignmentgroup": "True",
         "hovertemplate": "classfication=Slacker Pokémon<br>type1=%{x}<br>count=%{y}<extra></extra>",
         "legendgroup": "Slacker Pokémon",
         "marker": {
          "color": "#FECB52",
          "pattern": {
           "shape": ""
          }
         },
         "name": "Slacker Pokémon",
         "offsetgroup": "Slacker Pokémon",
         "orientation": "v",
         "showlegend": true,
         "textposition": "auto",
         "type": "bar",
         "x": [
          "normal"
         ],
         "xaxis": "x",
         "y": [
          1
         ],
         "yaxis": "y"
        },
        {
         "alignmentgroup": "True",
         "hovertemplate": "classfication=Wild Monkey Pokémon<br>type1=%{x}<br>count=%{y}<extra></extra>",
         "legendgroup": "Wild Monkey Pokémon",
         "marker": {
          "color": "#636efa",
          "pattern": {
           "shape": ""
          }
         },
         "name": "Wild Monkey Pokémon",
         "offsetgroup": "Wild Monkey Pokémon",
         "orientation": "v",
         "showlegend": true,
         "textposition": "auto",
         "type": "bar",
         "x": [
          "normal"
         ],
         "xaxis": "x",
         "y": [
          1
         ],
         "yaxis": "y"
        },
        {
         "alignmentgroup": "True",
         "hovertemplate": "classfication=Lazy Pokémon<br>type1=%{x}<br>count=%{y}<extra></extra>",
         "legendgroup": "Lazy Pokémon",
         "marker": {
          "color": "#EF553B",
          "pattern": {
           "shape": ""
          }
         },
         "name": "Lazy Pokémon",
         "offsetgroup": "Lazy Pokémon",
         "orientation": "v",
         "showlegend": true,
         "textposition": "auto",
         "type": "bar",
         "x": [
          "normal"
         ],
         "xaxis": "x",
         "y": [
          1
         ],
         "yaxis": "y"
        },
        {
         "alignmentgroup": "True",
         "hovertemplate": "classfication=Trainee Pokémon<br>type1=%{x}<br>count=%{y}<extra></extra>",
         "legendgroup": "Trainee Pokémon",
         "marker": {
          "color": "#00cc96",
          "pattern": {
           "shape": ""
          }
         },
         "name": "Trainee Pokémon",
         "offsetgroup": "Trainee Pokémon",
         "orientation": "v",
         "showlegend": true,
         "textposition": "auto",
         "type": "bar",
         "x": [
          "bug"
         ],
         "xaxis": "x",
         "y": [
          1
         ],
         "yaxis": "y"
        },
        {
         "alignmentgroup": "True",
         "hovertemplate": "classfication=Ninja Pokémon<br>type1=%{x}<br>count=%{y}<extra></extra>",
         "legendgroup": "Ninja Pokémon",
         "marker": {
          "color": "#ab63fa",
          "pattern": {
           "shape": ""
          }
         },
         "name": "Ninja Pokémon",
         "offsetgroup": "Ninja Pokémon",
         "orientation": "v",
         "showlegend": true,
         "textposition": "auto",
         "type": "bar",
         "x": [
          "bug",
          "water"
         ],
         "xaxis": "x",
         "y": [
          1,
          1
         ],
         "yaxis": "y"
        },
        {
         "alignmentgroup": "True",
         "hovertemplate": "classfication=Shed Pokémon<br>type1=%{x}<br>count=%{y}<extra></extra>",
         "legendgroup": "Shed Pokémon",
         "marker": {
          "color": "#FFA15A",
          "pattern": {
           "shape": ""
          }
         },
         "name": "Shed Pokémon",
         "offsetgroup": "Shed Pokémon",
         "orientation": "v",
         "showlegend": true,
         "textposition": "auto",
         "type": "bar",
         "x": [
          "bug"
         ],
         "xaxis": "x",
         "y": [
          1
         ],
         "yaxis": "y"
        },
        {
         "alignmentgroup": "True",
         "hovertemplate": "classfication=Whisper Pokémon<br>type1=%{x}<br>count=%{y}<extra></extra>",
         "legendgroup": "Whisper Pokémon",
         "marker": {
          "color": "#19d3f3",
          "pattern": {
           "shape": ""
          }
         },
         "name": "Whisper Pokémon",
         "offsetgroup": "Whisper Pokémon",
         "orientation": "v",
         "showlegend": true,
         "textposition": "auto",
         "type": "bar",
         "x": [
          "normal"
         ],
         "xaxis": "x",
         "y": [
          1
         ],
         "yaxis": "y"
        },
        {
         "alignmentgroup": "True",
         "hovertemplate": "classfication=Big Voice Pokémon<br>type1=%{x}<br>count=%{y}<extra></extra>",
         "legendgroup": "Big Voice Pokémon",
         "marker": {
          "color": "#FF6692",
          "pattern": {
           "shape": ""
          }
         },
         "name": "Big Voice Pokémon",
         "offsetgroup": "Big Voice Pokémon",
         "orientation": "v",
         "showlegend": true,
         "textposition": "auto",
         "type": "bar",
         "x": [
          "normal"
         ],
         "xaxis": "x",
         "y": [
          1
         ],
         "yaxis": "y"
        },
        {
         "alignmentgroup": "True",
         "hovertemplate": "classfication=Loud Noise Pokémon<br>type1=%{x}<br>count=%{y}<extra></extra>",
         "legendgroup": "Loud Noise Pokémon",
         "marker": {
          "color": "#B6E880",
          "pattern": {
           "shape": ""
          }
         },
         "name": "Loud Noise Pokémon",
         "offsetgroup": "Loud Noise Pokémon",
         "orientation": "v",
         "showlegend": true,
         "textposition": "auto",
         "type": "bar",
         "x": [
          "normal"
         ],
         "xaxis": "x",
         "y": [
          1
         ],
         "yaxis": "y"
        },
        {
         "alignmentgroup": "True",
         "hovertemplate": "classfication=Guts Pokémon<br>type1=%{x}<br>count=%{y}<extra></extra>",
         "legendgroup": "Guts Pokémon",
         "marker": {
          "color": "#FF97FF",
          "pattern": {
           "shape": ""
          }
         },
         "name": "Guts Pokémon",
         "offsetgroup": "Guts Pokémon",
         "orientation": "v",
         "showlegend": true,
         "textposition": "auto",
         "type": "bar",
         "x": [
          "fighting"
         ],
         "xaxis": "x",
         "y": [
          1
         ],
         "yaxis": "y"
        },
        {
         "alignmentgroup": "True",
         "hovertemplate": "classfication=Arm Thrust Pokémon<br>type1=%{x}<br>count=%{y}<extra></extra>",
         "legendgroup": "Arm Thrust Pokémon",
         "marker": {
          "color": "#FECB52",
          "pattern": {
           "shape": ""
          }
         },
         "name": "Arm Thrust Pokémon",
         "offsetgroup": "Arm Thrust Pokémon",
         "orientation": "v",
         "showlegend": true,
         "textposition": "auto",
         "type": "bar",
         "x": [
          "fighting"
         ],
         "xaxis": "x",
         "y": [
          1
         ],
         "yaxis": "y"
        },
        {
         "alignmentgroup": "True",
         "hovertemplate": "classfication=Polka Dot Pokémon<br>type1=%{x}<br>count=%{y}<extra></extra>",
         "legendgroup": "Polka Dot Pokémon",
         "marker": {
          "color": "#636efa",
          "pattern": {
           "shape": ""
          }
         },
         "name": "Polka Dot Pokémon",
         "offsetgroup": "Polka Dot Pokémon",
         "orientation": "v",
         "showlegend": true,
         "textposition": "auto",
         "type": "bar",
         "x": [
          "normal"
         ],
         "xaxis": "x",
         "y": [
          1
         ],
         "yaxis": "y"
        },
        {
         "alignmentgroup": "True",
         "hovertemplate": "classfication=Compass Pokémon<br>type1=%{x}<br>count=%{y}<extra></extra>",
         "legendgroup": "Compass Pokémon",
         "marker": {
          "color": "#EF553B",
          "pattern": {
           "shape": ""
          }
         },
         "name": "Compass Pokémon",
         "offsetgroup": "Compass Pokémon",
         "orientation": "v",
         "showlegend": true,
         "textposition": "auto",
         "type": "bar",
         "x": [
          "rock",
          "rock"
         ],
         "xaxis": "x",
         "y": [
          1,
          1
         ],
         "yaxis": "y"
        },
        {
         "alignmentgroup": "True",
         "hovertemplate": "classfication=Kitten Pokémon<br>type1=%{x}<br>count=%{y}<extra></extra>",
         "legendgroup": "Kitten Pokémon",
         "marker": {
          "color": "#00cc96",
          "pattern": {
           "shape": ""
          }
         },
         "name": "Kitten Pokémon",
         "offsetgroup": "Kitten Pokémon",
         "orientation": "v",
         "showlegend": true,
         "textposition": "auto",
         "type": "bar",
         "x": [
          "normal"
         ],
         "xaxis": "x",
         "y": [
          1
         ],
         "yaxis": "y"
        },
        {
         "alignmentgroup": "True",
         "hovertemplate": "classfication=Prim Pokémon<br>type1=%{x}<br>count=%{y}<extra></extra>",
         "legendgroup": "Prim Pokémon",
         "marker": {
          "color": "#ab63fa",
          "pattern": {
           "shape": ""
          }
         },
         "name": "Prim Pokémon",
         "offsetgroup": "Prim Pokémon",
         "orientation": "v",
         "showlegend": true,
         "textposition": "auto",
         "type": "bar",
         "x": [
          "normal"
         ],
         "xaxis": "x",
         "y": [
          1
         ],
         "yaxis": "y"
        },
        {
         "alignmentgroup": "True",
         "hovertemplate": "classfication=Deceiver Pokémon<br>type1=%{x}<br>count=%{y}<extra></extra>",
         "legendgroup": "Deceiver Pokémon",
         "marker": {
          "color": "#FFA15A",
          "pattern": {
           "shape": ""
          }
         },
         "name": "Deceiver Pokémon",
         "offsetgroup": "Deceiver Pokémon",
         "orientation": "v",
         "showlegend": true,
         "textposition": "auto",
         "type": "bar",
         "x": [
          "steel"
         ],
         "xaxis": "x",
         "y": [
          1
         ],
         "yaxis": "y"
        },
        {
         "alignmentgroup": "True",
         "hovertemplate": "classfication=Iron Armor Pokémon<br>type1=%{x}<br>count=%{y}<extra></extra>",
         "legendgroup": "Iron Armor Pokémon",
         "marker": {
          "color": "#19d3f3",
          "pattern": {
           "shape": ""
          }
         },
         "name": "Iron Armor Pokémon",
         "offsetgroup": "Iron Armor Pokémon",
         "orientation": "v",
         "showlegend": true,
         "textposition": "auto",
         "type": "bar",
         "x": [
          "steel",
          "steel",
          "steel"
         ],
         "xaxis": "x",
         "y": [
          1,
          1,
          1
         ],
         "yaxis": "y"
        },
        {
         "alignmentgroup": "True",
         "hovertemplate": "classfication=Meditate Pokémon<br>type1=%{x}<br>count=%{y}<extra></extra>",
         "legendgroup": "Meditate Pokémon",
         "marker": {
          "color": "#FF6692",
          "pattern": {
           "shape": ""
          }
         },
         "name": "Meditate Pokémon",
         "offsetgroup": "Meditate Pokémon",
         "orientation": "v",
         "showlegend": true,
         "textposition": "auto",
         "type": "bar",
         "x": [
          "fighting",
          "fighting"
         ],
         "xaxis": "x",
         "y": [
          1,
          1
         ],
         "yaxis": "y"
        },
        {
         "alignmentgroup": "True",
         "hovertemplate": "classfication=Discharge Pokémon<br>type1=%{x}<br>count=%{y}<extra></extra>",
         "legendgroup": "Discharge Pokémon",
         "marker": {
          "color": "#B6E880",
          "pattern": {
           "shape": ""
          }
         },
         "name": "Discharge Pokémon",
         "offsetgroup": "Discharge Pokémon",
         "orientation": "v",
         "showlegend": true,
         "textposition": "auto",
         "type": "bar",
         "x": [
          "electric"
         ],
         "xaxis": "x",
         "y": [
          1
         ],
         "yaxis": "y"
        },
        {
         "alignmentgroup": "True",
         "hovertemplate": "classfication=Cheering Pokémon<br>type1=%{x}<br>count=%{y}<extra></extra>",
         "legendgroup": "Cheering Pokémon",
         "marker": {
          "color": "#FF97FF",
          "pattern": {
           "shape": ""
          }
         },
         "name": "Cheering Pokémon",
         "offsetgroup": "Cheering Pokémon",
         "orientation": "v",
         "showlegend": true,
         "textposition": "auto",
         "type": "bar",
         "x": [
          "electric",
          "electric"
         ],
         "xaxis": "x",
         "y": [
          1,
          1
         ],
         "yaxis": "y"
        },
        {
         "alignmentgroup": "True",
         "hovertemplate": "classfication=Firefly Pokémon<br>type1=%{x}<br>count=%{y}<extra></extra>",
         "legendgroup": "Firefly Pokémon",
         "marker": {
          "color": "#FECB52",
          "pattern": {
           "shape": ""
          }
         },
         "name": "Firefly Pokémon",
         "offsetgroup": "Firefly Pokémon",
         "orientation": "v",
         "showlegend": true,
         "textposition": "auto",
         "type": "bar",
         "x": [
          "bug",
          "bug"
         ],
         "xaxis": "x",
         "y": [
          1,
          1
         ],
         "yaxis": "y"
        },
        {
         "alignmentgroup": "True",
         "hovertemplate": "classfication=Thorn Pokémon<br>type1=%{x}<br>count=%{y}<extra></extra>",
         "legendgroup": "Thorn Pokémon",
         "marker": {
          "color": "#636efa",
          "pattern": {
           "shape": ""
          }
         },
         "name": "Thorn Pokémon",
         "offsetgroup": "Thorn Pokémon",
         "orientation": "v",
         "showlegend": true,
         "textposition": "auto",
         "type": "bar",
         "x": [
          "grass"
         ],
         "xaxis": "x",
         "y": [
          1
         ],
         "yaxis": "y"
        },
        {
         "alignmentgroup": "True",
         "hovertemplate": "classfication=Stomach Pokémon<br>type1=%{x}<br>count=%{y}<extra></extra>",
         "legendgroup": "Stomach Pokémon",
         "marker": {
          "color": "#EF553B",
          "pattern": {
           "shape": ""
          }
         },
         "name": "Stomach Pokémon",
         "offsetgroup": "Stomach Pokémon",
         "orientation": "v",
         "showlegend": true,
         "textposition": "auto",
         "type": "bar",
         "x": [
          "poison"
         ],
         "xaxis": "x",
         "y": [
          1
         ],
         "yaxis": "y"
        },
        {
         "alignmentgroup": "True",
         "hovertemplate": "classfication=Poison Bag Pokémon<br>type1=%{x}<br>count=%{y}<extra></extra>",
         "legendgroup": "Poison Bag Pokémon",
         "marker": {
          "color": "#00cc96",
          "pattern": {
           "shape": ""
          }
         },
         "name": "Poison Bag Pokémon",
         "offsetgroup": "Poison Bag Pokémon",
         "orientation": "v",
         "showlegend": true,
         "textposition": "auto",
         "type": "bar",
         "x": [
          "poison"
         ],
         "xaxis": "x",
         "y": [
          1
         ],
         "yaxis": "y"
        },
        {
         "alignmentgroup": "True",
         "hovertemplate": "classfication=Savage Pokémon<br>type1=%{x}<br>count=%{y}<extra></extra>",
         "legendgroup": "Savage Pokémon",
         "marker": {
          "color": "#ab63fa",
          "pattern": {
           "shape": ""
          }
         },
         "name": "Savage Pokémon",
         "offsetgroup": "Savage Pokémon",
         "orientation": "v",
         "showlegend": true,
         "textposition": "auto",
         "type": "bar",
         "x": [
          "water"
         ],
         "xaxis": "x",
         "y": [
          1
         ],
         "yaxis": "y"
        },
        {
         "alignmentgroup": "True",
         "hovertemplate": "classfication=Brutal Pokémon<br>type1=%{x}<br>count=%{y}<extra></extra>",
         "legendgroup": "Brutal Pokémon",
         "marker": {
          "color": "#FFA15A",
          "pattern": {
           "shape": ""
          }
         },
         "name": "Brutal Pokémon",
         "offsetgroup": "Brutal Pokémon",
         "orientation": "v",
         "showlegend": true,
         "textposition": "auto",
         "type": "bar",
         "x": [
          "water",
          "dark"
         ],
         "xaxis": "x",
         "y": [
          1,
          1
         ],
         "yaxis": "y"
        },
        {
         "alignmentgroup": "True",
         "hovertemplate": "classfication=Ball Whale Pokémon<br>type1=%{x}<br>count=%{y}<extra></extra>",
         "legendgroup": "Ball Whale Pokémon",
         "marker": {
          "color": "#19d3f3",
          "pattern": {
           "shape": ""
          }
         },
         "name": "Ball Whale Pokémon",
         "offsetgroup": "Ball Whale Pokémon",
         "orientation": "v",
         "showlegend": true,
         "textposition": "auto",
         "type": "bar",
         "x": [
          "water"
         ],
         "xaxis": "x",
         "y": [
          1
         ],
         "yaxis": "y"
        },
        {
         "alignmentgroup": "True",
         "hovertemplate": "classfication=Float Whale Pokémon<br>type1=%{x}<br>count=%{y}<extra></extra>",
         "legendgroup": "Float Whale Pokémon",
         "marker": {
          "color": "#FF6692",
          "pattern": {
           "shape": ""
          }
         },
         "name": "Float Whale Pokémon",
         "offsetgroup": "Float Whale Pokémon",
         "orientation": "v",
         "showlegend": true,
         "textposition": "auto",
         "type": "bar",
         "x": [
          "water"
         ],
         "xaxis": "x",
         "y": [
          1
         ],
         "yaxis": "y"
        },
        {
         "alignmentgroup": "True",
         "hovertemplate": "classfication=Numb Pokémon<br>type1=%{x}<br>count=%{y}<extra></extra>",
         "legendgroup": "Numb Pokémon",
         "marker": {
          "color": "#B6E880",
          "pattern": {
           "shape": ""
          }
         },
         "name": "Numb Pokémon",
         "offsetgroup": "Numb Pokémon",
         "orientation": "v",
         "showlegend": true,
         "textposition": "auto",
         "type": "bar",
         "x": [
          "fire"
         ],
         "xaxis": "x",
         "y": [
          1
         ],
         "yaxis": "y"
        },
        {
         "alignmentgroup": "True",
         "hovertemplate": "classfication=Eruption Pokémon<br>type1=%{x}<br>count=%{y}<extra></extra>",
         "legendgroup": "Eruption Pokémon",
         "marker": {
          "color": "#FF97FF",
          "pattern": {
           "shape": ""
          }
         },
         "name": "Eruption Pokémon",
         "offsetgroup": "Eruption Pokémon",
         "orientation": "v",
         "showlegend": true,
         "textposition": "auto",
         "type": "bar",
         "x": [
          "fire"
         ],
         "xaxis": "x",
         "y": [
          1
         ],
         "yaxis": "y"
        },
        {
         "alignmentgroup": "True",
         "hovertemplate": "classfication=Coal Pokémon<br>type1=%{x}<br>count=%{y}<extra></extra>",
         "legendgroup": "Coal Pokémon",
         "marker": {
          "color": "#FECB52",
          "pattern": {
           "shape": ""
          }
         },
         "name": "Coal Pokémon",
         "offsetgroup": "Coal Pokémon",
         "orientation": "v",
         "showlegend": true,
         "textposition": "auto",
         "type": "bar",
         "x": [
          "fire"
         ],
         "xaxis": "x",
         "y": [
          1
         ],
         "yaxis": "y"
        },
        {
         "alignmentgroup": "True",
         "hovertemplate": "classfication=Bounce Pokémon<br>type1=%{x}<br>count=%{y}<extra></extra>",
         "legendgroup": "Bounce Pokémon",
         "marker": {
          "color": "#636efa",
          "pattern": {
           "shape": ""
          }
         },
         "name": "Bounce Pokémon",
         "offsetgroup": "Bounce Pokémon",
         "orientation": "v",
         "showlegend": true,
         "textposition": "auto",
         "type": "bar",
         "x": [
          "psychic"
         ],
         "xaxis": "x",
         "y": [
          1
         ],
         "yaxis": "y"
        },
        {
         "alignmentgroup": "True",
         "hovertemplate": "classfication=Manipulate Pokémon<br>type1=%{x}<br>count=%{y}<extra></extra>",
         "legendgroup": "Manipulate Pokémon",
         "marker": {
          "color": "#EF553B",
          "pattern": {
           "shape": ""
          }
         },
         "name": "Manipulate Pokémon",
         "offsetgroup": "Manipulate Pokémon",
         "orientation": "v",
         "showlegend": true,
         "textposition": "auto",
         "type": "bar",
         "x": [
          "psychic",
          "psychic"
         ],
         "xaxis": "x",
         "y": [
          1,
          1
         ],
         "yaxis": "y"
        },
        {
         "alignmentgroup": "True",
         "hovertemplate": "classfication=Spot Panda Pokémon<br>type1=%{x}<br>count=%{y}<extra></extra>",
         "legendgroup": "Spot Panda Pokémon",
         "marker": {
          "color": "#00cc96",
          "pattern": {
           "shape": ""
          }
         },
         "name": "Spot Panda Pokémon",
         "offsetgroup": "Spot Panda Pokémon",
         "orientation": "v",
         "showlegend": true,
         "textposition": "auto",
         "type": "bar",
         "x": [
          "normal"
         ],
         "xaxis": "x",
         "y": [
          1
         ],
         "yaxis": "y"
        },
        {
         "alignmentgroup": "True",
         "hovertemplate": "classfication=Ant Pit Pokémon<br>type1=%{x}<br>count=%{y}<extra></extra>",
         "legendgroup": "Ant Pit Pokémon",
         "marker": {
          "color": "#ab63fa",
          "pattern": {
           "shape": ""
          }
         },
         "name": "Ant Pit Pokémon",
         "offsetgroup": "Ant Pit Pokémon",
         "orientation": "v",
         "showlegend": true,
         "textposition": "auto",
         "type": "bar",
         "x": [
          "ground"
         ],
         "xaxis": "x",
         "y": [
          1
         ],
         "yaxis": "y"
        },
        {
         "alignmentgroup": "True",
         "hovertemplate": "classfication=Vibration Pokémon<br>type1=%{x}<br>count=%{y}<extra></extra>",
         "legendgroup": "Vibration Pokémon",
         "marker": {
          "color": "#FFA15A",
          "pattern": {
           "shape": ""
          }
         },
         "name": "Vibration Pokémon",
         "offsetgroup": "Vibration Pokémon",
         "orientation": "v",
         "showlegend": true,
         "textposition": "auto",
         "type": "bar",
         "x": [
          "ground",
          "water",
          "water"
         ],
         "xaxis": "x",
         "y": [
          1,
          1,
          1
         ],
         "yaxis": "y"
        },
        {
         "alignmentgroup": "True",
         "hovertemplate": "classfication=Cactus Pokémon<br>type1=%{x}<br>count=%{y}<extra></extra>",
         "legendgroup": "Cactus Pokémon",
         "marker": {
          "color": "#19d3f3",
          "pattern": {
           "shape": ""
          }
         },
         "name": "Cactus Pokémon",
         "offsetgroup": "Cactus Pokémon",
         "orientation": "v",
         "showlegend": true,
         "textposition": "auto",
         "type": "bar",
         "x": [
          "grass",
          "grass"
         ],
         "xaxis": "x",
         "y": [
          1,
          1
         ],
         "yaxis": "y"
        },
        {
         "alignmentgroup": "True",
         "hovertemplate": "classfication=Scarecrow Pokémon<br>type1=%{x}<br>count=%{y}<extra></extra>",
         "legendgroup": "Scarecrow Pokémon",
         "marker": {
          "color": "#FF6692",
          "pattern": {
           "shape": ""
          }
         },
         "name": "Scarecrow Pokémon",
         "offsetgroup": "Scarecrow Pokémon",
         "orientation": "v",
         "showlegend": true,
         "textposition": "auto",
         "type": "bar",
         "x": [
          "grass"
         ],
         "xaxis": "x",
         "y": [
          1
         ],
         "yaxis": "y"
        },
        {
         "alignmentgroup": "True",
         "hovertemplate": "classfication=Cotton Bird Pokémon<br>type1=%{x}<br>count=%{y}<extra></extra>",
         "legendgroup": "Cotton Bird Pokémon",
         "marker": {
          "color": "#B6E880",
          "pattern": {
           "shape": ""
          }
         },
         "name": "Cotton Bird Pokémon",
         "offsetgroup": "Cotton Bird Pokémon",
         "orientation": "v",
         "showlegend": true,
         "textposition": "auto",
         "type": "bar",
         "x": [
          "normal"
         ],
         "xaxis": "x",
         "y": [
          1
         ],
         "yaxis": "y"
        },
        {
         "alignmentgroup": "True",
         "hovertemplate": "classfication=Humming Pokémon<br>type1=%{x}<br>count=%{y}<extra></extra>",
         "legendgroup": "Humming Pokémon",
         "marker": {
          "color": "#FF97FF",
          "pattern": {
           "shape": ""
          }
         },
         "name": "Humming Pokémon",
         "offsetgroup": "Humming Pokémon",
         "orientation": "v",
         "showlegend": true,
         "textposition": "auto",
         "type": "bar",
         "x": [
          "dragon"
         ],
         "xaxis": "x",
         "y": [
          1
         ],
         "yaxis": "y"
        },
        {
         "alignmentgroup": "True",
         "hovertemplate": "classfication=Cat Ferret Pokémon<br>type1=%{x}<br>count=%{y}<extra></extra>",
         "legendgroup": "Cat Ferret Pokémon",
         "marker": {
          "color": "#FECB52",
          "pattern": {
           "shape": ""
          }
         },
         "name": "Cat Ferret Pokémon",
         "offsetgroup": "Cat Ferret Pokémon",
         "orientation": "v",
         "showlegend": true,
         "textposition": "auto",
         "type": "bar",
         "x": [
          "normal"
         ],
         "xaxis": "x",
         "y": [
          1
         ],
         "yaxis": "y"
        },
        {
         "alignmentgroup": "True",
         "hovertemplate": "classfication=Fang Snake Pokémon<br>type1=%{x}<br>count=%{y}<extra></extra>",
         "legendgroup": "Fang Snake Pokémon",
         "marker": {
          "color": "#636efa",
          "pattern": {
           "shape": ""
          }
         },
         "name": "Fang Snake Pokémon",
         "offsetgroup": "Fang Snake Pokémon",
         "orientation": "v",
         "showlegend": true,
         "textposition": "auto",
         "type": "bar",
         "x": [
          "poison"
         ],
         "xaxis": "x",
         "y": [
          1
         ],
         "yaxis": "y"
        },
        {
         "alignmentgroup": "True",
         "hovertemplate": "classfication=Meteorite Pokémon<br>type1=%{x}<br>count=%{y}<extra></extra>",
         "legendgroup": "Meteorite Pokémon",
         "marker": {
          "color": "#EF553B",
          "pattern": {
           "shape": ""
          }
         },
         "name": "Meteorite Pokémon",
         "offsetgroup": "Meteorite Pokémon",
         "orientation": "v",
         "showlegend": true,
         "textposition": "auto",
         "type": "bar",
         "x": [
          "rock",
          "rock"
         ],
         "xaxis": "x",
         "y": [
          1,
          1
         ],
         "yaxis": "y"
        },
        {
         "alignmentgroup": "True",
         "hovertemplate": "classfication=Whiskers Pokémon<br>type1=%{x}<br>count=%{y}<extra></extra>",
         "legendgroup": "Whiskers Pokémon",
         "marker": {
          "color": "#00cc96",
          "pattern": {
           "shape": ""
          }
         },
         "name": "Whiskers Pokémon",
         "offsetgroup": "Whiskers Pokémon",
         "orientation": "v",
         "showlegend": true,
         "textposition": "auto",
         "type": "bar",
         "x": [
          "water",
          "water"
         ],
         "xaxis": "x",
         "y": [
          1,
          1
         ],
         "yaxis": "y"
        },
        {
         "alignmentgroup": "True",
         "hovertemplate": "classfication=Ruffian Pokémon<br>type1=%{x}<br>count=%{y}<extra></extra>",
         "legendgroup": "Ruffian Pokémon",
         "marker": {
          "color": "#ab63fa",
          "pattern": {
           "shape": ""
          }
         },
         "name": "Ruffian Pokémon",
         "offsetgroup": "Ruffian Pokémon",
         "orientation": "v",
         "showlegend": true,
         "textposition": "auto",
         "type": "bar",
         "x": [
          "water"
         ],
         "xaxis": "x",
         "y": [
          1
         ],
         "yaxis": "y"
        },
        {
         "alignmentgroup": "True",
         "hovertemplate": "classfication=Rogue Pokémon<br>type1=%{x}<br>count=%{y}<extra></extra>",
         "legendgroup": "Rogue Pokémon",
         "marker": {
          "color": "#FFA15A",
          "pattern": {
           "shape": ""
          }
         },
         "name": "Rogue Pokémon",
         "offsetgroup": "Rogue Pokémon",
         "orientation": "v",
         "showlegend": true,
         "textposition": "auto",
         "type": "bar",
         "x": [
          "water"
         ],
         "xaxis": "x",
         "y": [
          1
         ],
         "yaxis": "y"
        },
        {
         "alignmentgroup": "True",
         "hovertemplate": "classfication=Clay Doll Pokémon<br>type1=%{x}<br>count=%{y}<extra></extra>",
         "legendgroup": "Clay Doll Pokémon",
         "marker": {
          "color": "#19d3f3",
          "pattern": {
           "shape": ""
          }
         },
         "name": "Clay Doll Pokémon",
         "offsetgroup": "Clay Doll Pokémon",
         "orientation": "v",
         "showlegend": true,
         "textposition": "auto",
         "type": "bar",
         "x": [
          "ground",
          "ground"
         ],
         "xaxis": "x",
         "y": [
          1,
          1
         ],
         "yaxis": "y"
        },
        {
         "alignmentgroup": "True",
         "hovertemplate": "classfication=Sea Lily Pokémon<br>type1=%{x}<br>count=%{y}<extra></extra>",
         "legendgroup": "Sea Lily Pokémon",
         "marker": {
          "color": "#FF6692",
          "pattern": {
           "shape": ""
          }
         },
         "name": "Sea Lily Pokémon",
         "offsetgroup": "Sea Lily Pokémon",
         "orientation": "v",
         "showlegend": true,
         "textposition": "auto",
         "type": "bar",
         "x": [
          "rock"
         ],
         "xaxis": "x",
         "y": [
          1
         ],
         "yaxis": "y"
        },
        {
         "alignmentgroup": "True",
         "hovertemplate": "classfication=Barnacle Pokémon<br>type1=%{x}<br>count=%{y}<extra></extra>",
         "legendgroup": "Barnacle Pokémon",
         "marker": {
          "color": "#B6E880",
          "pattern": {
           "shape": ""
          }
         },
         "name": "Barnacle Pokémon",
         "offsetgroup": "Barnacle Pokémon",
         "orientation": "v",
         "showlegend": true,
         "textposition": "auto",
         "type": "bar",
         "x": [
          "rock"
         ],
         "xaxis": "x",
         "y": [
          1
         ],
         "yaxis": "y"
        },
        {
         "alignmentgroup": "True",
         "hovertemplate": "classfication=Old Shrimp Pokémon<br>type1=%{x}<br>count=%{y}<extra></extra>",
         "legendgroup": "Old Shrimp Pokémon",
         "marker": {
          "color": "#FF97FF",
          "pattern": {
           "shape": ""
          }
         },
         "name": "Old Shrimp Pokémon",
         "offsetgroup": "Old Shrimp Pokémon",
         "orientation": "v",
         "showlegend": true,
         "textposition": "auto",
         "type": "bar",
         "x": [
          "rock"
         ],
         "xaxis": "x",
         "y": [
          1
         ],
         "yaxis": "y"
        },
        {
         "alignmentgroup": "True",
         "hovertemplate": "classfication=Plate Pokémon<br>type1=%{x}<br>count=%{y}<extra></extra>",
         "legendgroup": "Plate Pokémon",
         "marker": {
          "color": "#FECB52",
          "pattern": {
           "shape": ""
          }
         },
         "name": "Plate Pokémon",
         "offsetgroup": "Plate Pokémon",
         "orientation": "v",
         "showlegend": true,
         "textposition": "auto",
         "type": "bar",
         "x": [
          "rock"
         ],
         "xaxis": "x",
         "y": [
          1
         ],
         "yaxis": "y"
        },
        {
         "alignmentgroup": "True",
         "hovertemplate": "classfication=Tender Pokémon<br>type1=%{x}<br>count=%{y}<extra></extra>",
         "legendgroup": "Tender Pokémon",
         "marker": {
          "color": "#636efa",
          "pattern": {
           "shape": ""
          }
         },
         "name": "Tender Pokémon",
         "offsetgroup": "Tender Pokémon",
         "orientation": "v",
         "showlegend": true,
         "textposition": "auto",
         "type": "bar",
         "x": [
          "water"
         ],
         "xaxis": "x",
         "y": [
          1
         ],
         "yaxis": "y"
        },
        {
         "alignmentgroup": "True",
         "hovertemplate": "classfication=Weather Pokémon<br>type1=%{x}<br>count=%{y}<extra></extra>",
         "legendgroup": "Weather Pokémon",
         "marker": {
          "color": "#EF553B",
          "pattern": {
           "shape": ""
          }
         },
         "name": "Weather Pokémon",
         "offsetgroup": "Weather Pokémon",
         "orientation": "v",
         "showlegend": true,
         "textposition": "auto",
         "type": "bar",
         "x": [
          "normal"
         ],
         "xaxis": "x",
         "y": [
          1
         ],
         "yaxis": "y"
        },
        {
         "alignmentgroup": "True",
         "hovertemplate": "classfication=Color Swap Pokémon<br>type1=%{x}<br>count=%{y}<extra></extra>",
         "legendgroup": "Color Swap Pokémon",
         "marker": {
          "color": "#00cc96",
          "pattern": {
           "shape": ""
          }
         },
         "name": "Color Swap Pokémon",
         "offsetgroup": "Color Swap Pokémon",
         "orientation": "v",
         "showlegend": true,
         "textposition": "auto",
         "type": "bar",
         "x": [
          "normal"
         ],
         "xaxis": "x",
         "y": [
          1
         ],
         "yaxis": "y"
        },
        {
         "alignmentgroup": "True",
         "hovertemplate": "classfication=Puppet Pokémon<br>type1=%{x}<br>count=%{y}<extra></extra>",
         "legendgroup": "Puppet Pokémon",
         "marker": {
          "color": "#ab63fa",
          "pattern": {
           "shape": ""
          }
         },
         "name": "Puppet Pokémon",
         "offsetgroup": "Puppet Pokémon",
         "orientation": "v",
         "showlegend": true,
         "textposition": "auto",
         "type": "bar",
         "x": [
          "ghost"
         ],
         "xaxis": "x",
         "y": [
          1
         ],
         "yaxis": "y"
        },
        {
         "alignmentgroup": "True",
         "hovertemplate": "classfication=Marionette Pokémon<br>type1=%{x}<br>count=%{y}<extra></extra>",
         "legendgroup": "Marionette Pokémon",
         "marker": {
          "color": "#FFA15A",
          "pattern": {
           "shape": ""
          }
         },
         "name": "Marionette Pokémon",
         "offsetgroup": "Marionette Pokémon",
         "orientation": "v",
         "showlegend": true,
         "textposition": "auto",
         "type": "bar",
         "x": [
          "ghost"
         ],
         "xaxis": "x",
         "y": [
          1
         ],
         "yaxis": "y"
        },
        {
         "alignmentgroup": "True",
         "hovertemplate": "classfication=Requiem Pokémon<br>type1=%{x}<br>count=%{y}<extra></extra>",
         "legendgroup": "Requiem Pokémon",
         "marker": {
          "color": "#19d3f3",
          "pattern": {
           "shape": ""
          }
         },
         "name": "Requiem Pokémon",
         "offsetgroup": "Requiem Pokémon",
         "orientation": "v",
         "showlegend": true,
         "textposition": "auto",
         "type": "bar",
         "x": [
          "ghost"
         ],
         "xaxis": "x",
         "y": [
          1
         ],
         "yaxis": "y"
        },
        {
         "alignmentgroup": "True",
         "hovertemplate": "classfication=Beckon Pokémon<br>type1=%{x}<br>count=%{y}<extra></extra>",
         "legendgroup": "Beckon Pokémon",
         "marker": {
          "color": "#FF6692",
          "pattern": {
           "shape": ""
          }
         },
         "name": "Beckon Pokémon",
         "offsetgroup": "Beckon Pokémon",
         "orientation": "v",
         "showlegend": true,
         "textposition": "auto",
         "type": "bar",
         "x": [
          "ghost"
         ],
         "xaxis": "x",
         "y": [
          1
         ],
         "yaxis": "y"
        },
        {
         "alignmentgroup": "True",
         "hovertemplate": "classfication=Fruit Pokémon<br>type1=%{x}<br>count=%{y}<extra></extra>",
         "legendgroup": "Fruit Pokémon",
         "marker": {
          "color": "#B6E880",
          "pattern": {
           "shape": ""
          }
         },
         "name": "Fruit Pokémon",
         "offsetgroup": "Fruit Pokémon",
         "orientation": "v",
         "showlegend": true,
         "textposition": "auto",
         "type": "bar",
         "x": [
          "grass",
          "grass",
          "grass",
          "grass"
         ],
         "xaxis": "x",
         "y": [
          1,
          1,
          1,
          1
         ],
         "yaxis": "y"
        },
        {
         "alignmentgroup": "True",
         "hovertemplate": "classfication=Wind Chime Pokémon<br>type1=%{x}<br>count=%{y}<extra></extra>",
         "legendgroup": "Wind Chime Pokémon",
         "marker": {
          "color": "#FF97FF",
          "pattern": {
           "shape": ""
          }
         },
         "name": "Wind Chime Pokémon",
         "offsetgroup": "Wind Chime Pokémon",
         "orientation": "v",
         "showlegend": true,
         "textposition": "auto",
         "type": "bar",
         "x": [
          "psychic"
         ],
         "xaxis": "x",
         "y": [
          1
         ],
         "yaxis": "y"
        },
        {
         "alignmentgroup": "True",
         "hovertemplate": "classfication=Disaster Pokémon<br>type1=%{x}<br>count=%{y}<extra></extra>",
         "legendgroup": "Disaster Pokémon",
         "marker": {
          "color": "#FECB52",
          "pattern": {
           "shape": ""
          }
         },
         "name": "Disaster Pokémon",
         "offsetgroup": "Disaster Pokémon",
         "orientation": "v",
         "showlegend": true,
         "textposition": "auto",
         "type": "bar",
         "x": [
          "dark"
         ],
         "xaxis": "x",
         "y": [
          1
         ],
         "yaxis": "y"
        },
        {
         "alignmentgroup": "True",
         "hovertemplate": "classfication=Bright Pokémon<br>type1=%{x}<br>count=%{y}<extra></extra>",
         "legendgroup": "Bright Pokémon",
         "marker": {
          "color": "#636efa",
          "pattern": {
           "shape": ""
          }
         },
         "name": "Bright Pokémon",
         "offsetgroup": "Bright Pokémon",
         "orientation": "v",
         "showlegend": true,
         "textposition": "auto",
         "type": "bar",
         "x": [
          "psychic"
         ],
         "xaxis": "x",
         "y": [
          1
         ],
         "yaxis": "y"
        },
        {
         "alignmentgroup": "True",
         "hovertemplate": "classfication=Snow Hat Pokémon<br>type1=%{x}<br>count=%{y}<extra></extra>",
         "legendgroup": "Snow Hat Pokémon",
         "marker": {
          "color": "#EF553B",
          "pattern": {
           "shape": ""
          }
         },
         "name": "Snow Hat Pokémon",
         "offsetgroup": "Snow Hat Pokémon",
         "orientation": "v",
         "showlegend": true,
         "textposition": "auto",
         "type": "bar",
         "x": [
          "ice"
         ],
         "xaxis": "x",
         "y": [
          1
         ],
         "yaxis": "y"
        },
        {
         "alignmentgroup": "True",
         "hovertemplate": "classfication=Face Pokémon<br>type1=%{x}<br>count=%{y}<extra></extra>",
         "legendgroup": "Face Pokémon",
         "marker": {
          "color": "#00cc96",
          "pattern": {
           "shape": ""
          }
         },
         "name": "Face Pokémon",
         "offsetgroup": "Face Pokémon",
         "orientation": "v",
         "showlegend": true,
         "textposition": "auto",
         "type": "bar",
         "x": [
          "ice"
         ],
         "xaxis": "x",
         "y": [
          1
         ],
         "yaxis": "y"
        },
        {
         "alignmentgroup": "True",
         "hovertemplate": "classfication=Clap Pokémon<br>type1=%{x}<br>count=%{y}<extra></extra>",
         "legendgroup": "Clap Pokémon",
         "marker": {
          "color": "#ab63fa",
          "pattern": {
           "shape": ""
          }
         },
         "name": "Clap Pokémon",
         "offsetgroup": "Clap Pokémon",
         "orientation": "v",
         "showlegend": true,
         "textposition": "auto",
         "type": "bar",
         "x": [
          "ice"
         ],
         "xaxis": "x",
         "y": [
          1
         ],
         "yaxis": "y"
        },
        {
         "alignmentgroup": "True",
         "hovertemplate": "classfication=Ball Roll Pokémon<br>type1=%{x}<br>count=%{y}<extra></extra>",
         "legendgroup": "Ball Roll Pokémon",
         "marker": {
          "color": "#FFA15A",
          "pattern": {
           "shape": ""
          }
         },
         "name": "Ball Roll Pokémon",
         "offsetgroup": "Ball Roll Pokémon",
         "orientation": "v",
         "showlegend": true,
         "textposition": "auto",
         "type": "bar",
         "x": [
          "ice"
         ],
         "xaxis": "x",
         "y": [
          1
         ],
         "yaxis": "y"
        },
        {
         "alignmentgroup": "True",
         "hovertemplate": "classfication=Ice Break Pokémon<br>type1=%{x}<br>count=%{y}<extra></extra>",
         "legendgroup": "Ice Break Pokémon",
         "marker": {
          "color": "#19d3f3",
          "pattern": {
           "shape": ""
          }
         },
         "name": "Ice Break Pokémon",
         "offsetgroup": "Ice Break Pokémon",
         "orientation": "v",
         "showlegend": true,
         "textposition": "auto",
         "type": "bar",
         "x": [
          "ice"
         ],
         "xaxis": "x",
         "y": [
          1
         ],
         "yaxis": "y"
        },
        {
         "alignmentgroup": "True",
         "hovertemplate": "classfication=Deep Sea Pokémon<br>type1=%{x}<br>count=%{y}<extra></extra>",
         "legendgroup": "Deep Sea Pokémon",
         "marker": {
          "color": "#FF6692",
          "pattern": {
           "shape": ""
          }
         },
         "name": "Deep Sea Pokémon",
         "offsetgroup": "Deep Sea Pokémon",
         "orientation": "v",
         "showlegend": true,
         "textposition": "auto",
         "type": "bar",
         "x": [
          "water"
         ],
         "xaxis": "x",
         "y": [
          1
         ],
         "yaxis": "y"
        },
        {
         "alignmentgroup": "True",
         "hovertemplate": "classfication=South Sea Pokémon<br>type1=%{x}<br>count=%{y}<extra></extra>",
         "legendgroup": "South Sea Pokémon",
         "marker": {
          "color": "#B6E880",
          "pattern": {
           "shape": ""
          }
         },
         "name": "South Sea Pokémon",
         "offsetgroup": "South Sea Pokémon",
         "orientation": "v",
         "showlegend": true,
         "textposition": "auto",
         "type": "bar",
         "x": [
          "water"
         ],
         "xaxis": "x",
         "y": [
          1
         ],
         "yaxis": "y"
        },
        {
         "alignmentgroup": "True",
         "hovertemplate": "classfication=Longevity Pokémon<br>type1=%{x}<br>count=%{y}<extra></extra>",
         "legendgroup": "Longevity Pokémon",
         "marker": {
          "color": "#FF97FF",
          "pattern": {
           "shape": ""
          }
         },
         "name": "Longevity Pokémon",
         "offsetgroup": "Longevity Pokémon",
         "orientation": "v",
         "showlegend": true,
         "textposition": "auto",
         "type": "bar",
         "x": [
          "water"
         ],
         "xaxis": "x",
         "y": [
          1
         ],
         "yaxis": "y"
        },
        {
         "alignmentgroup": "True",
         "hovertemplate": "classfication=Rendezvous Pokémon<br>type1=%{x}<br>count=%{y}<extra></extra>",
         "legendgroup": "Rendezvous Pokémon",
         "marker": {
          "color": "#FECB52",
          "pattern": {
           "shape": ""
          }
         },
         "name": "Rendezvous Pokémon",
         "offsetgroup": "Rendezvous Pokémon",
         "orientation": "v",
         "showlegend": true,
         "textposition": "auto",
         "type": "bar",
         "x": [
          "water"
         ],
         "xaxis": "x",
         "y": [
          1
         ],
         "yaxis": "y"
        },
        {
         "alignmentgroup": "True",
         "hovertemplate": "classfication=Rock Head Pokémon<br>type1=%{x}<br>count=%{y}<extra></extra>",
         "legendgroup": "Rock Head Pokémon",
         "marker": {
          "color": "#636efa",
          "pattern": {
           "shape": ""
          }
         },
         "name": "Rock Head Pokémon",
         "offsetgroup": "Rock Head Pokémon",
         "orientation": "v",
         "showlegend": true,
         "textposition": "auto",
         "type": "bar",
         "x": [
          "dragon"
         ],
         "xaxis": "x",
         "y": [
          1
         ],
         "yaxis": "y"
        },
        {
         "alignmentgroup": "True",
         "hovertemplate": "classfication=Endurance Pokémon<br>type1=%{x}<br>count=%{y}<extra></extra>",
         "legendgroup": "Endurance Pokémon",
         "marker": {
          "color": "#EF553B",
          "pattern": {
           "shape": ""
          }
         },
         "name": "Endurance Pokémon",
         "offsetgroup": "Endurance Pokémon",
         "orientation": "v",
         "showlegend": true,
         "textposition": "auto",
         "type": "bar",
         "x": [
          "dragon"
         ],
         "xaxis": "x",
         "y": [
          1
         ],
         "yaxis": "y"
        },
        {
         "alignmentgroup": "True",
         "hovertemplate": "classfication=Iron Ball Pokémon<br>type1=%{x}<br>count=%{y}<extra></extra>",
         "legendgroup": "Iron Ball Pokémon",
         "marker": {
          "color": "#00cc96",
          "pattern": {
           "shape": ""
          }
         },
         "name": "Iron Ball Pokémon",
         "offsetgroup": "Iron Ball Pokémon",
         "orientation": "v",
         "showlegend": true,
         "textposition": "auto",
         "type": "bar",
         "x": [
          "steel"
         ],
         "xaxis": "x",
         "y": [
          1
         ],
         "yaxis": "y"
        },
        {
         "alignmentgroup": "True",
         "hovertemplate": "classfication=Iron Claw Pokémon<br>type1=%{x}<br>count=%{y}<extra></extra>",
         "legendgroup": "Iron Claw Pokémon",
         "marker": {
          "color": "#ab63fa",
          "pattern": {
           "shape": ""
          }
         },
         "name": "Iron Claw Pokémon",
         "offsetgroup": "Iron Claw Pokémon",
         "orientation": "v",
         "showlegend": true,
         "textposition": "auto",
         "type": "bar",
         "x": [
          "steel"
         ],
         "xaxis": "x",
         "y": [
          1
         ],
         "yaxis": "y"
        },
        {
         "alignmentgroup": "True",
         "hovertemplate": "classfication=Iron Leg Pokémon<br>type1=%{x}<br>count=%{y}<extra></extra>",
         "legendgroup": "Iron Leg Pokémon",
         "marker": {
          "color": "#FFA15A",
          "pattern": {
           "shape": ""
          }
         },
         "name": "Iron Leg Pokémon",
         "offsetgroup": "Iron Leg Pokémon",
         "orientation": "v",
         "showlegend": true,
         "textposition": "auto",
         "type": "bar",
         "x": [
          "steel"
         ],
         "xaxis": "x",
         "y": [
          1
         ],
         "yaxis": "y"
        },
        {
         "alignmentgroup": "True",
         "hovertemplate": "classfication=Rock Peak Pokémon<br>type1=%{x}<br>count=%{y}<extra></extra>",
         "legendgroup": "Rock Peak Pokémon",
         "marker": {
          "color": "#19d3f3",
          "pattern": {
           "shape": ""
          }
         },
         "name": "Rock Peak Pokémon",
         "offsetgroup": "Rock Peak Pokémon",
         "orientation": "v",
         "showlegend": true,
         "textposition": "auto",
         "type": "bar",
         "x": [
          "rock"
         ],
         "xaxis": "x",
         "y": [
          1
         ],
         "yaxis": "y"
        },
        {
         "alignmentgroup": "True",
         "hovertemplate": "classfication=Iceberg Pokémon<br>type1=%{x}<br>count=%{y}<extra></extra>",
         "legendgroup": "Iceberg Pokémon",
         "marker": {
          "color": "#FF6692",
          "pattern": {
           "shape": ""
          }
         },
         "name": "Iceberg Pokémon",
         "offsetgroup": "Iceberg Pokémon",
         "orientation": "v",
         "showlegend": true,
         "textposition": "auto",
         "type": "bar",
         "x": [
          "ice",
          "ice"
         ],
         "xaxis": "x",
         "y": [
          1,
          1
         ],
         "yaxis": "y"
        },
        {
         "alignmentgroup": "True",
         "hovertemplate": "classfication=Iron Pokémon<br>type1=%{x}<br>count=%{y}<extra></extra>",
         "legendgroup": "Iron Pokémon",
         "marker": {
          "color": "#B6E880",
          "pattern": {
           "shape": ""
          }
         },
         "name": "Iron Pokémon",
         "offsetgroup": "Iron Pokémon",
         "orientation": "v",
         "showlegend": true,
         "textposition": "auto",
         "type": "bar",
         "x": [
          "steel"
         ],
         "xaxis": "x",
         "y": [
          1
         ],
         "yaxis": "y"
        },
        {
         "alignmentgroup": "True",
         "hovertemplate": "classfication=Eon Pokémon<br>type1=%{x}<br>count=%{y}<extra></extra>",
         "legendgroup": "Eon Pokémon",
         "marker": {
          "color": "#FF97FF",
          "pattern": {
           "shape": ""
          }
         },
         "name": "Eon Pokémon",
         "offsetgroup": "Eon Pokémon",
         "orientation": "v",
         "showlegend": true,
         "textposition": "auto",
         "type": "bar",
         "x": [
          "dragon",
          "dragon"
         ],
         "xaxis": "x",
         "y": [
          1,
          1
         ],
         "yaxis": "y"
        },
        {
         "alignmentgroup": "True",
         "hovertemplate": "classfication=Sea Basin Pokémon<br>type1=%{x}<br>count=%{y}<extra></extra>",
         "legendgroup": "Sea Basin Pokémon",
         "marker": {
          "color": "#FECB52",
          "pattern": {
           "shape": ""
          }
         },
         "name": "Sea Basin Pokémon",
         "offsetgroup": "Sea Basin Pokémon",
         "orientation": "v",
         "showlegend": true,
         "textposition": "auto",
         "type": "bar",
         "x": [
          "water"
         ],
         "xaxis": "x",
         "y": [
          1
         ],
         "yaxis": "y"
        },
        {
         "alignmentgroup": "True",
         "hovertemplate": "classfication=Continent Pokémon<br>type1=%{x}<br>count=%{y}<extra></extra>",
         "legendgroup": "Continent Pokémon",
         "marker": {
          "color": "#636efa",
          "pattern": {
           "shape": ""
          }
         },
         "name": "Continent Pokémon",
         "offsetgroup": "Continent Pokémon",
         "orientation": "v",
         "showlegend": true,
         "textposition": "auto",
         "type": "bar",
         "x": [
          "ground",
          "grass"
         ],
         "xaxis": "x",
         "y": [
          1,
          1
         ],
         "yaxis": "y"
        },
        {
         "alignmentgroup": "True",
         "hovertemplate": "classfication=Sky High Pokémon<br>type1=%{x}<br>count=%{y}<extra></extra>",
         "legendgroup": "Sky High Pokémon",
         "marker": {
          "color": "#EF553B",
          "pattern": {
           "shape": ""
          }
         },
         "name": "Sky High Pokémon",
         "offsetgroup": "Sky High Pokémon",
         "orientation": "v",
         "showlegend": true,
         "textposition": "auto",
         "type": "bar",
         "x": [
          "dragon"
         ],
         "xaxis": "x",
         "y": [
          1
         ],
         "yaxis": "y"
        },
        {
         "alignmentgroup": "True",
         "hovertemplate": "classfication=Wish Pokémon<br>type1=%{x}<br>count=%{y}<extra></extra>",
         "legendgroup": "Wish Pokémon",
         "marker": {
          "color": "#00cc96",
          "pattern": {
           "shape": ""
          }
         },
         "name": "Wish Pokémon",
         "offsetgroup": "Wish Pokémon",
         "orientation": "v",
         "showlegend": true,
         "textposition": "auto",
         "type": "bar",
         "x": [
          "steel"
         ],
         "xaxis": "x",
         "y": [
          1
         ],
         "yaxis": "y"
        },
        {
         "alignmentgroup": "True",
         "hovertemplate": "classfication=DNA Pokémon<br>type1=%{x}<br>count=%{y}<extra></extra>",
         "legendgroup": "DNA Pokémon",
         "marker": {
          "color": "#ab63fa",
          "pattern": {
           "shape": ""
          }
         },
         "name": "DNA Pokémon",
         "offsetgroup": "DNA Pokémon",
         "orientation": "v",
         "showlegend": true,
         "textposition": "auto",
         "type": "bar",
         "x": [
          "psychic"
         ],
         "xaxis": "x",
         "y": [
          1
         ],
         "yaxis": "y"
        },
        {
         "alignmentgroup": "True",
         "hovertemplate": "classfication=Tiny Leaf Pokémon<br>type1=%{x}<br>count=%{y}<extra></extra>",
         "legendgroup": "Tiny Leaf Pokémon",
         "marker": {
          "color": "#FFA15A",
          "pattern": {
           "shape": ""
          }
         },
         "name": "Tiny Leaf Pokémon",
         "offsetgroup": "Tiny Leaf Pokémon",
         "orientation": "v",
         "showlegend": true,
         "textposition": "auto",
         "type": "bar",
         "x": [
          "grass"
         ],
         "xaxis": "x",
         "y": [
          1
         ],
         "yaxis": "y"
        },
        {
         "alignmentgroup": "True",
         "hovertemplate": "classfication=Grove Pokémon<br>type1=%{x}<br>count=%{y}<extra></extra>",
         "legendgroup": "Grove Pokémon",
         "marker": {
          "color": "#19d3f3",
          "pattern": {
           "shape": ""
          }
         },
         "name": "Grove Pokémon",
         "offsetgroup": "Grove Pokémon",
         "orientation": "v",
         "showlegend": true,
         "textposition": "auto",
         "type": "bar",
         "x": [
          "grass"
         ],
         "xaxis": "x",
         "y": [
          1
         ],
         "yaxis": "y"
        },
        {
         "alignmentgroup": "True",
         "hovertemplate": "classfication=Chimp Pokémon<br>type1=%{x}<br>count=%{y}<extra></extra>",
         "legendgroup": "Chimp Pokémon",
         "marker": {
          "color": "#FF6692",
          "pattern": {
           "shape": ""
          }
         },
         "name": "Chimp Pokémon",
         "offsetgroup": "Chimp Pokémon",
         "orientation": "v",
         "showlegend": true,
         "textposition": "auto",
         "type": "bar",
         "x": [
          "fire"
         ],
         "xaxis": "x",
         "y": [
          1
         ],
         "yaxis": "y"
        },
        {
         "alignmentgroup": "True",
         "hovertemplate": "classfication=Playful Pokémon<br>type1=%{x}<br>count=%{y}<extra></extra>",
         "legendgroup": "Playful Pokémon",
         "marker": {
          "color": "#B6E880",
          "pattern": {
           "shape": ""
          }
         },
         "name": "Playful Pokémon",
         "offsetgroup": "Playful Pokémon",
         "orientation": "v",
         "showlegend": true,
         "textposition": "auto",
         "type": "bar",
         "x": [
          "fire",
          "fighting"
         ],
         "xaxis": "x",
         "y": [
          1,
          1
         ],
         "yaxis": "y"
        },
        {
         "alignmentgroup": "True",
         "hovertemplate": "classfication=Penguin Pokémon<br>type1=%{x}<br>count=%{y}<extra></extra>",
         "legendgroup": "Penguin Pokémon",
         "marker": {
          "color": "#FF97FF",
          "pattern": {
           "shape": ""
          }
         },
         "name": "Penguin Pokémon",
         "offsetgroup": "Penguin Pokémon",
         "orientation": "v",
         "showlegend": true,
         "textposition": "auto",
         "type": "bar",
         "x": [
          "water",
          "water"
         ],
         "xaxis": "x",
         "y": [
          1,
          1
         ],
         "yaxis": "y"
        },
        {
         "alignmentgroup": "True",
         "hovertemplate": "classfication=Emperor Pokémon<br>type1=%{x}<br>count=%{y}<extra></extra>",
         "legendgroup": "Emperor Pokémon",
         "marker": {
          "color": "#FECB52",
          "pattern": {
           "shape": ""
          }
         },
         "name": "Emperor Pokémon",
         "offsetgroup": "Emperor Pokémon",
         "orientation": "v",
         "showlegend": true,
         "textposition": "auto",
         "type": "bar",
         "x": [
          "water"
         ],
         "xaxis": "x",
         "y": [
          1
         ],
         "yaxis": "y"
        },
        {
         "alignmentgroup": "True",
         "hovertemplate": "classfication=Starling Pokémon<br>type1=%{x}<br>count=%{y}<extra></extra>",
         "legendgroup": "Starling Pokémon",
         "marker": {
          "color": "#636efa",
          "pattern": {
           "shape": ""
          }
         },
         "name": "Starling Pokémon",
         "offsetgroup": "Starling Pokémon",
         "orientation": "v",
         "showlegend": true,
         "textposition": "auto",
         "type": "bar",
         "x": [
          "normal",
          "normal"
         ],
         "xaxis": "x",
         "y": [
          1,
          1
         ],
         "yaxis": "y"
        },
        {
         "alignmentgroup": "True",
         "hovertemplate": "classfication=Predator Pokémon<br>type1=%{x}<br>count=%{y}<extra></extra>",
         "legendgroup": "Predator Pokémon",
         "marker": {
          "color": "#EF553B",
          "pattern": {
           "shape": ""
          }
         },
         "name": "Predator Pokémon",
         "offsetgroup": "Predator Pokémon",
         "orientation": "v",
         "showlegend": true,
         "textposition": "auto",
         "type": "bar",
         "x": [
          "normal"
         ],
         "xaxis": "x",
         "y": [
          1
         ],
         "yaxis": "y"
        },
        {
         "alignmentgroup": "True",
         "hovertemplate": "classfication=Plump Mouse Pokémon<br>type1=%{x}<br>count=%{y}<extra></extra>",
         "legendgroup": "Plump Mouse Pokémon",
         "marker": {
          "color": "#00cc96",
          "pattern": {
           "shape": ""
          }
         },
         "name": "Plump Mouse Pokémon",
         "offsetgroup": "Plump Mouse Pokémon",
         "orientation": "v",
         "showlegend": true,
         "textposition": "auto",
         "type": "bar",
         "x": [
          "normal"
         ],
         "xaxis": "x",
         "y": [
          1
         ],
         "yaxis": "y"
        },
        {
         "alignmentgroup": "True",
         "hovertemplate": "classfication=Beaver Pokémon<br>type1=%{x}<br>count=%{y}<extra></extra>",
         "legendgroup": "Beaver Pokémon",
         "marker": {
          "color": "#ab63fa",
          "pattern": {
           "shape": ""
          }
         },
         "name": "Beaver Pokémon",
         "offsetgroup": "Beaver Pokémon",
         "orientation": "v",
         "showlegend": true,
         "textposition": "auto",
         "type": "bar",
         "x": [
          "normal"
         ],
         "xaxis": "x",
         "y": [
          1
         ],
         "yaxis": "y"
        },
        {
         "alignmentgroup": "True",
         "hovertemplate": "classfication=Cricket Pokémon<br>type1=%{x}<br>count=%{y}<extra></extra>",
         "legendgroup": "Cricket Pokémon",
         "marker": {
          "color": "#FFA15A",
          "pattern": {
           "shape": ""
          }
         },
         "name": "Cricket Pokémon",
         "offsetgroup": "Cricket Pokémon",
         "orientation": "v",
         "showlegend": true,
         "textposition": "auto",
         "type": "bar",
         "x": [
          "bug",
          "bug"
         ],
         "xaxis": "x",
         "y": [
          1,
          1
         ],
         "yaxis": "y"
        },
        {
         "alignmentgroup": "True",
         "hovertemplate": "classfication=Flash Pokémon<br>type1=%{x}<br>count=%{y}<extra></extra>",
         "legendgroup": "Flash Pokémon",
         "marker": {
          "color": "#19d3f3",
          "pattern": {
           "shape": ""
          }
         },
         "name": "Flash Pokémon",
         "offsetgroup": "Flash Pokémon",
         "orientation": "v",
         "showlegend": true,
         "textposition": "auto",
         "type": "bar",
         "x": [
          "electric"
         ],
         "xaxis": "x",
         "y": [
          1
         ],
         "yaxis": "y"
        },
        {
         "alignmentgroup": "True",
         "hovertemplate": "classfication=Spark Pokémon<br>type1=%{x}<br>count=%{y}<extra></extra>",
         "legendgroup": "Spark Pokémon",
         "marker": {
          "color": "#FF6692",
          "pattern": {
           "shape": ""
          }
         },
         "name": "Spark Pokémon",
         "offsetgroup": "Spark Pokémon",
         "orientation": "v",
         "showlegend": true,
         "textposition": "auto",
         "type": "bar",
         "x": [
          "electric"
         ],
         "xaxis": "x",
         "y": [
          1
         ],
         "yaxis": "y"
        },
        {
         "alignmentgroup": "True",
         "hovertemplate": "classfication=Gleam Eyes Pokémon<br>type1=%{x}<br>count=%{y}<extra></extra>",
         "legendgroup": "Gleam Eyes Pokémon",
         "marker": {
          "color": "#B6E880",
          "pattern": {
           "shape": ""
          }
         },
         "name": "Gleam Eyes Pokémon",
         "offsetgroup": "Gleam Eyes Pokémon",
         "orientation": "v",
         "showlegend": true,
         "textposition": "auto",
         "type": "bar",
         "x": [
          "electric"
         ],
         "xaxis": "x",
         "y": [
          1
         ],
         "yaxis": "y"
        },
        {
         "alignmentgroup": "True",
         "hovertemplate": "classfication=Bud Pokémon<br>type1=%{x}<br>count=%{y}<extra></extra>",
         "legendgroup": "Bud Pokémon",
         "marker": {
          "color": "#FF97FF",
          "pattern": {
           "shape": ""
          }
         },
         "name": "Bud Pokémon",
         "offsetgroup": "Bud Pokémon",
         "orientation": "v",
         "showlegend": true,
         "textposition": "auto",
         "type": "bar",
         "x": [
          "grass"
         ],
         "xaxis": "x",
         "y": [
          1
         ],
         "yaxis": "y"
        },
        {
         "alignmentgroup": "True",
         "hovertemplate": "classfication=Bouquet Pokémon<br>type1=%{x}<br>count=%{y}<extra></extra>",
         "legendgroup": "Bouquet Pokémon",
         "marker": {
          "color": "#FECB52",
          "pattern": {
           "shape": ""
          }
         },
         "name": "Bouquet Pokémon",
         "offsetgroup": "Bouquet Pokémon",
         "orientation": "v",
         "showlegend": true,
         "textposition": "auto",
         "type": "bar",
         "x": [
          "grass"
         ],
         "xaxis": "x",
         "y": [
          1
         ],
         "yaxis": "y"
        },
        {
         "alignmentgroup": "True",
         "hovertemplate": "classfication=Head Butt Pokémon<br>type1=%{x}<br>count=%{y}<extra></extra>",
         "legendgroup": "Head Butt Pokémon",
         "marker": {
          "color": "#636efa",
          "pattern": {
           "shape": ""
          }
         },
         "name": "Head Butt Pokémon",
         "offsetgroup": "Head Butt Pokémon",
         "orientation": "v",
         "showlegend": true,
         "textposition": "auto",
         "type": "bar",
         "x": [
          "rock",
          "rock"
         ],
         "xaxis": "x",
         "y": [
          1,
          1
         ],
         "yaxis": "y"
        },
        {
         "alignmentgroup": "True",
         "hovertemplate": "classfication=Shield Pokémon<br>type1=%{x}<br>count=%{y}<extra></extra>",
         "legendgroup": "Shield Pokémon",
         "marker": {
          "color": "#EF553B",
          "pattern": {
           "shape": ""
          }
         },
         "name": "Shield Pokémon",
         "offsetgroup": "Shield Pokémon",
         "orientation": "v",
         "showlegend": true,
         "textposition": "auto",
         "type": "bar",
         "x": [
          "rock",
          "rock"
         ],
         "xaxis": "x",
         "y": [
          1,
          1
         ],
         "yaxis": "y"
        },
        {
         "alignmentgroup": "True",
         "hovertemplate": "classfication=Moth Pokémon<br>type1=%{x}<br>count=%{y}<extra></extra>",
         "legendgroup": "Moth Pokémon",
         "marker": {
          "color": "#00cc96",
          "pattern": {
           "shape": ""
          }
         },
         "name": "Moth Pokémon",
         "offsetgroup": "Moth Pokémon",
         "orientation": "v",
         "showlegend": true,
         "textposition": "auto",
         "type": "bar",
         "x": [
          "bug"
         ],
         "xaxis": "x",
         "y": [
          1
         ],
         "yaxis": "y"
        },
        {
         "alignmentgroup": "True",
         "hovertemplate": "classfication=Tiny Bee Pokémon<br>type1=%{x}<br>count=%{y}<extra></extra>",
         "legendgroup": "Tiny Bee Pokémon",
         "marker": {
          "color": "#ab63fa",
          "pattern": {
           "shape": ""
          }
         },
         "name": "Tiny Bee Pokémon",
         "offsetgroup": "Tiny Bee Pokémon",
         "orientation": "v",
         "showlegend": true,
         "textposition": "auto",
         "type": "bar",
         "x": [
          "bug"
         ],
         "xaxis": "x",
         "y": [
          1
         ],
         "yaxis": "y"
        },
        {
         "alignmentgroup": "True",
         "hovertemplate": "classfication=Beehive Pokémon<br>type1=%{x}<br>count=%{y}<extra></extra>",
         "legendgroup": "Beehive Pokémon",
         "marker": {
          "color": "#FFA15A",
          "pattern": {
           "shape": ""
          }
         },
         "name": "Beehive Pokémon",
         "offsetgroup": "Beehive Pokémon",
         "orientation": "v",
         "showlegend": true,
         "textposition": "auto",
         "type": "bar",
         "x": [
          "bug"
         ],
         "xaxis": "x",
         "y": [
          1
         ],
         "yaxis": "y"
        },
        {
         "alignmentgroup": "True",
         "hovertemplate": "classfication=EleSquirrel Pokémon<br>type1=%{x}<br>count=%{y}<extra></extra>",
         "legendgroup": "EleSquirrel Pokémon",
         "marker": {
          "color": "#19d3f3",
          "pattern": {
           "shape": ""
          }
         },
         "name": "EleSquirrel Pokémon",
         "offsetgroup": "EleSquirrel Pokémon",
         "orientation": "v",
         "showlegend": true,
         "textposition": "auto",
         "type": "bar",
         "x": [
          "electric"
         ],
         "xaxis": "x",
         "y": [
          1
         ],
         "yaxis": "y"
        },
        {
         "alignmentgroup": "True",
         "hovertemplate": "classfication=Sea Weasel Pokémon<br>type1=%{x}<br>count=%{y}<extra></extra>",
         "legendgroup": "Sea Weasel Pokémon",
         "marker": {
          "color": "#FF6692",
          "pattern": {
           "shape": ""
          }
         },
         "name": "Sea Weasel Pokémon",
         "offsetgroup": "Sea Weasel Pokémon",
         "orientation": "v",
         "showlegend": true,
         "textposition": "auto",
         "type": "bar",
         "x": [
          "water",
          "water"
         ],
         "xaxis": "x",
         "y": [
          1,
          1
         ],
         "yaxis": "y"
        },
        {
         "alignmentgroup": "True",
         "hovertemplate": "classfication=Cherry Pokémon<br>type1=%{x}<br>count=%{y}<extra></extra>",
         "legendgroup": "Cherry Pokémon",
         "marker": {
          "color": "#B6E880",
          "pattern": {
           "shape": ""
          }
         },
         "name": "Cherry Pokémon",
         "offsetgroup": "Cherry Pokémon",
         "orientation": "v",
         "showlegend": true,
         "textposition": "auto",
         "type": "bar",
         "x": [
          "grass"
         ],
         "xaxis": "x",
         "y": [
          1
         ],
         "yaxis": "y"
        },
        {
         "alignmentgroup": "True",
         "hovertemplate": "classfication=Blossom Pokémon<br>type1=%{x}<br>count=%{y}<extra></extra>",
         "legendgroup": "Blossom Pokémon",
         "marker": {
          "color": "#FF97FF",
          "pattern": {
           "shape": ""
          }
         },
         "name": "Blossom Pokémon",
         "offsetgroup": "Blossom Pokémon",
         "orientation": "v",
         "showlegend": true,
         "textposition": "auto",
         "type": "bar",
         "x": [
          "grass"
         ],
         "xaxis": "x",
         "y": [
          1
         ],
         "yaxis": "y"
        },
        {
         "alignmentgroup": "True",
         "hovertemplate": "classfication=Sea Slug Pokémon<br>type1=%{x}<br>count=%{y}<extra></extra>",
         "legendgroup": "Sea Slug Pokémon",
         "marker": {
          "color": "#FECB52",
          "pattern": {
           "shape": ""
          }
         },
         "name": "Sea Slug Pokémon",
         "offsetgroup": "Sea Slug Pokémon",
         "orientation": "v",
         "showlegend": true,
         "textposition": "auto",
         "type": "bar",
         "x": [
          "water",
          "water"
         ],
         "xaxis": "x",
         "y": [
          1,
          1
         ],
         "yaxis": "y"
        },
        {
         "alignmentgroup": "True",
         "hovertemplate": "classfication=Blimp Pokémon<br>type1=%{x}<br>count=%{y}<extra></extra>",
         "legendgroup": "Blimp Pokémon",
         "marker": {
          "color": "#636efa",
          "pattern": {
           "shape": ""
          }
         },
         "name": "Blimp Pokémon",
         "offsetgroup": "Blimp Pokémon",
         "orientation": "v",
         "showlegend": true,
         "textposition": "auto",
         "type": "bar",
         "x": [
          "ghost"
         ],
         "xaxis": "x",
         "y": [
          1
         ],
         "yaxis": "y"
        },
        {
         "alignmentgroup": "True",
         "hovertemplate": "classfication=Rabbit Pokémon<br>type1=%{x}<br>count=%{y}<extra></extra>",
         "legendgroup": "Rabbit Pokémon",
         "marker": {
          "color": "#EF553B",
          "pattern": {
           "shape": ""
          }
         },
         "name": "Rabbit Pokémon",
         "offsetgroup": "Rabbit Pokémon",
         "orientation": "v",
         "showlegend": true,
         "textposition": "auto",
         "type": "bar",
         "x": [
          "normal",
          "normal"
         ],
         "xaxis": "x",
         "y": [
          1,
          1
         ],
         "yaxis": "y"
        },
        {
         "alignmentgroup": "True",
         "hovertemplate": "classfication=Magical Pokémon<br>type1=%{x}<br>count=%{y}<extra></extra>",
         "legendgroup": "Magical Pokémon",
         "marker": {
          "color": "#00cc96",
          "pattern": {
           "shape": ""
          }
         },
         "name": "Magical Pokémon",
         "offsetgroup": "Magical Pokémon",
         "orientation": "v",
         "showlegend": true,
         "textposition": "auto",
         "type": "bar",
         "x": [
          "ghost"
         ],
         "xaxis": "x",
         "y": [
          1
         ],
         "yaxis": "y"
        },
        {
         "alignmentgroup": "True",
         "hovertemplate": "classfication=Big Boss Pokémon<br>type1=%{x}<br>count=%{y}<extra></extra>",
         "legendgroup": "Big Boss Pokémon",
         "marker": {
          "color": "#ab63fa",
          "pattern": {
           "shape": ""
          }
         },
         "name": "Big Boss Pokémon",
         "offsetgroup": "Big Boss Pokémon",
         "orientation": "v",
         "showlegend": true,
         "textposition": "auto",
         "type": "bar",
         "x": [
          "dark"
         ],
         "xaxis": "x",
         "y": [
          1
         ],
         "yaxis": "y"
        },
        {
         "alignmentgroup": "True",
         "hovertemplate": "classfication=Catty Pokémon<br>type1=%{x}<br>count=%{y}<extra></extra>",
         "legendgroup": "Catty Pokémon",
         "marker": {
          "color": "#FFA15A",
          "pattern": {
           "shape": ""
          }
         },
         "name": "Catty Pokémon",
         "offsetgroup": "Catty Pokémon",
         "orientation": "v",
         "showlegend": true,
         "textposition": "auto",
         "type": "bar",
         "x": [
          "normal"
         ],
         "xaxis": "x",
         "y": [
          1
         ],
         "yaxis": "y"
        },
        {
         "alignmentgroup": "True",
         "hovertemplate": "classfication=Tiger Cat Pokémon<br>type1=%{x}<br>count=%{y}<extra></extra>",
         "legendgroup": "Tiger Cat Pokémon",
         "marker": {
          "color": "#19d3f3",
          "pattern": {
           "shape": ""
          }
         },
         "name": "Tiger Cat Pokémon",
         "offsetgroup": "Tiger Cat Pokémon",
         "orientation": "v",
         "showlegend": true,
         "textposition": "auto",
         "type": "bar",
         "x": [
          "normal"
         ],
         "xaxis": "x",
         "y": [
          1
         ],
         "yaxis": "y"
        },
        {
         "alignmentgroup": "True",
         "hovertemplate": "classfication=Bell Pokémon<br>type1=%{x}<br>count=%{y}<extra></extra>",
         "legendgroup": "Bell Pokémon",
         "marker": {
          "color": "#FF6692",
          "pattern": {
           "shape": ""
          }
         },
         "name": "Bell Pokémon",
         "offsetgroup": "Bell Pokémon",
         "orientation": "v",
         "showlegend": true,
         "textposition": "auto",
         "type": "bar",
         "x": [
          "psychic"
         ],
         "xaxis": "x",
         "y": [
          1
         ],
         "yaxis": "y"
        },
        {
         "alignmentgroup": "True",
         "hovertemplate": "classfication=Skunk Pokémon<br>type1=%{x}<br>count=%{y}<extra></extra>",
         "legendgroup": "Skunk Pokémon",
         "marker": {
          "color": "#B6E880",
          "pattern": {
           "shape": ""
          }
         },
         "name": "Skunk Pokémon",
         "offsetgroup": "Skunk Pokémon",
         "orientation": "v",
         "showlegend": true,
         "textposition": "auto",
         "type": "bar",
         "x": [
          "poison",
          "poison"
         ],
         "xaxis": "x",
         "y": [
          1,
          1
         ],
         "yaxis": "y"
        },
        {
         "alignmentgroup": "True",
         "hovertemplate": "classfication=Bronze Pokémon<br>type1=%{x}<br>count=%{y}<extra></extra>",
         "legendgroup": "Bronze Pokémon",
         "marker": {
          "color": "#FF97FF",
          "pattern": {
           "shape": ""
          }
         },
         "name": "Bronze Pokémon",
         "offsetgroup": "Bronze Pokémon",
         "orientation": "v",
         "showlegend": true,
         "textposition": "auto",
         "type": "bar",
         "x": [
          "steel"
         ],
         "xaxis": "x",
         "y": [
          1
         ],
         "yaxis": "y"
        },
        {
         "alignmentgroup": "True",
         "hovertemplate": "classfication=Bronze Bell Pokémon<br>type1=%{x}<br>count=%{y}<extra></extra>",
         "legendgroup": "Bronze Bell Pokémon",
         "marker": {
          "color": "#FECB52",
          "pattern": {
           "shape": ""
          }
         },
         "name": "Bronze Bell Pokémon",
         "offsetgroup": "Bronze Bell Pokémon",
         "orientation": "v",
         "showlegend": true,
         "textposition": "auto",
         "type": "bar",
         "x": [
          "steel"
         ],
         "xaxis": "x",
         "y": [
          1
         ],
         "yaxis": "y"
        },
        {
         "alignmentgroup": "True",
         "hovertemplate": "classfication=Bonsai Pokémon<br>type1=%{x}<br>count=%{y}<extra></extra>",
         "legendgroup": "Bonsai Pokémon",
         "marker": {
          "color": "#636efa",
          "pattern": {
           "shape": ""
          }
         },
         "name": "Bonsai Pokémon",
         "offsetgroup": "Bonsai Pokémon",
         "orientation": "v",
         "showlegend": true,
         "textposition": "auto",
         "type": "bar",
         "x": [
          "rock"
         ],
         "xaxis": "x",
         "y": [
          1
         ],
         "yaxis": "y"
        },
        {
         "alignmentgroup": "True",
         "hovertemplate": "classfication=Mime Pokémon<br>type1=%{x}<br>count=%{y}<extra></extra>",
         "legendgroup": "Mime Pokémon",
         "marker": {
          "color": "#EF553B",
          "pattern": {
           "shape": ""
          }
         },
         "name": "Mime Pokémon",
         "offsetgroup": "Mime Pokémon",
         "orientation": "v",
         "showlegend": true,
         "textposition": "auto",
         "type": "bar",
         "x": [
          "psychic"
         ],
         "xaxis": "x",
         "y": [
          1
         ],
         "yaxis": "y"
        },
        {
         "alignmentgroup": "True",
         "hovertemplate": "classfication=Playhouse Pokémon<br>type1=%{x}<br>count=%{y}<extra></extra>",
         "legendgroup": "Playhouse Pokémon",
         "marker": {
          "color": "#00cc96",
          "pattern": {
           "shape": ""
          }
         },
         "name": "Playhouse Pokémon",
         "offsetgroup": "Playhouse Pokémon",
         "orientation": "v",
         "showlegend": true,
         "textposition": "auto",
         "type": "bar",
         "x": [
          "normal"
         ],
         "xaxis": "x",
         "y": [
          1
         ],
         "yaxis": "y"
        },
        {
         "alignmentgroup": "True",
         "hovertemplate": "classfication=Music Note Pokémon<br>type1=%{x}<br>count=%{y}<extra></extra>",
         "legendgroup": "Music Note Pokémon",
         "marker": {
          "color": "#ab63fa",
          "pattern": {
           "shape": ""
          }
         },
         "name": "Music Note Pokémon",
         "offsetgroup": "Music Note Pokémon",
         "orientation": "v",
         "showlegend": true,
         "textposition": "auto",
         "type": "bar",
         "x": [
          "normal"
         ],
         "xaxis": "x",
         "y": [
          1
         ],
         "yaxis": "y"
        },
        {
         "alignmentgroup": "True",
         "hovertemplate": "classfication=Forbidden Pokémon<br>type1=%{x}<br>count=%{y}<extra></extra>",
         "legendgroup": "Forbidden Pokémon",
         "marker": {
          "color": "#FFA15A",
          "pattern": {
           "shape": ""
          }
         },
         "name": "Forbidden Pokémon",
         "offsetgroup": "Forbidden Pokémon",
         "orientation": "v",
         "showlegend": true,
         "textposition": "auto",
         "type": "bar",
         "x": [
          "ghost"
         ],
         "xaxis": "x",
         "y": [
          1
         ],
         "yaxis": "y"
        },
        {
         "alignmentgroup": "True",
         "hovertemplate": "classfication=Land Shark Pokémon<br>type1=%{x}<br>count=%{y}<extra></extra>",
         "legendgroup": "Land Shark Pokémon",
         "marker": {
          "color": "#19d3f3",
          "pattern": {
           "shape": ""
          }
         },
         "name": "Land Shark Pokémon",
         "offsetgroup": "Land Shark Pokémon",
         "orientation": "v",
         "showlegend": true,
         "textposition": "auto",
         "type": "bar",
         "x": [
          "dragon"
         ],
         "xaxis": "x",
         "y": [
          1
         ],
         "yaxis": "y"
        },
        {
         "alignmentgroup": "True",
         "hovertemplate": "classfication=Cave Pokémon<br>type1=%{x}<br>count=%{y}<extra></extra>",
         "legendgroup": "Cave Pokémon",
         "marker": {
          "color": "#FF6692",
          "pattern": {
           "shape": ""
          }
         },
         "name": "Cave Pokémon",
         "offsetgroup": "Cave Pokémon",
         "orientation": "v",
         "showlegend": true,
         "textposition": "auto",
         "type": "bar",
         "x": [
          "dragon",
          "dragon"
         ],
         "xaxis": "x",
         "y": [
          1,
          1
         ],
         "yaxis": "y"
        },
        {
         "alignmentgroup": "True",
         "hovertemplate": "classfication=Mach Pokémon<br>type1=%{x}<br>count=%{y}<extra></extra>",
         "legendgroup": "Mach Pokémon",
         "marker": {
          "color": "#B6E880",
          "pattern": {
           "shape": ""
          }
         },
         "name": "Mach Pokémon",
         "offsetgroup": "Mach Pokémon",
         "orientation": "v",
         "showlegend": true,
         "textposition": "auto",
         "type": "bar",
         "x": [
          "dragon"
         ],
         "xaxis": "x",
         "y": [
          1
         ],
         "yaxis": "y"
        },
        {
         "alignmentgroup": "True",
         "hovertemplate": "classfication=Big Eater Pokémon<br>type1=%{x}<br>count=%{y}<extra></extra>",
         "legendgroup": "Big Eater Pokémon",
         "marker": {
          "color": "#FF97FF",
          "pattern": {
           "shape": ""
          }
         },
         "name": "Big Eater Pokémon",
         "offsetgroup": "Big Eater Pokémon",
         "orientation": "v",
         "showlegend": true,
         "textposition": "auto",
         "type": "bar",
         "x": [
          "normal"
         ],
         "xaxis": "x",
         "y": [
          1
         ],
         "yaxis": "y"
        },
        {
         "alignmentgroup": "True",
         "hovertemplate": "classfication=Emanation Pokémon<br>type1=%{x}<br>count=%{y}<extra></extra>",
         "legendgroup": "Emanation Pokémon",
         "marker": {
          "color": "#FECB52",
          "pattern": {
           "shape": ""
          }
         },
         "name": "Emanation Pokémon",
         "offsetgroup": "Emanation Pokémon",
         "orientation": "v",
         "showlegend": true,
         "textposition": "auto",
         "type": "bar",
         "x": [
          "fighting"
         ],
         "xaxis": "x",
         "y": [
          1
         ],
         "yaxis": "y"
        },
        {
         "alignmentgroup": "True",
         "hovertemplate": "classfication=Aura Pokémon<br>type1=%{x}<br>count=%{y}<extra></extra>",
         "legendgroup": "Aura Pokémon",
         "marker": {
          "color": "#636efa",
          "pattern": {
           "shape": ""
          }
         },
         "name": "Aura Pokémon",
         "offsetgroup": "Aura Pokémon",
         "orientation": "v",
         "showlegend": true,
         "textposition": "auto",
         "type": "bar",
         "x": [
          "fighting"
         ],
         "xaxis": "x",
         "y": [
          1
         ],
         "yaxis": "y"
        },
        {
         "alignmentgroup": "True",
         "hovertemplate": "classfication=Hippo Pokémon<br>type1=%{x}<br>count=%{y}<extra></extra>",
         "legendgroup": "Hippo Pokémon",
         "marker": {
          "color": "#EF553B",
          "pattern": {
           "shape": ""
          }
         },
         "name": "Hippo Pokémon",
         "offsetgroup": "Hippo Pokémon",
         "orientation": "v",
         "showlegend": true,
         "textposition": "auto",
         "type": "bar",
         "x": [
          "ground"
         ],
         "xaxis": "x",
         "y": [
          1
         ],
         "yaxis": "y"
        },
        {
         "alignmentgroup": "True",
         "hovertemplate": "classfication=Heavyweight Pokémon<br>type1=%{x}<br>count=%{y}<extra></extra>",
         "legendgroup": "Heavyweight Pokémon",
         "marker": {
          "color": "#00cc96",
          "pattern": {
           "shape": ""
          }
         },
         "name": "Heavyweight Pokémon",
         "offsetgroup": "Heavyweight Pokémon",
         "orientation": "v",
         "showlegend": true,
         "textposition": "auto",
         "type": "bar",
         "x": [
          "ground"
         ],
         "xaxis": "x",
         "y": [
          1
         ],
         "yaxis": "y"
        },
        {
         "alignmentgroup": "True",
         "hovertemplate": "classfication=Scorpion Pokémon<br>type1=%{x}<br>count=%{y}<extra></extra>",
         "legendgroup": "Scorpion Pokémon",
         "marker": {
          "color": "#ab63fa",
          "pattern": {
           "shape": ""
          }
         },
         "name": "Scorpion Pokémon",
         "offsetgroup": "Scorpion Pokémon",
         "orientation": "v",
         "showlegend": true,
         "textposition": "auto",
         "type": "bar",
         "x": [
          "poison"
         ],
         "xaxis": "x",
         "y": [
          1
         ],
         "yaxis": "y"
        },
        {
         "alignmentgroup": "True",
         "hovertemplate": "classfication=Ogre Scorp Pokémon<br>type1=%{x}<br>count=%{y}<extra></extra>",
         "legendgroup": "Ogre Scorp Pokémon",
         "marker": {
          "color": "#FFA15A",
          "pattern": {
           "shape": ""
          }
         },
         "name": "Ogre Scorp Pokémon",
         "offsetgroup": "Ogre Scorp Pokémon",
         "orientation": "v",
         "showlegend": true,
         "textposition": "auto",
         "type": "bar",
         "x": [
          "poison"
         ],
         "xaxis": "x",
         "y": [
          1
         ],
         "yaxis": "y"
        },
        {
         "alignmentgroup": "True",
         "hovertemplate": "classfication=Toxic Mouth Pokémon<br>type1=%{x}<br>count=%{y}<extra></extra>",
         "legendgroup": "Toxic Mouth Pokémon",
         "marker": {
          "color": "#19d3f3",
          "pattern": {
           "shape": ""
          }
         },
         "name": "Toxic Mouth Pokémon",
         "offsetgroup": "Toxic Mouth Pokémon",
         "orientation": "v",
         "showlegend": true,
         "textposition": "auto",
         "type": "bar",
         "x": [
          "poison",
          "poison"
         ],
         "xaxis": "x",
         "y": [
          1,
          1
         ],
         "yaxis": "y"
        },
        {
         "alignmentgroup": "True",
         "hovertemplate": "classfication=Bug Catcher Pokémon<br>type1=%{x}<br>count=%{y}<extra></extra>",
         "legendgroup": "Bug Catcher Pokémon",
         "marker": {
          "color": "#FF6692",
          "pattern": {
           "shape": ""
          }
         },
         "name": "Bug Catcher Pokémon",
         "offsetgroup": "Bug Catcher Pokémon",
         "orientation": "v",
         "showlegend": true,
         "textposition": "auto",
         "type": "bar",
         "x": [
          "grass"
         ],
         "xaxis": "x",
         "y": [
          1
         ],
         "yaxis": "y"
        },
        {
         "alignmentgroup": "True",
         "hovertemplate": "classfication=Wing Fish Pokémon<br>type1=%{x}<br>count=%{y}<extra></extra>",
         "legendgroup": "Wing Fish Pokémon",
         "marker": {
          "color": "#B6E880",
          "pattern": {
           "shape": ""
          }
         },
         "name": "Wing Fish Pokémon",
         "offsetgroup": "Wing Fish Pokémon",
         "orientation": "v",
         "showlegend": true,
         "textposition": "auto",
         "type": "bar",
         "x": [
          "water"
         ],
         "xaxis": "x",
         "y": [
          1
         ],
         "yaxis": "y"
        },
        {
         "alignmentgroup": "True",
         "hovertemplate": "classfication=Neon Pokémon<br>type1=%{x}<br>count=%{y}<extra></extra>",
         "legendgroup": "Neon Pokémon",
         "marker": {
          "color": "#FF97FF",
          "pattern": {
           "shape": ""
          }
         },
         "name": "Neon Pokémon",
         "offsetgroup": "Neon Pokémon",
         "orientation": "v",
         "showlegend": true,
         "textposition": "auto",
         "type": "bar",
         "x": [
          "water"
         ],
         "xaxis": "x",
         "y": [
          1
         ],
         "yaxis": "y"
        },
        {
         "alignmentgroup": "True",
         "hovertemplate": "classfication=Frosted Tree Pokémon<br>type1=%{x}<br>count=%{y}<extra></extra>",
         "legendgroup": "Frosted Tree Pokémon",
         "marker": {
          "color": "#FECB52",
          "pattern": {
           "shape": ""
          }
         },
         "name": "Frosted Tree Pokémon",
         "offsetgroup": "Frosted Tree Pokémon",
         "orientation": "v",
         "showlegend": true,
         "textposition": "auto",
         "type": "bar",
         "x": [
          "grass",
          "grass"
         ],
         "xaxis": "x",
         "y": [
          1,
          1
         ],
         "yaxis": "y"
        },
        {
         "alignmentgroup": "True",
         "hovertemplate": "classfication=Magnet Area Pokémon<br>type1=%{x}<br>count=%{y}<extra></extra>",
         "legendgroup": "Magnet Area Pokémon",
         "marker": {
          "color": "#636efa",
          "pattern": {
           "shape": ""
          }
         },
         "name": "Magnet Area Pokémon",
         "offsetgroup": "Magnet Area Pokémon",
         "orientation": "v",
         "showlegend": true,
         "textposition": "auto",
         "type": "bar",
         "x": [
          "electric"
         ],
         "xaxis": "x",
         "y": [
          1
         ],
         "yaxis": "y"
        },
        {
         "alignmentgroup": "True",
         "hovertemplate": "classfication=Thunderbolt Pokémon<br>type1=%{x}<br>count=%{y}<extra></extra>",
         "legendgroup": "Thunderbolt Pokémon",
         "marker": {
          "color": "#EF553B",
          "pattern": {
           "shape": ""
          }
         },
         "name": "Thunderbolt Pokémon",
         "offsetgroup": "Thunderbolt Pokémon",
         "orientation": "v",
         "showlegend": true,
         "textposition": "auto",
         "type": "bar",
         "x": [
          "electric",
          "electric"
         ],
         "xaxis": "x",
         "y": [
          1,
          1
         ],
         "yaxis": "y"
        },
        {
         "alignmentgroup": "True",
         "hovertemplate": "classfication=Blast Pokémon<br>type1=%{x}<br>count=%{y}<extra></extra>",
         "legendgroup": "Blast Pokémon",
         "marker": {
          "color": "#00cc96",
          "pattern": {
           "shape": ""
          }
         },
         "name": "Blast Pokémon",
         "offsetgroup": "Blast Pokémon",
         "orientation": "v",
         "showlegend": true,
         "textposition": "auto",
         "type": "bar",
         "x": [
          "fire"
         ],
         "xaxis": "x",
         "y": [
          1
         ],
         "yaxis": "y"
        },
        {
         "alignmentgroup": "True",
         "hovertemplate": "classfication=Jubilee Pokémon<br>type1=%{x}<br>count=%{y}<extra></extra>",
         "legendgroup": "Jubilee Pokémon",
         "marker": {
          "color": "#ab63fa",
          "pattern": {
           "shape": ""
          }
         },
         "name": "Jubilee Pokémon",
         "offsetgroup": "Jubilee Pokémon",
         "orientation": "v",
         "showlegend": true,
         "textposition": "auto",
         "type": "bar",
         "x": [
          "fairy"
         ],
         "xaxis": "x",
         "y": [
          1
         ],
         "yaxis": "y"
        },
        {
         "alignmentgroup": "True",
         "hovertemplate": "classfication=Ogre Darner Pokémon<br>type1=%{x}<br>count=%{y}<extra></extra>",
         "legendgroup": "Ogre Darner Pokémon",
         "marker": {
          "color": "#FFA15A",
          "pattern": {
           "shape": ""
          }
         },
         "name": "Ogre Darner Pokémon",
         "offsetgroup": "Ogre Darner Pokémon",
         "orientation": "v",
         "showlegend": true,
         "textposition": "auto",
         "type": "bar",
         "x": [
          "bug"
         ],
         "xaxis": "x",
         "y": [
          1
         ],
         "yaxis": "y"
        },
        {
         "alignmentgroup": "True",
         "hovertemplate": "classfication=Verdant Pokémon<br>type1=%{x}<br>count=%{y}<extra></extra>",
         "legendgroup": "Verdant Pokémon",
         "marker": {
          "color": "#19d3f3",
          "pattern": {
           "shape": ""
          }
         },
         "name": "Verdant Pokémon",
         "offsetgroup": "Verdant Pokémon",
         "orientation": "v",
         "showlegend": true,
         "textposition": "auto",
         "type": "bar",
         "x": [
          "grass"
         ],
         "xaxis": "x",
         "y": [
          1
         ],
         "yaxis": "y"
        },
        {
         "alignmentgroup": "True",
         "hovertemplate": "classfication=Fresh Snow Pokémon<br>type1=%{x}<br>count=%{y}<extra></extra>",
         "legendgroup": "Fresh Snow Pokémon",
         "marker": {
          "color": "#FF6692",
          "pattern": {
           "shape": ""
          }
         },
         "name": "Fresh Snow Pokémon",
         "offsetgroup": "Fresh Snow Pokémon",
         "orientation": "v",
         "showlegend": true,
         "textposition": "auto",
         "type": "bar",
         "x": [
          "ice",
          "ice"
         ],
         "xaxis": "x",
         "y": [
          1,
          1
         ],
         "yaxis": "y"
        },
        {
         "alignmentgroup": "True",
         "hovertemplate": "classfication=Fang Scorp Pokémon<br>type1=%{x}<br>count=%{y}<extra></extra>",
         "legendgroup": "Fang Scorp Pokémon",
         "marker": {
          "color": "#B6E880",
          "pattern": {
           "shape": ""
          }
         },
         "name": "Fang Scorp Pokémon",
         "offsetgroup": "Fang Scorp Pokémon",
         "orientation": "v",
         "showlegend": true,
         "textposition": "auto",
         "type": "bar",
         "x": [
          "ground"
         ],
         "xaxis": "x",
         "y": [
          1
         ],
         "yaxis": "y"
        },
        {
         "alignmentgroup": "True",
         "hovertemplate": "classfication=Twin Tusk Pokémon<br>type1=%{x}<br>count=%{y}<extra></extra>",
         "legendgroup": "Twin Tusk Pokémon",
         "marker": {
          "color": "#FF97FF",
          "pattern": {
           "shape": ""
          }
         },
         "name": "Twin Tusk Pokémon",
         "offsetgroup": "Twin Tusk Pokémon",
         "orientation": "v",
         "showlegend": true,
         "textposition": "auto",
         "type": "bar",
         "x": [
          "ice"
         ],
         "xaxis": "x",
         "y": [
          1
         ],
         "yaxis": "y"
        },
        {
         "alignmentgroup": "True",
         "hovertemplate": "classfication=Blade Pokémon<br>type1=%{x}<br>count=%{y}<extra></extra>",
         "legendgroup": "Blade Pokémon",
         "marker": {
          "color": "#FECB52",
          "pattern": {
           "shape": ""
          }
         },
         "name": "Blade Pokémon",
         "offsetgroup": "Blade Pokémon",
         "orientation": "v",
         "showlegend": true,
         "textposition": "auto",
         "type": "bar",
         "x": [
          "psychic"
         ],
         "xaxis": "x",
         "y": [
          1
         ],
         "yaxis": "y"
        },
        {
         "alignmentgroup": "True",
         "hovertemplate": "classfication=Gripper Pokémon<br>type1=%{x}<br>count=%{y}<extra></extra>",
         "legendgroup": "Gripper Pokémon",
         "marker": {
          "color": "#636efa",
          "pattern": {
           "shape": ""
          }
         },
         "name": "Gripper Pokémon",
         "offsetgroup": "Gripper Pokémon",
         "orientation": "v",
         "showlegend": true,
         "textposition": "auto",
         "type": "bar",
         "x": [
          "ghost"
         ],
         "xaxis": "x",
         "y": [
          1
         ],
         "yaxis": "y"
        },
        {
         "alignmentgroup": "True",
         "hovertemplate": "classfication=Snow Land Pokémon<br>type1=%{x}<br>count=%{y}<extra></extra>",
         "legendgroup": "Snow Land Pokémon",
         "marker": {
          "color": "#EF553B",
          "pattern": {
           "shape": ""
          }
         },
         "name": "Snow Land Pokémon",
         "offsetgroup": "Snow Land Pokémon",
         "orientation": "v",
         "showlegend": true,
         "textposition": "auto",
         "type": "bar",
         "x": [
          "ice"
         ],
         "xaxis": "x",
         "y": [
          1
         ],
         "yaxis": "y"
        },
        {
         "alignmentgroup": "True",
         "hovertemplate": "classfication=Plasma Pokémon<br>type1=%{x}<br>count=%{y}<extra></extra>",
         "legendgroup": "Plasma Pokémon",
         "marker": {
          "color": "#00cc96",
          "pattern": {
           "shape": ""
          }
         },
         "name": "Plasma Pokémon",
         "offsetgroup": "Plasma Pokémon",
         "orientation": "v",
         "showlegend": true,
         "textposition": "auto",
         "type": "bar",
         "x": [
          "electric"
         ],
         "xaxis": "x",
         "y": [
          1
         ],
         "yaxis": "y"
        },
        {
         "alignmentgroup": "True",
         "hovertemplate": "classfication=Knowledge Pokémon<br>type1=%{x}<br>count=%{y}<extra></extra>",
         "legendgroup": "Knowledge Pokémon",
         "marker": {
          "color": "#ab63fa",
          "pattern": {
           "shape": ""
          }
         },
         "name": "Knowledge Pokémon",
         "offsetgroup": "Knowledge Pokémon",
         "orientation": "v",
         "showlegend": true,
         "textposition": "auto",
         "type": "bar",
         "x": [
          "psychic"
         ],
         "xaxis": "x",
         "y": [
          1
         ],
         "yaxis": "y"
        },
        {
         "alignmentgroup": "True",
         "hovertemplate": "classfication=Willpower Pokémon<br>type1=%{x}<br>count=%{y}<extra></extra>",
         "legendgroup": "Willpower Pokémon",
         "marker": {
          "color": "#FFA15A",
          "pattern": {
           "shape": ""
          }
         },
         "name": "Willpower Pokémon",
         "offsetgroup": "Willpower Pokémon",
         "orientation": "v",
         "showlegend": true,
         "textposition": "auto",
         "type": "bar",
         "x": [
          "psychic"
         ],
         "xaxis": "x",
         "y": [
          1
         ],
         "yaxis": "y"
        },
        {
         "alignmentgroup": "True",
         "hovertemplate": "classfication=Temporal Pokémon<br>type1=%{x}<br>count=%{y}<extra></extra>",
         "legendgroup": "Temporal Pokémon",
         "marker": {
          "color": "#19d3f3",
          "pattern": {
           "shape": ""
          }
         },
         "name": "Temporal Pokémon",
         "offsetgroup": "Temporal Pokémon",
         "orientation": "v",
         "showlegend": true,
         "textposition": "auto",
         "type": "bar",
         "x": [
          "steel"
         ],
         "xaxis": "x",
         "y": [
          1
         ],
         "yaxis": "y"
        },
        {
         "alignmentgroup": "True",
         "hovertemplate": "classfication=Spatial Pokémon<br>type1=%{x}<br>count=%{y}<extra></extra>",
         "legendgroup": "Spatial Pokémon",
         "marker": {
          "color": "#FF6692",
          "pattern": {
           "shape": ""
          }
         },
         "name": "Spatial Pokémon",
         "offsetgroup": "Spatial Pokémon",
         "orientation": "v",
         "showlegend": true,
         "textposition": "auto",
         "type": "bar",
         "x": [
          "water"
         ],
         "xaxis": "x",
         "y": [
          1
         ],
         "yaxis": "y"
        },
        {
         "alignmentgroup": "True",
         "hovertemplate": "classfication=Lava Dome Pokémon<br>type1=%{x}<br>count=%{y}<extra></extra>",
         "legendgroup": "Lava Dome Pokémon",
         "marker": {
          "color": "#B6E880",
          "pattern": {
           "shape": ""
          }
         },
         "name": "Lava Dome Pokémon",
         "offsetgroup": "Lava Dome Pokémon",
         "orientation": "v",
         "showlegend": true,
         "textposition": "auto",
         "type": "bar",
         "x": [
          "fire"
         ],
         "xaxis": "x",
         "y": [
          1
         ],
         "yaxis": "y"
        },
        {
         "alignmentgroup": "True",
         "hovertemplate": "classfication=Colossal Pokémon<br>type1=%{x}<br>count=%{y}<extra></extra>",
         "legendgroup": "Colossal Pokémon",
         "marker": {
          "color": "#FF97FF",
          "pattern": {
           "shape": ""
          }
         },
         "name": "Colossal Pokémon",
         "offsetgroup": "Colossal Pokémon",
         "orientation": "v",
         "showlegend": true,
         "textposition": "auto",
         "type": "bar",
         "x": [
          "normal"
         ],
         "xaxis": "x",
         "y": [
          1
         ],
         "yaxis": "y"
        },
        {
         "alignmentgroup": "True",
         "hovertemplate": "classfication=Renegade Pokémon<br>type1=%{x}<br>count=%{y}<extra></extra>",
         "legendgroup": "Renegade Pokémon",
         "marker": {
          "color": "#FECB52",
          "pattern": {
           "shape": ""
          }
         },
         "name": "Renegade Pokémon",
         "offsetgroup": "Renegade Pokémon",
         "orientation": "v",
         "showlegend": true,
         "textposition": "auto",
         "type": "bar",
         "x": [
          "ghost"
         ],
         "xaxis": "x",
         "y": [
          1
         ],
         "yaxis": "y"
        },
        {
         "alignmentgroup": "True",
         "hovertemplate": "classfication=Lunar Pokémon<br>type1=%{x}<br>count=%{y}<extra></extra>",
         "legendgroup": "Lunar Pokémon",
         "marker": {
          "color": "#636efa",
          "pattern": {
           "shape": ""
          }
         },
         "name": "Lunar Pokémon",
         "offsetgroup": "Lunar Pokémon",
         "orientation": "v",
         "showlegend": true,
         "textposition": "auto",
         "type": "bar",
         "x": [
          "psychic"
         ],
         "xaxis": "x",
         "y": [
          1
         ],
         "yaxis": "y"
        },
        {
         "alignmentgroup": "True",
         "hovertemplate": "classfication=Sea Drifter Pokémon<br>type1=%{x}<br>count=%{y}<extra></extra>",
         "legendgroup": "Sea Drifter Pokémon",
         "marker": {
          "color": "#EF553B",
          "pattern": {
           "shape": ""
          }
         },
         "name": "Sea Drifter Pokémon",
         "offsetgroup": "Sea Drifter Pokémon",
         "orientation": "v",
         "showlegend": true,
         "textposition": "auto",
         "type": "bar",
         "x": [
          "water"
         ],
         "xaxis": "x",
         "y": [
          1
         ],
         "yaxis": "y"
        },
        {
         "alignmentgroup": "True",
         "hovertemplate": "classfication=Seafaring Pokémon<br>type1=%{x}<br>count=%{y}<extra></extra>",
         "legendgroup": "Seafaring Pokémon",
         "marker": {
          "color": "#00cc96",
          "pattern": {
           "shape": ""
          }
         },
         "name": "Seafaring Pokémon",
         "offsetgroup": "Seafaring Pokémon",
         "orientation": "v",
         "showlegend": true,
         "textposition": "auto",
         "type": "bar",
         "x": [
          "water"
         ],
         "xaxis": "x",
         "y": [
          1
         ],
         "yaxis": "y"
        },
        {
         "alignmentgroup": "True",
         "hovertemplate": "classfication=Pitch-Black Pokémon<br>type1=%{x}<br>count=%{y}<extra></extra>",
         "legendgroup": "Pitch-Black Pokémon",
         "marker": {
          "color": "#ab63fa",
          "pattern": {
           "shape": ""
          }
         },
         "name": "Pitch-Black Pokémon",
         "offsetgroup": "Pitch-Black Pokémon",
         "orientation": "v",
         "showlegend": true,
         "textposition": "auto",
         "type": "bar",
         "x": [
          "dark"
         ],
         "xaxis": "x",
         "y": [
          1
         ],
         "yaxis": "y"
        },
        {
         "alignmentgroup": "True",
         "hovertemplate": "classfication=Gratitude Pokémon<br>type1=%{x}<br>count=%{y}<extra></extra>",
         "legendgroup": "Gratitude Pokémon",
         "marker": {
          "color": "#FFA15A",
          "pattern": {
           "shape": ""
          }
         },
         "name": "Gratitude Pokémon",
         "offsetgroup": "Gratitude Pokémon",
         "orientation": "v",
         "showlegend": true,
         "textposition": "auto",
         "type": "bar",
         "x": [
          "grass"
         ],
         "xaxis": "x",
         "y": [
          1
         ],
         "yaxis": "y"
        },
        {
         "alignmentgroup": "True",
         "hovertemplate": "classfication=Alpha Pokémon<br>type1=%{x}<br>count=%{y}<extra></extra>",
         "legendgroup": "Alpha Pokémon",
         "marker": {
          "color": "#19d3f3",
          "pattern": {
           "shape": ""
          }
         },
         "name": "Alpha Pokémon",
         "offsetgroup": "Alpha Pokémon",
         "orientation": "v",
         "showlegend": true,
         "textposition": "auto",
         "type": "bar",
         "x": [
          "normal"
         ],
         "xaxis": "x",
         "y": [
          1
         ],
         "yaxis": "y"
        },
        {
         "alignmentgroup": "True",
         "hovertemplate": "classfication=Victory Pokémon<br>type1=%{x}<br>count=%{y}<extra></extra>",
         "legendgroup": "Victory Pokémon",
         "marker": {
          "color": "#FF6692",
          "pattern": {
           "shape": ""
          }
         },
         "name": "Victory Pokémon",
         "offsetgroup": "Victory Pokémon",
         "orientation": "v",
         "showlegend": true,
         "textposition": "auto",
         "type": "bar",
         "x": [
          "psychic"
         ],
         "xaxis": "x",
         "y": [
          1
         ],
         "yaxis": "y"
        },
        {
         "alignmentgroup": "True",
         "hovertemplate": "classfication=Grass Snake Pokémon<br>type1=%{x}<br>count=%{y}<extra></extra>",
         "legendgroup": "Grass Snake Pokémon",
         "marker": {
          "color": "#B6E880",
          "pattern": {
           "shape": ""
          }
         },
         "name": "Grass Snake Pokémon",
         "offsetgroup": "Grass Snake Pokémon",
         "orientation": "v",
         "showlegend": true,
         "textposition": "auto",
         "type": "bar",
         "x": [
          "grass",
          "grass"
         ],
         "xaxis": "x",
         "y": [
          1,
          1
         ],
         "yaxis": "y"
        },
        {
         "alignmentgroup": "True",
         "hovertemplate": "classfication=Regal Pokémon<br>type1=%{x}<br>count=%{y}<extra></extra>",
         "legendgroup": "Regal Pokémon",
         "marker": {
          "color": "#FF97FF",
          "pattern": {
           "shape": ""
          }
         },
         "name": "Regal Pokémon",
         "offsetgroup": "Regal Pokémon",
         "orientation": "v",
         "showlegend": true,
         "textposition": "auto",
         "type": "bar",
         "x": [
          "grass"
         ],
         "xaxis": "x",
         "y": [
          1
         ],
         "yaxis": "y"
        },
        {
         "alignmentgroup": "True",
         "hovertemplate": "classfication=Fire Pig Pokémon<br>type1=%{x}<br>count=%{y}<extra></extra>",
         "legendgroup": "Fire Pig Pokémon",
         "marker": {
          "color": "#FECB52",
          "pattern": {
           "shape": ""
          }
         },
         "name": "Fire Pig Pokémon",
         "offsetgroup": "Fire Pig Pokémon",
         "orientation": "v",
         "showlegend": true,
         "textposition": "auto",
         "type": "bar",
         "x": [
          "fire",
          "fire"
         ],
         "xaxis": "x",
         "y": [
          1,
          1
         ],
         "yaxis": "y"
        },
        {
         "alignmentgroup": "True",
         "hovertemplate": "classfication=Mega Fire Pig Pokémon<br>type1=%{x}<br>count=%{y}<extra></extra>",
         "legendgroup": "Mega Fire Pig Pokémon",
         "marker": {
          "color": "#636efa",
          "pattern": {
           "shape": ""
          }
         },
         "name": "Mega Fire Pig Pokémon",
         "offsetgroup": "Mega Fire Pig Pokémon",
         "orientation": "v",
         "showlegend": true,
         "textposition": "auto",
         "type": "bar",
         "x": [
          "fire"
         ],
         "xaxis": "x",
         "y": [
          1
         ],
         "yaxis": "y"
        },
        {
         "alignmentgroup": "True",
         "hovertemplate": "classfication=Sea Otter Pokémon<br>type1=%{x}<br>count=%{y}<extra></extra>",
         "legendgroup": "Sea Otter Pokémon",
         "marker": {
          "color": "#EF553B",
          "pattern": {
           "shape": ""
          }
         },
         "name": "Sea Otter Pokémon",
         "offsetgroup": "Sea Otter Pokémon",
         "orientation": "v",
         "showlegend": true,
         "textposition": "auto",
         "type": "bar",
         "x": [
          "water"
         ],
         "xaxis": "x",
         "y": [
          1
         ],
         "yaxis": "y"
        },
        {
         "alignmentgroup": "True",
         "hovertemplate": "classfication=Discipline Pokémon<br>type1=%{x}<br>count=%{y}<extra></extra>",
         "legendgroup": "Discipline Pokémon",
         "marker": {
          "color": "#00cc96",
          "pattern": {
           "shape": ""
          }
         },
         "name": "Discipline Pokémon",
         "offsetgroup": "Discipline Pokémon",
         "orientation": "v",
         "showlegend": true,
         "textposition": "auto",
         "type": "bar",
         "x": [
          "water"
         ],
         "xaxis": "x",
         "y": [
          1
         ],
         "yaxis": "y"
        },
        {
         "alignmentgroup": "True",
         "hovertemplate": "classfication=Formidable Pokémon<br>type1=%{x}<br>count=%{y}<extra></extra>",
         "legendgroup": "Formidable Pokémon",
         "marker": {
          "color": "#ab63fa",
          "pattern": {
           "shape": ""
          }
         },
         "name": "Formidable Pokémon",
         "offsetgroup": "Formidable Pokémon",
         "orientation": "v",
         "showlegend": true,
         "textposition": "auto",
         "type": "bar",
         "x": [
          "water"
         ],
         "xaxis": "x",
         "y": [
          1
         ],
         "yaxis": "y"
        },
        {
         "alignmentgroup": "True",
         "hovertemplate": "classfication=Lookout Pokémon<br>type1=%{x}<br>count=%{y}<extra></extra>",
         "legendgroup": "Lookout Pokémon",
         "marker": {
          "color": "#FFA15A",
          "pattern": {
           "shape": ""
          }
         },
         "name": "Lookout Pokémon",
         "offsetgroup": "Lookout Pokémon",
         "orientation": "v",
         "showlegend": true,
         "textposition": "auto",
         "type": "bar",
         "x": [
          "normal"
         ],
         "xaxis": "x",
         "y": [
          1
         ],
         "yaxis": "y"
        },
        {
         "alignmentgroup": "True",
         "hovertemplate": "classfication=Loyal Dog Pokémon<br>type1=%{x}<br>count=%{y}<extra></extra>",
         "legendgroup": "Loyal Dog Pokémon",
         "marker": {
          "color": "#19d3f3",
          "pattern": {
           "shape": ""
          }
         },
         "name": "Loyal Dog Pokémon",
         "offsetgroup": "Loyal Dog Pokémon",
         "orientation": "v",
         "showlegend": true,
         "textposition": "auto",
         "type": "bar",
         "x": [
          "normal"
         ],
         "xaxis": "x",
         "y": [
          1
         ],
         "yaxis": "y"
        },
        {
         "alignmentgroup": "True",
         "hovertemplate": "classfication=Big-Hearted Pokémon<br>type1=%{x}<br>count=%{y}<extra></extra>",
         "legendgroup": "Big-Hearted Pokémon",
         "marker": {
          "color": "#FF6692",
          "pattern": {
           "shape": ""
          }
         },
         "name": "Big-Hearted Pokémon",
         "offsetgroup": "Big-Hearted Pokémon",
         "orientation": "v",
         "showlegend": true,
         "textposition": "auto",
         "type": "bar",
         "x": [
          "normal"
         ],
         "xaxis": "x",
         "y": [
          1
         ],
         "yaxis": "y"
        },
        {
         "alignmentgroup": "True",
         "hovertemplate": "classfication=Devious Pokémon<br>type1=%{x}<br>count=%{y}<extra></extra>",
         "legendgroup": "Devious Pokémon",
         "marker": {
          "color": "#B6E880",
          "pattern": {
           "shape": ""
          }
         },
         "name": "Devious Pokémon",
         "offsetgroup": "Devious Pokémon",
         "orientation": "v",
         "showlegend": true,
         "textposition": "auto",
         "type": "bar",
         "x": [
          "dark"
         ],
         "xaxis": "x",
         "y": [
          1
         ],
         "yaxis": "y"
        },
        {
         "alignmentgroup": "True",
         "hovertemplate": "classfication=Cruel Pokémon<br>type1=%{x}<br>count=%{y}<extra></extra>",
         "legendgroup": "Cruel Pokémon",
         "marker": {
          "color": "#FF97FF",
          "pattern": {
           "shape": ""
          }
         },
         "name": "Cruel Pokémon",
         "offsetgroup": "Cruel Pokémon",
         "orientation": "v",
         "showlegend": true,
         "textposition": "auto",
         "type": "bar",
         "x": [
          "dark"
         ],
         "xaxis": "x",
         "y": [
          1
         ],
         "yaxis": "y"
        },
        {
         "alignmentgroup": "True",
         "hovertemplate": "classfication=Grass Monkey Pokémon<br>type1=%{x}<br>count=%{y}<extra></extra>",
         "legendgroup": "Grass Monkey Pokémon",
         "marker": {
          "color": "#FECB52",
          "pattern": {
           "shape": ""
          }
         },
         "name": "Grass Monkey Pokémon",
         "offsetgroup": "Grass Monkey Pokémon",
         "orientation": "v",
         "showlegend": true,
         "textposition": "auto",
         "type": "bar",
         "x": [
          "grass"
         ],
         "xaxis": "x",
         "y": [
          1
         ],
         "yaxis": "y"
        },
        {
         "alignmentgroup": "True",
         "hovertemplate": "classfication=Thorn Monkey Pokémon<br>type1=%{x}<br>count=%{y}<extra></extra>",
         "legendgroup": "Thorn Monkey Pokémon",
         "marker": {
          "color": "#636efa",
          "pattern": {
           "shape": ""
          }
         },
         "name": "Thorn Monkey Pokémon",
         "offsetgroup": "Thorn Monkey Pokémon",
         "orientation": "v",
         "showlegend": true,
         "textposition": "auto",
         "type": "bar",
         "x": [
          "grass"
         ],
         "xaxis": "x",
         "y": [
          1
         ],
         "yaxis": "y"
        },
        {
         "alignmentgroup": "True",
         "hovertemplate": "classfication=High Temp Pokémon<br>type1=%{x}<br>count=%{y}<extra></extra>",
         "legendgroup": "High Temp Pokémon",
         "marker": {
          "color": "#EF553B",
          "pattern": {
           "shape": ""
          }
         },
         "name": "High Temp Pokémon",
         "offsetgroup": "High Temp Pokémon",
         "orientation": "v",
         "showlegend": true,
         "textposition": "auto",
         "type": "bar",
         "x": [
          "fire"
         ],
         "xaxis": "x",
         "y": [
          1
         ],
         "yaxis": "y"
        },
        {
         "alignmentgroup": "True",
         "hovertemplate": "classfication=Ember Pokémon<br>type1=%{x}<br>count=%{y}<extra></extra>",
         "legendgroup": "Ember Pokémon",
         "marker": {
          "color": "#00cc96",
          "pattern": {
           "shape": ""
          }
         },
         "name": "Ember Pokémon",
         "offsetgroup": "Ember Pokémon",
         "orientation": "v",
         "showlegend": true,
         "textposition": "auto",
         "type": "bar",
         "x": [
          "fire",
          "fire"
         ],
         "xaxis": "x",
         "y": [
          1,
          1
         ],
         "yaxis": "y"
        },
        {
         "alignmentgroup": "True",
         "hovertemplate": "classfication=Spray Pokémon<br>type1=%{x}<br>count=%{y}<extra></extra>",
         "legendgroup": "Spray Pokémon",
         "marker": {
          "color": "#ab63fa",
          "pattern": {
           "shape": ""
          }
         },
         "name": "Spray Pokémon",
         "offsetgroup": "Spray Pokémon",
         "orientation": "v",
         "showlegend": true,
         "textposition": "auto",
         "type": "bar",
         "x": [
          "water"
         ],
         "xaxis": "x",
         "y": [
          1
         ],
         "yaxis": "y"
        },
        {
         "alignmentgroup": "True",
         "hovertemplate": "classfication=Geyser Pokémon<br>type1=%{x}<br>count=%{y}<extra></extra>",
         "legendgroup": "Geyser Pokémon",
         "marker": {
          "color": "#FFA15A",
          "pattern": {
           "shape": ""
          }
         },
         "name": "Geyser Pokémon",
         "offsetgroup": "Geyser Pokémon",
         "orientation": "v",
         "showlegend": true,
         "textposition": "auto",
         "type": "bar",
         "x": [
          "water"
         ],
         "xaxis": "x",
         "y": [
          1
         ],
         "yaxis": "y"
        },
        {
         "alignmentgroup": "True",
         "hovertemplate": "classfication=Dream Eater Pokémon<br>type1=%{x}<br>count=%{y}<extra></extra>",
         "legendgroup": "Dream Eater Pokémon",
         "marker": {
          "color": "#19d3f3",
          "pattern": {
           "shape": ""
          }
         },
         "name": "Dream Eater Pokémon",
         "offsetgroup": "Dream Eater Pokémon",
         "orientation": "v",
         "showlegend": true,
         "textposition": "auto",
         "type": "bar",
         "x": [
          "psychic"
         ],
         "xaxis": "x",
         "y": [
          1
         ],
         "yaxis": "y"
        },
        {
         "alignmentgroup": "True",
         "hovertemplate": "classfication=Drowsing Pokémon<br>type1=%{x}<br>count=%{y}<extra></extra>",
         "legendgroup": "Drowsing Pokémon",
         "marker": {
          "color": "#FF6692",
          "pattern": {
           "shape": ""
          }
         },
         "name": "Drowsing Pokémon",
         "offsetgroup": "Drowsing Pokémon",
         "orientation": "v",
         "showlegend": true,
         "textposition": "auto",
         "type": "bar",
         "x": [
          "psychic",
          "normal"
         ],
         "xaxis": "x",
         "y": [
          1,
          1
         ],
         "yaxis": "y"
        },
        {
         "alignmentgroup": "True",
         "hovertemplate": "classfication=Tiny Pigeon Pokémon<br>type1=%{x}<br>count=%{y}<extra></extra>",
         "legendgroup": "Tiny Pigeon Pokémon",
         "marker": {
          "color": "#B6E880",
          "pattern": {
           "shape": ""
          }
         },
         "name": "Tiny Pigeon Pokémon",
         "offsetgroup": "Tiny Pigeon Pokémon",
         "orientation": "v",
         "showlegend": true,
         "textposition": "auto",
         "type": "bar",
         "x": [
          "normal"
         ],
         "xaxis": "x",
         "y": [
          1
         ],
         "yaxis": "y"
        },
        {
         "alignmentgroup": "True",
         "hovertemplate": "classfication=Wild Pigeon Pokémon<br>type1=%{x}<br>count=%{y}<extra></extra>",
         "legendgroup": "Wild Pigeon Pokémon",
         "marker": {
          "color": "#FF97FF",
          "pattern": {
           "shape": ""
          }
         },
         "name": "Wild Pigeon Pokémon",
         "offsetgroup": "Wild Pigeon Pokémon",
         "orientation": "v",
         "showlegend": true,
         "textposition": "auto",
         "type": "bar",
         "x": [
          "normal"
         ],
         "xaxis": "x",
         "y": [
          1
         ],
         "yaxis": "y"
        },
        {
         "alignmentgroup": "True",
         "hovertemplate": "classfication=Proud Pokémon<br>type1=%{x}<br>count=%{y}<extra></extra>",
         "legendgroup": "Proud Pokémon",
         "marker": {
          "color": "#FECB52",
          "pattern": {
           "shape": ""
          }
         },
         "name": "Proud Pokémon",
         "offsetgroup": "Proud Pokémon",
         "orientation": "v",
         "showlegend": true,
         "textposition": "auto",
         "type": "bar",
         "x": [
          "normal"
         ],
         "xaxis": "x",
         "y": [
          1
         ],
         "yaxis": "y"
        },
        {
         "alignmentgroup": "True",
         "hovertemplate": "classfication=Electrified Pokémon<br>type1=%{x}<br>count=%{y}<extra></extra>",
         "legendgroup": "Electrified Pokémon",
         "marker": {
          "color": "#636efa",
          "pattern": {
           "shape": ""
          }
         },
         "name": "Electrified Pokémon",
         "offsetgroup": "Electrified Pokémon",
         "orientation": "v",
         "showlegend": true,
         "textposition": "auto",
         "type": "bar",
         "x": [
          "electric"
         ],
         "xaxis": "x",
         "y": [
          1
         ],
         "yaxis": "y"
        },
        {
         "alignmentgroup": "True",
         "hovertemplate": "classfication=Mantle Pokémon<br>type1=%{x}<br>count=%{y}<extra></extra>",
         "legendgroup": "Mantle Pokémon",
         "marker": {
          "color": "#EF553B",
          "pattern": {
           "shape": ""
          }
         },
         "name": "Mantle Pokémon",
         "offsetgroup": "Mantle Pokémon",
         "orientation": "v",
         "showlegend": true,
         "textposition": "auto",
         "type": "bar",
         "x": [
          "rock"
         ],
         "xaxis": "x",
         "y": [
          1
         ],
         "yaxis": "y"
        },
        {
         "alignmentgroup": "True",
         "hovertemplate": "classfication=Ore Pokémon<br>type1=%{x}<br>count=%{y}<extra></extra>",
         "legendgroup": "Ore Pokémon",
         "marker": {
          "color": "#00cc96",
          "pattern": {
           "shape": ""
          }
         },
         "name": "Ore Pokémon",
         "offsetgroup": "Ore Pokémon",
         "orientation": "v",
         "showlegend": true,
         "textposition": "auto",
         "type": "bar",
         "x": [
          "rock"
         ],
         "xaxis": "x",
         "y": [
          1
         ],
         "yaxis": "y"
        },
        {
         "alignmentgroup": "True",
         "hovertemplate": "classfication=Compressed Pokémon<br>type1=%{x}<br>count=%{y}<extra></extra>",
         "legendgroup": "Compressed Pokémon",
         "marker": {
          "color": "#ab63fa",
          "pattern": {
           "shape": ""
          }
         },
         "name": "Compressed Pokémon",
         "offsetgroup": "Compressed Pokémon",
         "orientation": "v",
         "showlegend": true,
         "textposition": "auto",
         "type": "bar",
         "x": [
          "rock"
         ],
         "xaxis": "x",
         "y": [
          1
         ],
         "yaxis": "y"
        },
        {
         "alignmentgroup": "True",
         "hovertemplate": "classfication=Courting Pokémon<br>type1=%{x}<br>count=%{y}<extra></extra>",
         "legendgroup": "Courting Pokémon",
         "marker": {
          "color": "#FFA15A",
          "pattern": {
           "shape": ""
          }
         },
         "name": "Courting Pokémon",
         "offsetgroup": "Courting Pokémon",
         "orientation": "v",
         "showlegend": true,
         "textposition": "auto",
         "type": "bar",
         "x": [
          "psychic"
         ],
         "xaxis": "x",
         "y": [
          1
         ],
         "yaxis": "y"
        },
        {
         "alignmentgroup": "True",
         "hovertemplate": "classfication=Subterrene Pokémon<br>type1=%{x}<br>count=%{y}<extra></extra>",
         "legendgroup": "Subterrene Pokémon",
         "marker": {
          "color": "#19d3f3",
          "pattern": {
           "shape": ""
          }
         },
         "name": "Subterrene Pokémon",
         "offsetgroup": "Subterrene Pokémon",
         "orientation": "v",
         "showlegend": true,
         "textposition": "auto",
         "type": "bar",
         "x": [
          "ground"
         ],
         "xaxis": "x",
         "y": [
          1
         ],
         "yaxis": "y"
        },
        {
         "alignmentgroup": "True",
         "hovertemplate": "classfication=Hearing Pokémon<br>type1=%{x}<br>count=%{y}<extra></extra>",
         "legendgroup": "Hearing Pokémon",
         "marker": {
          "color": "#FF6692",
          "pattern": {
           "shape": ""
          }
         },
         "name": "Hearing Pokémon",
         "offsetgroup": "Hearing Pokémon",
         "orientation": "v",
         "showlegend": true,
         "textposition": "auto",
         "type": "bar",
         "x": [
          "normal"
         ],
         "xaxis": "x",
         "y": [
          1
         ],
         "yaxis": "y"
        },
        {
         "alignmentgroup": "True",
         "hovertemplate": "classfication=Muscular Pokémon<br>type1=%{x}<br>count=%{y}<extra></extra>",
         "legendgroup": "Muscular Pokémon",
         "marker": {
          "color": "#B6E880",
          "pattern": {
           "shape": ""
          }
         },
         "name": "Muscular Pokémon",
         "offsetgroup": "Muscular Pokémon",
         "orientation": "v",
         "showlegend": true,
         "textposition": "auto",
         "type": "bar",
         "x": [
          "fighting",
          "fighting",
          "fighting"
         ],
         "xaxis": "x",
         "y": [
          1,
          1,
          1
         ],
         "yaxis": "y"
        },
        {
         "alignmentgroup": "True",
         "hovertemplate": "classfication=Judo Pokémon<br>type1=%{x}<br>count=%{y}<extra></extra>",
         "legendgroup": "Judo Pokémon",
         "marker": {
          "color": "#FF97FF",
          "pattern": {
           "shape": ""
          }
         },
         "name": "Judo Pokémon",
         "offsetgroup": "Judo Pokémon",
         "orientation": "v",
         "showlegend": true,
         "textposition": "auto",
         "type": "bar",
         "x": [
          "fighting"
         ],
         "xaxis": "x",
         "y": [
          1
         ],
         "yaxis": "y"
        },
        {
         "alignmentgroup": "True",
         "hovertemplate": "classfication=Karate Pokémon<br>type1=%{x}<br>count=%{y}<extra></extra>",
         "legendgroup": "Karate Pokémon",
         "marker": {
          "color": "#FECB52",
          "pattern": {
           "shape": ""
          }
         },
         "name": "Karate Pokémon",
         "offsetgroup": "Karate Pokémon",
         "orientation": "v",
         "showlegend": true,
         "textposition": "auto",
         "type": "bar",
         "x": [
          "fighting"
         ],
         "xaxis": "x",
         "y": [
          1
         ],
         "yaxis": "y"
        },
        {
         "alignmentgroup": "True",
         "hovertemplate": "classfication=Sewing Pokémon<br>type1=%{x}<br>count=%{y}<extra></extra>",
         "legendgroup": "Sewing Pokémon",
         "marker": {
          "color": "#636efa",
          "pattern": {
           "shape": ""
          }
         },
         "name": "Sewing Pokémon",
         "offsetgroup": "Sewing Pokémon",
         "orientation": "v",
         "showlegend": true,
         "textposition": "auto",
         "type": "bar",
         "x": [
          "bug"
         ],
         "xaxis": "x",
         "y": [
          1
         ],
         "yaxis": "y"
        },
        {
         "alignmentgroup": "True",
         "hovertemplate": "classfication=Leaf-Wrapped Pokémon<br>type1=%{x}<br>count=%{y}<extra></extra>",
         "legendgroup": "Leaf-Wrapped Pokémon",
         "marker": {
          "color": "#EF553B",
          "pattern": {
           "shape": ""
          }
         },
         "name": "Leaf-Wrapped Pokémon",
         "offsetgroup": "Leaf-Wrapped Pokémon",
         "orientation": "v",
         "showlegend": true,
         "textposition": "auto",
         "type": "bar",
         "x": [
          "bug"
         ],
         "xaxis": "x",
         "y": [
          1
         ],
         "yaxis": "y"
        },
        {
         "alignmentgroup": "True",
         "hovertemplate": "classfication=Nurturing Pokémon<br>type1=%{x}<br>count=%{y}<extra></extra>",
         "legendgroup": "Nurturing Pokémon",
         "marker": {
          "color": "#00cc96",
          "pattern": {
           "shape": ""
          }
         },
         "name": "Nurturing Pokémon",
         "offsetgroup": "Nurturing Pokémon",
         "orientation": "v",
         "showlegend": true,
         "textposition": "auto",
         "type": "bar",
         "x": [
          "bug"
         ],
         "xaxis": "x",
         "y": [
          1
         ],
         "yaxis": "y"
        },
        {
         "alignmentgroup": "True",
         "hovertemplate": "classfication=Centipede Pokémon<br>type1=%{x}<br>count=%{y}<extra></extra>",
         "legendgroup": "Centipede Pokémon",
         "marker": {
          "color": "#ab63fa",
          "pattern": {
           "shape": ""
          }
         },
         "name": "Centipede Pokémon",
         "offsetgroup": "Centipede Pokémon",
         "orientation": "v",
         "showlegend": true,
         "textposition": "auto",
         "type": "bar",
         "x": [
          "bug"
         ],
         "xaxis": "x",
         "y": [
          1
         ],
         "yaxis": "y"
        },
        {
         "alignmentgroup": "True",
         "hovertemplate": "classfication=Curlipede Pokémon<br>type1=%{x}<br>count=%{y}<extra></extra>",
         "legendgroup": "Curlipede Pokémon",
         "marker": {
          "color": "#FFA15A",
          "pattern": {
           "shape": ""
          }
         },
         "name": "Curlipede Pokémon",
         "offsetgroup": "Curlipede Pokémon",
         "orientation": "v",
         "showlegend": true,
         "textposition": "auto",
         "type": "bar",
         "x": [
          "bug"
         ],
         "xaxis": "x",
         "y": [
          1
         ],
         "yaxis": "y"
        },
        {
         "alignmentgroup": "True",
         "hovertemplate": "classfication=Megapede Pokémon<br>type1=%{x}<br>count=%{y}<extra></extra>",
         "legendgroup": "Megapede Pokémon",
         "marker": {
          "color": "#19d3f3",
          "pattern": {
           "shape": ""
          }
         },
         "name": "Megapede Pokémon",
         "offsetgroup": "Megapede Pokémon",
         "orientation": "v",
         "showlegend": true,
         "textposition": "auto",
         "type": "bar",
         "x": [
          "bug"
         ],
         "xaxis": "x",
         "y": [
          1
         ],
         "yaxis": "y"
        },
        {
         "alignmentgroup": "True",
         "hovertemplate": "classfication=Cotton Puff Pokémon<br>type1=%{x}<br>count=%{y}<extra></extra>",
         "legendgroup": "Cotton Puff Pokémon",
         "marker": {
          "color": "#FF6692",
          "pattern": {
           "shape": ""
          }
         },
         "name": "Cotton Puff Pokémon",
         "offsetgroup": "Cotton Puff Pokémon",
         "orientation": "v",
         "showlegend": true,
         "textposition": "auto",
         "type": "bar",
         "x": [
          "grass"
         ],
         "xaxis": "x",
         "y": [
          1
         ],
         "yaxis": "y"
        },
        {
         "alignmentgroup": "True",
         "hovertemplate": "classfication=Windveiled Pokémon<br>type1=%{x}<br>count=%{y}<extra></extra>",
         "legendgroup": "Windveiled Pokémon",
         "marker": {
          "color": "#B6E880",
          "pattern": {
           "shape": ""
          }
         },
         "name": "Windveiled Pokémon",
         "offsetgroup": "Windveiled Pokémon",
         "orientation": "v",
         "showlegend": true,
         "textposition": "auto",
         "type": "bar",
         "x": [
          "grass"
         ],
         "xaxis": "x",
         "y": [
          1
         ],
         "yaxis": "y"
        },
        {
         "alignmentgroup": "True",
         "hovertemplate": "classfication=Bulb Pokémon<br>type1=%{x}<br>count=%{y}<extra></extra>",
         "legendgroup": "Bulb Pokémon",
         "marker": {
          "color": "#FF97FF",
          "pattern": {
           "shape": ""
          }
         },
         "name": "Bulb Pokémon",
         "offsetgroup": "Bulb Pokémon",
         "orientation": "v",
         "showlegend": true,
         "textposition": "auto",
         "type": "bar",
         "x": [
          "grass"
         ],
         "xaxis": "x",
         "y": [
          1
         ],
         "yaxis": "y"
        },
        {
         "alignmentgroup": "True",
         "hovertemplate": "classfication=Flowering Pokémon<br>type1=%{x}<br>count=%{y}<extra></extra>",
         "legendgroup": "Flowering Pokémon",
         "marker": {
          "color": "#FECB52",
          "pattern": {
           "shape": ""
          }
         },
         "name": "Flowering Pokémon",
         "offsetgroup": "Flowering Pokémon",
         "orientation": "v",
         "showlegend": true,
         "textposition": "auto",
         "type": "bar",
         "x": [
          "grass"
         ],
         "xaxis": "x",
         "y": [
          1
         ],
         "yaxis": "y"
        },
        {
         "alignmentgroup": "True",
         "hovertemplate": "classfication=Hostile Pokémon<br>type1=%{x}<br>count=%{y}<extra></extra>",
         "legendgroup": "Hostile Pokémon",
         "marker": {
          "color": "#636efa",
          "pattern": {
           "shape": ""
          }
         },
         "name": "Hostile Pokémon",
         "offsetgroup": "Hostile Pokémon",
         "orientation": "v",
         "showlegend": true,
         "textposition": "auto",
         "type": "bar",
         "x": [
          "water",
          "dark"
         ],
         "xaxis": "x",
         "y": [
          1,
          1
         ],
         "yaxis": "y"
        },
        {
         "alignmentgroup": "True",
         "hovertemplate": "classfication=Desert Croc Pokémon<br>type1=%{x}<br>count=%{y}<extra></extra>",
         "legendgroup": "Desert Croc Pokémon",
         "marker": {
          "color": "#EF553B",
          "pattern": {
           "shape": ""
          }
         },
         "name": "Desert Croc Pokémon",
         "offsetgroup": "Desert Croc Pokémon",
         "orientation": "v",
         "showlegend": true,
         "textposition": "auto",
         "type": "bar",
         "x": [
          "ground",
          "ground"
         ],
         "xaxis": "x",
         "y": [
          1,
          1
         ],
         "yaxis": "y"
        },
        {
         "alignmentgroup": "True",
         "hovertemplate": "classfication=Intimidation Pokémon<br>type1=%{x}<br>count=%{y}<extra></extra>",
         "legendgroup": "Intimidation Pokémon",
         "marker": {
          "color": "#00cc96",
          "pattern": {
           "shape": ""
          }
         },
         "name": "Intimidation Pokémon",
         "offsetgroup": "Intimidation Pokémon",
         "orientation": "v",
         "showlegend": true,
         "textposition": "auto",
         "type": "bar",
         "x": [
          "ground"
         ],
         "xaxis": "x",
         "y": [
          1
         ],
         "yaxis": "y"
        },
        {
         "alignmentgroup": "True",
         "hovertemplate": "classfication=Zen Charm Pokémon<br>type1=%{x}<br>count=%{y}<extra></extra>",
         "legendgroup": "Zen Charm Pokémon",
         "marker": {
          "color": "#ab63fa",
          "pattern": {
           "shape": ""
          }
         },
         "name": "Zen Charm Pokémon",
         "offsetgroup": "Zen Charm Pokémon",
         "orientation": "v",
         "showlegend": true,
         "textposition": "auto",
         "type": "bar",
         "x": [
          "fire"
         ],
         "xaxis": "x",
         "y": [
          1
         ],
         "yaxis": "y"
        },
        {
         "alignmentgroup": "True",
         "hovertemplate": "classfication=Blazing Pokémon<br>type1=%{x}<br>count=%{y}<extra></extra>",
         "legendgroup": "Blazing Pokémon",
         "marker": {
          "color": "#FFA15A",
          "pattern": {
           "shape": ""
          }
         },
         "name": "Blazing Pokémon",
         "offsetgroup": "Blazing Pokémon",
         "orientation": "v",
         "showlegend": true,
         "textposition": "auto",
         "type": "bar",
         "x": [
          "fire"
         ],
         "xaxis": "x",
         "y": [
          1
         ],
         "yaxis": "y"
        },
        {
         "alignmentgroup": "True",
         "hovertemplate": "classfication=Rock Inn Pokémon<br>type1=%{x}<br>count=%{y}<extra></extra>",
         "legendgroup": "Rock Inn Pokémon",
         "marker": {
          "color": "#19d3f3",
          "pattern": {
           "shape": ""
          }
         },
         "name": "Rock Inn Pokémon",
         "offsetgroup": "Rock Inn Pokémon",
         "orientation": "v",
         "showlegend": true,
         "textposition": "auto",
         "type": "bar",
         "x": [
          "bug"
         ],
         "xaxis": "x",
         "y": [
          1
         ],
         "yaxis": "y"
        },
        {
         "alignmentgroup": "True",
         "hovertemplate": "classfication=Stone Home Pokémon<br>type1=%{x}<br>count=%{y}<extra></extra>",
         "legendgroup": "Stone Home Pokémon",
         "marker": {
          "color": "#FF6692",
          "pattern": {
           "shape": ""
          }
         },
         "name": "Stone Home Pokémon",
         "offsetgroup": "Stone Home Pokémon",
         "orientation": "v",
         "showlegend": true,
         "textposition": "auto",
         "type": "bar",
         "x": [
          "bug"
         ],
         "xaxis": "x",
         "y": [
          1
         ],
         "yaxis": "y"
        },
        {
         "alignmentgroup": "True",
         "hovertemplate": "classfication=Shedding Pokémon<br>type1=%{x}<br>count=%{y}<extra></extra>",
         "legendgroup": "Shedding Pokémon",
         "marker": {
          "color": "#B6E880",
          "pattern": {
           "shape": ""
          }
         },
         "name": "Shedding Pokémon",
         "offsetgroup": "Shedding Pokémon",
         "orientation": "v",
         "showlegend": true,
         "textposition": "auto",
         "type": "bar",
         "x": [
          "dark"
         ],
         "xaxis": "x",
         "y": [
          1
         ],
         "yaxis": "y"
        },
        {
         "alignmentgroup": "True",
         "hovertemplate": "classfication=Hoodlum Pokémon<br>type1=%{x}<br>count=%{y}<extra></extra>",
         "legendgroup": "Hoodlum Pokémon",
         "marker": {
          "color": "#FF97FF",
          "pattern": {
           "shape": ""
          }
         },
         "name": "Hoodlum Pokémon",
         "offsetgroup": "Hoodlum Pokémon",
         "orientation": "v",
         "showlegend": true,
         "textposition": "auto",
         "type": "bar",
         "x": [
          "dark"
         ],
         "xaxis": "x",
         "y": [
          1
         ],
         "yaxis": "y"
        },
        {
         "alignmentgroup": "True",
         "hovertemplate": "classfication=Avianoid Pokémon<br>type1=%{x}<br>count=%{y}<extra></extra>",
         "legendgroup": "Avianoid Pokémon",
         "marker": {
          "color": "#FECB52",
          "pattern": {
           "shape": ""
          }
         },
         "name": "Avianoid Pokémon",
         "offsetgroup": "Avianoid Pokémon",
         "orientation": "v",
         "showlegend": true,
         "textposition": "auto",
         "type": "bar",
         "x": [
          "psychic"
         ],
         "xaxis": "x",
         "y": [
          1
         ],
         "yaxis": "y"
        },
        {
         "alignmentgroup": "True",
         "hovertemplate": "classfication=Spirit Pokémon<br>type1=%{x}<br>count=%{y}<extra></extra>",
         "legendgroup": "Spirit Pokémon",
         "marker": {
          "color": "#636efa",
          "pattern": {
           "shape": ""
          }
         },
         "name": "Spirit Pokémon",
         "offsetgroup": "Spirit Pokémon",
         "orientation": "v",
         "showlegend": true,
         "textposition": "auto",
         "type": "bar",
         "x": [
          "ghost"
         ],
         "xaxis": "x",
         "y": [
          1
         ],
         "yaxis": "y"
        },
        {
         "alignmentgroup": "True",
         "hovertemplate": "classfication=Coffin Pokémon<br>type1=%{x}<br>count=%{y}<extra></extra>",
         "legendgroup": "Coffin Pokémon",
         "marker": {
          "color": "#EF553B",
          "pattern": {
           "shape": ""
          }
         },
         "name": "Coffin Pokémon",
         "offsetgroup": "Coffin Pokémon",
         "orientation": "v",
         "showlegend": true,
         "textposition": "auto",
         "type": "bar",
         "x": [
          "ghost"
         ],
         "xaxis": "x",
         "y": [
          1
         ],
         "yaxis": "y"
        },
        {
         "alignmentgroup": "True",
         "hovertemplate": "classfication=Prototurtle Pokémon<br>type1=%{x}<br>count=%{y}<extra></extra>",
         "legendgroup": "Prototurtle Pokémon",
         "marker": {
          "color": "#00cc96",
          "pattern": {
           "shape": ""
          }
         },
         "name": "Prototurtle Pokémon",
         "offsetgroup": "Prototurtle Pokémon",
         "orientation": "v",
         "showlegend": true,
         "textposition": "auto",
         "type": "bar",
         "x": [
          "water",
          "water"
         ],
         "xaxis": "x",
         "y": [
          1,
          1
         ],
         "yaxis": "y"
        },
        {
         "alignmentgroup": "True",
         "hovertemplate": "classfication=First Bird Pokémon<br>type1=%{x}<br>count=%{y}<extra></extra>",
         "legendgroup": "First Bird Pokémon",
         "marker": {
          "color": "#ab63fa",
          "pattern": {
           "shape": ""
          }
         },
         "name": "First Bird Pokémon",
         "offsetgroup": "First Bird Pokémon",
         "orientation": "v",
         "showlegend": true,
         "textposition": "auto",
         "type": "bar",
         "x": [
          "rock",
          "rock"
         ],
         "xaxis": "x",
         "y": [
          1,
          1
         ],
         "yaxis": "y"
        },
        {
         "alignmentgroup": "True",
         "hovertemplate": "classfication=Trash Bag Pokémon<br>type1=%{x}<br>count=%{y}<extra></extra>",
         "legendgroup": "Trash Bag Pokémon",
         "marker": {
          "color": "#FFA15A",
          "pattern": {
           "shape": ""
          }
         },
         "name": "Trash Bag Pokémon",
         "offsetgroup": "Trash Bag Pokémon",
         "orientation": "v",
         "showlegend": true,
         "textposition": "auto",
         "type": "bar",
         "x": [
          "poison"
         ],
         "xaxis": "x",
         "y": [
          1
         ],
         "yaxis": "y"
        },
        {
         "alignmentgroup": "True",
         "hovertemplate": "classfication=Trash Heap Pokémon<br>type1=%{x}<br>count=%{y}<extra></extra>",
         "legendgroup": "Trash Heap Pokémon",
         "marker": {
          "color": "#19d3f3",
          "pattern": {
           "shape": ""
          }
         },
         "name": "Trash Heap Pokémon",
         "offsetgroup": "Trash Heap Pokémon",
         "orientation": "v",
         "showlegend": true,
         "textposition": "auto",
         "type": "bar",
         "x": [
          "poison"
         ],
         "xaxis": "x",
         "y": [
          1
         ],
         "yaxis": "y"
        },
        {
         "alignmentgroup": "True",
         "hovertemplate": "classfication=Tricky Fox Pokémon<br>type1=%{x}<br>count=%{y}<extra></extra>",
         "legendgroup": "Tricky Fox Pokémon",
         "marker": {
          "color": "#FF6692",
          "pattern": {
           "shape": ""
          }
         },
         "name": "Tricky Fox Pokémon",
         "offsetgroup": "Tricky Fox Pokémon",
         "orientation": "v",
         "showlegend": true,
         "textposition": "auto",
         "type": "bar",
         "x": [
          "dark"
         ],
         "xaxis": "x",
         "y": [
          1
         ],
         "yaxis": "y"
        },
        {
         "alignmentgroup": "True",
         "hovertemplate": "classfication=Illusion Fox Pokémon<br>type1=%{x}<br>count=%{y}<extra></extra>",
         "legendgroup": "Illusion Fox Pokémon",
         "marker": {
          "color": "#B6E880",
          "pattern": {
           "shape": ""
          }
         },
         "name": "Illusion Fox Pokémon",
         "offsetgroup": "Illusion Fox Pokémon",
         "orientation": "v",
         "showlegend": true,
         "textposition": "auto",
         "type": "bar",
         "x": [
          "dark"
         ],
         "xaxis": "x",
         "y": [
          1
         ],
         "yaxis": "y"
        },
        {
         "alignmentgroup": "True",
         "hovertemplate": "classfication=Chinchilla Pokémon<br>type1=%{x}<br>count=%{y}<extra></extra>",
         "legendgroup": "Chinchilla Pokémon",
         "marker": {
          "color": "#FF97FF",
          "pattern": {
           "shape": ""
          }
         },
         "name": "Chinchilla Pokémon",
         "offsetgroup": "Chinchilla Pokémon",
         "orientation": "v",
         "showlegend": true,
         "textposition": "auto",
         "type": "bar",
         "x": [
          "normal"
         ],
         "xaxis": "x",
         "y": [
          1
         ],
         "yaxis": "y"
        },
        {
         "alignmentgroup": "True",
         "hovertemplate": "classfication=Scarf Pokémon<br>type1=%{x}<br>count=%{y}<extra></extra>",
         "legendgroup": "Scarf Pokémon",
         "marker": {
          "color": "#FECB52",
          "pattern": {
           "shape": ""
          }
         },
         "name": "Scarf Pokémon",
         "offsetgroup": "Scarf Pokémon",
         "orientation": "v",
         "showlegend": true,
         "textposition": "auto",
         "type": "bar",
         "x": [
          "normal"
         ],
         "xaxis": "x",
         "y": [
          1
         ],
         "yaxis": "y"
        },
        {
         "alignmentgroup": "True",
         "hovertemplate": "classfication=Fixation Pokémon<br>type1=%{x}<br>count=%{y}<extra></extra>",
         "legendgroup": "Fixation Pokémon",
         "marker": {
          "color": "#636efa",
          "pattern": {
           "shape": ""
          }
         },
         "name": "Fixation Pokémon",
         "offsetgroup": "Fixation Pokémon",
         "orientation": "v",
         "showlegend": true,
         "textposition": "auto",
         "type": "bar",
         "x": [
          "psychic"
         ],
         "xaxis": "x",
         "y": [
          1
         ],
         "yaxis": "y"
        },
        {
         "alignmentgroup": "True",
         "hovertemplate": "classfication=Astral Body Pokémon<br>type1=%{x}<br>count=%{y}<extra></extra>",
         "legendgroup": "Astral Body Pokémon",
         "marker": {
          "color": "#EF553B",
          "pattern": {
           "shape": ""
          }
         },
         "name": "Astral Body Pokémon",
         "offsetgroup": "Astral Body Pokémon",
         "orientation": "v",
         "showlegend": true,
         "textposition": "auto",
         "type": "bar",
         "x": [
          "psychic"
         ],
         "xaxis": "x",
         "y": [
          1
         ],
         "yaxis": "y"
        },
        {
         "alignmentgroup": "True",
         "hovertemplate": "classfication=Cell Pokémon<br>type1=%{x}<br>count=%{y}<extra></extra>",
         "legendgroup": "Cell Pokémon",
         "marker": {
          "color": "#00cc96",
          "pattern": {
           "shape": ""
          }
         },
         "name": "Cell Pokémon",
         "offsetgroup": "Cell Pokémon",
         "orientation": "v",
         "showlegend": true,
         "textposition": "auto",
         "type": "bar",
         "x": [
          "psychic"
         ],
         "xaxis": "x",
         "y": [
          1
         ],
         "yaxis": "y"
        },
        {
         "alignmentgroup": "True",
         "hovertemplate": "classfication=Mitosis Pokémon<br>type1=%{x}<br>count=%{y}<extra></extra>",
         "legendgroup": "Mitosis Pokémon",
         "marker": {
          "color": "#ab63fa",
          "pattern": {
           "shape": ""
          }
         },
         "name": "Mitosis Pokémon",
         "offsetgroup": "Mitosis Pokémon",
         "orientation": "v",
         "showlegend": true,
         "textposition": "auto",
         "type": "bar",
         "x": [
          "psychic"
         ],
         "xaxis": "x",
         "y": [
          1
         ],
         "yaxis": "y"
        },
        {
         "alignmentgroup": "True",
         "hovertemplate": "classfication=Multiplying Pokémon<br>type1=%{x}<br>count=%{y}<extra></extra>",
         "legendgroup": "Multiplying Pokémon",
         "marker": {
          "color": "#FFA15A",
          "pattern": {
           "shape": ""
          }
         },
         "name": "Multiplying Pokémon",
         "offsetgroup": "Multiplying Pokémon",
         "orientation": "v",
         "showlegend": true,
         "textposition": "auto",
         "type": "bar",
         "x": [
          "psychic"
         ],
         "xaxis": "x",
         "y": [
          1
         ],
         "yaxis": "y"
        },
        {
         "alignmentgroup": "True",
         "hovertemplate": "classfication=White Bird Pokémon<br>type1=%{x}<br>count=%{y}<extra></extra>",
         "legendgroup": "White Bird Pokémon",
         "marker": {
          "color": "#19d3f3",
          "pattern": {
           "shape": ""
          }
         },
         "name": "White Bird Pokémon",
         "offsetgroup": "White Bird Pokémon",
         "orientation": "v",
         "showlegend": true,
         "textposition": "auto",
         "type": "bar",
         "x": [
          "water"
         ],
         "xaxis": "x",
         "y": [
          1
         ],
         "yaxis": "y"
        },
        {
         "alignmentgroup": "True",
         "hovertemplate": "classfication=Icy Snow Pokémon<br>type1=%{x}<br>count=%{y}<extra></extra>",
         "legendgroup": "Icy Snow Pokémon",
         "marker": {
          "color": "#FF6692",
          "pattern": {
           "shape": ""
          }
         },
         "name": "Icy Snow Pokémon",
         "offsetgroup": "Icy Snow Pokémon",
         "orientation": "v",
         "showlegend": true,
         "textposition": "auto",
         "type": "bar",
         "x": [
          "ice"
         ],
         "xaxis": "x",
         "y": [
          1
         ],
         "yaxis": "y"
        },
        {
         "alignmentgroup": "True",
         "hovertemplate": "classfication=Snowstorm Pokémon<br>type1=%{x}<br>count=%{y}<extra></extra>",
         "legendgroup": "Snowstorm Pokémon",
         "marker": {
          "color": "#B6E880",
          "pattern": {
           "shape": ""
          }
         },
         "name": "Snowstorm Pokémon",
         "offsetgroup": "Snowstorm Pokémon",
         "orientation": "v",
         "showlegend": true,
         "textposition": "auto",
         "type": "bar",
         "x": [
          "ice"
         ],
         "xaxis": "x",
         "y": [
          1
         ],
         "yaxis": "y"
        },
        {
         "alignmentgroup": "True",
         "hovertemplate": "classfication=Season Pokémon<br>type1=%{x}<br>count=%{y}<extra></extra>",
         "legendgroup": "Season Pokémon",
         "marker": {
          "color": "#FF97FF",
          "pattern": {
           "shape": ""
          }
         },
         "name": "Season Pokémon",
         "offsetgroup": "Season Pokémon",
         "orientation": "v",
         "showlegend": true,
         "textposition": "auto",
         "type": "bar",
         "x": [
          "normal",
          "normal"
         ],
         "xaxis": "x",
         "y": [
          1,
          1
         ],
         "yaxis": "y"
        },
        {
         "alignmentgroup": "True",
         "hovertemplate": "classfication=Sky Squirrel Pokémon<br>type1=%{x}<br>count=%{y}<extra></extra>",
         "legendgroup": "Sky Squirrel Pokémon",
         "marker": {
          "color": "#FECB52",
          "pattern": {
           "shape": ""
          }
         },
         "name": "Sky Squirrel Pokémon",
         "offsetgroup": "Sky Squirrel Pokémon",
         "orientation": "v",
         "showlegend": true,
         "textposition": "auto",
         "type": "bar",
         "x": [
          "electric"
         ],
         "xaxis": "x",
         "y": [
          1
         ],
         "yaxis": "y"
        },
        {
         "alignmentgroup": "True",
         "hovertemplate": "classfication=Clamping Pokémon<br>type1=%{x}<br>count=%{y}<extra></extra>",
         "legendgroup": "Clamping Pokémon",
         "marker": {
          "color": "#636efa",
          "pattern": {
           "shape": ""
          }
         },
         "name": "Clamping Pokémon",
         "offsetgroup": "Clamping Pokémon",
         "orientation": "v",
         "showlegend": true,
         "textposition": "auto",
         "type": "bar",
         "x": [
          "bug"
         ],
         "xaxis": "x",
         "y": [
          1
         ],
         "yaxis": "y"
        },
        {
         "alignmentgroup": "True",
         "hovertemplate": "classfication=Cavalry Pokémon<br>type1=%{x}<br>count=%{y}<extra></extra>",
         "legendgroup": "Cavalry Pokémon",
         "marker": {
          "color": "#EF553B",
          "pattern": {
           "shape": ""
          }
         },
         "name": "Cavalry Pokémon",
         "offsetgroup": "Cavalry Pokémon",
         "orientation": "v",
         "showlegend": true,
         "textposition": "auto",
         "type": "bar",
         "x": [
          "bug"
         ],
         "xaxis": "x",
         "y": [
          1
         ],
         "yaxis": "y"
        },
        {
         "alignmentgroup": "True",
         "hovertemplate": "classfication=Floating Pokémon<br>type1=%{x}<br>count=%{y}<extra></extra>",
         "legendgroup": "Floating Pokémon",
         "marker": {
          "color": "#00cc96",
          "pattern": {
           "shape": ""
          }
         },
         "name": "Floating Pokémon",
         "offsetgroup": "Floating Pokémon",
         "orientation": "v",
         "showlegend": true,
         "textposition": "auto",
         "type": "bar",
         "x": [
          "water",
          "water"
         ],
         "xaxis": "x",
         "y": [
          1,
          1
         ],
         "yaxis": "y"
        },
        {
         "alignmentgroup": "True",
         "hovertemplate": "classfication=Caring Pokémon<br>type1=%{x}<br>count=%{y}<extra></extra>",
         "legendgroup": "Caring Pokémon",
         "marker": {
          "color": "#ab63fa",
          "pattern": {
           "shape": ""
          }
         },
         "name": "Caring Pokémon",
         "offsetgroup": "Caring Pokémon",
         "orientation": "v",
         "showlegend": true,
         "textposition": "auto",
         "type": "bar",
         "x": [
          "water"
         ],
         "xaxis": "x",
         "y": [
          1
         ],
         "yaxis": "y"
        },
        {
         "alignmentgroup": "True",
         "hovertemplate": "classfication=Attaching Pokémon<br>type1=%{x}<br>count=%{y}<extra></extra>",
         "legendgroup": "Attaching Pokémon",
         "marker": {
          "color": "#FFA15A",
          "pattern": {
           "shape": ""
          }
         },
         "name": "Attaching Pokémon",
         "offsetgroup": "Attaching Pokémon",
         "orientation": "v",
         "showlegend": true,
         "textposition": "auto",
         "type": "bar",
         "x": [
          "bug"
         ],
         "xaxis": "x",
         "y": [
          1
         ],
         "yaxis": "y"
        },
        {
         "alignmentgroup": "True",
         "hovertemplate": "classfication=EleSpider Pokémon<br>type1=%{x}<br>count=%{y}<extra></extra>",
         "legendgroup": "EleSpider Pokémon",
         "marker": {
          "color": "#19d3f3",
          "pattern": {
           "shape": ""
          }
         },
         "name": "EleSpider Pokémon",
         "offsetgroup": "EleSpider Pokémon",
         "orientation": "v",
         "showlegend": true,
         "textposition": "auto",
         "type": "bar",
         "x": [
          "bug"
         ],
         "xaxis": "x",
         "y": [
          1
         ],
         "yaxis": "y"
        },
        {
         "alignmentgroup": "True",
         "hovertemplate": "classfication=Thorn Seed Pokémon<br>type1=%{x}<br>count=%{y}<extra></extra>",
         "legendgroup": "Thorn Seed Pokémon",
         "marker": {
          "color": "#FF6692",
          "pattern": {
           "shape": ""
          }
         },
         "name": "Thorn Seed Pokémon",
         "offsetgroup": "Thorn Seed Pokémon",
         "orientation": "v",
         "showlegend": true,
         "textposition": "auto",
         "type": "bar",
         "x": [
          "grass"
         ],
         "xaxis": "x",
         "y": [
          1
         ],
         "yaxis": "y"
        },
        {
         "alignmentgroup": "True",
         "hovertemplate": "classfication=Thorn Pod Pokémon<br>type1=%{x}<br>count=%{y}<extra></extra>",
         "legendgroup": "Thorn Pod Pokémon",
         "marker": {
          "color": "#B6E880",
          "pattern": {
           "shape": ""
          }
         },
         "name": "Thorn Pod Pokémon",
         "offsetgroup": "Thorn Pod Pokémon",
         "orientation": "v",
         "showlegend": true,
         "textposition": "auto",
         "type": "bar",
         "x": [
          "grass"
         ],
         "xaxis": "x",
         "y": [
          1
         ],
         "yaxis": "y"
        },
        {
         "alignmentgroup": "True",
         "hovertemplate": "classfication=Gear Pokémon<br>type1=%{x}<br>count=%{y}<extra></extra>",
         "legendgroup": "Gear Pokémon",
         "marker": {
          "color": "#FF97FF",
          "pattern": {
           "shape": ""
          }
         },
         "name": "Gear Pokémon",
         "offsetgroup": "Gear Pokémon",
         "orientation": "v",
         "showlegend": true,
         "textposition": "auto",
         "type": "bar",
         "x": [
          "steel",
          "steel",
          "steel"
         ],
         "xaxis": "x",
         "y": [
          1,
          1,
          1
         ],
         "yaxis": "y"
        },
        {
         "alignmentgroup": "True",
         "hovertemplate": "classfication=EleFish Pokémon<br>type1=%{x}<br>count=%{y}<extra></extra>",
         "legendgroup": "EleFish Pokémon",
         "marker": {
          "color": "#FECB52",
          "pattern": {
           "shape": ""
          }
         },
         "name": "EleFish Pokémon",
         "offsetgroup": "EleFish Pokémon",
         "orientation": "v",
         "showlegend": true,
         "textposition": "auto",
         "type": "bar",
         "x": [
          "electric",
          "electric",
          "electric"
         ],
         "xaxis": "x",
         "y": [
          1,
          1,
          1
         ],
         "yaxis": "y"
        },
        {
         "alignmentgroup": "True",
         "hovertemplate": "classfication=Cerebral Pokémon<br>type1=%{x}<br>count=%{y}<extra></extra>",
         "legendgroup": "Cerebral Pokémon",
         "marker": {
          "color": "#636efa",
          "pattern": {
           "shape": ""
          }
         },
         "name": "Cerebral Pokémon",
         "offsetgroup": "Cerebral Pokémon",
         "orientation": "v",
         "showlegend": true,
         "textposition": "auto",
         "type": "bar",
         "x": [
          "psychic",
          "psychic"
         ],
         "xaxis": "x",
         "y": [
          1,
          1
         ],
         "yaxis": "y"
        },
        {
         "alignmentgroup": "True",
         "hovertemplate": "classfication=Candle Pokémon<br>type1=%{x}<br>count=%{y}<extra></extra>",
         "legendgroup": "Candle Pokémon",
         "marker": {
          "color": "#EF553B",
          "pattern": {
           "shape": ""
          }
         },
         "name": "Candle Pokémon",
         "offsetgroup": "Candle Pokémon",
         "orientation": "v",
         "showlegend": true,
         "textposition": "auto",
         "type": "bar",
         "x": [
          "ghost"
         ],
         "xaxis": "x",
         "y": [
          1
         ],
         "yaxis": "y"
        },
        {
         "alignmentgroup": "True",
         "hovertemplate": "classfication=Lamp Pokémon<br>type1=%{x}<br>count=%{y}<extra></extra>",
         "legendgroup": "Lamp Pokémon",
         "marker": {
          "color": "#00cc96",
          "pattern": {
           "shape": ""
          }
         },
         "name": "Lamp Pokémon",
         "offsetgroup": "Lamp Pokémon",
         "orientation": "v",
         "showlegend": true,
         "textposition": "auto",
         "type": "bar",
         "x": [
          "ghost"
         ],
         "xaxis": "x",
         "y": [
          1
         ],
         "yaxis": "y"
        },
        {
         "alignmentgroup": "True",
         "hovertemplate": "classfication=Luring Pokémon<br>type1=%{x}<br>count=%{y}<extra></extra>",
         "legendgroup": "Luring Pokémon",
         "marker": {
          "color": "#ab63fa",
          "pattern": {
           "shape": ""
          }
         },
         "name": "Luring Pokémon",
         "offsetgroup": "Luring Pokémon",
         "orientation": "v",
         "showlegend": true,
         "textposition": "auto",
         "type": "bar",
         "x": [
          "ghost"
         ],
         "xaxis": "x",
         "y": [
          1
         ],
         "yaxis": "y"
        },
        {
         "alignmentgroup": "True",
         "hovertemplate": "classfication=Tusk Pokémon<br>type1=%{x}<br>count=%{y}<extra></extra>",
         "legendgroup": "Tusk Pokémon",
         "marker": {
          "color": "#FFA15A",
          "pattern": {
           "shape": ""
          }
         },
         "name": "Tusk Pokémon",
         "offsetgroup": "Tusk Pokémon",
         "orientation": "v",
         "showlegend": true,
         "textposition": "auto",
         "type": "bar",
         "x": [
          "dragon"
         ],
         "xaxis": "x",
         "y": [
          1
         ],
         "yaxis": "y"
        },
        {
         "alignmentgroup": "True",
         "hovertemplate": "classfication=Axe Jaw Pokémon<br>type1=%{x}<br>count=%{y}<extra></extra>",
         "legendgroup": "Axe Jaw Pokémon",
         "marker": {
          "color": "#19d3f3",
          "pattern": {
           "shape": ""
          }
         },
         "name": "Axe Jaw Pokémon",
         "offsetgroup": "Axe Jaw Pokémon",
         "orientation": "v",
         "showlegend": true,
         "textposition": "auto",
         "type": "bar",
         "x": [
          "dragon",
          "dragon"
         ],
         "xaxis": "x",
         "y": [
          1,
          1
         ],
         "yaxis": "y"
        },
        {
         "alignmentgroup": "True",
         "hovertemplate": "classfication=Chill Pokémon<br>type1=%{x}<br>count=%{y}<extra></extra>",
         "legendgroup": "Chill Pokémon",
         "marker": {
          "color": "#FF6692",
          "pattern": {
           "shape": ""
          }
         },
         "name": "Chill Pokémon",
         "offsetgroup": "Chill Pokémon",
         "orientation": "v",
         "showlegend": true,
         "textposition": "auto",
         "type": "bar",
         "x": [
          "ice"
         ],
         "xaxis": "x",
         "y": [
          1
         ],
         "yaxis": "y"
        },
        {
         "alignmentgroup": "True",
         "hovertemplate": "classfication=Freezing Pokémon<br>type1=%{x}<br>count=%{y}<extra></extra>",
         "legendgroup": "Freezing Pokémon",
         "marker": {
          "color": "#B6E880",
          "pattern": {
           "shape": ""
          }
         },
         "name": "Freezing Pokémon",
         "offsetgroup": "Freezing Pokémon",
         "orientation": "v",
         "showlegend": true,
         "textposition": "auto",
         "type": "bar",
         "x": [
          "ice"
         ],
         "xaxis": "x",
         "y": [
          1
         ],
         "yaxis": "y"
        },
        {
         "alignmentgroup": "True",
         "hovertemplate": "classfication=Crystallizing Pokémon<br>type1=%{x}<br>count=%{y}<extra></extra>",
         "legendgroup": "Crystallizing Pokémon",
         "marker": {
          "color": "#FF97FF",
          "pattern": {
           "shape": ""
          }
         },
         "name": "Crystallizing Pokémon",
         "offsetgroup": "Crystallizing Pokémon",
         "orientation": "v",
         "showlegend": true,
         "textposition": "auto",
         "type": "bar",
         "x": [
          "ice"
         ],
         "xaxis": "x",
         "y": [
          1
         ],
         "yaxis": "y"
        },
        {
         "alignmentgroup": "True",
         "hovertemplate": "classfication=Snail Pokémon<br>type1=%{x}<br>count=%{y}<extra></extra>",
         "legendgroup": "Snail Pokémon",
         "marker": {
          "color": "#FECB52",
          "pattern": {
           "shape": ""
          }
         },
         "name": "Snail Pokémon",
         "offsetgroup": "Snail Pokémon",
         "orientation": "v",
         "showlegend": true,
         "textposition": "auto",
         "type": "bar",
         "x": [
          "bug"
         ],
         "xaxis": "x",
         "y": [
          1
         ],
         "yaxis": "y"
        },
        {
         "alignmentgroup": "True",
         "hovertemplate": "classfication=Shell Out Pokémon<br>type1=%{x}<br>count=%{y}<extra></extra>",
         "legendgroup": "Shell Out Pokémon",
         "marker": {
          "color": "#636efa",
          "pattern": {
           "shape": ""
          }
         },
         "name": "Shell Out Pokémon",
         "offsetgroup": "Shell Out Pokémon",
         "orientation": "v",
         "showlegend": true,
         "textposition": "auto",
         "type": "bar",
         "x": [
          "bug"
         ],
         "xaxis": "x",
         "y": [
          1
         ],
         "yaxis": "y"
        },
        {
         "alignmentgroup": "True",
         "hovertemplate": "classfication=Trap Pokémon<br>type1=%{x}<br>count=%{y}<extra></extra>",
         "legendgroup": "Trap Pokémon",
         "marker": {
          "color": "#EF553B",
          "pattern": {
           "shape": ""
          }
         },
         "name": "Trap Pokémon",
         "offsetgroup": "Trap Pokémon",
         "orientation": "v",
         "showlegend": true,
         "textposition": "auto",
         "type": "bar",
         "x": [
          "ground"
         ],
         "xaxis": "x",
         "y": [
          1
         ],
         "yaxis": "y"
        },
        {
         "alignmentgroup": "True",
         "hovertemplate": "classfication=Martial Arts Pokémon<br>type1=%{x}<br>count=%{y}<extra></extra>",
         "legendgroup": "Martial Arts Pokémon",
         "marker": {
          "color": "#00cc96",
          "pattern": {
           "shape": ""
          }
         },
         "name": "Martial Arts Pokémon",
         "offsetgroup": "Martial Arts Pokémon",
         "orientation": "v",
         "showlegend": true,
         "textposition": "auto",
         "type": "bar",
         "x": [
          "fighting",
          "fighting"
         ],
         "xaxis": "x",
         "y": [
          1,
          1
         ],
         "yaxis": "y"
        },
        {
         "alignmentgroup": "True",
         "hovertemplate": "classfication=Automaton Pokémon<br>type1=%{x}<br>count=%{y}<extra></extra>",
         "legendgroup": "Automaton Pokémon",
         "marker": {
          "color": "#ab63fa",
          "pattern": {
           "shape": ""
          }
         },
         "name": "Automaton Pokémon",
         "offsetgroup": "Automaton Pokémon",
         "orientation": "v",
         "showlegend": true,
         "textposition": "auto",
         "type": "bar",
         "x": [
          "ground",
          "ground"
         ],
         "xaxis": "x",
         "y": [
          1,
          1
         ],
         "yaxis": "y"
        },
        {
         "alignmentgroup": "True",
         "hovertemplate": "classfication=Sharp Blade Pokémon<br>type1=%{x}<br>count=%{y}<extra></extra>",
         "legendgroup": "Sharp Blade Pokémon",
         "marker": {
          "color": "#FFA15A",
          "pattern": {
           "shape": ""
          }
         },
         "name": "Sharp Blade Pokémon",
         "offsetgroup": "Sharp Blade Pokémon",
         "orientation": "v",
         "showlegend": true,
         "textposition": "auto",
         "type": "bar",
         "x": [
          "dark"
         ],
         "xaxis": "x",
         "y": [
          1
         ],
         "yaxis": "y"
        },
        {
         "alignmentgroup": "True",
         "hovertemplate": "classfication=Sword Blade Pokémon<br>type1=%{x}<br>count=%{y}<extra></extra>",
         "legendgroup": "Sword Blade Pokémon",
         "marker": {
          "color": "#19d3f3",
          "pattern": {
           "shape": ""
          }
         },
         "name": "Sword Blade Pokémon",
         "offsetgroup": "Sword Blade Pokémon",
         "orientation": "v",
         "showlegend": true,
         "textposition": "auto",
         "type": "bar",
         "x": [
          "dark"
         ],
         "xaxis": "x",
         "y": [
          1
         ],
         "yaxis": "y"
        },
        {
         "alignmentgroup": "True",
         "hovertemplate": "classfication=Bash Buffalo Pokémon<br>type1=%{x}<br>count=%{y}<extra></extra>",
         "legendgroup": "Bash Buffalo Pokémon",
         "marker": {
          "color": "#FF6692",
          "pattern": {
           "shape": ""
          }
         },
         "name": "Bash Buffalo Pokémon",
         "offsetgroup": "Bash Buffalo Pokémon",
         "orientation": "v",
         "showlegend": true,
         "textposition": "auto",
         "type": "bar",
         "x": [
          "normal"
         ],
         "xaxis": "x",
         "y": [
          1
         ],
         "yaxis": "y"
        },
        {
         "alignmentgroup": "True",
         "hovertemplate": "classfication=Eaglet Pokémon<br>type1=%{x}<br>count=%{y}<extra></extra>",
         "legendgroup": "Eaglet Pokémon",
         "marker": {
          "color": "#B6E880",
          "pattern": {
           "shape": ""
          }
         },
         "name": "Eaglet Pokémon",
         "offsetgroup": "Eaglet Pokémon",
         "orientation": "v",
         "showlegend": true,
         "textposition": "auto",
         "type": "bar",
         "x": [
          "normal"
         ],
         "xaxis": "x",
         "y": [
          1
         ],
         "yaxis": "y"
        },
        {
         "alignmentgroup": "True",
         "hovertemplate": "classfication=Valiant Pokémon<br>type1=%{x}<br>count=%{y}<extra></extra>",
         "legendgroup": "Valiant Pokémon",
         "marker": {
          "color": "#FF97FF",
          "pattern": {
           "shape": ""
          }
         },
         "name": "Valiant Pokémon",
         "offsetgroup": "Valiant Pokémon",
         "orientation": "v",
         "showlegend": true,
         "textposition": "auto",
         "type": "bar",
         "x": [
          "normal"
         ],
         "xaxis": "x",
         "y": [
          1
         ],
         "yaxis": "y"
        },
        {
         "alignmentgroup": "True",
         "hovertemplate": "classfication=Diapered Pokémon<br>type1=%{x}<br>count=%{y}<extra></extra>",
         "legendgroup": "Diapered Pokémon",
         "marker": {
          "color": "#FECB52",
          "pattern": {
           "shape": ""
          }
         },
         "name": "Diapered Pokémon",
         "offsetgroup": "Diapered Pokémon",
         "orientation": "v",
         "showlegend": true,
         "textposition": "auto",
         "type": "bar",
         "x": [
          "dark"
         ],
         "xaxis": "x",
         "y": [
          1
         ],
         "yaxis": "y"
        },
        {
         "alignmentgroup": "True",
         "hovertemplate": "classfication=Bone Vulture Pokémon<br>type1=%{x}<br>count=%{y}<extra></extra>",
         "legendgroup": "Bone Vulture Pokémon",
         "marker": {
          "color": "#636efa",
          "pattern": {
           "shape": ""
          }
         },
         "name": "Bone Vulture Pokémon",
         "offsetgroup": "Bone Vulture Pokémon",
         "orientation": "v",
         "showlegend": true,
         "textposition": "auto",
         "type": "bar",
         "x": [
          "dark"
         ],
         "xaxis": "x",
         "y": [
          1
         ],
         "yaxis": "y"
        },
        {
         "alignmentgroup": "True",
         "hovertemplate": "classfication=Anteater Pokémon<br>type1=%{x}<br>count=%{y}<extra></extra>",
         "legendgroup": "Anteater Pokémon",
         "marker": {
          "color": "#EF553B",
          "pattern": {
           "shape": ""
          }
         },
         "name": "Anteater Pokémon",
         "offsetgroup": "Anteater Pokémon",
         "orientation": "v",
         "showlegend": true,
         "textposition": "auto",
         "type": "bar",
         "x": [
          "fire"
         ],
         "xaxis": "x",
         "y": [
          1
         ],
         "yaxis": "y"
        },
        {
         "alignmentgroup": "True",
         "hovertemplate": "classfication=Iron Ant Pokémon<br>type1=%{x}<br>count=%{y}<extra></extra>",
         "legendgroup": "Iron Ant Pokémon",
         "marker": {
          "color": "#00cc96",
          "pattern": {
           "shape": ""
          }
         },
         "name": "Iron Ant Pokémon",
         "offsetgroup": "Iron Ant Pokémon",
         "orientation": "v",
         "showlegend": true,
         "textposition": "auto",
         "type": "bar",
         "x": [
          "bug"
         ],
         "xaxis": "x",
         "y": [
          1
         ],
         "yaxis": "y"
        },
        {
         "alignmentgroup": "True",
         "hovertemplate": "classfication=Irate Pokémon<br>type1=%{x}<br>count=%{y}<extra></extra>",
         "legendgroup": "Irate Pokémon",
         "marker": {
          "color": "#ab63fa",
          "pattern": {
           "shape": ""
          }
         },
         "name": "Irate Pokémon",
         "offsetgroup": "Irate Pokémon",
         "orientation": "v",
         "showlegend": true,
         "textposition": "auto",
         "type": "bar",
         "x": [
          "dark"
         ],
         "xaxis": "x",
         "y": [
          1
         ],
         "yaxis": "y"
        },
        {
         "alignmentgroup": "True",
         "hovertemplate": "classfication=Torch Pokémon<br>type1=%{x}<br>count=%{y}<extra></extra>",
         "legendgroup": "Torch Pokémon",
         "marker": {
          "color": "#FFA15A",
          "pattern": {
           "shape": ""
          }
         },
         "name": "Torch Pokémon",
         "offsetgroup": "Torch Pokémon",
         "orientation": "v",
         "showlegend": true,
         "textposition": "auto",
         "type": "bar",
         "x": [
          "bug"
         ],
         "xaxis": "x",
         "y": [
          1
         ],
         "yaxis": "y"
        },
        {
         "alignmentgroup": "True",
         "hovertemplate": "classfication=Iron Will Pokémon<br>type1=%{x}<br>count=%{y}<extra></extra>",
         "legendgroup": "Iron Will Pokémon",
         "marker": {
          "color": "#19d3f3",
          "pattern": {
           "shape": ""
          }
         },
         "name": "Iron Will Pokémon",
         "offsetgroup": "Iron Will Pokémon",
         "orientation": "v",
         "showlegend": true,
         "textposition": "auto",
         "type": "bar",
         "x": [
          "steel"
         ],
         "xaxis": "x",
         "y": [
          1
         ],
         "yaxis": "y"
        },
        {
         "alignmentgroup": "True",
         "hovertemplate": "classfication=Cavern Pokémon<br>type1=%{x}<br>count=%{y}<extra></extra>",
         "legendgroup": "Cavern Pokémon",
         "marker": {
          "color": "#FF6692",
          "pattern": {
           "shape": ""
          }
         },
         "name": "Cavern Pokémon",
         "offsetgroup": "Cavern Pokémon",
         "orientation": "v",
         "showlegend": true,
         "textposition": "auto",
         "type": "bar",
         "x": [
          "rock"
         ],
         "xaxis": "x",
         "y": [
          1
         ],
         "yaxis": "y"
        },
        {
         "alignmentgroup": "True",
         "hovertemplate": "classfication=Grassland Pokémon<br>type1=%{x}<br>count=%{y}<extra></extra>",
         "legendgroup": "Grassland Pokémon",
         "marker": {
          "color": "#B6E880",
          "pattern": {
           "shape": ""
          }
         },
         "name": "Grassland Pokémon",
         "offsetgroup": "Grassland Pokémon",
         "orientation": "v",
         "showlegend": true,
         "textposition": "auto",
         "type": "bar",
         "x": [
          "grass"
         ],
         "xaxis": "x",
         "y": [
          1
         ],
         "yaxis": "y"
        },
        {
         "alignmentgroup": "True",
         "hovertemplate": "classfication=Cyclone Pokémon<br>type1=%{x}<br>count=%{y}<extra></extra>",
         "legendgroup": "Cyclone Pokémon",
         "marker": {
          "color": "#FF97FF",
          "pattern": {
           "shape": ""
          }
         },
         "name": "Cyclone Pokémon",
         "offsetgroup": "Cyclone Pokémon",
         "orientation": "v",
         "showlegend": true,
         "textposition": "auto",
         "type": "bar",
         "x": [
          "flying"
         ],
         "xaxis": "x",
         "y": [
          1
         ],
         "yaxis": "y"
        },
        {
         "alignmentgroup": "True",
         "hovertemplate": "classfication=Bolt Strike Pokémon<br>type1=%{x}<br>count=%{y}<extra></extra>",
         "legendgroup": "Bolt Strike Pokémon",
         "marker": {
          "color": "#FECB52",
          "pattern": {
           "shape": ""
          }
         },
         "name": "Bolt Strike Pokémon",
         "offsetgroup": "Bolt Strike Pokémon",
         "orientation": "v",
         "showlegend": true,
         "textposition": "auto",
         "type": "bar",
         "x": [
          "electric"
         ],
         "xaxis": "x",
         "y": [
          1
         ],
         "yaxis": "y"
        },
        {
         "alignmentgroup": "True",
         "hovertemplate": "classfication=Vast White Pokémon<br>type1=%{x}<br>count=%{y}<extra></extra>",
         "legendgroup": "Vast White Pokémon",
         "marker": {
          "color": "#636efa",
          "pattern": {
           "shape": ""
          }
         },
         "name": "Vast White Pokémon",
         "offsetgroup": "Vast White Pokémon",
         "orientation": "v",
         "showlegend": true,
         "textposition": "auto",
         "type": "bar",
         "x": [
          "dragon"
         ],
         "xaxis": "x",
         "y": [
          1
         ],
         "yaxis": "y"
        },
        {
         "alignmentgroup": "True",
         "hovertemplate": "classfication=Deep Black Pokémon<br>type1=%{x}<br>count=%{y}<extra></extra>",
         "legendgroup": "Deep Black Pokémon",
         "marker": {
          "color": "#EF553B",
          "pattern": {
           "shape": ""
          }
         },
         "name": "Deep Black Pokémon",
         "offsetgroup": "Deep Black Pokémon",
         "orientation": "v",
         "showlegend": true,
         "textposition": "auto",
         "type": "bar",
         "x": [
          "dragon"
         ],
         "xaxis": "x",
         "y": [
          1
         ],
         "yaxis": "y"
        },
        {
         "alignmentgroup": "True",
         "hovertemplate": "classfication=Abundance Pokémon<br>type1=%{x}<br>count=%{y}<extra></extra>",
         "legendgroup": "Abundance Pokémon",
         "marker": {
          "color": "#00cc96",
          "pattern": {
           "shape": ""
          }
         },
         "name": "Abundance Pokémon",
         "offsetgroup": "Abundance Pokémon",
         "orientation": "v",
         "showlegend": true,
         "textposition": "auto",
         "type": "bar",
         "x": [
          "ground"
         ],
         "xaxis": "x",
         "y": [
          1
         ],
         "yaxis": "y"
        },
        {
         "alignmentgroup": "True",
         "hovertemplate": "classfication=Boundary Pokémon<br>type1=%{x}<br>count=%{y}<extra></extra>",
         "legendgroup": "Boundary Pokémon",
         "marker": {
          "color": "#ab63fa",
          "pattern": {
           "shape": ""
          }
         },
         "name": "Boundary Pokémon",
         "offsetgroup": "Boundary Pokémon",
         "orientation": "v",
         "showlegend": true,
         "textposition": "auto",
         "type": "bar",
         "x": [
          "dragon"
         ],
         "xaxis": "x",
         "y": [
          1
         ],
         "yaxis": "y"
        },
        {
         "alignmentgroup": "True",
         "hovertemplate": "classfication=Colt Pokémon<br>type1=%{x}<br>count=%{y}<extra></extra>",
         "legendgroup": "Colt Pokémon",
         "marker": {
          "color": "#FFA15A",
          "pattern": {
           "shape": ""
          }
         },
         "name": "Colt Pokémon",
         "offsetgroup": "Colt Pokémon",
         "orientation": "v",
         "showlegend": true,
         "textposition": "auto",
         "type": "bar",
         "x": [
          "water"
         ],
         "xaxis": "x",
         "y": [
          1
         ],
         "yaxis": "y"
        },
        {
         "alignmentgroup": "True",
         "hovertemplate": "classfication=Melody Pokémon<br>type1=%{x}<br>count=%{y}<extra></extra>",
         "legendgroup": "Melody Pokémon",
         "marker": {
          "color": "#19d3f3",
          "pattern": {
           "shape": ""
          }
         },
         "name": "Melody Pokémon",
         "offsetgroup": "Melody Pokémon",
         "orientation": "v",
         "showlegend": true,
         "textposition": "auto",
         "type": "bar",
         "x": [
          "normal"
         ],
         "xaxis": "x",
         "y": [
          1
         ],
         "yaxis": "y"
        },
        {
         "alignmentgroup": "True",
         "hovertemplate": "classfication=Paleozoic Pokémon<br>type1=%{x}<br>count=%{y}<extra></extra>",
         "legendgroup": "Paleozoic Pokémon",
         "marker": {
          "color": "#FF6692",
          "pattern": {
           "shape": ""
          }
         },
         "name": "Paleozoic Pokémon",
         "offsetgroup": "Paleozoic Pokémon",
         "orientation": "v",
         "showlegend": true,
         "textposition": "auto",
         "type": "bar",
         "x": [
          "bug"
         ],
         "xaxis": "x",
         "y": [
          1
         ],
         "yaxis": "y"
        },
        {
         "alignmentgroup": "True",
         "hovertemplate": "classfication=Spiky Nut Pokémon<br>type1=%{x}<br>count=%{y}<extra></extra>",
         "legendgroup": "Spiky Nut Pokémon",
         "marker": {
          "color": "#B6E880",
          "pattern": {
           "shape": ""
          }
         },
         "name": "Spiky Nut Pokémon",
         "offsetgroup": "Spiky Nut Pokémon",
         "orientation": "v",
         "showlegend": true,
         "textposition": "auto",
         "type": "bar",
         "x": [
          "grass"
         ],
         "xaxis": "x",
         "y": [
          1
         ],
         "yaxis": "y"
        },
        {
         "alignmentgroup": "True",
         "hovertemplate": "classfication=Spiny Armor Pokémon<br>type1=%{x}<br>count=%{y}<extra></extra>",
         "legendgroup": "Spiny Armor Pokémon",
         "marker": {
          "color": "#FF97FF",
          "pattern": {
           "shape": ""
          }
         },
         "name": "Spiny Armor Pokémon",
         "offsetgroup": "Spiny Armor Pokémon",
         "orientation": "v",
         "showlegend": true,
         "textposition": "auto",
         "type": "bar",
         "x": [
          "grass",
          "grass"
         ],
         "xaxis": "x",
         "y": [
          1,
          1
         ],
         "yaxis": "y"
        },
        {
         "alignmentgroup": "True",
         "hovertemplate": "classfication=Bubble Frog Pokémon<br>type1=%{x}<br>count=%{y}<extra></extra>",
         "legendgroup": "Bubble Frog Pokémon",
         "marker": {
          "color": "#FECB52",
          "pattern": {
           "shape": ""
          }
         },
         "name": "Bubble Frog Pokémon",
         "offsetgroup": "Bubble Frog Pokémon",
         "orientation": "v",
         "showlegend": true,
         "textposition": "auto",
         "type": "bar",
         "x": [
          "water",
          "water"
         ],
         "xaxis": "x",
         "y": [
          1,
          1
         ],
         "yaxis": "y"
        },
        {
         "alignmentgroup": "True",
         "hovertemplate": "classfication=Digging Pokémon<br>type1=%{x}<br>count=%{y}<extra></extra>",
         "legendgroup": "Digging Pokémon",
         "marker": {
          "color": "#636efa",
          "pattern": {
           "shape": ""
          }
         },
         "name": "Digging Pokémon",
         "offsetgroup": "Digging Pokémon",
         "orientation": "v",
         "showlegend": true,
         "textposition": "auto",
         "type": "bar",
         "x": [
          "normal",
          "normal"
         ],
         "xaxis": "x",
         "y": [
          1,
          1
         ],
         "yaxis": "y"
        },
        {
         "alignmentgroup": "True",
         "hovertemplate": "classfication=Tiny Robin Pokémon<br>type1=%{x}<br>count=%{y}<extra></extra>",
         "legendgroup": "Tiny Robin Pokémon",
         "marker": {
          "color": "#EF553B",
          "pattern": {
           "shape": ""
          }
         },
         "name": "Tiny Robin Pokémon",
         "offsetgroup": "Tiny Robin Pokémon",
         "orientation": "v",
         "showlegend": true,
         "textposition": "auto",
         "type": "bar",
         "x": [
          "normal"
         ],
         "xaxis": "x",
         "y": [
          1
         ],
         "yaxis": "y"
        },
        {
         "alignmentgroup": "True",
         "hovertemplate": "classfication=Scorching Pokémon<br>type1=%{x}<br>count=%{y}<extra></extra>",
         "legendgroup": "Scorching Pokémon",
         "marker": {
          "color": "#00cc96",
          "pattern": {
           "shape": ""
          }
         },
         "name": "Scorching Pokémon",
         "offsetgroup": "Scorching Pokémon",
         "orientation": "v",
         "showlegend": true,
         "textposition": "auto",
         "type": "bar",
         "x": [
          "fire"
         ],
         "xaxis": "x",
         "y": [
          1
         ],
         "yaxis": "y"
        },
        {
         "alignmentgroup": "True",
         "hovertemplate": "classfication=Scatterdust Pokémon<br>type1=%{x}<br>count=%{y}<extra></extra>",
         "legendgroup": "Scatterdust Pokémon",
         "marker": {
          "color": "#ab63fa",
          "pattern": {
           "shape": ""
          }
         },
         "name": "Scatterdust Pokémon",
         "offsetgroup": "Scatterdust Pokémon",
         "orientation": "v",
         "showlegend": true,
         "textposition": "auto",
         "type": "bar",
         "x": [
          "bug",
          "bug"
         ],
         "xaxis": "x",
         "y": [
          1,
          1
         ],
         "yaxis": "y"
        },
        {
         "alignmentgroup": "True",
         "hovertemplate": "classfication=Scale Pokémon<br>type1=%{x}<br>count=%{y}<extra></extra>",
         "legendgroup": "Scale Pokémon",
         "marker": {
          "color": "#FFA15A",
          "pattern": {
           "shape": ""
          }
         },
         "name": "Scale Pokémon",
         "offsetgroup": "Scale Pokémon",
         "orientation": "v",
         "showlegend": true,
         "textposition": "auto",
         "type": "bar",
         "x": [
          "bug"
         ],
         "xaxis": "x",
         "y": [
          1
         ],
         "yaxis": "y"
        },
        {
         "alignmentgroup": "True",
         "hovertemplate": "classfication=Lion Cub Pokémon<br>type1=%{x}<br>count=%{y}<extra></extra>",
         "legendgroup": "Lion Cub Pokémon",
         "marker": {
          "color": "#19d3f3",
          "pattern": {
           "shape": ""
          }
         },
         "name": "Lion Cub Pokémon",
         "offsetgroup": "Lion Cub Pokémon",
         "orientation": "v",
         "showlegend": true,
         "textposition": "auto",
         "type": "bar",
         "x": [
          "fire"
         ],
         "xaxis": "x",
         "y": [
          1
         ],
         "yaxis": "y"
        },
        {
         "alignmentgroup": "True",
         "hovertemplate": "classfication=Single Bloom Pokémon<br>type1=%{x}<br>count=%{y}<extra></extra>",
         "legendgroup": "Single Bloom Pokémon",
         "marker": {
          "color": "#FF6692",
          "pattern": {
           "shape": ""
          }
         },
         "name": "Single Bloom Pokémon",
         "offsetgroup": "Single Bloom Pokémon",
         "orientation": "v",
         "showlegend": true,
         "textposition": "auto",
         "type": "bar",
         "x": [
          "fairy"
         ],
         "xaxis": "x",
         "y": [
          1
         ],
         "yaxis": "y"
        },
        {
         "alignmentgroup": "True",
         "hovertemplate": "classfication=Garden Pokémon<br>type1=%{x}<br>count=%{y}<extra></extra>",
         "legendgroup": "Garden Pokémon",
         "marker": {
          "color": "#B6E880",
          "pattern": {
           "shape": ""
          }
         },
         "name": "Garden Pokémon",
         "offsetgroup": "Garden Pokémon",
         "orientation": "v",
         "showlegend": true,
         "textposition": "auto",
         "type": "bar",
         "x": [
          "fairy"
         ],
         "xaxis": "x",
         "y": [
          1
         ],
         "yaxis": "y"
        },
        {
         "alignmentgroup": "True",
         "hovertemplate": "classfication=Mount Pokémon<br>type1=%{x}<br>count=%{y}<extra></extra>",
         "legendgroup": "Mount Pokémon",
         "marker": {
          "color": "#FF97FF",
          "pattern": {
           "shape": ""
          }
         },
         "name": "Mount Pokémon",
         "offsetgroup": "Mount Pokémon",
         "orientation": "v",
         "showlegend": true,
         "textposition": "auto",
         "type": "bar",
         "x": [
          "grass",
          "grass"
         ],
         "xaxis": "x",
         "y": [
          1,
          1
         ],
         "yaxis": "y"
        },
        {
         "alignmentgroup": "True",
         "hovertemplate": "classfication=Daunting Pokémon<br>type1=%{x}<br>count=%{y}<extra></extra>",
         "legendgroup": "Daunting Pokémon",
         "marker": {
          "color": "#FECB52",
          "pattern": {
           "shape": ""
          }
         },
         "name": "Daunting Pokémon",
         "offsetgroup": "Daunting Pokémon",
         "orientation": "v",
         "showlegend": true,
         "textposition": "auto",
         "type": "bar",
         "x": [
          "fighting"
         ],
         "xaxis": "x",
         "y": [
          1
         ],
         "yaxis": "y"
        },
        {
         "alignmentgroup": "True",
         "hovertemplate": "classfication=Poodle Pokémon<br>type1=%{x}<br>count=%{y}<extra></extra>",
         "legendgroup": "Poodle Pokémon",
         "marker": {
          "color": "#636efa",
          "pattern": {
           "shape": ""
          }
         },
         "name": "Poodle Pokémon",
         "offsetgroup": "Poodle Pokémon",
         "orientation": "v",
         "showlegend": true,
         "textposition": "auto",
         "type": "bar",
         "x": [
          "normal"
         ],
         "xaxis": "x",
         "y": [
          1
         ],
         "yaxis": "y"
        },
        {
         "alignmentgroup": "True",
         "hovertemplate": "classfication=Restraint Pokémon<br>type1=%{x}<br>count=%{y}<extra></extra>",
         "legendgroup": "Restraint Pokémon",
         "marker": {
          "color": "#EF553B",
          "pattern": {
           "shape": ""
          }
         },
         "name": "Restraint Pokémon",
         "offsetgroup": "Restraint Pokémon",
         "orientation": "v",
         "showlegend": true,
         "textposition": "auto",
         "type": "bar",
         "x": [
          "psychic"
         ],
         "xaxis": "x",
         "y": [
          1
         ],
         "yaxis": "y"
        },
        {
         "alignmentgroup": "True",
         "hovertemplate": "classfication=Constraint Pokémon<br>type1=%{x}<br>count=%{y}<extra></extra>",
         "legendgroup": "Constraint Pokémon",
         "marker": {
          "color": "#00cc96",
          "pattern": {
           "shape": ""
          }
         },
         "name": "Constraint Pokémon",
         "offsetgroup": "Constraint Pokémon",
         "orientation": "v",
         "showlegend": true,
         "textposition": "auto",
         "type": "bar",
         "x": [
          "psychic"
         ],
         "xaxis": "x",
         "y": [
          1
         ],
         "yaxis": "y"
        },
        {
         "alignmentgroup": "True",
         "hovertemplate": "classfication=Sword Pokémon<br>type1=%{x}<br>count=%{y}<extra></extra>",
         "legendgroup": "Sword Pokémon",
         "marker": {
          "color": "#ab63fa",
          "pattern": {
           "shape": ""
          }
         },
         "name": "Sword Pokémon",
         "offsetgroup": "Sword Pokémon",
         "orientation": "v",
         "showlegend": true,
         "textposition": "auto",
         "type": "bar",
         "x": [
          "steel",
          "steel"
         ],
         "xaxis": "x",
         "y": [
          1,
          1
         ],
         "yaxis": "y"
        },
        {
         "alignmentgroup": "True",
         "hovertemplate": "classfication=Royal Sword Pokémon<br>type1=%{x}<br>count=%{y}<extra></extra>",
         "legendgroup": "Royal Sword Pokémon",
         "marker": {
          "color": "#FFA15A",
          "pattern": {
           "shape": ""
          }
         },
         "name": "Royal Sword Pokémon",
         "offsetgroup": "Royal Sword Pokémon",
         "orientation": "v",
         "showlegend": true,
         "textposition": "auto",
         "type": "bar",
         "x": [
          "steel"
         ],
         "xaxis": "x",
         "y": [
          1
         ],
         "yaxis": "y"
        },
        {
         "alignmentgroup": "True",
         "hovertemplate": "classfication=Perfume Pokémon<br>type1=%{x}<br>count=%{y}<extra></extra>",
         "legendgroup": "Perfume Pokémon",
         "marker": {
          "color": "#19d3f3",
          "pattern": {
           "shape": ""
          }
         },
         "name": "Perfume Pokémon",
         "offsetgroup": "Perfume Pokémon",
         "orientation": "v",
         "showlegend": true,
         "textposition": "auto",
         "type": "bar",
         "x": [
          "fairy"
         ],
         "xaxis": "x",
         "y": [
          1
         ],
         "yaxis": "y"
        },
        {
         "alignmentgroup": "True",
         "hovertemplate": "classfication=Fragrance Pokémon<br>type1=%{x}<br>count=%{y}<extra></extra>",
         "legendgroup": "Fragrance Pokémon",
         "marker": {
          "color": "#FF6692",
          "pattern": {
           "shape": ""
          }
         },
         "name": "Fragrance Pokémon",
         "offsetgroup": "Fragrance Pokémon",
         "orientation": "v",
         "showlegend": true,
         "textposition": "auto",
         "type": "bar",
         "x": [
          "fairy"
         ],
         "xaxis": "x",
         "y": [
          1
         ],
         "yaxis": "y"
        },
        {
         "alignmentgroup": "True",
         "hovertemplate": "classfication=Cotton Candy Pokémon<br>type1=%{x}<br>count=%{y}<extra></extra>",
         "legendgroup": "Cotton Candy Pokémon",
         "marker": {
          "color": "#B6E880",
          "pattern": {
           "shape": ""
          }
         },
         "name": "Cotton Candy Pokémon",
         "offsetgroup": "Cotton Candy Pokémon",
         "orientation": "v",
         "showlegend": true,
         "textposition": "auto",
         "type": "bar",
         "x": [
          "fairy"
         ],
         "xaxis": "x",
         "y": [
          1
         ],
         "yaxis": "y"
        },
        {
         "alignmentgroup": "True",
         "hovertemplate": "classfication=Meringue Pokémon<br>type1=%{x}<br>count=%{y}<extra></extra>",
         "legendgroup": "Meringue Pokémon",
         "marker": {
          "color": "#FF97FF",
          "pattern": {
           "shape": ""
          }
         },
         "name": "Meringue Pokémon",
         "offsetgroup": "Meringue Pokémon",
         "orientation": "v",
         "showlegend": true,
         "textposition": "auto",
         "type": "bar",
         "x": [
          "fairy"
         ],
         "xaxis": "x",
         "y": [
          1
         ],
         "yaxis": "y"
        },
        {
         "alignmentgroup": "True",
         "hovertemplate": "classfication=Revolving Pokémon<br>type1=%{x}<br>count=%{y}<extra></extra>",
         "legendgroup": "Revolving Pokémon",
         "marker": {
          "color": "#FECB52",
          "pattern": {
           "shape": ""
          }
         },
         "name": "Revolving Pokémon",
         "offsetgroup": "Revolving Pokémon",
         "orientation": "v",
         "showlegend": true,
         "textposition": "auto",
         "type": "bar",
         "x": [
          "dark"
         ],
         "xaxis": "x",
         "y": [
          1
         ],
         "yaxis": "y"
        },
        {
         "alignmentgroup": "True",
         "hovertemplate": "classfication=Overturning Pokémon<br>type1=%{x}<br>count=%{y}<extra></extra>",
         "legendgroup": "Overturning Pokémon",
         "marker": {
          "color": "#636efa",
          "pattern": {
           "shape": ""
          }
         },
         "name": "Overturning Pokémon",
         "offsetgroup": "Overturning Pokémon",
         "orientation": "v",
         "showlegend": true,
         "textposition": "auto",
         "type": "bar",
         "x": [
          "dark"
         ],
         "xaxis": "x",
         "y": [
          1
         ],
         "yaxis": "y"
        },
        {
         "alignmentgroup": "True",
         "hovertemplate": "classfication=Two-Handed Pokémon<br>type1=%{x}<br>count=%{y}<extra></extra>",
         "legendgroup": "Two-Handed Pokémon",
         "marker": {
          "color": "#EF553B",
          "pattern": {
           "shape": ""
          }
         },
         "name": "Two-Handed Pokémon",
         "offsetgroup": "Two-Handed Pokémon",
         "orientation": "v",
         "showlegend": true,
         "textposition": "auto",
         "type": "bar",
         "x": [
          "rock"
         ],
         "xaxis": "x",
         "y": [
          1
         ],
         "yaxis": "y"
        },
        {
         "alignmentgroup": "True",
         "hovertemplate": "classfication=Collective Pokémon<br>type1=%{x}<br>count=%{y}<extra></extra>",
         "legendgroup": "Collective Pokémon",
         "marker": {
          "color": "#00cc96",
          "pattern": {
           "shape": ""
          }
         },
         "name": "Collective Pokémon",
         "offsetgroup": "Collective Pokémon",
         "orientation": "v",
         "showlegend": true,
         "textposition": "auto",
         "type": "bar",
         "x": [
          "rock"
         ],
         "xaxis": "x",
         "y": [
          1
         ],
         "yaxis": "y"
        },
        {
         "alignmentgroup": "True",
         "hovertemplate": "classfication=Mock Kelp Pokémon<br>type1=%{x}<br>count=%{y}<extra></extra>",
         "legendgroup": "Mock Kelp Pokémon",
         "marker": {
          "color": "#ab63fa",
          "pattern": {
           "shape": ""
          }
         },
         "name": "Mock Kelp Pokémon",
         "offsetgroup": "Mock Kelp Pokémon",
         "orientation": "v",
         "showlegend": true,
         "textposition": "auto",
         "type": "bar",
         "x": [
          "poison",
          "poison"
         ],
         "xaxis": "x",
         "y": [
          1,
          1
         ],
         "yaxis": "y"
        },
        {
         "alignmentgroup": "True",
         "hovertemplate": "classfication=Water Gun Pokémon<br>type1=%{x}<br>count=%{y}<extra></extra>",
         "legendgroup": "Water Gun Pokémon",
         "marker": {
          "color": "#FFA15A",
          "pattern": {
           "shape": ""
          }
         },
         "name": "Water Gun Pokémon",
         "offsetgroup": "Water Gun Pokémon",
         "orientation": "v",
         "showlegend": true,
         "textposition": "auto",
         "type": "bar",
         "x": [
          "water"
         ],
         "xaxis": "x",
         "y": [
          1
         ],
         "yaxis": "y"
        },
        {
         "alignmentgroup": "True",
         "hovertemplate": "classfication=Howitzer Pokémon<br>type1=%{x}<br>count=%{y}<extra></extra>",
         "legendgroup": "Howitzer Pokémon",
         "marker": {
          "color": "#19d3f3",
          "pattern": {
           "shape": ""
          }
         },
         "name": "Howitzer Pokémon",
         "offsetgroup": "Howitzer Pokémon",
         "orientation": "v",
         "showlegend": true,
         "textposition": "auto",
         "type": "bar",
         "x": [
          "water"
         ],
         "xaxis": "x",
         "y": [
          1
         ],
         "yaxis": "y"
        },
        {
         "alignmentgroup": "True",
         "hovertemplate": "classfication=Generator Pokémon<br>type1=%{x}<br>count=%{y}<extra></extra>",
         "legendgroup": "Generator Pokémon",
         "marker": {
          "color": "#FF6692",
          "pattern": {
           "shape": ""
          }
         },
         "name": "Generator Pokémon",
         "offsetgroup": "Generator Pokémon",
         "orientation": "v",
         "showlegend": true,
         "textposition": "auto",
         "type": "bar",
         "x": [
          "electric",
          "electric"
         ],
         "xaxis": "x",
         "y": [
          1,
          1
         ],
         "yaxis": "y"
        },
        {
         "alignmentgroup": "True",
         "hovertemplate": "classfication=Royal Heir Pokémon<br>type1=%{x}<br>count=%{y}<extra></extra>",
         "legendgroup": "Royal Heir Pokémon",
         "marker": {
          "color": "#B6E880",
          "pattern": {
           "shape": ""
          }
         },
         "name": "Royal Heir Pokémon",
         "offsetgroup": "Royal Heir Pokémon",
         "orientation": "v",
         "showlegend": true,
         "textposition": "auto",
         "type": "bar",
         "x": [
          "rock"
         ],
         "xaxis": "x",
         "y": [
          1
         ],
         "yaxis": "y"
        },
        {
         "alignmentgroup": "True",
         "hovertemplate": "classfication=Despot Pokémon<br>type1=%{x}<br>count=%{y}<extra></extra>",
         "legendgroup": "Despot Pokémon",
         "marker": {
          "color": "#FF97FF",
          "pattern": {
           "shape": ""
          }
         },
         "name": "Despot Pokémon",
         "offsetgroup": "Despot Pokémon",
         "orientation": "v",
         "showlegend": true,
         "textposition": "auto",
         "type": "bar",
         "x": [
          "rock"
         ],
         "xaxis": "x",
         "y": [
          1
         ],
         "yaxis": "y"
        },
        {
         "alignmentgroup": "True",
         "hovertemplate": "classfication=Tundra Pokémon<br>type1=%{x}<br>count=%{y}<extra></extra>",
         "legendgroup": "Tundra Pokémon",
         "marker": {
          "color": "#FECB52",
          "pattern": {
           "shape": ""
          }
         },
         "name": "Tundra Pokémon",
         "offsetgroup": "Tundra Pokémon",
         "orientation": "v",
         "showlegend": true,
         "textposition": "auto",
         "type": "bar",
         "x": [
          "rock",
          "rock"
         ],
         "xaxis": "x",
         "y": [
          1,
          1
         ],
         "yaxis": "y"
        },
        {
         "alignmentgroup": "True",
         "hovertemplate": "classfication=Intertwining Pokémon<br>type1=%{x}<br>count=%{y}<extra></extra>",
         "legendgroup": "Intertwining Pokémon",
         "marker": {
          "color": "#636efa",
          "pattern": {
           "shape": ""
          }
         },
         "name": "Intertwining Pokémon",
         "offsetgroup": "Intertwining Pokémon",
         "orientation": "v",
         "showlegend": true,
         "textposition": "auto",
         "type": "bar",
         "x": [
          "fairy"
         ],
         "xaxis": "x",
         "y": [
          1
         ],
         "yaxis": "y"
        },
        {
         "alignmentgroup": "True",
         "hovertemplate": "classfication=Wrestling Pokémon<br>type1=%{x}<br>count=%{y}<extra></extra>",
         "legendgroup": "Wrestling Pokémon",
         "marker": {
          "color": "#EF553B",
          "pattern": {
           "shape": ""
          }
         },
         "name": "Wrestling Pokémon",
         "offsetgroup": "Wrestling Pokémon",
         "orientation": "v",
         "showlegend": true,
         "textposition": "auto",
         "type": "bar",
         "x": [
          "fighting"
         ],
         "xaxis": "x",
         "y": [
          1
         ],
         "yaxis": "y"
        },
        {
         "alignmentgroup": "True",
         "hovertemplate": "classfication=Antenna Pokémon<br>type1=%{x}<br>count=%{y}<extra></extra>",
         "legendgroup": "Antenna Pokémon",
         "marker": {
          "color": "#00cc96",
          "pattern": {
           "shape": ""
          }
         },
         "name": "Antenna Pokémon",
         "offsetgroup": "Antenna Pokémon",
         "orientation": "v",
         "showlegend": true,
         "textposition": "auto",
         "type": "bar",
         "x": [
          "electric"
         ],
         "xaxis": "x",
         "y": [
          1
         ],
         "yaxis": "y"
        },
        {
         "alignmentgroup": "True",
         "hovertemplate": "classfication=Jewel Pokémon<br>type1=%{x}<br>count=%{y}<extra></extra>",
         "legendgroup": "Jewel Pokémon",
         "marker": {
          "color": "#ab63fa",
          "pattern": {
           "shape": ""
          }
         },
         "name": "Jewel Pokémon",
         "offsetgroup": "Jewel Pokémon",
         "orientation": "v",
         "showlegend": true,
         "textposition": "auto",
         "type": "bar",
         "x": [
          "rock",
          "rock"
         ],
         "xaxis": "x",
         "y": [
          1,
          1
         ],
         "yaxis": "y"
        },
        {
         "alignmentgroup": "True",
         "hovertemplate": "classfication=Soft Tissue Pokémon<br>type1=%{x}<br>count=%{y}<extra></extra>",
         "legendgroup": "Soft Tissue Pokémon",
         "marker": {
          "color": "#FFA15A",
          "pattern": {
           "shape": ""
          }
         },
         "name": "Soft Tissue Pokémon",
         "offsetgroup": "Soft Tissue Pokémon",
         "orientation": "v",
         "showlegend": true,
         "textposition": "auto",
         "type": "bar",
         "x": [
          "dragon",
          "dragon"
         ],
         "xaxis": "x",
         "y": [
          1,
          1
         ],
         "yaxis": "y"
        },
        {
         "alignmentgroup": "True",
         "hovertemplate": "classfication=Key Ring Pokémon<br>type1=%{x}<br>count=%{y}<extra></extra>",
         "legendgroup": "Key Ring Pokémon",
         "marker": {
          "color": "#19d3f3",
          "pattern": {
           "shape": ""
          }
         },
         "name": "Key Ring Pokémon",
         "offsetgroup": "Key Ring Pokémon",
         "orientation": "v",
         "showlegend": true,
         "textposition": "auto",
         "type": "bar",
         "x": [
          "steel"
         ],
         "xaxis": "x",
         "y": [
          1
         ],
         "yaxis": "y"
        },
        {
         "alignmentgroup": "True",
         "hovertemplate": "classfication=Stump Pokémon<br>type1=%{x}<br>count=%{y}<extra></extra>",
         "legendgroup": "Stump Pokémon",
         "marker": {
          "color": "#FF6692",
          "pattern": {
           "shape": ""
          }
         },
         "name": "Stump Pokémon",
         "offsetgroup": "Stump Pokémon",
         "orientation": "v",
         "showlegend": true,
         "textposition": "auto",
         "type": "bar",
         "x": [
          "ghost"
         ],
         "xaxis": "x",
         "y": [
          1
         ],
         "yaxis": "y"
        },
        {
         "alignmentgroup": "True",
         "hovertemplate": "classfication=Elder Tree Pokémon<br>type1=%{x}<br>count=%{y}<extra></extra>",
         "legendgroup": "Elder Tree Pokémon",
         "marker": {
          "color": "#B6E880",
          "pattern": {
           "shape": ""
          }
         },
         "name": "Elder Tree Pokémon",
         "offsetgroup": "Elder Tree Pokémon",
         "orientation": "v",
         "showlegend": true,
         "textposition": "auto",
         "type": "bar",
         "x": [
          "ghost"
         ],
         "xaxis": "x",
         "y": [
          1
         ],
         "yaxis": "y"
        },
        {
         "alignmentgroup": "True",
         "hovertemplate": "classfication=Pumpkin Pokémon<br>type1=%{x}<br>count=%{y}<extra></extra>",
         "legendgroup": "Pumpkin Pokémon",
         "marker": {
          "color": "#FF97FF",
          "pattern": {
           "shape": ""
          }
         },
         "name": "Pumpkin Pokémon",
         "offsetgroup": "Pumpkin Pokémon",
         "orientation": "v",
         "showlegend": true,
         "textposition": "auto",
         "type": "bar",
         "x": [
          "ghost",
          "ghost"
         ],
         "xaxis": "x",
         "y": [
          1,
          1
         ],
         "yaxis": "y"
        },
        {
         "alignmentgroup": "True",
         "hovertemplate": "classfication=Ice Chunk Pokémon<br>type1=%{x}<br>count=%{y}<extra></extra>",
         "legendgroup": "Ice Chunk Pokémon",
         "marker": {
          "color": "#FECB52",
          "pattern": {
           "shape": ""
          }
         },
         "name": "Ice Chunk Pokémon",
         "offsetgroup": "Ice Chunk Pokémon",
         "orientation": "v",
         "showlegend": true,
         "textposition": "auto",
         "type": "bar",
         "x": [
          "ice"
         ],
         "xaxis": "x",
         "y": [
          1
         ],
         "yaxis": "y"
        },
        {
         "alignmentgroup": "True",
         "hovertemplate": "classfication=Sound Wave Pokémon<br>type1=%{x}<br>count=%{y}<extra></extra>",
         "legendgroup": "Sound Wave Pokémon",
         "marker": {
          "color": "#636efa",
          "pattern": {
           "shape": ""
          }
         },
         "name": "Sound Wave Pokémon",
         "offsetgroup": "Sound Wave Pokémon",
         "orientation": "v",
         "showlegend": true,
         "textposition": "auto",
         "type": "bar",
         "x": [
          "flying",
          "flying"
         ],
         "xaxis": "x",
         "y": [
          1,
          1
         ],
         "yaxis": "y"
        },
        {
         "alignmentgroup": "True",
         "hovertemplate": "classfication=Life Pokémon<br>type1=%{x}<br>count=%{y}<extra></extra>",
         "legendgroup": "Life Pokémon",
         "marker": {
          "color": "#EF553B",
          "pattern": {
           "shape": ""
          }
         },
         "name": "Life Pokémon",
         "offsetgroup": "Life Pokémon",
         "orientation": "v",
         "showlegend": true,
         "textposition": "auto",
         "type": "bar",
         "x": [
          "fairy"
         ],
         "xaxis": "x",
         "y": [
          1
         ],
         "yaxis": "y"
        },
        {
         "alignmentgroup": "True",
         "hovertemplate": "classfication=Destruction Pokémon<br>type1=%{x}<br>count=%{y}<extra></extra>",
         "legendgroup": "Destruction Pokémon",
         "marker": {
          "color": "#00cc96",
          "pattern": {
           "shape": ""
          }
         },
         "name": "Destruction Pokémon",
         "offsetgroup": "Destruction Pokémon",
         "orientation": "v",
         "showlegend": true,
         "textposition": "auto",
         "type": "bar",
         "x": [
          "dark"
         ],
         "xaxis": "x",
         "y": [
          1
         ],
         "yaxis": "y"
        },
        {
         "alignmentgroup": "True",
         "hovertemplate": "classfication=Order Pokémon<br>type1=%{x}<br>count=%{y}<extra></extra>",
         "legendgroup": "Order Pokémon",
         "marker": {
          "color": "#ab63fa",
          "pattern": {
           "shape": ""
          }
         },
         "name": "Order Pokémon",
         "offsetgroup": "Order Pokémon",
         "orientation": "v",
         "showlegend": true,
         "textposition": "auto",
         "type": "bar",
         "x": [
          "dragon"
         ],
         "xaxis": "x",
         "y": [
          1
         ],
         "yaxis": "y"
        },
        {
         "alignmentgroup": "True",
         "hovertemplate": "classfication=Mischief Pokémon (Confined)Djinn Pokémonn (Unbound)<br>type1=%{x}<br>count=%{y}<extra></extra>",
         "legendgroup": "Mischief Pokémon (Confined)Djinn Pokémonn (Unbound)",
         "marker": {
          "color": "#FFA15A",
          "pattern": {
           "shape": ""
          }
         },
         "name": "Mischief Pokémon (Confined)Djinn Pokémonn (Unbound)",
         "offsetgroup": "Mischief Pokémon (Confined)Djinn Pokémonn (Unbound)",
         "orientation": "v",
         "showlegend": true,
         "textposition": "auto",
         "type": "bar",
         "x": [
          "psychic"
         ],
         "xaxis": "x",
         "y": [
          1
         ],
         "yaxis": "y"
        },
        {
         "alignmentgroup": "True",
         "hovertemplate": "classfication=Steam Pokémon<br>type1=%{x}<br>count=%{y}<extra></extra>",
         "legendgroup": "Steam Pokémon",
         "marker": {
          "color": "#19d3f3",
          "pattern": {
           "shape": ""
          }
         },
         "name": "Steam Pokémon",
         "offsetgroup": "Steam Pokémon",
         "orientation": "v",
         "showlegend": true,
         "textposition": "auto",
         "type": "bar",
         "x": [
          "fire"
         ],
         "xaxis": "x",
         "y": [
          1
         ],
         "yaxis": "y"
        },
        {
         "alignmentgroup": "True",
         "hovertemplate": "classfication=Grass Quill Pokémon<br>type1=%{x}<br>count=%{y}<extra></extra>",
         "legendgroup": "Grass Quill Pokémon",
         "marker": {
          "color": "#FF6692",
          "pattern": {
           "shape": ""
          }
         },
         "name": "Grass Quill Pokémon",
         "offsetgroup": "Grass Quill Pokémon",
         "orientation": "v",
         "showlegend": true,
         "textposition": "auto",
         "type": "bar",
         "x": [
          "grass"
         ],
         "xaxis": "x",
         "y": [
          1
         ],
         "yaxis": "y"
        },
        {
         "alignmentgroup": "True",
         "hovertemplate": "classfication=Blade Quill Pokémon<br>type1=%{x}<br>count=%{y}<extra></extra>",
         "legendgroup": "Blade Quill Pokémon",
         "marker": {
          "color": "#B6E880",
          "pattern": {
           "shape": ""
          }
         },
         "name": "Blade Quill Pokémon",
         "offsetgroup": "Blade Quill Pokémon",
         "orientation": "v",
         "showlegend": true,
         "textposition": "auto",
         "type": "bar",
         "x": [
          "grass"
         ],
         "xaxis": "x",
         "y": [
          1
         ],
         "yaxis": "y"
        },
        {
         "alignmentgroup": "True",
         "hovertemplate": "classfication=Arrow Quill Pokémon<br>type1=%{x}<br>count=%{y}<extra></extra>",
         "legendgroup": "Arrow Quill Pokémon",
         "marker": {
          "color": "#FF97FF",
          "pattern": {
           "shape": ""
          }
         },
         "name": "Arrow Quill Pokémon",
         "offsetgroup": "Arrow Quill Pokémon",
         "orientation": "v",
         "showlegend": true,
         "textposition": "auto",
         "type": "bar",
         "x": [
          "grass"
         ],
         "xaxis": "x",
         "y": [
          1
         ],
         "yaxis": "y"
        },
        {
         "alignmentgroup": "True",
         "hovertemplate": "classfication=Fire Cat Pokémon<br>type1=%{x}<br>count=%{y}<extra></extra>",
         "legendgroup": "Fire Cat Pokémon",
         "marker": {
          "color": "#FECB52",
          "pattern": {
           "shape": ""
          }
         },
         "name": "Fire Cat Pokémon",
         "offsetgroup": "Fire Cat Pokémon",
         "orientation": "v",
         "showlegend": true,
         "textposition": "auto",
         "type": "bar",
         "x": [
          "fire",
          "fire"
         ],
         "xaxis": "x",
         "y": [
          1,
          1
         ],
         "yaxis": "y"
        },
        {
         "alignmentgroup": "True",
         "hovertemplate": "classfication=Heel Pokémon<br>type1=%{x}<br>count=%{y}<extra></extra>",
         "legendgroup": "Heel Pokémon",
         "marker": {
          "color": "#636efa",
          "pattern": {
           "shape": ""
          }
         },
         "name": "Heel Pokémon",
         "offsetgroup": "Heel Pokémon",
         "orientation": "v",
         "showlegend": true,
         "textposition": "auto",
         "type": "bar",
         "x": [
          "fire"
         ],
         "xaxis": "x",
         "y": [
          1
         ],
         "yaxis": "y"
        },
        {
         "alignmentgroup": "True",
         "hovertemplate": "classfication=Pop Star Pokémon<br>type1=%{x}<br>count=%{y}<extra></extra>",
         "legendgroup": "Pop Star Pokémon",
         "marker": {
          "color": "#EF553B",
          "pattern": {
           "shape": ""
          }
         },
         "name": "Pop Star Pokémon",
         "offsetgroup": "Pop Star Pokémon",
         "orientation": "v",
         "showlegend": true,
         "textposition": "auto",
         "type": "bar",
         "x": [
          "water"
         ],
         "xaxis": "x",
         "y": [
          1
         ],
         "yaxis": "y"
        },
        {
         "alignmentgroup": "True",
         "hovertemplate": "classfication=Soloist Pokémon<br>type1=%{x}<br>count=%{y}<extra></extra>",
         "legendgroup": "Soloist Pokémon",
         "marker": {
          "color": "#00cc96",
          "pattern": {
           "shape": ""
          }
         },
         "name": "Soloist Pokémon",
         "offsetgroup": "Soloist Pokémon",
         "orientation": "v",
         "showlegend": true,
         "textposition": "auto",
         "type": "bar",
         "x": [
          "water"
         ],
         "xaxis": "x",
         "y": [
          1
         ],
         "yaxis": "y"
        },
        {
         "alignmentgroup": "True",
         "hovertemplate": "classfication=Woodpecker Pokémon<br>type1=%{x}<br>count=%{y}<extra></extra>",
         "legendgroup": "Woodpecker Pokémon",
         "marker": {
          "color": "#ab63fa",
          "pattern": {
           "shape": ""
          }
         },
         "name": "Woodpecker Pokémon",
         "offsetgroup": "Woodpecker Pokémon",
         "orientation": "v",
         "showlegend": true,
         "textposition": "auto",
         "type": "bar",
         "x": [
          "normal"
         ],
         "xaxis": "x",
         "y": [
          1
         ],
         "yaxis": "y"
        },
        {
         "alignmentgroup": "True",
         "hovertemplate": "classfication=Bugle Beak Pokémon<br>type1=%{x}<br>count=%{y}<extra></extra>",
         "legendgroup": "Bugle Beak Pokémon",
         "marker": {
          "color": "#FFA15A",
          "pattern": {
           "shape": ""
          }
         },
         "name": "Bugle Beak Pokémon",
         "offsetgroup": "Bugle Beak Pokémon",
         "orientation": "v",
         "showlegend": true,
         "textposition": "auto",
         "type": "bar",
         "x": [
          "normal"
         ],
         "xaxis": "x",
         "y": [
          1
         ],
         "yaxis": "y"
        },
        {
         "alignmentgroup": "True",
         "hovertemplate": "classfication=Cannon Pokémon<br>type1=%{x}<br>count=%{y}<extra></extra>",
         "legendgroup": "Cannon Pokémon",
         "marker": {
          "color": "#19d3f3",
          "pattern": {
           "shape": ""
          }
         },
         "name": "Cannon Pokémon",
         "offsetgroup": "Cannon Pokémon",
         "orientation": "v",
         "showlegend": true,
         "textposition": "auto",
         "type": "bar",
         "x": [
          "normal"
         ],
         "xaxis": "x",
         "y": [
          1
         ],
         "yaxis": "y"
        },
        {
         "alignmentgroup": "True",
         "hovertemplate": "classfication=Loitering Pokémon<br>type1=%{x}<br>count=%{y}<extra></extra>",
         "legendgroup": "Loitering Pokémon",
         "marker": {
          "color": "#FF6692",
          "pattern": {
           "shape": ""
          }
         },
         "name": "Loitering Pokémon",
         "offsetgroup": "Loitering Pokémon",
         "orientation": "v",
         "showlegend": true,
         "textposition": "auto",
         "type": "bar",
         "x": [
          "normal"
         ],
         "xaxis": "x",
         "y": [
          1
         ],
         "yaxis": "y"
        },
        {
         "alignmentgroup": "True",
         "hovertemplate": "classfication=Stakeout Pokémon<br>type1=%{x}<br>count=%{y}<extra></extra>",
         "legendgroup": "Stakeout Pokémon",
         "marker": {
          "color": "#B6E880",
          "pattern": {
           "shape": ""
          }
         },
         "name": "Stakeout Pokémon",
         "offsetgroup": "Stakeout Pokémon",
         "orientation": "v",
         "showlegend": true,
         "textposition": "auto",
         "type": "bar",
         "x": [
          "normal"
         ],
         "xaxis": "x",
         "y": [
          1
         ],
         "yaxis": "y"
        },
        {
         "alignmentgroup": "True",
         "hovertemplate": "classfication=Larva Pokémon<br>type1=%{x}<br>count=%{y}<extra></extra>",
         "legendgroup": "Larva Pokémon",
         "marker": {
          "color": "#FF97FF",
          "pattern": {
           "shape": ""
          }
         },
         "name": "Larva Pokémon",
         "offsetgroup": "Larva Pokémon",
         "orientation": "v",
         "showlegend": true,
         "textposition": "auto",
         "type": "bar",
         "x": [
          "bug"
         ],
         "xaxis": "x",
         "y": [
          1
         ],
         "yaxis": "y"
        },
        {
         "alignmentgroup": "True",
         "hovertemplate": "classfication=Battery Pokémon<br>type1=%{x}<br>count=%{y}<extra></extra>",
         "legendgroup": "Battery Pokémon",
         "marker": {
          "color": "#FECB52",
          "pattern": {
           "shape": ""
          }
         },
         "name": "Battery Pokémon",
         "offsetgroup": "Battery Pokémon",
         "orientation": "v",
         "showlegend": true,
         "textposition": "auto",
         "type": "bar",
         "x": [
          "bug"
         ],
         "xaxis": "x",
         "y": [
          1
         ],
         "yaxis": "y"
        },
        {
         "alignmentgroup": "True",
         "hovertemplate": "classfication=Stag Beetle Pokémon<br>type1=%{x}<br>count=%{y}<extra></extra>",
         "legendgroup": "Stag Beetle Pokémon",
         "marker": {
          "color": "#636efa",
          "pattern": {
           "shape": ""
          }
         },
         "name": "Stag Beetle Pokémon",
         "offsetgroup": "Stag Beetle Pokémon",
         "orientation": "v",
         "showlegend": true,
         "textposition": "auto",
         "type": "bar",
         "x": [
          "bug"
         ],
         "xaxis": "x",
         "y": [
          1
         ],
         "yaxis": "y"
        },
        {
         "alignmentgroup": "True",
         "hovertemplate": "classfication=Boxing Pokémon<br>type1=%{x}<br>count=%{y}<extra></extra>",
         "legendgroup": "Boxing Pokémon",
         "marker": {
          "color": "#EF553B",
          "pattern": {
           "shape": ""
          }
         },
         "name": "Boxing Pokémon",
         "offsetgroup": "Boxing Pokémon",
         "orientation": "v",
         "showlegend": true,
         "textposition": "auto",
         "type": "bar",
         "x": [
          "fighting"
         ],
         "xaxis": "x",
         "y": [
          1
         ],
         "yaxis": "y"
        },
        {
         "alignmentgroup": "True",
         "hovertemplate": "classfication=Woolly Crab Pokémon<br>type1=%{x}<br>count=%{y}<extra></extra>",
         "legendgroup": "Woolly Crab Pokémon",
         "marker": {
          "color": "#00cc96",
          "pattern": {
           "shape": ""
          }
         },
         "name": "Woolly Crab Pokémon",
         "offsetgroup": "Woolly Crab Pokémon",
         "orientation": "v",
         "showlegend": true,
         "textposition": "auto",
         "type": "bar",
         "x": [
          "fighting"
         ],
         "xaxis": "x",
         "y": [
          1
         ],
         "yaxis": "y"
        },
        {
         "alignmentgroup": "True",
         "hovertemplate": "classfication=Dancing Pokémon<br>type1=%{x}<br>count=%{y}<extra></extra>",
         "legendgroup": "Dancing Pokémon",
         "marker": {
          "color": "#ab63fa",
          "pattern": {
           "shape": ""
          }
         },
         "name": "Dancing Pokémon",
         "offsetgroup": "Dancing Pokémon",
         "orientation": "v",
         "showlegend": true,
         "textposition": "auto",
         "type": "bar",
         "x": [
          "fire"
         ],
         "xaxis": "x",
         "y": [
          1
         ],
         "yaxis": "y"
        },
        {
         "alignmentgroup": "True",
         "hovertemplate": "classfication=Bee Fly Pokémon<br>type1=%{x}<br>count=%{y}<extra></extra>",
         "legendgroup": "Bee Fly Pokémon",
         "marker": {
          "color": "#FFA15A",
          "pattern": {
           "shape": ""
          }
         },
         "name": "Bee Fly Pokémon",
         "offsetgroup": "Bee Fly Pokémon",
         "orientation": "v",
         "showlegend": true,
         "textposition": "auto",
         "type": "bar",
         "x": [
          "bug",
          "bug"
         ],
         "xaxis": "x",
         "y": [
          1,
          1
         ],
         "yaxis": "y"
        },
        {
         "alignmentgroup": "True",
         "hovertemplate": "classfication=Wolf Pokémon<br>type1=%{x}<br>count=%{y}<extra></extra>",
         "legendgroup": "Wolf Pokémon",
         "marker": {
          "color": "#19d3f3",
          "pattern": {
           "shape": ""
          }
         },
         "name": "Wolf Pokémon",
         "offsetgroup": "Wolf Pokémon",
         "orientation": "v",
         "showlegend": true,
         "textposition": "auto",
         "type": "bar",
         "x": [
          "rock"
         ],
         "xaxis": "x",
         "y": [
          1
         ],
         "yaxis": "y"
        },
        {
         "alignmentgroup": "True",
         "hovertemplate": "classfication=Small Fry Pokémon<br>type1=%{x}<br>count=%{y}<extra></extra>",
         "legendgroup": "Small Fry Pokémon",
         "marker": {
          "color": "#FF6692",
          "pattern": {
           "shape": ""
          }
         },
         "name": "Small Fry Pokémon",
         "offsetgroup": "Small Fry Pokémon",
         "orientation": "v",
         "showlegend": true,
         "textposition": "auto",
         "type": "bar",
         "x": [
          "water"
         ],
         "xaxis": "x",
         "y": [
          1
         ],
         "yaxis": "y"
        },
        {
         "alignmentgroup": "True",
         "hovertemplate": "classfication=Brutal Star Pokémon<br>type1=%{x}<br>count=%{y}<extra></extra>",
         "legendgroup": "Brutal Star Pokémon",
         "marker": {
          "color": "#B6E880",
          "pattern": {
           "shape": ""
          }
         },
         "name": "Brutal Star Pokémon",
         "offsetgroup": "Brutal Star Pokémon",
         "orientation": "v",
         "showlegend": true,
         "textposition": "auto",
         "type": "bar",
         "x": [
          "poison",
          "poison"
         ],
         "xaxis": "x",
         "y": [
          1,
          1
         ],
         "yaxis": "y"
        },
        {
         "alignmentgroup": "True",
         "hovertemplate": "classfication=Donkey Pokémon<br>type1=%{x}<br>count=%{y}<extra></extra>",
         "legendgroup": "Donkey Pokémon",
         "marker": {
          "color": "#FF97FF",
          "pattern": {
           "shape": ""
          }
         },
         "name": "Donkey Pokémon",
         "offsetgroup": "Donkey Pokémon",
         "orientation": "v",
         "showlegend": true,
         "textposition": "auto",
         "type": "bar",
         "x": [
          "ground"
         ],
         "xaxis": "x",
         "y": [
          1
         ],
         "yaxis": "y"
        },
        {
         "alignmentgroup": "True",
         "hovertemplate": "classfication=Draft Horse Pokémon<br>type1=%{x}<br>count=%{y}<extra></extra>",
         "legendgroup": "Draft Horse Pokémon",
         "marker": {
          "color": "#FECB52",
          "pattern": {
           "shape": ""
          }
         },
         "name": "Draft Horse Pokémon",
         "offsetgroup": "Draft Horse Pokémon",
         "orientation": "v",
         "showlegend": true,
         "textposition": "auto",
         "type": "bar",
         "x": [
          "ground"
         ],
         "xaxis": "x",
         "y": [
          1
         ],
         "yaxis": "y"
        },
        {
         "alignmentgroup": "True",
         "hovertemplate": "classfication=Water Bubble Pokémon<br>type1=%{x}<br>count=%{y}<extra></extra>",
         "legendgroup": "Water Bubble Pokémon",
         "marker": {
          "color": "#636efa",
          "pattern": {
           "shape": ""
          }
         },
         "name": "Water Bubble Pokémon",
         "offsetgroup": "Water Bubble Pokémon",
         "orientation": "v",
         "showlegend": true,
         "textposition": "auto",
         "type": "bar",
         "x": [
          "water",
          "water"
         ],
         "xaxis": "x",
         "y": [
          1,
          1
         ],
         "yaxis": "y"
        },
        {
         "alignmentgroup": "True",
         "hovertemplate": "classfication=Sickle Grass Pokémon<br>type1=%{x}<br>count=%{y}<extra></extra>",
         "legendgroup": "Sickle Grass Pokémon",
         "marker": {
          "color": "#EF553B",
          "pattern": {
           "shape": ""
          }
         },
         "name": "Sickle Grass Pokémon",
         "offsetgroup": "Sickle Grass Pokémon",
         "orientation": "v",
         "showlegend": true,
         "textposition": "auto",
         "type": "bar",
         "x": [
          "grass"
         ],
         "xaxis": "x",
         "y": [
          1
         ],
         "yaxis": "y"
        },
        {
         "alignmentgroup": "True",
         "hovertemplate": "classfication=Bloom Sickle Pokémon<br>type1=%{x}<br>count=%{y}<extra></extra>",
         "legendgroup": "Bloom Sickle Pokémon",
         "marker": {
          "color": "#00cc96",
          "pattern": {
           "shape": ""
          }
         },
         "name": "Bloom Sickle Pokémon",
         "offsetgroup": "Bloom Sickle Pokémon",
         "orientation": "v",
         "showlegend": true,
         "textposition": "auto",
         "type": "bar",
         "x": [
          "grass"
         ],
         "xaxis": "x",
         "y": [
          1
         ],
         "yaxis": "y"
        },
        {
         "alignmentgroup": "True",
         "hovertemplate": "classfication=Illuminating Pokémon<br>type1=%{x}<br>count=%{y}<extra></extra>",
         "legendgroup": "Illuminating Pokémon",
         "marker": {
          "color": "#ab63fa",
          "pattern": {
           "shape": ""
          }
         },
         "name": "Illuminating Pokémon",
         "offsetgroup": "Illuminating Pokémon",
         "orientation": "v",
         "showlegend": true,
         "textposition": "auto",
         "type": "bar",
         "x": [
          "grass",
          "grass"
         ],
         "xaxis": "x",
         "y": [
          1,
          1
         ],
         "yaxis": "y"
        },
        {
         "alignmentgroup": "True",
         "hovertemplate": "classfication=Toxic Lizard Pokémon<br>type1=%{x}<br>count=%{y}<extra></extra>",
         "legendgroup": "Toxic Lizard Pokémon",
         "marker": {
          "color": "#FFA15A",
          "pattern": {
           "shape": ""
          }
         },
         "name": "Toxic Lizard Pokémon",
         "offsetgroup": "Toxic Lizard Pokémon",
         "orientation": "v",
         "showlegend": true,
         "textposition": "auto",
         "type": "bar",
         "x": [
          "poison",
          "poison"
         ],
         "xaxis": "x",
         "y": [
          1,
          1
         ],
         "yaxis": "y"
        },
        {
         "alignmentgroup": "True",
         "hovertemplate": "classfication=Flailing Pokémon<br>type1=%{x}<br>count=%{y}<extra></extra>",
         "legendgroup": "Flailing Pokémon",
         "marker": {
          "color": "#19d3f3",
          "pattern": {
           "shape": ""
          }
         },
         "name": "Flailing Pokémon",
         "offsetgroup": "Flailing Pokémon",
         "orientation": "v",
         "showlegend": true,
         "textposition": "auto",
         "type": "bar",
         "x": [
          "normal"
         ],
         "xaxis": "x",
         "y": [
          1
         ],
         "yaxis": "y"
        },
        {
         "alignmentgroup": "True",
         "hovertemplate": "classfication=Strong Arm Pokémon<br>type1=%{x}<br>count=%{y}<extra></extra>",
         "legendgroup": "Strong Arm Pokémon",
         "marker": {
          "color": "#FF6692",
          "pattern": {
           "shape": ""
          }
         },
         "name": "Strong Arm Pokémon",
         "offsetgroup": "Strong Arm Pokémon",
         "orientation": "v",
         "showlegend": true,
         "textposition": "auto",
         "type": "bar",
         "x": [
          "normal"
         ],
         "xaxis": "x",
         "y": [
          1
         ],
         "yaxis": "y"
        },
        {
         "alignmentgroup": "True",
         "hovertemplate": "classfication=Posy Picker Pokémon<br>type1=%{x}<br>count=%{y}<extra></extra>",
         "legendgroup": "Posy Picker Pokémon",
         "marker": {
          "color": "#B6E880",
          "pattern": {
           "shape": ""
          }
         },
         "name": "Posy Picker Pokémon",
         "offsetgroup": "Posy Picker Pokémon",
         "orientation": "v",
         "showlegend": true,
         "textposition": "auto",
         "type": "bar",
         "x": [
          "fairy"
         ],
         "xaxis": "x",
         "y": [
          1
         ],
         "yaxis": "y"
        },
        {
         "alignmentgroup": "True",
         "hovertemplate": "classfication=Sage Pokémon<br>type1=%{x}<br>count=%{y}<extra></extra>",
         "legendgroup": "Sage Pokémon",
         "marker": {
          "color": "#FF97FF",
          "pattern": {
           "shape": ""
          }
         },
         "name": "Sage Pokémon",
         "offsetgroup": "Sage Pokémon",
         "orientation": "v",
         "showlegend": true,
         "textposition": "auto",
         "type": "bar",
         "x": [
          "normal"
         ],
         "xaxis": "x",
         "y": [
          1
         ],
         "yaxis": "y"
        },
        {
         "alignmentgroup": "True",
         "hovertemplate": "classfication=Teamwork Pokémon<br>type1=%{x}<br>count=%{y}<extra></extra>",
         "legendgroup": "Teamwork Pokémon",
         "marker": {
          "color": "#FECB52",
          "pattern": {
           "shape": ""
          }
         },
         "name": "Teamwork Pokémon",
         "offsetgroup": "Teamwork Pokémon",
         "orientation": "v",
         "showlegend": true,
         "textposition": "auto",
         "type": "bar",
         "x": [
          "fighting"
         ],
         "xaxis": "x",
         "y": [
          1
         ],
         "yaxis": "y"
        },
        {
         "alignmentgroup": "True",
         "hovertemplate": "classfication=Turn Tail Pokémon<br>type1=%{x}<br>count=%{y}<extra></extra>",
         "legendgroup": "Turn Tail Pokémon",
         "marker": {
          "color": "#636efa",
          "pattern": {
           "shape": ""
          }
         },
         "name": "Turn Tail Pokémon",
         "offsetgroup": "Turn Tail Pokémon",
         "orientation": "v",
         "showlegend": true,
         "textposition": "auto",
         "type": "bar",
         "x": [
          "bug"
         ],
         "xaxis": "x",
         "y": [
          1
         ],
         "yaxis": "y"
        },
        {
         "alignmentgroup": "True",
         "hovertemplate": "classfication=Hard Scale Pokémon<br>type1=%{x}<br>count=%{y}<extra></extra>",
         "legendgroup": "Hard Scale Pokémon",
         "marker": {
          "color": "#EF553B",
          "pattern": {
           "shape": ""
          }
         },
         "name": "Hard Scale Pokémon",
         "offsetgroup": "Hard Scale Pokémon",
         "orientation": "v",
         "showlegend": true,
         "textposition": "auto",
         "type": "bar",
         "x": [
          "bug"
         ],
         "xaxis": "x",
         "y": [
          1
         ],
         "yaxis": "y"
        },
        {
         "alignmentgroup": "True",
         "hovertemplate": "classfication=Sand Heap Pokémon<br>type1=%{x}<br>count=%{y}<extra></extra>",
         "legendgroup": "Sand Heap Pokémon",
         "marker": {
          "color": "#00cc96",
          "pattern": {
           "shape": ""
          }
         },
         "name": "Sand Heap Pokémon",
         "offsetgroup": "Sand Heap Pokémon",
         "orientation": "v",
         "showlegend": true,
         "textposition": "auto",
         "type": "bar",
         "x": [
          "ghost"
         ],
         "xaxis": "x",
         "y": [
          1
         ],
         "yaxis": "y"
        },
        {
         "alignmentgroup": "True",
         "hovertemplate": "classfication=Sand Castle Pokémon<br>type1=%{x}<br>count=%{y}<extra></extra>",
         "legendgroup": "Sand Castle Pokémon",
         "marker": {
          "color": "#ab63fa",
          "pattern": {
           "shape": ""
          }
         },
         "name": "Sand Castle Pokémon",
         "offsetgroup": "Sand Castle Pokémon",
         "orientation": "v",
         "showlegend": true,
         "textposition": "auto",
         "type": "bar",
         "x": [
          "ghost"
         ],
         "xaxis": "x",
         "y": [
          1
         ],
         "yaxis": "y"
        },
        {
         "alignmentgroup": "True",
         "hovertemplate": "classfication=Sea Cucumber Pokémon<br>type1=%{x}<br>count=%{y}<extra></extra>",
         "legendgroup": "Sea Cucumber Pokémon",
         "marker": {
          "color": "#FFA15A",
          "pattern": {
           "shape": ""
          }
         },
         "name": "Sea Cucumber Pokémon",
         "offsetgroup": "Sea Cucumber Pokémon",
         "orientation": "v",
         "showlegend": true,
         "textposition": "auto",
         "type": "bar",
         "x": [
          "water"
         ],
         "xaxis": "x",
         "y": [
          1
         ],
         "yaxis": "y"
        },
        {
         "alignmentgroup": "True",
         "hovertemplate": "classfication=Synthetic Pokémon<br>type1=%{x}<br>count=%{y}<extra></extra>",
         "legendgroup": "Synthetic Pokémon",
         "marker": {
          "color": "#19d3f3",
          "pattern": {
           "shape": ""
          }
         },
         "name": "Synthetic Pokémon",
         "offsetgroup": "Synthetic Pokémon",
         "orientation": "v",
         "showlegend": true,
         "textposition": "auto",
         "type": "bar",
         "x": [
          "normal",
          "normal"
         ],
         "xaxis": "x",
         "y": [
          1,
          1
         ],
         "yaxis": "y"
        },
        {
         "alignmentgroup": "True",
         "hovertemplate": "classfication=Meteor Pokémon<br>type1=%{x}<br>count=%{y}<extra></extra>",
         "legendgroup": "Meteor Pokémon",
         "marker": {
          "color": "#FF6692",
          "pattern": {
           "shape": ""
          }
         },
         "name": "Meteor Pokémon",
         "offsetgroup": "Meteor Pokémon",
         "orientation": "v",
         "showlegend": true,
         "textposition": "auto",
         "type": "bar",
         "x": [
          "rock"
         ],
         "xaxis": "x",
         "y": [
          1
         ],
         "yaxis": "y"
        },
        {
         "alignmentgroup": "True",
         "hovertemplate": "classfication=Blast Turtle Pokémon<br>type1=%{x}<br>count=%{y}<extra></extra>",
         "legendgroup": "Blast Turtle Pokémon",
         "marker": {
          "color": "#B6E880",
          "pattern": {
           "shape": ""
          }
         },
         "name": "Blast Turtle Pokémon",
         "offsetgroup": "Blast Turtle Pokémon",
         "orientation": "v",
         "showlegend": true,
         "textposition": "auto",
         "type": "bar",
         "x": [
          "fire"
         ],
         "xaxis": "x",
         "y": [
          1
         ],
         "yaxis": "y"
        },
        {
         "alignmentgroup": "True",
         "hovertemplate": "classfication=Roly-Poly Pokémon<br>type1=%{x}<br>count=%{y}<extra></extra>",
         "legendgroup": "Roly-Poly Pokémon",
         "marker": {
          "color": "#FF97FF",
          "pattern": {
           "shape": ""
          }
         },
         "name": "Roly-Poly Pokémon",
         "offsetgroup": "Roly-Poly Pokémon",
         "orientation": "v",
         "showlegend": true,
         "textposition": "auto",
         "type": "bar",
         "x": [
          "electric"
         ],
         "xaxis": "x",
         "y": [
          1
         ],
         "yaxis": "y"
        },
        {
         "alignmentgroup": "True",
         "hovertemplate": "classfication=Disguise Pokémon<br>type1=%{x}<br>count=%{y}<extra></extra>",
         "legendgroup": "Disguise Pokémon",
         "marker": {
          "color": "#FECB52",
          "pattern": {
           "shape": ""
          }
         },
         "name": "Disguise Pokémon",
         "offsetgroup": "Disguise Pokémon",
         "orientation": "v",
         "showlegend": true,
         "textposition": "auto",
         "type": "bar",
         "x": [
          "ghost"
         ],
         "xaxis": "x",
         "y": [
          1
         ],
         "yaxis": "y"
        },
        {
         "alignmentgroup": "True",
         "hovertemplate": "classfication=Gnash Teeth Pokémon<br>type1=%{x}<br>count=%{y}<extra></extra>",
         "legendgroup": "Gnash Teeth Pokémon",
         "marker": {
          "color": "#636efa",
          "pattern": {
           "shape": ""
          }
         },
         "name": "Gnash Teeth Pokémon",
         "offsetgroup": "Gnash Teeth Pokémon",
         "orientation": "v",
         "showlegend": true,
         "textposition": "auto",
         "type": "bar",
         "x": [
          "water"
         ],
         "xaxis": "x",
         "y": [
          1
         ],
         "yaxis": "y"
        },
        {
         "alignmentgroup": "True",
         "hovertemplate": "classfication=Placid Pokémon<br>type1=%{x}<br>count=%{y}<extra></extra>",
         "legendgroup": "Placid Pokémon",
         "marker": {
          "color": "#EF553B",
          "pattern": {
           "shape": ""
          }
         },
         "name": "Placid Pokémon",
         "offsetgroup": "Placid Pokémon",
         "orientation": "v",
         "showlegend": true,
         "textposition": "auto",
         "type": "bar",
         "x": [
          "normal"
         ],
         "xaxis": "x",
         "y": [
          1
         ],
         "yaxis": "y"
        },
        {
         "alignmentgroup": "True",
         "hovertemplate": "classfication=Sea Creeper Pokémon<br>type1=%{x}<br>count=%{y}<extra></extra>",
         "legendgroup": "Sea Creeper Pokémon",
         "marker": {
          "color": "#00cc96",
          "pattern": {
           "shape": ""
          }
         },
         "name": "Sea Creeper Pokémon",
         "offsetgroup": "Sea Creeper Pokémon",
         "orientation": "v",
         "showlegend": true,
         "textposition": "auto",
         "type": "bar",
         "x": [
          "ghost"
         ],
         "xaxis": "x",
         "y": [
          1
         ],
         "yaxis": "y"
        },
        {
         "alignmentgroup": "True",
         "hovertemplate": "classfication=Scaly Pokémon<br>type1=%{x}<br>count=%{y}<extra></extra>",
         "legendgroup": "Scaly Pokémon",
         "marker": {
          "color": "#ab63fa",
          "pattern": {
           "shape": ""
          }
         },
         "name": "Scaly Pokémon",
         "offsetgroup": "Scaly Pokémon",
         "orientation": "v",
         "showlegend": true,
         "textposition": "auto",
         "type": "bar",
         "x": [
          "dragon",
          "dragon",
          "dragon"
         ],
         "xaxis": "x",
         "y": [
          1,
          1,
          1
         ],
         "yaxis": "y"
        },
        {
         "alignmentgroup": "True",
         "hovertemplate": "classfication=Land Spirit Pokémon<br>type1=%{x}<br>count=%{y}<extra></extra>",
         "legendgroup": "Land Spirit Pokémon",
         "marker": {
          "color": "#FFA15A",
          "pattern": {
           "shape": ""
          }
         },
         "name": "Land Spirit Pokémon",
         "offsetgroup": "Land Spirit Pokémon",
         "orientation": "v",
         "showlegend": true,
         "textposition": "auto",
         "type": "bar",
         "x": [
          "electric",
          "psychic",
          "grass",
          "water"
         ],
         "xaxis": "x",
         "y": [
          1,
          1,
          1,
          1
         ],
         "yaxis": "y"
        },
        {
         "alignmentgroup": "True",
         "hovertemplate": "classfication=Nebula Pokémon<br>type1=%{x}<br>count=%{y}<extra></extra>",
         "legendgroup": "Nebula Pokémon",
         "marker": {
          "color": "#19d3f3",
          "pattern": {
           "shape": ""
          }
         },
         "name": "Nebula Pokémon",
         "offsetgroup": "Nebula Pokémon",
         "orientation": "v",
         "showlegend": true,
         "textposition": "auto",
         "type": "bar",
         "x": [
          "psychic"
         ],
         "xaxis": "x",
         "y": [
          1
         ],
         "yaxis": "y"
        },
        {
         "alignmentgroup": "True",
         "hovertemplate": "classfication=Protostar Pokémon<br>type1=%{x}<br>count=%{y}<extra></extra>",
         "legendgroup": "Protostar Pokémon",
         "marker": {
          "color": "#FF6692",
          "pattern": {
           "shape": ""
          }
         },
         "name": "Protostar Pokémon",
         "offsetgroup": "Protostar Pokémon",
         "orientation": "v",
         "showlegend": true,
         "textposition": "auto",
         "type": "bar",
         "x": [
          "psychic"
         ],
         "xaxis": "x",
         "y": [
          1
         ],
         "yaxis": "y"
        },
        {
         "alignmentgroup": "True",
         "hovertemplate": "classfication=Sunne Pokémon<br>type1=%{x}<br>count=%{y}<extra></extra>",
         "legendgroup": "Sunne Pokémon",
         "marker": {
          "color": "#B6E880",
          "pattern": {
           "shape": ""
          }
         },
         "name": "Sunne Pokémon",
         "offsetgroup": "Sunne Pokémon",
         "orientation": "v",
         "showlegend": true,
         "textposition": "auto",
         "type": "bar",
         "x": [
          "psychic"
         ],
         "xaxis": "x",
         "y": [
          1
         ],
         "yaxis": "y"
        },
        {
         "alignmentgroup": "True",
         "hovertemplate": "classfication=Moone Pokémon<br>type1=%{x}<br>count=%{y}<extra></extra>",
         "legendgroup": "Moone Pokémon",
         "marker": {
          "color": "#FF97FF",
          "pattern": {
           "shape": ""
          }
         },
         "name": "Moone Pokémon",
         "offsetgroup": "Moone Pokémon",
         "orientation": "v",
         "showlegend": true,
         "textposition": "auto",
         "type": "bar",
         "x": [
          "psychic"
         ],
         "xaxis": "x",
         "y": [
          1
         ],
         "yaxis": "y"
        },
        {
         "alignmentgroup": "True",
         "hovertemplate": "classfication=Parasite Pokémon<br>type1=%{x}<br>count=%{y}<extra></extra>",
         "legendgroup": "Parasite Pokémon",
         "marker": {
          "color": "#FECB52",
          "pattern": {
           "shape": ""
          }
         },
         "name": "Parasite Pokémon",
         "offsetgroup": "Parasite Pokémon",
         "orientation": "v",
         "showlegend": true,
         "textposition": "auto",
         "type": "bar",
         "x": [
          "rock"
         ],
         "xaxis": "x",
         "y": [
          1
         ],
         "yaxis": "y"
        },
        {
         "alignmentgroup": "True",
         "hovertemplate": "classfication=Swollen Pokémon<br>type1=%{x}<br>count=%{y}<extra></extra>",
         "legendgroup": "Swollen Pokémon",
         "marker": {
          "color": "#636efa",
          "pattern": {
           "shape": ""
          }
         },
         "name": "Swollen Pokémon",
         "offsetgroup": "Swollen Pokémon",
         "orientation": "v",
         "showlegend": true,
         "textposition": "auto",
         "type": "bar",
         "x": [
          "bug"
         ],
         "xaxis": "x",
         "y": [
          1
         ],
         "yaxis": "y"
        },
        {
         "alignmentgroup": "True",
         "hovertemplate": "classfication=Lissome Pokémon<br>type1=%{x}<br>count=%{y}<extra></extra>",
         "legendgroup": "Lissome Pokémon",
         "marker": {
          "color": "#EF553B",
          "pattern": {
           "shape": ""
          }
         },
         "name": "Lissome Pokémon",
         "offsetgroup": "Lissome Pokémon",
         "orientation": "v",
         "showlegend": true,
         "textposition": "auto",
         "type": "bar",
         "x": [
          "bug"
         ],
         "xaxis": "x",
         "y": [
          1
         ],
         "yaxis": "y"
        },
        {
         "alignmentgroup": "True",
         "hovertemplate": "classfication=Glowing Pokémon<br>type1=%{x}<br>count=%{y}<extra></extra>",
         "legendgroup": "Glowing Pokémon",
         "marker": {
          "color": "#00cc96",
          "pattern": {
           "shape": ""
          }
         },
         "name": "Glowing Pokémon",
         "offsetgroup": "Glowing Pokémon",
         "orientation": "v",
         "showlegend": true,
         "textposition": "auto",
         "type": "bar",
         "x": [
          "electric"
         ],
         "xaxis": "x",
         "y": [
          1
         ],
         "yaxis": "y"
        },
        {
         "alignmentgroup": "True",
         "hovertemplate": "classfication=Launch Pokémon<br>type1=%{x}<br>count=%{y}<extra></extra>",
         "legendgroup": "Launch Pokémon",
         "marker": {
          "color": "#ab63fa",
          "pattern": {
           "shape": ""
          }
         },
         "name": "Launch Pokémon",
         "offsetgroup": "Launch Pokémon",
         "orientation": "v",
         "showlegend": true,
         "textposition": "auto",
         "type": "bar",
         "x": [
          "steel"
         ],
         "xaxis": "x",
         "y": [
          1
         ],
         "yaxis": "y"
        },
        {
         "alignmentgroup": "True",
         "hovertemplate": "classfication=Drawn Sword Pokémon<br>type1=%{x}<br>count=%{y}<extra></extra>",
         "legendgroup": "Drawn Sword Pokémon",
         "marker": {
          "color": "#FFA15A",
          "pattern": {
           "shape": ""
          }
         },
         "name": "Drawn Sword Pokémon",
         "offsetgroup": "Drawn Sword Pokémon",
         "orientation": "v",
         "showlegend": true,
         "textposition": "auto",
         "type": "bar",
         "x": [
          "grass"
         ],
         "xaxis": "x",
         "y": [
          1
         ],
         "yaxis": "y"
        },
        {
         "alignmentgroup": "True",
         "hovertemplate": "classfication=Junkivore Pokémon<br>type1=%{x}<br>count=%{y}<extra></extra>",
         "legendgroup": "Junkivore Pokémon",
         "marker": {
          "color": "#19d3f3",
          "pattern": {
           "shape": ""
          }
         },
         "name": "Junkivore Pokémon",
         "offsetgroup": "Junkivore Pokémon",
         "orientation": "v",
         "showlegend": true,
         "textposition": "auto",
         "type": "bar",
         "x": [
          "dark"
         ],
         "xaxis": "x",
         "y": [
          1
         ],
         "yaxis": "y"
        },
        {
         "alignmentgroup": "True",
         "hovertemplate": "classfication=Prism Pokémon<br>type1=%{x}<br>count=%{y}<extra></extra>",
         "legendgroup": "Prism Pokémon",
         "marker": {
          "color": "#FF6692",
          "pattern": {
           "shape": ""
          }
         },
         "name": "Prism Pokémon",
         "offsetgroup": "Prism Pokémon",
         "orientation": "v",
         "showlegend": true,
         "textposition": "auto",
         "type": "bar",
         "x": [
          "psychic"
         ],
         "xaxis": "x",
         "y": [
          1
         ],
         "yaxis": "y"
        },
        {
         "alignmentgroup": "True",
         "hovertemplate": "classfication=Artificial Pokémon<br>type1=%{x}<br>count=%{y}<extra></extra>",
         "legendgroup": "Artificial Pokémon",
         "marker": {
          "color": "#B6E880",
          "pattern": {
           "shape": ""
          }
         },
         "name": "Artificial Pokémon",
         "offsetgroup": "Artificial Pokémon",
         "orientation": "v",
         "showlegend": true,
         "textposition": "auto",
         "type": "bar",
         "x": [
          "steel"
         ],
         "xaxis": "x",
         "y": [
          1
         ],
         "yaxis": "y"
        }
       ],
       "layout": {
        "barmode": "stack",
        "legend": {
         "title": {
          "text": "classfication"
         },
         "tracegroupgap": 0
        },
        "template": {
         "data": {
          "bar": [
           {
            "error_x": {
             "color": "#2a3f5f"
            },
            "error_y": {
             "color": "#2a3f5f"
            },
            "marker": {
             "line": {
              "color": "#E5ECF6",
              "width": 0.5
             },
             "pattern": {
              "fillmode": "overlay",
              "size": 10,
              "solidity": 0.2
             }
            },
            "type": "bar"
           }
          ],
          "barpolar": [
           {
            "marker": {
             "line": {
              "color": "#E5ECF6",
              "width": 0.5
             },
             "pattern": {
              "fillmode": "overlay",
              "size": 10,
              "solidity": 0.2
             }
            },
            "type": "barpolar"
           }
          ],
          "carpet": [
           {
            "aaxis": {
             "endlinecolor": "#2a3f5f",
             "gridcolor": "white",
             "linecolor": "white",
             "minorgridcolor": "white",
             "startlinecolor": "#2a3f5f"
            },
            "baxis": {
             "endlinecolor": "#2a3f5f",
             "gridcolor": "white",
             "linecolor": "white",
             "minorgridcolor": "white",
             "startlinecolor": "#2a3f5f"
            },
            "type": "carpet"
           }
          ],
          "choropleth": [
           {
            "colorbar": {
             "outlinewidth": 0,
             "ticks": ""
            },
            "type": "choropleth"
           }
          ],
          "contour": [
           {
            "colorbar": {
             "outlinewidth": 0,
             "ticks": ""
            },
            "colorscale": [
             [
              0,
              "#0d0887"
             ],
             [
              0.1111111111111111,
              "#46039f"
             ],
             [
              0.2222222222222222,
              "#7201a8"
             ],
             [
              0.3333333333333333,
              "#9c179e"
             ],
             [
              0.4444444444444444,
              "#bd3786"
             ],
             [
              0.5555555555555556,
              "#d8576b"
             ],
             [
              0.6666666666666666,
              "#ed7953"
             ],
             [
              0.7777777777777778,
              "#fb9f3a"
             ],
             [
              0.8888888888888888,
              "#fdca26"
             ],
             [
              1,
              "#f0f921"
             ]
            ],
            "type": "contour"
           }
          ],
          "contourcarpet": [
           {
            "colorbar": {
             "outlinewidth": 0,
             "ticks": ""
            },
            "type": "contourcarpet"
           }
          ],
          "heatmap": [
           {
            "colorbar": {
             "outlinewidth": 0,
             "ticks": ""
            },
            "colorscale": [
             [
              0,
              "#0d0887"
             ],
             [
              0.1111111111111111,
              "#46039f"
             ],
             [
              0.2222222222222222,
              "#7201a8"
             ],
             [
              0.3333333333333333,
              "#9c179e"
             ],
             [
              0.4444444444444444,
              "#bd3786"
             ],
             [
              0.5555555555555556,
              "#d8576b"
             ],
             [
              0.6666666666666666,
              "#ed7953"
             ],
             [
              0.7777777777777778,
              "#fb9f3a"
             ],
             [
              0.8888888888888888,
              "#fdca26"
             ],
             [
              1,
              "#f0f921"
             ]
            ],
            "type": "heatmap"
           }
          ],
          "heatmapgl": [
           {
            "colorbar": {
             "outlinewidth": 0,
             "ticks": ""
            },
            "colorscale": [
             [
              0,
              "#0d0887"
             ],
             [
              0.1111111111111111,
              "#46039f"
             ],
             [
              0.2222222222222222,
              "#7201a8"
             ],
             [
              0.3333333333333333,
              "#9c179e"
             ],
             [
              0.4444444444444444,
              "#bd3786"
             ],
             [
              0.5555555555555556,
              "#d8576b"
             ],
             [
              0.6666666666666666,
              "#ed7953"
             ],
             [
              0.7777777777777778,
              "#fb9f3a"
             ],
             [
              0.8888888888888888,
              "#fdca26"
             ],
             [
              1,
              "#f0f921"
             ]
            ],
            "type": "heatmapgl"
           }
          ],
          "histogram": [
           {
            "marker": {
             "pattern": {
              "fillmode": "overlay",
              "size": 10,
              "solidity": 0.2
             }
            },
            "type": "histogram"
           }
          ],
          "histogram2d": [
           {
            "colorbar": {
             "outlinewidth": 0,
             "ticks": ""
            },
            "colorscale": [
             [
              0,
              "#0d0887"
             ],
             [
              0.1111111111111111,
              "#46039f"
             ],
             [
              0.2222222222222222,
              "#7201a8"
             ],
             [
              0.3333333333333333,
              "#9c179e"
             ],
             [
              0.4444444444444444,
              "#bd3786"
             ],
             [
              0.5555555555555556,
              "#d8576b"
             ],
             [
              0.6666666666666666,
              "#ed7953"
             ],
             [
              0.7777777777777778,
              "#fb9f3a"
             ],
             [
              0.8888888888888888,
              "#fdca26"
             ],
             [
              1,
              "#f0f921"
             ]
            ],
            "type": "histogram2d"
           }
          ],
          "histogram2dcontour": [
           {
            "colorbar": {
             "outlinewidth": 0,
             "ticks": ""
            },
            "colorscale": [
             [
              0,
              "#0d0887"
             ],
             [
              0.1111111111111111,
              "#46039f"
             ],
             [
              0.2222222222222222,
              "#7201a8"
             ],
             [
              0.3333333333333333,
              "#9c179e"
             ],
             [
              0.4444444444444444,
              "#bd3786"
             ],
             [
              0.5555555555555556,
              "#d8576b"
             ],
             [
              0.6666666666666666,
              "#ed7953"
             ],
             [
              0.7777777777777778,
              "#fb9f3a"
             ],
             [
              0.8888888888888888,
              "#fdca26"
             ],
             [
              1,
              "#f0f921"
             ]
            ],
            "type": "histogram2dcontour"
           }
          ],
          "mesh3d": [
           {
            "colorbar": {
             "outlinewidth": 0,
             "ticks": ""
            },
            "type": "mesh3d"
           }
          ],
          "parcoords": [
           {
            "line": {
             "colorbar": {
              "outlinewidth": 0,
              "ticks": ""
             }
            },
            "type": "parcoords"
           }
          ],
          "pie": [
           {
            "automargin": true,
            "type": "pie"
           }
          ],
          "scatter": [
           {
            "fillpattern": {
             "fillmode": "overlay",
             "size": 10,
             "solidity": 0.2
            },
            "type": "scatter"
           }
          ],
          "scatter3d": [
           {
            "line": {
             "colorbar": {
              "outlinewidth": 0,
              "ticks": ""
             }
            },
            "marker": {
             "colorbar": {
              "outlinewidth": 0,
              "ticks": ""
             }
            },
            "type": "scatter3d"
           }
          ],
          "scattercarpet": [
           {
            "marker": {
             "colorbar": {
              "outlinewidth": 0,
              "ticks": ""
             }
            },
            "type": "scattercarpet"
           }
          ],
          "scattergeo": [
           {
            "marker": {
             "colorbar": {
              "outlinewidth": 0,
              "ticks": ""
             }
            },
            "type": "scattergeo"
           }
          ],
          "scattergl": [
           {
            "marker": {
             "colorbar": {
              "outlinewidth": 0,
              "ticks": ""
             }
            },
            "type": "scattergl"
           }
          ],
          "scattermapbox": [
           {
            "marker": {
             "colorbar": {
              "outlinewidth": 0,
              "ticks": ""
             }
            },
            "type": "scattermapbox"
           }
          ],
          "scatterpolar": [
           {
            "marker": {
             "colorbar": {
              "outlinewidth": 0,
              "ticks": ""
             }
            },
            "type": "scatterpolar"
           }
          ],
          "scatterpolargl": [
           {
            "marker": {
             "colorbar": {
              "outlinewidth": 0,
              "ticks": ""
             }
            },
            "type": "scatterpolargl"
           }
          ],
          "scatterternary": [
           {
            "marker": {
             "colorbar": {
              "outlinewidth": 0,
              "ticks": ""
             }
            },
            "type": "scatterternary"
           }
          ],
          "surface": [
           {
            "colorbar": {
             "outlinewidth": 0,
             "ticks": ""
            },
            "colorscale": [
             [
              0,
              "#0d0887"
             ],
             [
              0.1111111111111111,
              "#46039f"
             ],
             [
              0.2222222222222222,
              "#7201a8"
             ],
             [
              0.3333333333333333,
              "#9c179e"
             ],
             [
              0.4444444444444444,
              "#bd3786"
             ],
             [
              0.5555555555555556,
              "#d8576b"
             ],
             [
              0.6666666666666666,
              "#ed7953"
             ],
             [
              0.7777777777777778,
              "#fb9f3a"
             ],
             [
              0.8888888888888888,
              "#fdca26"
             ],
             [
              1,
              "#f0f921"
             ]
            ],
            "type": "surface"
           }
          ],
          "table": [
           {
            "cells": {
             "fill": {
              "color": "#EBF0F8"
             },
             "line": {
              "color": "white"
             }
            },
            "header": {
             "fill": {
              "color": "#C8D4E3"
             },
             "line": {
              "color": "white"
             }
            },
            "type": "table"
           }
          ]
         },
         "layout": {
          "annotationdefaults": {
           "arrowcolor": "#2a3f5f",
           "arrowhead": 0,
           "arrowwidth": 1
          },
          "autotypenumbers": "strict",
          "coloraxis": {
           "colorbar": {
            "outlinewidth": 0,
            "ticks": ""
           }
          },
          "colorscale": {
           "diverging": [
            [
             0,
             "#8e0152"
            ],
            [
             0.1,
             "#c51b7d"
            ],
            [
             0.2,
             "#de77ae"
            ],
            [
             0.3,
             "#f1b6da"
            ],
            [
             0.4,
             "#fde0ef"
            ],
            [
             0.5,
             "#f7f7f7"
            ],
            [
             0.6,
             "#e6f5d0"
            ],
            [
             0.7,
             "#b8e186"
            ],
            [
             0.8,
             "#7fbc41"
            ],
            [
             0.9,
             "#4d9221"
            ],
            [
             1,
             "#276419"
            ]
           ],
           "sequential": [
            [
             0,
             "#0d0887"
            ],
            [
             0.1111111111111111,
             "#46039f"
            ],
            [
             0.2222222222222222,
             "#7201a8"
            ],
            [
             0.3333333333333333,
             "#9c179e"
            ],
            [
             0.4444444444444444,
             "#bd3786"
            ],
            [
             0.5555555555555556,
             "#d8576b"
            ],
            [
             0.6666666666666666,
             "#ed7953"
            ],
            [
             0.7777777777777778,
             "#fb9f3a"
            ],
            [
             0.8888888888888888,
             "#fdca26"
            ],
            [
             1,
             "#f0f921"
            ]
           ],
           "sequentialminus": [
            [
             0,
             "#0d0887"
            ],
            [
             0.1111111111111111,
             "#46039f"
            ],
            [
             0.2222222222222222,
             "#7201a8"
            ],
            [
             0.3333333333333333,
             "#9c179e"
            ],
            [
             0.4444444444444444,
             "#bd3786"
            ],
            [
             0.5555555555555556,
             "#d8576b"
            ],
            [
             0.6666666666666666,
             "#ed7953"
            ],
            [
             0.7777777777777778,
             "#fb9f3a"
            ],
            [
             0.8888888888888888,
             "#fdca26"
            ],
            [
             1,
             "#f0f921"
            ]
           ]
          },
          "colorway": [
           "#636efa",
           "#EF553B",
           "#00cc96",
           "#ab63fa",
           "#FFA15A",
           "#19d3f3",
           "#FF6692",
           "#B6E880",
           "#FF97FF",
           "#FECB52"
          ],
          "font": {
           "color": "#2a3f5f"
          },
          "geo": {
           "bgcolor": "white",
           "lakecolor": "white",
           "landcolor": "#E5ECF6",
           "showlakes": true,
           "showland": true,
           "subunitcolor": "white"
          },
          "hoverlabel": {
           "align": "left"
          },
          "hovermode": "closest",
          "mapbox": {
           "style": "light"
          },
          "paper_bgcolor": "white",
          "plot_bgcolor": "#E5ECF6",
          "polar": {
           "angularaxis": {
            "gridcolor": "white",
            "linecolor": "white",
            "ticks": ""
           },
           "bgcolor": "#E5ECF6",
           "radialaxis": {
            "gridcolor": "white",
            "linecolor": "white",
            "ticks": ""
           }
          },
          "scene": {
           "xaxis": {
            "backgroundcolor": "#E5ECF6",
            "gridcolor": "white",
            "gridwidth": 2,
            "linecolor": "white",
            "showbackground": true,
            "ticks": "",
            "zerolinecolor": "white"
           },
           "yaxis": {
            "backgroundcolor": "#E5ECF6",
            "gridcolor": "white",
            "gridwidth": 2,
            "linecolor": "white",
            "showbackground": true,
            "ticks": "",
            "zerolinecolor": "white"
           },
           "zaxis": {
            "backgroundcolor": "#E5ECF6",
            "gridcolor": "white",
            "gridwidth": 2,
            "linecolor": "white",
            "showbackground": true,
            "ticks": "",
            "zerolinecolor": "white"
           }
          },
          "shapedefaults": {
           "line": {
            "color": "#2a3f5f"
           }
          },
          "ternary": {
           "aaxis": {
            "gridcolor": "white",
            "linecolor": "white",
            "ticks": ""
           },
           "baxis": {
            "gridcolor": "white",
            "linecolor": "white",
            "ticks": ""
           },
           "bgcolor": "#E5ECF6",
           "caxis": {
            "gridcolor": "white",
            "linecolor": "white",
            "ticks": ""
           }
          },
          "title": {
           "x": 0.05
          },
          "xaxis": {
           "automargin": true,
           "gridcolor": "white",
           "linecolor": "white",
           "ticks": "",
           "title": {
            "standoff": 15
           },
           "zerolinecolor": "white",
           "zerolinewidth": 2
          },
          "yaxis": {
           "automargin": true,
           "gridcolor": "white",
           "linecolor": "white",
           "ticks": "",
           "title": {
            "standoff": 15
           },
           "zerolinecolor": "white",
           "zerolinewidth": 2
          }
         }
        },
        "title": {
         "text": "Répartition des types par classfication"
        },
        "xaxis": {
         "anchor": "y",
         "domain": [
          0,
          1
         ],
         "title": {
          "text": "type1"
         }
        },
        "yaxis": {
         "anchor": "x",
         "domain": [
          0,
          1
         ],
         "title": {
          "text": "count"
         }
        }
       }
      }
     },
     "metadata": {},
     "output_type": "display_data"
    }
   ],
   "source": [
    "fig = px.bar(df, x=\"type1\", color=\"classfication\", title=\"Répartition des types par classfication\", \n",
    "             labels={\"Type\": \"Type\", \"Classfication\": \"Classfication\"})\n",
    "fig.update_layout(barmode='stack')  \n",
    "fig.show()"
   ]
  },
  {
   "cell_type": "code",
   "execution_count": null,
   "id": "be2e62c8",
   "metadata": {},
   "outputs": [],
   "source": []
  }
 ],
 "metadata": {
  "kernelspec": {
   "display_name": "tp-one-env",
   "language": "python",
   "name": "python3"
  },
  "language_info": {
   "codemirror_mode": {
    "name": "ipython",
    "version": 3
   },
   "file_extension": ".py",
   "mimetype": "text/x-python",
   "name": "python",
   "nbconvert_exporter": "python",
   "pygments_lexer": "ipython3",
   "version": "3.12.9"
  }
 },
 "nbformat": 4,
 "nbformat_minor": 5
}
